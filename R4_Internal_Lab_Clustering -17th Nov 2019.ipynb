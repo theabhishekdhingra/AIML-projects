{
 "cells": [
  {
   "cell_type": "markdown",
   "metadata": {},
   "source": [
    "### The data set has information about features of silhouette extracted from the images of different cars\n",
    "\n",
    "Four \"Corgie\" model vehicles were used for the experiment: a double decker bus, Cheverolet van, Saab 9000 and an Opel Manta 400 cars. This particular combination of vehicles was chosen with the expectation that the bus, van and either one of the cars would be readily distinguishable, but it would be more difficult to distinguish between the cars.\n",
    "\n"
   ]
  },
  {
   "cell_type": "markdown",
   "metadata": {},
   "source": [
    "### 1. Read the dataset using function .dropna() - to avoid dealing with NAs as of now"
   ]
  },
  {
   "cell_type": "code",
   "execution_count": 1,
   "metadata": {},
   "outputs": [],
   "source": [
    "import numpy as np\n",
    "import pandas as pd\n",
    "import matplotlib.pyplot as plt\n",
    "import seaborn as sns\n",
    "from scipy.stats import zscore"
   ]
  },
  {
   "cell_type": "code",
   "execution_count": 2,
   "metadata": {},
   "outputs": [],
   "source": [
    "vehicle_df=pd.read_csv(\"vehicle.csv\")"
   ]
  },
  {
   "cell_type": "code",
   "execution_count": 3,
   "metadata": {},
   "outputs": [
    {
     "name": "stdout",
     "output_type": "stream",
     "text": [
      "<class 'pandas.core.frame.DataFrame'>\n",
      "RangeIndex: 846 entries, 0 to 845\n",
      "Data columns (total 19 columns):\n",
      "compactness                    846 non-null int64\n",
      "circularity                    841 non-null float64\n",
      "distance_circularity           842 non-null float64\n",
      "radius_ratio                   840 non-null float64\n",
      "pr.axis_aspect_ratio           844 non-null float64\n",
      "max.length_aspect_ratio        846 non-null int64\n",
      "scatter_ratio                  845 non-null float64\n",
      "elongatedness                  845 non-null float64\n",
      "pr.axis_rectangularity         843 non-null float64\n",
      "max.length_rectangularity      846 non-null int64\n",
      "scaled_variance                843 non-null float64\n",
      "scaled_variance.1              844 non-null float64\n",
      "scaled_radius_of_gyration      844 non-null float64\n",
      "scaled_radius_of_gyration.1    842 non-null float64\n",
      "skewness_about                 840 non-null float64\n",
      "skewness_about.1               845 non-null float64\n",
      "skewness_about.2               845 non-null float64\n",
      "hollows_ratio                  846 non-null int64\n",
      "class                          846 non-null object\n",
      "dtypes: float64(14), int64(4), object(1)\n",
      "memory usage: 125.7+ KB\n"
     ]
    }
   ],
   "source": [
    "vehicle_df.info()"
   ]
  },
  {
   "cell_type": "code",
   "execution_count": 4,
   "metadata": {},
   "outputs": [],
   "source": [
    "vehicle_df.dropna(inplace=True)"
   ]
  },
  {
   "cell_type": "code",
   "execution_count": 5,
   "metadata": {},
   "outputs": [
    {
     "name": "stdout",
     "output_type": "stream",
     "text": [
      "<class 'pandas.core.frame.DataFrame'>\n",
      "Int64Index: 813 entries, 0 to 845\n",
      "Data columns (total 19 columns):\n",
      "compactness                    813 non-null int64\n",
      "circularity                    813 non-null float64\n",
      "distance_circularity           813 non-null float64\n",
      "radius_ratio                   813 non-null float64\n",
      "pr.axis_aspect_ratio           813 non-null float64\n",
      "max.length_aspect_ratio        813 non-null int64\n",
      "scatter_ratio                  813 non-null float64\n",
      "elongatedness                  813 non-null float64\n",
      "pr.axis_rectangularity         813 non-null float64\n",
      "max.length_rectangularity      813 non-null int64\n",
      "scaled_variance                813 non-null float64\n",
      "scaled_variance.1              813 non-null float64\n",
      "scaled_radius_of_gyration      813 non-null float64\n",
      "scaled_radius_of_gyration.1    813 non-null float64\n",
      "skewness_about                 813 non-null float64\n",
      "skewness_about.1               813 non-null float64\n",
      "skewness_about.2               813 non-null float64\n",
      "hollows_ratio                  813 non-null int64\n",
      "class                          813 non-null object\n",
      "dtypes: float64(14), int64(4), object(1)\n",
      "memory usage: 127.0+ KB\n"
     ]
    }
   ],
   "source": [
    "vehicle_df.info()"
   ]
  },
  {
   "cell_type": "markdown",
   "metadata": {},
   "source": [
    "### 2. Print/ Plot the dependent (categorical variable) - Class column"
   ]
  },
  {
   "cell_type": "markdown",
   "metadata": {},
   "source": [
    "Since the variable is categorical, you can use value_counts function"
   ]
  },
  {
   "cell_type": "code",
   "execution_count": 6,
   "metadata": {},
   "outputs": [
    {
     "data": {
      "text/plain": [
       "(813, 19)"
      ]
     },
     "execution_count": 6,
     "metadata": {},
     "output_type": "execute_result"
    }
   ],
   "source": [
    "vehicle_df.shape"
   ]
  },
  {
   "cell_type": "code",
   "execution_count": 7,
   "metadata": {},
   "outputs": [
    {
     "data": {
      "text/plain": [
       "<matplotlib.axes._subplots.AxesSubplot at 0x2ab03e2c080>"
      ]
     },
     "execution_count": 7,
     "metadata": {},
     "output_type": "execute_result"
    },
    {
     "data": {
      "image/png": "[encoded data removed]",
      "text/plain": [
       "<Figure size 432x288 with 1 Axes>"
      ]
     },
     "metadata": {
      "needs_background": "light"
     },
     "output_type": "display_data"
    }
   ],
   "source": [
    "sns.countplot(x=\"class\",data=vehicle_df,hue='class')"
   ]
  },
  {
   "cell_type": "markdown",
   "metadata": {},
   "source": [
    "### Check for any missing values in the data "
   ]
  },
  {
   "cell_type": "code",
   "execution_count": 8,
   "metadata": {},
   "outputs": [
    {
     "name": "stdout",
     "output_type": "stream",
     "text": [
      "<class 'pandas.core.frame.DataFrame'>\n",
      "Int64Index: 813 entries, 0 to 845\n",
      "Data columns (total 19 columns):\n",
      "compactness                    813 non-null int64\n",
      "circularity                    813 non-null float64\n",
      "distance_circularity           813 non-null float64\n",
      "radius_ratio                   813 non-null float64\n",
      "pr.axis_aspect_ratio           813 non-null float64\n",
      "max.length_aspect_ratio        813 non-null int64\n",
      "scatter_ratio                  813 non-null float64\n",
      "elongatedness                  813 non-null float64\n",
      "pr.axis_rectangularity         813 non-null float64\n",
      "max.length_rectangularity      813 non-null int64\n",
      "scaled_variance                813 non-null float64\n",
      "scaled_variance.1              813 non-null float64\n",
      "scaled_radius_of_gyration      813 non-null float64\n",
      "scaled_radius_of_gyration.1    813 non-null float64\n",
      "skewness_about                 813 non-null float64\n",
      "skewness_about.1               813 non-null float64\n",
      "skewness_about.2               813 non-null float64\n",
      "hollows_ratio                  813 non-null int64\n",
      "class                          813 non-null object\n",
      "dtypes: float64(14), int64(4), object(1)\n",
      "memory usage: 167.0+ KB\n"
     ]
    }
   ],
   "source": [
    "vehicle_df.info()"
   ]
  },
  {
   "cell_type": "markdown",
   "metadata": {},
   "source": [
    "### 3. Standardize the data "
   ]
  },
  {
   "cell_type": "code",
   "execution_count": 9,
   "metadata": {},
   "outputs": [
    {
     "data": {
      "text/html": [
       "<div>\n",
       "<style scoped>\n",
       "    .dataframe tbody tr th:only-of-type {\n",
       "        vertical-align: middle;\n",
       "    }\n",
       "\n",
       "    .dataframe tbody tr th {\n",
       "        vertical-align: top;\n",
       "    }\n",
       "\n",
       "    .dataframe thead th {\n",
       "        text-align: right;\n",
       "    }\n",
       "</style>\n",
       "<table border=\"1\" class=\"dataframe\">\n",
       "  <thead>\n",
       "    <tr style=\"text-align: right;\">\n",
       "      <th></th>\n",
       "      <th>compactness</th>\n",
       "      <th>circularity</th>\n",
       "      <th>distance_circularity</th>\n",
       "      <th>radius_ratio</th>\n",
       "      <th>pr.axis_aspect_ratio</th>\n",
       "      <th>max.length_aspect_ratio</th>\n",
       "      <th>scatter_ratio</th>\n",
       "      <th>elongatedness</th>\n",
       "      <th>pr.axis_rectangularity</th>\n",
       "      <th>max.length_rectangularity</th>\n",
       "      <th>scaled_variance</th>\n",
       "      <th>scaled_variance.1</th>\n",
       "      <th>scaled_radius_of_gyration</th>\n",
       "      <th>scaled_radius_of_gyration.1</th>\n",
       "      <th>skewness_about</th>\n",
       "      <th>skewness_about.1</th>\n",
       "      <th>skewness_about.2</th>\n",
       "      <th>hollows_ratio</th>\n",
       "      <th>class</th>\n",
       "    </tr>\n",
       "  </thead>\n",
       "  <tbody>\n",
       "    <tr>\n",
       "      <th>0</th>\n",
       "      <td>95</td>\n",
       "      <td>48.0</td>\n",
       "      <td>83.0</td>\n",
       "      <td>178.0</td>\n",
       "      <td>72.0</td>\n",
       "      <td>10</td>\n",
       "      <td>162.0</td>\n",
       "      <td>42.0</td>\n",
       "      <td>20.0</td>\n",
       "      <td>159</td>\n",
       "      <td>176.0</td>\n",
       "      <td>379.0</td>\n",
       "      <td>184.0</td>\n",
       "      <td>70.0</td>\n",
       "      <td>6.0</td>\n",
       "      <td>16.0</td>\n",
       "      <td>187.0</td>\n",
       "      <td>197</td>\n",
       "      <td>van</td>\n",
       "    </tr>\n",
       "    <tr>\n",
       "      <th>1</th>\n",
       "      <td>91</td>\n",
       "      <td>41.0</td>\n",
       "      <td>84.0</td>\n",
       "      <td>141.0</td>\n",
       "      <td>57.0</td>\n",
       "      <td>9</td>\n",
       "      <td>149.0</td>\n",
       "      <td>45.0</td>\n",
       "      <td>19.0</td>\n",
       "      <td>143</td>\n",
       "      <td>170.0</td>\n",
       "      <td>330.0</td>\n",
       "      <td>158.0</td>\n",
       "      <td>72.0</td>\n",
       "      <td>9.0</td>\n",
       "      <td>14.0</td>\n",
       "      <td>189.0</td>\n",
       "      <td>199</td>\n",
       "      <td>van</td>\n",
       "    </tr>\n",
       "    <tr>\n",
       "      <th>2</th>\n",
       "      <td>104</td>\n",
       "      <td>50.0</td>\n",
       "      <td>106.0</td>\n",
       "      <td>209.0</td>\n",
       "      <td>66.0</td>\n",
       "      <td>10</td>\n",
       "      <td>207.0</td>\n",
       "      <td>32.0</td>\n",
       "      <td>23.0</td>\n",
       "      <td>158</td>\n",
       "      <td>223.0</td>\n",
       "      <td>635.0</td>\n",
       "      <td>220.0</td>\n",
       "      <td>73.0</td>\n",
       "      <td>14.0</td>\n",
       "      <td>9.0</td>\n",
       "      <td>188.0</td>\n",
       "      <td>196</td>\n",
       "      <td>car</td>\n",
       "    </tr>\n",
       "    <tr>\n",
       "      <th>3</th>\n",
       "      <td>93</td>\n",
       "      <td>41.0</td>\n",
       "      <td>82.0</td>\n",
       "      <td>159.0</td>\n",
       "      <td>63.0</td>\n",
       "      <td>9</td>\n",
       "      <td>144.0</td>\n",
       "      <td>46.0</td>\n",
       "      <td>19.0</td>\n",
       "      <td>143</td>\n",
       "      <td>160.0</td>\n",
       "      <td>309.0</td>\n",
       "      <td>127.0</td>\n",
       "      <td>63.0</td>\n",
       "      <td>6.0</td>\n",
       "      <td>10.0</td>\n",
       "      <td>199.0</td>\n",
       "      <td>207</td>\n",
       "      <td>van</td>\n",
       "    </tr>\n",
       "    <tr>\n",
       "      <th>4</th>\n",
       "      <td>85</td>\n",
       "      <td>44.0</td>\n",
       "      <td>70.0</td>\n",
       "      <td>205.0</td>\n",
       "      <td>103.0</td>\n",
       "      <td>52</td>\n",
       "      <td>149.0</td>\n",
       "      <td>45.0</td>\n",
       "      <td>19.0</td>\n",
       "      <td>144</td>\n",
       "      <td>241.0</td>\n",
       "      <td>325.0</td>\n",
       "      <td>188.0</td>\n",
       "      <td>127.0</td>\n",
       "      <td>9.0</td>\n",
       "      <td>11.0</td>\n",
       "      <td>180.0</td>\n",
       "      <td>183</td>\n",
       "      <td>bus</td>\n",
       "    </tr>\n",
       "  </tbody>\n",
       "</table>\n",
       "</div>"
      ],
      "text/plain": [
       "   compactness  circularity  distance_circularity  radius_ratio  \\\n",
       "0           95         48.0                  83.0         178.0   \n",
       "1           91         41.0                  84.0         141.0   \n",
       "2          104         50.0                 106.0         209.0   \n",
       "3           93         41.0                  82.0         159.0   \n",
       "4           85         44.0                  70.0         205.0   \n",
       "\n",
       "   pr.axis_aspect_ratio  max.length_aspect_ratio  scatter_ratio  \\\n",
       "0                  72.0                       10          162.0   \n",
       "1                  57.0                        9          149.0   \n",
       "2                  66.0                       10          207.0   \n",
       "3                  63.0                        9          144.0   \n",
       "4                 103.0                       52          149.0   \n",
       "\n",
       "   elongatedness  pr.axis_rectangularity  max.length_rectangularity  \\\n",
       "0           42.0                    20.0                        159   \n",
       "1           45.0                    19.0                        143   \n",
       "2           32.0                    23.0                        158   \n",
       "3           46.0                    19.0                        143   \n",
       "4           45.0                    19.0                        144   \n",
       "\n",
       "   scaled_variance  scaled_variance.1  scaled_radius_of_gyration  \\\n",
       "0            176.0              379.0                      184.0   \n",
       "1            170.0              330.0                      158.0   \n",
       "2            223.0              635.0                      220.0   \n",
       "3            160.0              309.0                      127.0   \n",
       "4            241.0              325.0                      188.0   \n",
       "\n",
       "   scaled_radius_of_gyration.1  skewness_about  skewness_about.1  \\\n",
       "0                         70.0             6.0              16.0   \n",
       "1                         72.0             9.0              14.0   \n",
       "2                         73.0            14.0               9.0   \n",
       "3                         63.0             6.0              10.0   \n",
       "4                        127.0             9.0              11.0   \n",
       "\n",
       "   skewness_about.2  hollows_ratio class  \n",
       "0             187.0            197   van  \n",
       "1             189.0            199   van  \n",
       "2             188.0            196   car  \n",
       "3             199.0            207   van  \n",
       "4             180.0            183   bus  "
      ]
     },
     "execution_count": 9,
     "metadata": {},
     "output_type": "execute_result"
    }
   ],
   "source": [
    "vehicle_df.head()"
   ]
  },
  {
   "cell_type": "code",
   "execution_count": 10,
   "metadata": {},
   "outputs": [
    {
     "data": {
      "text/html": [
       "<div>\n",
       "<style scoped>\n",
       "    .dataframe tbody tr th:only-of-type {\n",
       "        vertical-align: middle;\n",
       "    }\n",
       "\n",
       "    .dataframe tbody tr th {\n",
       "        vertical-align: top;\n",
       "    }\n",
       "\n",
       "    .dataframe thead th {\n",
       "        text-align: right;\n",
       "    }\n",
       "</style>\n",
       "<table border=\"1\" class=\"dataframe\">\n",
       "  <thead>\n",
       "    <tr style=\"text-align: right;\">\n",
       "      <th></th>\n",
       "      <th>compactness</th>\n",
       "      <th>circularity</th>\n",
       "      <th>distance_circularity</th>\n",
       "      <th>radius_ratio</th>\n",
       "      <th>pr.axis_aspect_ratio</th>\n",
       "      <th>max.length_aspect_ratio</th>\n",
       "      <th>scatter_ratio</th>\n",
       "      <th>elongatedness</th>\n",
       "      <th>pr.axis_rectangularity</th>\n",
       "      <th>max.length_rectangularity</th>\n",
       "      <th>scaled_variance</th>\n",
       "      <th>scaled_variance.1</th>\n",
       "      <th>scaled_radius_of_gyration</th>\n",
       "      <th>scaled_radius_of_gyration.1</th>\n",
       "      <th>skewness_about</th>\n",
       "      <th>skewness_about.1</th>\n",
       "      <th>skewness_about.2</th>\n",
       "      <th>hollows_ratio</th>\n",
       "      <th>class</th>\n",
       "    </tr>\n",
       "  </thead>\n",
       "  <tbody>\n",
       "    <tr>\n",
       "      <th>0</th>\n",
       "      <td>95</td>\n",
       "      <td>48.0</td>\n",
       "      <td>83.0</td>\n",
       "      <td>178.0</td>\n",
       "      <td>72.0</td>\n",
       "      <td>10</td>\n",
       "      <td>162.0</td>\n",
       "      <td>42.0</td>\n",
       "      <td>20.0</td>\n",
       "      <td>159</td>\n",
       "      <td>176.0</td>\n",
       "      <td>379.0</td>\n",
       "      <td>184.0</td>\n",
       "      <td>70.0</td>\n",
       "      <td>6.0</td>\n",
       "      <td>16.0</td>\n",
       "      <td>187.0</td>\n",
       "      <td>197</td>\n",
       "      <td>van</td>\n",
       "    </tr>\n",
       "    <tr>\n",
       "      <th>1</th>\n",
       "      <td>91</td>\n",
       "      <td>41.0</td>\n",
       "      <td>84.0</td>\n",
       "      <td>141.0</td>\n",
       "      <td>57.0</td>\n",
       "      <td>9</td>\n",
       "      <td>149.0</td>\n",
       "      <td>45.0</td>\n",
       "      <td>19.0</td>\n",
       "      <td>143</td>\n",
       "      <td>170.0</td>\n",
       "      <td>330.0</td>\n",
       "      <td>158.0</td>\n",
       "      <td>72.0</td>\n",
       "      <td>9.0</td>\n",
       "      <td>14.0</td>\n",
       "      <td>189.0</td>\n",
       "      <td>199</td>\n",
       "      <td>van</td>\n",
       "    </tr>\n",
       "    <tr>\n",
       "      <th>2</th>\n",
       "      <td>104</td>\n",
       "      <td>50.0</td>\n",
       "      <td>106.0</td>\n",
       "      <td>209.0</td>\n",
       "      <td>66.0</td>\n",
       "      <td>10</td>\n",
       "      <td>207.0</td>\n",
       "      <td>32.0</td>\n",
       "      <td>23.0</td>\n",
       "      <td>158</td>\n",
       "      <td>223.0</td>\n",
       "      <td>635.0</td>\n",
       "      <td>220.0</td>\n",
       "      <td>73.0</td>\n",
       "      <td>14.0</td>\n",
       "      <td>9.0</td>\n",
       "      <td>188.0</td>\n",
       "      <td>196</td>\n",
       "      <td>car</td>\n",
       "    </tr>\n",
       "    <tr>\n",
       "      <th>3</th>\n",
       "      <td>93</td>\n",
       "      <td>41.0</td>\n",
       "      <td>82.0</td>\n",
       "      <td>159.0</td>\n",
       "      <td>63.0</td>\n",
       "      <td>9</td>\n",
       "      <td>144.0</td>\n",
       "      <td>46.0</td>\n",
       "      <td>19.0</td>\n",
       "      <td>143</td>\n",
       "      <td>160.0</td>\n",
       "      <td>309.0</td>\n",
       "      <td>127.0</td>\n",
       "      <td>63.0</td>\n",
       "      <td>6.0</td>\n",
       "      <td>10.0</td>\n",
       "      <td>199.0</td>\n",
       "      <td>207</td>\n",
       "      <td>van</td>\n",
       "    </tr>\n",
       "    <tr>\n",
       "      <th>4</th>\n",
       "      <td>85</td>\n",
       "      <td>44.0</td>\n",
       "      <td>70.0</td>\n",
       "      <td>205.0</td>\n",
       "      <td>103.0</td>\n",
       "      <td>52</td>\n",
       "      <td>149.0</td>\n",
       "      <td>45.0</td>\n",
       "      <td>19.0</td>\n",
       "      <td>144</td>\n",
       "      <td>241.0</td>\n",
       "      <td>325.0</td>\n",
       "      <td>188.0</td>\n",
       "      <td>127.0</td>\n",
       "      <td>9.0</td>\n",
       "      <td>11.0</td>\n",
       "      <td>180.0</td>\n",
       "      <td>183</td>\n",
       "      <td>bus</td>\n",
       "    </tr>\n",
       "  </tbody>\n",
       "</table>\n",
       "</div>"
      ],
      "text/plain": [
       "   compactness  circularity  distance_circularity  radius_ratio  \\\n",
       "0           95         48.0                  83.0         178.0   \n",
       "1           91         41.0                  84.0         141.0   \n",
       "2          104         50.0                 106.0         209.0   \n",
       "3           93         41.0                  82.0         159.0   \n",
       "4           85         44.0                  70.0         205.0   \n",
       "\n",
       "   pr.axis_aspect_ratio  max.length_aspect_ratio  scatter_ratio  \\\n",
       "0                  72.0                       10          162.0   \n",
       "1                  57.0                        9          149.0   \n",
       "2                  66.0                       10          207.0   \n",
       "3                  63.0                        9          144.0   \n",
       "4                 103.0                       52          149.0   \n",
       "\n",
       "   elongatedness  pr.axis_rectangularity  max.length_rectangularity  \\\n",
       "0           42.0                    20.0                        159   \n",
       "1           45.0                    19.0                        143   \n",
       "2           32.0                    23.0                        158   \n",
       "3           46.0                    19.0                        143   \n",
       "4           45.0                    19.0                        144   \n",
       "\n",
       "   scaled_variance  scaled_variance.1  scaled_radius_of_gyration  \\\n",
       "0            176.0              379.0                      184.0   \n",
       "1            170.0              330.0                      158.0   \n",
       "2            223.0              635.0                      220.0   \n",
       "3            160.0              309.0                      127.0   \n",
       "4            241.0              325.0                      188.0   \n",
       "\n",
       "   scaled_radius_of_gyration.1  skewness_about  skewness_about.1  \\\n",
       "0                         70.0             6.0              16.0   \n",
       "1                         72.0             9.0              14.0   \n",
       "2                         73.0            14.0               9.0   \n",
       "3                         63.0             6.0              10.0   \n",
       "4                        127.0             9.0              11.0   \n",
       "\n",
       "   skewness_about.2  hollows_ratio class  \n",
       "0             187.0            197   van  \n",
       "1             189.0            199   van  \n",
       "2             188.0            196   car  \n",
       "3             199.0            207   van  \n",
       "4             180.0            183   bus  "
      ]
     },
     "execution_count": 10,
     "metadata": {},
     "output_type": "execute_result"
    }
   ],
   "source": [
    "vehicle_df.head()"
   ]
  },
  {
   "cell_type": "markdown",
   "metadata": {},
   "source": [
    "Since the dimensions of the data are not really known to us, it would be wise to standardize the data using z scores before we go for any clustering methods.\n",
    "You can use zscore function to do this"
   ]
  },
  {
   "cell_type": "code",
   "execution_count": 11,
   "metadata": {},
   "outputs": [],
   "source": [
    "vehicle_data=vehicle_df.drop('class',axis=1)"
   ]
  },
  {
   "cell_type": "code",
   "execution_count": 12,
   "metadata": {},
   "outputs": [],
   "source": [
    "vehicle_class=vehicle_df['class']"
   ]
  },
  {
   "cell_type": "code",
   "execution_count": 13,
   "metadata": {},
   "outputs": [],
   "source": [
    "vehicle_data=vehicle_data.apply(zscore)"
   ]
  },
  {
   "cell_type": "code",
   "execution_count": 14,
   "metadata": {},
   "outputs": [
    {
     "data": {
      "text/html": [
       "<div>\n",
       "<style scoped>\n",
       "    .dataframe tbody tr th:only-of-type {\n",
       "        vertical-align: middle;\n",
       "    }\n",
       "\n",
       "    .dataframe tbody tr th {\n",
       "        vertical-align: top;\n",
       "    }\n",
       "\n",
       "    .dataframe thead th {\n",
       "        text-align: right;\n",
       "    }\n",
       "</style>\n",
       "<table border=\"1\" class=\"dataframe\">\n",
       "  <thead>\n",
       "    <tr style=\"text-align: right;\">\n",
       "      <th></th>\n",
       "      <th>compactness</th>\n",
       "      <th>circularity</th>\n",
       "      <th>distance_circularity</th>\n",
       "      <th>radius_ratio</th>\n",
       "      <th>pr.axis_aspect_ratio</th>\n",
       "      <th>max.length_aspect_ratio</th>\n",
       "      <th>scatter_ratio</th>\n",
       "      <th>elongatedness</th>\n",
       "      <th>pr.axis_rectangularity</th>\n",
       "      <th>max.length_rectangularity</th>\n",
       "      <th>scaled_variance</th>\n",
       "      <th>scaled_variance.1</th>\n",
       "      <th>scaled_radius_of_gyration</th>\n",
       "      <th>scaled_radius_of_gyration.1</th>\n",
       "      <th>skewness_about</th>\n",
       "      <th>skewness_about.1</th>\n",
       "      <th>skewness_about.2</th>\n",
       "      <th>hollows_ratio</th>\n",
       "    </tr>\n",
       "  </thead>\n",
       "  <tbody>\n",
       "    <tr>\n",
       "      <th>0</th>\n",
       "      <td>0.163231</td>\n",
       "      <td>0.520408</td>\n",
       "      <td>0.060669</td>\n",
       "      <td>0.264970</td>\n",
       "      <td>1.283254</td>\n",
       "      <td>0.299721</td>\n",
       "      <td>-0.198517</td>\n",
       "      <td>0.129648</td>\n",
       "      <td>-0.217151</td>\n",
       "      <td>0.766312</td>\n",
       "      <td>-0.397397</td>\n",
       "      <td>-0.339014</td>\n",
       "      <td>0.301676</td>\n",
       "      <td>-0.321192</td>\n",
       "      <td>-0.071523</td>\n",
       "      <td>0.371287</td>\n",
       "      <td>-0.321809</td>\n",
       "      <td>0.171837</td>\n",
       "    </tr>\n",
       "    <tr>\n",
       "      <th>1</th>\n",
       "      <td>-0.322874</td>\n",
       "      <td>-0.619123</td>\n",
       "      <td>0.124067</td>\n",
       "      <td>-0.836393</td>\n",
       "      <td>-0.599253</td>\n",
       "      <td>0.085785</td>\n",
       "      <td>-0.591720</td>\n",
       "      <td>0.514333</td>\n",
       "      <td>-0.606014</td>\n",
       "      <td>-0.337462</td>\n",
       "      <td>-0.590034</td>\n",
       "      <td>-0.618754</td>\n",
       "      <td>-0.502972</td>\n",
       "      <td>-0.053505</td>\n",
       "      <td>0.538425</td>\n",
       "      <td>0.147109</td>\n",
       "      <td>0.003400</td>\n",
       "      <td>0.442318</td>\n",
       "    </tr>\n",
       "    <tr>\n",
       "      <th>2</th>\n",
       "      <td>1.256966</td>\n",
       "      <td>0.845988</td>\n",
       "      <td>1.518823</td>\n",
       "      <td>1.187734</td>\n",
       "      <td>0.530251</td>\n",
       "      <td>0.299721</td>\n",
       "      <td>1.162569</td>\n",
       "      <td>-1.152637</td>\n",
       "      <td>0.949438</td>\n",
       "      <td>0.697326</td>\n",
       "      <td>1.111591</td>\n",
       "      <td>1.122486</td>\n",
       "      <td>1.415804</td>\n",
       "      <td>0.080339</td>\n",
       "      <td>1.555006</td>\n",
       "      <td>-0.413338</td>\n",
       "      <td>-0.159204</td>\n",
       "      <td>0.036596</td>\n",
       "    </tr>\n",
       "    <tr>\n",
       "      <th>3</th>\n",
       "      <td>-0.079822</td>\n",
       "      <td>-0.619123</td>\n",
       "      <td>-0.002729</td>\n",
       "      <td>-0.300595</td>\n",
       "      <td>0.153750</td>\n",
       "      <td>0.085785</td>\n",
       "      <td>-0.742952</td>\n",
       "      <td>0.642562</td>\n",
       "      <td>-0.606014</td>\n",
       "      <td>-0.337462</td>\n",
       "      <td>-0.911095</td>\n",
       "      <td>-0.738643</td>\n",
       "      <td>-1.462359</td>\n",
       "      <td>-1.258099</td>\n",
       "      <td>-0.071523</td>\n",
       "      <td>-0.301249</td>\n",
       "      <td>1.629444</td>\n",
       "      <td>1.524243</td>\n",
       "    </tr>\n",
       "    <tr>\n",
       "      <th>4</th>\n",
       "      <td>-1.052030</td>\n",
       "      <td>-0.130753</td>\n",
       "      <td>-0.763506</td>\n",
       "      <td>1.068668</td>\n",
       "      <td>5.173770</td>\n",
       "      <td>9.285029</td>\n",
       "      <td>-0.591720</td>\n",
       "      <td>0.514333</td>\n",
       "      <td>-0.606014</td>\n",
       "      <td>-0.268476</td>\n",
       "      <td>1.689501</td>\n",
       "      <td>-0.647299</td>\n",
       "      <td>0.425468</td>\n",
       "      <td>7.307905</td>\n",
       "      <td>0.538425</td>\n",
       "      <td>-0.189159</td>\n",
       "      <td>-1.460039</td>\n",
       "      <td>-1.721531</td>\n",
       "    </tr>\n",
       "  </tbody>\n",
       "</table>\n",
       "</div>"
      ],
      "text/plain": [
       "   compactness  circularity  distance_circularity  radius_ratio  \\\n",
       "0     0.163231     0.520408              0.060669      0.264970   \n",
       "1    -0.322874    -0.619123              0.124067     -0.836393   \n",
       "2     1.256966     0.845988              1.518823      1.187734   \n",
       "3    -0.079822    -0.619123             -0.002729     -0.300595   \n",
       "4    -1.052030    -0.130753             -0.763506      1.068668   \n",
       "\n",
       "   pr.axis_aspect_ratio  max.length_aspect_ratio  scatter_ratio  \\\n",
       "0              1.283254                 0.299721      -0.198517   \n",
       "1             -0.599253                 0.085785      -0.591720   \n",
       "2              0.530251                 0.299721       1.162569   \n",
       "3              0.153750                 0.085785      -0.742952   \n",
       "4              5.173770                 9.285029      -0.591720   \n",
       "\n",
       "   elongatedness  pr.axis_rectangularity  max.length_rectangularity  \\\n",
       "0       0.129648               -0.217151                   0.766312   \n",
       "1       0.514333               -0.606014                  -0.337462   \n",
       "2      -1.152637                0.949438                   0.697326   \n",
       "3       0.642562               -0.606014                  -0.337462   \n",
       "4       0.514333               -0.606014                  -0.268476   \n",
       "\n",
       "   scaled_variance  scaled_variance.1  scaled_radius_of_gyration  \\\n",
       "0        -0.397397          -0.339014                   0.301676   \n",
       "1        -0.590034          -0.618754                  -0.502972   \n",
       "2         1.111591           1.122486                   1.415804   \n",
       "3        -0.911095          -0.738643                  -1.462359   \n",
       "4         1.689501          -0.647299                   0.425468   \n",
       "\n",
       "   scaled_radius_of_gyration.1  skewness_about  skewness_about.1  \\\n",
       "0                    -0.321192       -0.071523          0.371287   \n",
       "1                    -0.053505        0.538425          0.147109   \n",
       "2                     0.080339        1.555006         -0.413338   \n",
       "3                    -1.258099       -0.071523         -0.301249   \n",
       "4                     7.307905        0.538425         -0.189159   \n",
       "\n",
       "   skewness_about.2  hollows_ratio  \n",
       "0         -0.321809       0.171837  \n",
       "1          0.003400       0.442318  \n",
       "2         -0.159204       0.036596  \n",
       "3          1.629444       1.524243  \n",
       "4         -1.460039      -1.721531  "
      ]
     },
     "execution_count": 14,
     "metadata": {},
     "output_type": "execute_result"
    }
   ],
   "source": [
    "vehicle_data.head()"
   ]
  },
  {
   "cell_type": "markdown",
   "metadata": {},
   "source": [
    "### K - Means Clustering"
   ]
  },
  {
   "cell_type": "markdown",
   "metadata": {},
   "source": [
    "### 4. Assign a dummy array called distortion"
   ]
  },
  {
   "cell_type": "code",
   "execution_count": 15,
   "metadata": {},
   "outputs": [],
   "source": [
    "sse_df=np.array([])"
   ]
  },
  {
   "cell_type": "markdown",
   "metadata": {},
   "source": [
    "You can later use this array to plot the elbow plot"
   ]
  },
  {
   "cell_type": "code",
   "execution_count": 16,
   "metadata": {},
   "outputs": [],
   "source": [
    "from sklearn.cluster import KMeans"
   ]
  },
  {
   "cell_type": "code",
   "execution_count": 17,
   "metadata": {},
   "outputs": [
    {
     "data": {
      "text/plain": [
       "Index(['compactness', 'circularity', 'distance_circularity', 'radius_ratio',\n",
       "       'pr.axis_aspect_ratio', 'max.length_aspect_ratio', 'scatter_ratio',\n",
       "       'elongatedness', 'pr.axis_rectangularity', 'max.length_rectangularity',\n",
       "       'scaled_variance', 'scaled_variance.1', 'scaled_radius_of_gyration',\n",
       "       'scaled_radius_of_gyration.1', 'skewness_about', 'skewness_about.1',\n",
       "       'skewness_about.2', 'hollows_ratio'],\n",
       "      dtype='object')"
      ]
     },
     "execution_count": 17,
     "metadata": {},
     "output_type": "execute_result"
    }
   ],
   "source": [
    "vehicle_data.columns"
   ]
  },
  {
   "cell_type": "markdown",
   "metadata": {},
   "source": [
    "### 5. Calculating distortion - C distance"
   ]
  },
  {
   "cell_type": "code",
   "execution_count": 18,
   "metadata": {},
   "outputs": [],
   "source": [
    "km = KMeans(n_clusters=2)"
   ]
  },
  {
   "cell_type": "code",
   "execution_count": 19,
   "metadata": {},
   "outputs": [
    {
     "data": {
      "text/plain": [
       "KMeans(algorithm='auto', copy_x=True, init='k-means++', max_iter=300,\n",
       "       n_clusters=2, n_init=10, n_jobs=None, precompute_distances='auto',\n",
       "       random_state=None, tol=0.0001, verbose=0)"
      ]
     },
     "execution_count": 19,
     "metadata": {},
     "output_type": "execute_result"
    }
   ],
   "source": [
    "km.fit(vehicle_data)"
   ]
  },
  {
   "cell_type": "code",
   "execution_count": 30,
   "metadata": {},
   "outputs": [
    {
     "data": {
      "text/plain": [
       "(813,)"
      ]
     },
     "execution_count": 30,
     "metadata": {},
     "output_type": "execute_result"
    }
   ],
   "source": [
    "km.predict(vehicle_data).shape"
   ]
  },
  {
   "cell_type": "code",
   "execution_count": 31,
   "metadata": {},
   "outputs": [
    {
     "data": {
      "text/plain": [
       "array([[-0.14704877, -1.03475762, -0.14301432,  0.28618677,  0.29527156,\n",
       "        -0.26015405, -0.1930472 , -0.03404795, -0.27506671, -1.02805463,\n",
       "        -0.1152732 , -0.23206155, -1.06925403, -0.63301982, -0.55602137,\n",
       "         0.80652749,  0.92540162,  0.75308394],\n",
       "       [ 0.58656879,  0.49536324,  0.80611812,  0.97348021,  0.36337693,\n",
       "         0.03171317,  0.68095368, -0.84827036,  0.63321946,  0.3235891 ,\n",
       "         0.72314193,  0.64531518,  0.47580133, -0.46827333, -0.26143398,\n",
       "        -0.09924151,  0.56268774,  0.48838927],\n",
       "       [-0.59457845, -0.0513429 , -0.26147576, -0.54163157, -0.05745847,\n",
       "         0.04925924, -0.4803248 ,  0.38610497, -0.47955436,  0.07701382,\n",
       "        -0.47518286, -0.53233026, -0.0616481 ,  0.11624853, -0.27814539,\n",
       "        -0.39237809, -0.51349681, -0.26687025],\n",
       "       [-0.73302434,  0.07273496, -0.27217095,  2.94768327,  6.8366519 ,\n",
       "         8.69670551, -0.535008  ,  0.46624777, -0.55740597,  0.28341053,\n",
       "         1.69752769, -0.58806827,  0.21270086,  4.96563826, -0.27483944,\n",
       "        -0.23119278, -0.70799414, -0.45365072],\n",
       "       [ 0.0729541 ,  0.01575841, -0.20379165,  0.16376379,  0.36351484,\n",
       "        -0.13731972, -0.35623043,  0.15163002, -0.40602722, -0.01519968,\n",
       "        -0.36162187, -0.38109724,  0.0611662 , -0.75714063,  0.98281626,\n",
       "        -0.37971109,  1.08820371,  0.8905443 ],\n",
       "       [-0.93446706, -1.13403552, -1.31686028, -1.35374944, -0.8434337 ,\n",
       "        -0.56764982, -1.16048292,  1.45235272, -1.05405147, -1.16304291,\n",
       "        -1.22029134, -1.07876158, -1.00453092,  0.78883851,  0.20693147,\n",
       "        -0.06001294, -1.0765052 , -1.2525993 ],\n",
       "       [ 1.64098797,  1.64040413,  1.2474799 ,  0.62455046, -0.69965377,\n",
       "        -0.62448236,  2.29741202, -1.75274621,  2.38045294,  1.32647667,\n",
       "         2.5460927 ,  2.53877033,  2.05457083,  1.44019232, -0.0227274 ,\n",
       "         0.30851716, -0.90718453, -1.57006192],\n",
       "       [ 1.29157736,  1.38072292,  1.342272  ,  1.0085695 ,  0.1076799 ,\n",
       "         0.4148129 ,  1.39037357, -1.27356122,  1.41213519,  1.37670536,\n",
       "         1.18230559,  1.3863998 ,  1.16880785, -0.18650129,  0.33768268,\n",
       "         0.41952812, -0.08098953,  0.34473963],\n",
       "       [-0.48490856, -1.01983741, -0.86835631, -0.68107283, -0.25332247,\n",
       "        -0.19672024, -1.07178388,  1.15054403, -1.02478922, -0.85220279,\n",
       "        -1.05145676, -0.98273833, -1.12867655, -0.92520531, -0.0897696 ,\n",
       "        -0.32711535,  1.1541389 ,  0.93299895],\n",
       "       [-1.17519869, -0.24954554, -0.88773159, -1.09745429, -0.48732047,\n",
       "        -0.36232413, -0.57128319,  0.54379135, -0.61652364, -0.27966322,\n",
       "        -0.55358926, -0.63071206,  0.04363697,  1.2722726 , -0.2858295 ,\n",
       "        -0.44666172, -1.36555314, -1.53877382]])"
      ]
     },
     "execution_count": 31,
     "metadata": {},
     "output_type": "execute_result"
    }
   ],
   "source": [
    "km.cluster_centers_"
   ]
  },
  {
   "cell_type": "code",
   "execution_count": 32,
   "metadata": {},
   "outputs": [
    {
     "data": {
      "text/plain": [
       "3652.067513741483"
      ]
     },
     "execution_count": 32,
     "metadata": {},
     "output_type": "execute_result"
    }
   ],
   "source": [
    "km.inertia_"
   ]
  },
  {
   "cell_type": "markdown",
   "metadata": {},
   "source": [
    "Iterating values of k from 1 to 10 fit K means model\n",
    "Using c distance - Get the measure for Sum of squares error."
   ]
  },
  {
   "cell_type": "code",
   "execution_count": 33,
   "metadata": {},
   "outputs": [],
   "source": [
    "sse_df = pd.DataFrame(columns=['K','SSE'])\n",
    "for i in range(1,11):\n",
    "    \n",
    "    #Initialize KMeans\n",
    "    km = KMeans(n_clusters=i, n_init=10, max_iter=300)\n",
    "    \n",
    "    #Fit on the data\n",
    "    km.fit(vehicle_data)\n",
    "    \n",
    "    #Add cluster information for each record in dataframe\n",
    "    km.predict(vehicle_data)\n",
    "    \n",
    "    #Track K and SSE information in sse_df\n",
    "    sse_df.loc[sse_df.shape[0]] = [i, km.inertia_]"
   ]
  },
  {
   "cell_type": "markdown",
   "metadata": {},
   "source": [
    "### 6. Plotting Elbow/ Scree Plot"
   ]
  },
  {
   "cell_type": "code",
   "execution_count": 34,
   "metadata": {
    "scrolled": true
   },
   "outputs": [
    {
     "data": {
      "text/plain": [
       "<matplotlib.axes._subplots.AxesSubplot at 0x2ab06e7e940>"
      ]
     },
     "execution_count": 34,
     "metadata": {},
     "output_type": "execute_result"
    },
    {
     "data": {
      "image/png": "[encoded data removed]",
      "text/plain": [
       "<Figure size 432x288 with 1 Axes>"
      ]
     },
     "metadata": {
      "needs_background": "light"
     },
     "output_type": "display_data"
    }
   ],
   "source": [
    "sns.lineplot(x='K', y='SSE', data=sse_df)"
   ]
  },
  {
   "cell_type": "code",
   "execution_count": 35,
   "metadata": {},
   "outputs": [
    {
     "data": {
      "text/html": [
       "<div>\n",
       "<style scoped>\n",
       "    .dataframe tbody tr th:only-of-type {\n",
       "        vertical-align: middle;\n",
       "    }\n",
       "\n",
       "    .dataframe tbody tr th {\n",
       "        vertical-align: top;\n",
       "    }\n",
       "\n",
       "    .dataframe thead th {\n",
       "        text-align: right;\n",
       "    }\n",
       "</style>\n",
       "<table border=\"1\" class=\"dataframe\">\n",
       "  <thead>\n",
       "    <tr style=\"text-align: right;\">\n",
       "      <th></th>\n",
       "      <th>K</th>\n",
       "      <th>SSE</th>\n",
       "    </tr>\n",
       "  </thead>\n",
       "  <tbody>\n",
       "    <tr>\n",
       "      <th>0</th>\n",
       "      <td>1.0</td>\n",
       "      <td>14634.000000</td>\n",
       "    </tr>\n",
       "    <tr>\n",
       "      <th>1</th>\n",
       "      <td>2.0</td>\n",
       "      <td>8623.136976</td>\n",
       "    </tr>\n",
       "    <tr>\n",
       "      <th>2</th>\n",
       "      <td>3.0</td>\n",
       "      <td>7037.467395</td>\n",
       "    </tr>\n",
       "    <tr>\n",
       "      <th>3</th>\n",
       "      <td>4.0</td>\n",
       "      <td>5739.201327</td>\n",
       "    </tr>\n",
       "    <tr>\n",
       "      <th>4</th>\n",
       "      <td>5.0</td>\n",
       "      <td>5191.298938</td>\n",
       "    </tr>\n",
       "  </tbody>\n",
       "</table>\n",
       "</div>"
      ],
      "text/plain": [
       "     K           SSE\n",
       "0  1.0  14634.000000\n",
       "1  2.0   8623.136976\n",
       "2  3.0   7037.467395\n",
       "3  4.0   5739.201327\n",
       "4  5.0   5191.298938"
      ]
     },
     "execution_count": 35,
     "metadata": {},
     "output_type": "execute_result"
    }
   ],
   "source": [
    "sse_df.head()"
   ]
  },
  {
   "cell_type": "markdown",
   "metadata": {},
   "source": [
    "Use Matplotlib to plot the scree plot - Note: Scree plot plots distortion vs the no of clusters"
   ]
  },
  {
   "cell_type": "code",
   "execution_count": 38,
   "metadata": {},
   "outputs": [
    {
     "data": {
      "text/plain": [
       "<matplotlib.collections.PathCollection at 0x2ab08190dd8>"
      ]
     },
     "execution_count": 38,
     "metadata": {},
     "output_type": "execute_result"
    },
    {
     "data": {
      "image/png": "[encoded data removed]",
      "text/plain": [
       "<Figure size 432x288 with 1 Axes>"
      ]
     },
     "metadata": {
      "needs_background": "light"
     },
     "output_type": "display_data"
    }
   ],
   "source": [
    "plt.scatter('K','SSE',data=sse_df)"
   ]
  },
  {
   "cell_type": "markdown",
   "metadata": {},
   "source": [
    "### Find out the optimal value of K"
   ]
  },
  {
   "cell_type": "markdown",
   "metadata": {},
   "source": [
    "# OPTIMAL K IS \"4\", IT IS CLEARLY VISIBLE THAT AT K=4, ELBOW IS FORMED AND VALUE IS TILTED"
   ]
  },
  {
   "cell_type": "markdown",
   "metadata": {},
   "source": [
    "### Using optimal value of K - Cluster the data. \n",
    "Note: Since the data has more than 2 dimension we cannot visualize the data. As an alternative, we can observe the centroids and note how they are distributed across different dimensions"
   ]
  },
  {
   "cell_type": "code",
   "execution_count": 82,
   "metadata": {},
   "outputs": [
    {
     "data": {
      "text/plain": [
       "array([-0.91575841, -0.52240268, -0.88950599, -1.08772789, -0.56197078,\n",
       "       -0.30001587, -0.77977885,  0.86736419, -0.74593938, -0.48553642,\n",
       "       -0.80174644, -0.78383683, -0.39057464,  0.78315922, -0.09023857,\n",
       "       -0.29608966, -1.04774549, -1.10361198])"
      ]
     },
     "execution_count": 82,
     "metadata": {},
     "output_type": "execute_result"
    }
   ],
   "source": [
    "km = KMeans(n_clusters=4)\n",
    "km.fit(vehicle_data)\n",
    "km.predict(vehicle_data)\n",
    "km.cluster_centers_[2]"
   ]
  },
  {
   "cell_type": "code",
   "execution_count": 83,
   "metadata": {},
   "outputs": [
    {
     "data": {
      "text/plain": [
       "(4, 18)"
      ]
     },
     "execution_count": 83,
     "metadata": {},
     "output_type": "execute_result"
    }
   ],
   "source": [
    "km.cluster_centers_.shape"
   ]
  },
  {
   "cell_type": "code",
   "execution_count": 84,
   "metadata": {},
   "outputs": [
    {
     "data": {
      "text/plain": [
       "(18,)"
      ]
     },
     "execution_count": 84,
     "metadata": {},
     "output_type": "execute_result"
    }
   ],
   "source": [
    "vehicle_data.columns.shape"
   ]
  },
  {
   "cell_type": "markdown",
   "metadata": {},
   "source": [
    "You can use kmeans.cluster_centers_ function to pull the centroid information from the instance"
   ]
  },
  {
   "cell_type": "markdown",
   "metadata": {},
   "source": [
    "### 7. Store the centroids in a dataframe with column names from the original dataset given "
   ]
  },
  {
   "cell_type": "code",
   "execution_count": 85,
   "metadata": {},
   "outputs": [],
   "source": [
    "centroid_df=pd.DataFrame(data=np.array(km.cluster_centers_),columns=vehicle_data.columns)"
   ]
  },
  {
   "cell_type": "code",
   "execution_count": 86,
   "metadata": {
    "scrolled": true
   },
   "outputs": [
    {
     "data": {
      "text/html": [
       "<div>\n",
       "<style scoped>\n",
       "    .dataframe tbody tr th:only-of-type {\n",
       "        vertical-align: middle;\n",
       "    }\n",
       "\n",
       "    .dataframe tbody tr th {\n",
       "        vertical-align: top;\n",
       "    }\n",
       "\n",
       "    .dataframe thead th {\n",
       "        text-align: right;\n",
       "    }\n",
       "</style>\n",
       "<table border=\"1\" class=\"dataframe\">\n",
       "  <thead>\n",
       "    <tr style=\"text-align: right;\">\n",
       "      <th></th>\n",
       "      <th>compactness</th>\n",
       "      <th>circularity</th>\n",
       "      <th>distance_circularity</th>\n",
       "      <th>radius_ratio</th>\n",
       "      <th>pr.axis_aspect_ratio</th>\n",
       "      <th>max.length_aspect_ratio</th>\n",
       "      <th>scatter_ratio</th>\n",
       "      <th>elongatedness</th>\n",
       "      <th>pr.axis_rectangularity</th>\n",
       "      <th>max.length_rectangularity</th>\n",
       "      <th>scaled_variance</th>\n",
       "      <th>scaled_variance.1</th>\n",
       "      <th>scaled_radius_of_gyration</th>\n",
       "      <th>scaled_radius_of_gyration.1</th>\n",
       "      <th>skewness_about</th>\n",
       "      <th>skewness_about.1</th>\n",
       "      <th>skewness_about.2</th>\n",
       "      <th>hollows_ratio</th>\n",
       "    </tr>\n",
       "  </thead>\n",
       "  <tbody>\n",
       "    <tr>\n",
       "      <th>0</th>\n",
       "      <td>-0.228397</td>\n",
       "      <td>-0.577113</td>\n",
       "      <td>-0.308062</td>\n",
       "      <td>-0.041242</td>\n",
       "      <td>0.178445</td>\n",
       "      <td>-0.173699</td>\n",
       "      <td>-0.456880</td>\n",
       "      <td>0.321991</td>\n",
       "      <td>-0.485592</td>\n",
       "      <td>-0.539969</td>\n",
       "      <td>-0.421529</td>\n",
       "      <td>-0.461481</td>\n",
       "      <td>-0.605499</td>\n",
       "      <td>-0.642849</td>\n",
       "      <td>-0.062341</td>\n",
       "      <td>0.012963</td>\n",
       "      <td>0.822192</td>\n",
       "      <td>0.705383</td>\n",
       "    </tr>\n",
       "    <tr>\n",
       "      <th>1</th>\n",
       "      <td>1.154428</td>\n",
       "      <td>1.184286</td>\n",
       "      <td>1.211987</td>\n",
       "      <td>0.973322</td>\n",
       "      <td>0.094921</td>\n",
       "      <td>0.218659</td>\n",
       "      <td>1.297968</td>\n",
       "      <td>-1.214247</td>\n",
       "      <td>1.301845</td>\n",
       "      <td>1.098306</td>\n",
       "      <td>1.205903</td>\n",
       "      <td>1.308987</td>\n",
       "      <td>1.091213</td>\n",
       "      <td>-0.107879</td>\n",
       "      <td>0.168326</td>\n",
       "      <td>0.267955</td>\n",
       "      <td>0.004670</td>\n",
       "      <td>0.190327</td>\n",
       "    </tr>\n",
       "    <tr>\n",
       "      <th>2</th>\n",
       "      <td>-0.915758</td>\n",
       "      <td>-0.522403</td>\n",
       "      <td>-0.889506</td>\n",
       "      <td>-1.087728</td>\n",
       "      <td>-0.561971</td>\n",
       "      <td>-0.300016</td>\n",
       "      <td>-0.779779</td>\n",
       "      <td>0.867364</td>\n",
       "      <td>-0.745939</td>\n",
       "      <td>-0.485536</td>\n",
       "      <td>-0.801746</td>\n",
       "      <td>-0.783837</td>\n",
       "      <td>-0.390575</td>\n",
       "      <td>0.783159</td>\n",
       "      <td>-0.090239</td>\n",
       "      <td>-0.296090</td>\n",
       "      <td>-1.047745</td>\n",
       "      <td>-1.103612</td>\n",
       "    </tr>\n",
       "    <tr>\n",
       "      <th>3</th>\n",
       "      <td>-0.733024</td>\n",
       "      <td>0.072735</td>\n",
       "      <td>-0.272171</td>\n",
       "      <td>2.947683</td>\n",
       "      <td>6.836652</td>\n",
       "      <td>8.696706</td>\n",
       "      <td>-0.535008</td>\n",
       "      <td>0.466248</td>\n",
       "      <td>-0.557406</td>\n",
       "      <td>0.283411</td>\n",
       "      <td>1.697528</td>\n",
       "      <td>-0.588068</td>\n",
       "      <td>0.212701</td>\n",
       "      <td>4.965638</td>\n",
       "      <td>-0.274839</td>\n",
       "      <td>-0.231193</td>\n",
       "      <td>-0.707994</td>\n",
       "      <td>-0.453651</td>\n",
       "    </tr>\n",
       "  </tbody>\n",
       "</table>\n",
       "</div>"
      ],
      "text/plain": [
       "   compactness  circularity  distance_circularity  radius_ratio  \\\n",
       "0    -0.228397    -0.577113             -0.308062     -0.041242   \n",
       "1     1.154428     1.184286              1.211987      0.973322   \n",
       "2    -0.915758    -0.522403             -0.889506     -1.087728   \n",
       "3    -0.733024     0.072735             -0.272171      2.947683   \n",
       "\n",
       "   pr.axis_aspect_ratio  max.length_aspect_ratio  scatter_ratio  \\\n",
       "0              0.178445                -0.173699      -0.456880   \n",
       "1              0.094921                 0.218659       1.297968   \n",
       "2             -0.561971                -0.300016      -0.779779   \n",
       "3              6.836652                 8.696706      -0.535008   \n",
       "\n",
       "   elongatedness  pr.axis_rectangularity  max.length_rectangularity  \\\n",
       "0       0.321991               -0.485592                  -0.539969   \n",
       "1      -1.214247                1.301845                   1.098306   \n",
       "2       0.867364               -0.745939                  -0.485536   \n",
       "3       0.466248               -0.557406                   0.283411   \n",
       "\n",
       "   scaled_variance  scaled_variance.1  scaled_radius_of_gyration  \\\n",
       "0        -0.421529          -0.461481                  -0.605499   \n",
       "1         1.205903           1.308987                   1.091213   \n",
       "2        -0.801746          -0.783837                  -0.390575   \n",
       "3         1.697528          -0.588068                   0.212701   \n",
       "\n",
       "   scaled_radius_of_gyration.1  skewness_about  skewness_about.1  \\\n",
       "0                    -0.642849       -0.062341          0.012963   \n",
       "1                    -0.107879        0.168326          0.267955   \n",
       "2                     0.783159       -0.090239         -0.296090   \n",
       "3                     4.965638       -0.274839         -0.231193   \n",
       "\n",
       "   skewness_about.2  hollows_ratio  \n",
       "0          0.822192       0.705383  \n",
       "1          0.004670       0.190327  \n",
       "2         -1.047745      -1.103612  \n",
       "3         -0.707994      -0.453651  "
      ]
     },
     "execution_count": 86,
     "metadata": {},
     "output_type": "execute_result"
    }
   ],
   "source": [
    "centroid_df"
   ]
  },
  {
   "cell_type": "markdown",
   "metadata": {},
   "source": [
    "### Use kmeans.labels_ function to print out the labels of the classes"
   ]
  },
  {
   "cell_type": "code",
   "execution_count": 87,
   "metadata": {},
   "outputs": [
    {
     "data": {
      "text/plain": [
       "array([0, 0, 1, 0, 3, 0, 0, 0, 0, 0, 0, 0, 0, 1, 2, 0, 1, 2, 2, 0, 0, 1,\n",
       "       0, 2, 1, 1, 2, 0, 0, 0, 1, 0, 2, 3, 1, 2, 1, 2, 2, 0, 1, 2, 2, 2,\n",
       "       2, 0, 2, 0, 1, 0, 1, 0, 0, 2, 1, 2, 1, 2, 2, 2, 0, 2, 1, 0, 1, 1,\n",
       "       0, 2, 0, 1, 0, 2, 2, 1, 0, 2, 0, 1, 0, 2, 0, 2, 1, 0, 1, 0, 2, 1,\n",
       "       2, 2, 1, 2, 3, 0, 0, 2, 1, 1, 2, 2, 1, 0, 0, 2, 2, 2, 0, 1, 1, 0,\n",
       "       2, 2, 0, 2, 2, 2, 2, 2, 0, 1, 1, 0, 0, 2, 1, 3, 2, 0, 2, 0, 0, 1,\n",
       "       2, 0, 1, 0, 0, 0, 0, 1, 0, 0, 1, 0, 1, 0, 2, 0, 2, 1, 0, 0, 1, 1,\n",
       "       0, 1, 2, 2, 1, 1, 0, 1, 0, 0, 0, 0, 2, 1, 2, 0, 2, 1, 0, 0, 0, 1,\n",
       "       0, 1, 0, 1, 0, 2, 1, 2, 2, 2, 0, 0, 1, 1, 0, 0, 0, 2, 1, 0, 0, 0,\n",
       "       1, 2, 2, 1, 2, 0, 1, 2, 2, 2, 0, 1, 0, 1, 2, 2, 2, 2, 1, 0, 2, 0,\n",
       "       1, 2, 0, 0, 2, 1, 2, 2, 0, 0, 1, 2, 1, 2, 0, 0, 1, 0, 0, 1, 1, 2,\n",
       "       0, 0, 0, 1, 2, 0, 0, 2, 2, 0, 0, 1, 0, 2, 2, 1, 0, 0, 2, 2, 1, 2,\n",
       "       0, 1, 2, 0, 3, 0, 0, 1, 0, 1, 2, 0, 0, 1, 0, 0, 0, 2, 0, 1, 1, 1,\n",
       "       1, 2, 0, 1, 2, 2, 2, 0, 2, 1, 1, 2, 1, 0, 2, 1, 2, 0, 0, 1, 1, 2,\n",
       "       1, 1, 2, 1, 0, 0, 0, 2, 2, 1, 1, 1, 0, 0, 0, 1, 2, 0, 2, 1, 0, 0,\n",
       "       1, 0, 1, 1, 1, 0, 2, 2, 1, 2, 2, 2, 0, 0, 0, 0, 2, 1, 1, 2, 2, 1,\n",
       "       2, 1, 2, 1, 0, 2, 0, 2, 3, 1, 2, 0, 0, 0, 1, 0, 0, 0, 0, 1, 0, 1,\n",
       "       0, 1, 0, 2, 2, 0, 0, 0, 2, 2, 0, 2, 1, 0, 0, 2, 2, 1, 0, 2, 0, 0,\n",
       "       1, 0, 1, 0, 1, 1, 2, 2, 1, 0, 2, 2, 0, 1, 1, 2, 0, 1, 1, 2, 1, 1,\n",
       "       1, 0, 0, 0, 0, 0, 1, 2, 2, 0, 1, 0, 0, 1, 0, 2, 1, 2, 2, 1, 0, 2,\n",
       "       1, 1, 1, 2, 1, 1, 2, 0, 2, 1, 1, 0, 0, 2, 2, 1, 0, 2, 1, 1, 0, 2,\n",
       "       1, 1, 0, 2, 2, 1, 1, 1, 2, 2, 1, 1, 1, 0, 0, 1, 2, 0, 1, 0, 2, 2,\n",
       "       0, 1, 2, 0, 0, 2, 3, 1, 0, 1, 1, 0, 2, 0, 1, 1, 2, 2, 0, 1, 0, 1,\n",
       "       1, 0, 0, 0, 0, 2, 2, 2, 0, 0, 1, 2, 2, 0, 2, 1, 0, 1, 2, 2, 1, 1,\n",
       "       0, 1, 0, 0, 0, 1, 0, 2, 0, 1, 0, 0, 2, 1, 1, 1, 1, 0, 2, 2, 2, 1,\n",
       "       1, 1, 0, 1, 2, 0, 1, 2, 2, 2, 0, 2, 1, 0, 0, 0, 0, 0, 0, 1, 0, 0,\n",
       "       1, 0, 0, 0, 2, 1, 2, 2, 0, 2, 0, 0, 2, 2, 1, 1, 2, 0, 1, 0, 1, 0,\n",
       "       0, 1, 0, 2, 1, 2, 1, 2, 2, 0, 2, 0, 1, 1, 2, 1, 0, 0, 2, 0, 2, 1,\n",
       "       0, 1, 2, 0, 0, 0, 2, 2, 2, 0, 1, 0, 1, 2, 0, 0, 0, 0, 1, 0, 2, 1,\n",
       "       0, 1, 0, 0, 1, 2, 1, 2, 0, 0, 0, 2, 1, 0, 2, 0, 1, 2, 1, 0, 0, 1,\n",
       "       2, 0, 2, 0, 0, 2, 0, 1, 1, 0, 0, 1, 1, 3, 0, 2, 0, 1, 1, 1, 1, 0,\n",
       "       1, 0, 0, 1, 1, 0, 1, 0, 1, 0, 2, 1, 0, 2, 1, 1, 1, 0, 1, 2, 2, 1,\n",
       "       1, 1, 0, 1, 0, 0, 1, 0, 2, 0, 2, 0, 1, 0, 2, 0, 0, 0, 2, 1, 2, 2,\n",
       "       2, 1, 1, 2, 1, 1, 2, 0, 0, 1, 0, 2, 1, 1, 2, 0, 0, 1, 1, 1, 2, 1,\n",
       "       0, 1, 1, 2, 2, 1, 2, 1, 0, 2, 0, 1, 1, 0, 2, 0, 1, 1, 0, 0, 2, 0,\n",
       "       0, 1, 2, 0, 1, 2, 2, 1, 2, 0, 2, 2, 2, 0, 1, 1, 0, 2, 1, 0, 1, 1,\n",
       "       2, 0, 1, 2, 2, 0, 0, 1, 2, 2, 1, 2, 0, 0, 0, 0, 0, 0, 1, 0, 2])"
      ]
     },
     "execution_count": 87,
     "metadata": {},
     "output_type": "execute_result"
    }
   ],
   "source": [
    "km.labels_"
   ]
  },
  {
   "cell_type": "markdown",
   "metadata": {},
   "source": [
    "## Hierarchical Clustering "
   ]
  },
  {
   "cell_type": "markdown",
   "metadata": {},
   "source": [
    "### 8. Variable creation"
   ]
  },
  {
   "cell_type": "markdown",
   "metadata": {},
   "source": [
    "For Hierarchical clustering, we will create datasets using multivariate normal distribution to visually observe how the clusters are formed at the end"
   ]
  },
  {
   "cell_type": "raw",
   "metadata": {},
   "source": [
    "a = np.random.multivariate_normal([10, 0], [[3, 1], [1, 4]], size=[100,])\n",
    "b = np.random.multivariate_normal([0, 20], [[3, 1], [1, 4]], size=[50,])\n",
    "c = np.random.multivariate_normal([10, 20], [[3, 1], [1, 4]], size=[100,])"
   ]
  },
  {
   "cell_type": "code",
   "execution_count": 88,
   "metadata": {},
   "outputs": [],
   "source": [
    "a = np.random.multivariate_normal([10, 0], [[3, 1], [1, 4]], size=[100,])\n",
    "b = np.random.multivariate_normal([0, 20], [[3, 1], [1, 4]], size=[50,])\n",
    "c = np.random.multivariate_normal([10, 20], [[3, 1], [1, 4]], size=[100,])"
   ]
  },
  {
   "cell_type": "code",
   "execution_count": 91,
   "metadata": {},
   "outputs": [
    {
     "data": {
      "text/plain": [
       "(100, 2)"
      ]
     },
     "execution_count": 91,
     "metadata": {},
     "output_type": "execute_result"
    }
   ],
   "source": [
    "a.shape"
   ]
  },
  {
   "cell_type": "markdown",
   "metadata": {},
   "source": [
    "### 9. Combine all three arrays a,b,c into a dataframe"
   ]
  },
  {
   "cell_type": "code",
   "execution_count": 108,
   "metadata": {},
   "outputs": [],
   "source": [
    "a=pd.DataFrame(a)\n",
    "b_df=pd.DataFrame(b)\n",
    "c_df=pd.DataFrame(c)"
   ]
  },
  {
   "cell_type": "code",
   "execution_count": 109,
   "metadata": {},
   "outputs": [],
   "source": [
    "combine_df=pd.DataFrame()\n",
    "combine_df=combine_df.append(a_df)\n",
    "combine_df=combine_df.append(b_df)"
   ]
  },
  {
   "cell_type": "code",
   "execution_count": 110,
   "metadata": {},
   "outputs": [
    {
     "data": {
      "text/plain": [
       "(250, 2)"
      ]
     },
     "execution_count": 110,
     "metadata": {},
     "output_type": "execute_result"
    }
   ],
   "source": [
    "combine_df=combine_df.append(c_df)\n",
    "combine_df.shape"
   ]
  },
  {
   "cell_type": "code",
   "execution_count": 115,
   "metadata": {},
   "outputs": [
    {
     "data": {
      "text/html": [
       "<div>\n",
       "<style scoped>\n",
       "    .dataframe tbody tr th:only-of-type {\n",
       "        vertical-align: middle;\n",
       "    }\n",
       "\n",
       "    .dataframe tbody tr th {\n",
       "        vertical-align: top;\n",
       "    }\n",
       "\n",
       "    .dataframe thead th {\n",
       "        text-align: right;\n",
       "    }\n",
       "</style>\n",
       "<table border=\"1\" class=\"dataframe\">\n",
       "  <thead>\n",
       "    <tr style=\"text-align: right;\">\n",
       "      <th></th>\n",
       "      <th>0</th>\n",
       "      <th>1</th>\n",
       "    </tr>\n",
       "  </thead>\n",
       "  <tbody>\n",
       "    <tr>\n",
       "      <th>count</th>\n",
       "      <td>250.000000</td>\n",
       "      <td>250.000000</td>\n",
       "    </tr>\n",
       "    <tr>\n",
       "      <th>mean</th>\n",
       "      <td>8.062148</td>\n",
       "      <td>11.957980</td>\n",
       "    </tr>\n",
       "    <tr>\n",
       "      <th>std</th>\n",
       "      <td>4.286880</td>\n",
       "      <td>10.141812</td>\n",
       "    </tr>\n",
       "    <tr>\n",
       "      <th>min</th>\n",
       "      <td>-4.004856</td>\n",
       "      <td>-4.863631</td>\n",
       "    </tr>\n",
       "    <tr>\n",
       "      <th>25%</th>\n",
       "      <td>7.248319</td>\n",
       "      <td>0.436326</td>\n",
       "    </tr>\n",
       "    <tr>\n",
       "      <th>50%</th>\n",
       "      <td>9.527512</td>\n",
       "      <td>17.736528</td>\n",
       "    </tr>\n",
       "    <tr>\n",
       "      <th>75%</th>\n",
       "      <td>10.775114</td>\n",
       "      <td>20.762564</td>\n",
       "    </tr>\n",
       "    <tr>\n",
       "      <th>max</th>\n",
       "      <td>14.546610</td>\n",
       "      <td>25.452429</td>\n",
       "    </tr>\n",
       "  </tbody>\n",
       "</table>\n",
       "</div>"
      ],
      "text/plain": [
       "                0           1\n",
       "count  250.000000  250.000000\n",
       "mean     8.062148   11.957980\n",
       "std      4.286880   10.141812\n",
       "min     -4.004856   -4.863631\n",
       "25%      7.248319    0.436326\n",
       "50%      9.527512   17.736528\n",
       "75%     10.775114   20.762564\n",
       "max     14.546610   25.452429"
      ]
     },
     "execution_count": 115,
     "metadata": {},
     "output_type": "execute_result"
    }
   ],
   "source": [
    "combine_df.describe()"
   ]
  },
  {
   "cell_type": "markdown",
   "metadata": {},
   "source": [
    "### 10. Use scatter matrix to print all the 3 distributions"
   ]
  },
  {
   "cell_type": "code",
   "execution_count": 113,
   "metadata": {},
   "outputs": [
    {
     "data": {
      "text/plain": [
       "array([[<matplotlib.axes._subplots.AxesSubplot object at 0x000002AB09B98198>,\n",
       "        <matplotlib.axes._subplots.AxesSubplot object at 0x000002AB09707550>],\n",
       "       [<matplotlib.axes._subplots.AxesSubplot object at 0x000002AB0A336198>,\n",
       "        <matplotlib.axes._subplots.AxesSubplot object at 0x000002AB09FE6630>]],\n",
       "      dtype=object)"
      ]
     },
     "execution_count": 113,
     "metadata": {},
     "output_type": "execute_result"
    },
    {
     "data": {
      "image/png": "[encoded data removed]",
      "text/plain": [
       "<Figure size 432x288 with 4 Axes>"
      ]
     },
     "metadata": {
      "needs_background": "light"
     },
     "output_type": "display_data"
    }
   ],
   "source": [
    "pd.plotting.scatter_matrix(combine_df)"
   ]
  },
  {
   "cell_type": "code",
   "execution_count": 117,
   "metadata": {},
   "outputs": [
    {
     "data": {
      "text/plain": [
       "<matplotlib.axes._subplots.AxesSubplot at 0x2ab0a8a5438>"
      ]
     },
     "execution_count": 117,
     "metadata": {},
     "output_type": "execute_result"
    },
    {
     "data": {
      "image/png": "[encoded data removed]",
      "text/plain": [
       "<Figure size 432x288 with 1 Axes>"
      ]
     },
     "metadata": {
      "needs_background": "light"
     },
     "output_type": "display_data"
    }
   ],
   "source": [
    "sns.scatterplot(x=0,y=1,data=combine_df)"
   ]
  },
  {
   "cell_type": "markdown",
   "metadata": {},
   "source": [
    "### 11. Find out the linkage matrix"
   ]
  },
  {
   "cell_type": "code",
   "execution_count": 126,
   "metadata": {},
   "outputs": [],
   "source": [
    "import scipy.cluster.hierarchy as shc"
   ]
  },
  {
   "cell_type": "code",
   "execution_count": 125,
   "metadata": {},
   "outputs": [
    {
     "data": {
      "text/plain": [
       "array([[5.10000000e+01, 6.30000000e+01, 2.77444306e-02, 2.00000000e+00],\n",
       "       [2.04000000e+02, 2.40000000e+02, 3.63493956e-02, 2.00000000e+00],\n",
       "       [1.66000000e+02, 2.31000000e+02, 4.29574086e-02, 2.00000000e+00],\n",
       "       [1.81000000e+02, 1.87000000e+02, 6.19863747e-02, 2.00000000e+00],\n",
       "       [1.62000000e+02, 2.44000000e+02, 6.34622286e-02, 2.00000000e+00],\n",
       "       [1.41000000e+02, 1.49000000e+02, 7.01668813e-02, 2.00000000e+00],\n",
       "       [1.68000000e+02, 1.93000000e+02, 7.57042616e-02, 2.00000000e+00],\n",
       "       [2.00000000e+01, 6.10000000e+01, 7.71763575e-02, 2.00000000e+00],\n",
       "       [1.50000000e+02, 1.83000000e+02, 8.59569158e-02, 2.00000000e+00],\n",
       "       [2.11000000e+02, 2.34000000e+02, 8.82249610e-02, 2.00000000e+00],\n",
       "       [3.80000000e+01, 9.10000000e+01, 9.59984180e-02, 2.00000000e+00],\n",
       "       [2.30000000e+01, 9.00000000e+01, 1.06486396e-01, 2.00000000e+00],\n",
       "       [8.10000000e+01, 8.80000000e+01, 1.06945973e-01, 2.00000000e+00],\n",
       "       [2.13000000e+02, 2.19000000e+02, 1.10610372e-01, 2.00000000e+00],\n",
       "       [2.05000000e+02, 2.49000000e+02, 1.16105355e-01, 2.00000000e+00],\n",
       "       [1.24000000e+02, 1.31000000e+02, 1.17535455e-01, 2.00000000e+00],\n",
       "       [1.72000000e+02, 2.02000000e+02, 1.23232409e-01, 2.00000000e+00],\n",
       "       [8.00000000e+00, 7.50000000e+01, 1.23574749e-01, 2.00000000e+00],\n",
       "       [1.02000000e+02, 1.34000000e+02, 1.32373922e-01, 2.00000000e+00],\n",
       "       [6.80000000e+01, 7.40000000e+01, 1.35727048e-01, 2.00000000e+00],\n",
       "       [1.78000000e+02, 1.90000000e+02, 1.37239277e-01, 2.00000000e+00],\n",
       "       [4.10000000e+01, 6.00000000e+01, 1.42962197e-01, 2.00000000e+00],\n",
       "       [1.55000000e+02, 1.74000000e+02, 1.45982287e-01, 2.00000000e+00],\n",
       "       [2.70000000e+01, 8.50000000e+01, 1.67641214e-01, 2.00000000e+00],\n",
       "       [2.10000000e+01, 4.90000000e+01, 1.73973709e-01, 2.00000000e+00],\n",
       "       [2.16000000e+02, 2.28000000e+02, 1.77183812e-01, 2.00000000e+00],\n",
       "       [1.10000000e+02, 1.25000000e+02, 1.79135052e-01, 2.00000000e+00],\n",
       "       [5.00000000e+00, 9.30000000e+01, 1.81167400e-01, 2.00000000e+00],\n",
       "       [1.00000000e+02, 1.29000000e+02, 1.84493968e-01, 2.00000000e+00],\n",
       "       [3.30000000e+01, 3.60000000e+01, 1.97118646e-01, 2.00000000e+00],\n",
       "       [1.64000000e+02, 1.84000000e+02, 2.00931171e-01, 2.00000000e+00],\n",
       "       [1.60000000e+02, 2.38000000e+02, 2.01297705e-01, 2.00000000e+00],\n",
       "       [2.09000000e+02, 2.42000000e+02, 2.02080449e-01, 2.00000000e+00],\n",
       "       [2.50000000e+01, 6.20000000e+01, 2.02751838e-01, 2.00000000e+00],\n",
       "       [1.54000000e+02, 1.67000000e+02, 2.11808937e-01, 2.00000000e+00],\n",
       "       [6.40000000e+01, 7.10000000e+01, 2.30018928e-01, 2.00000000e+00],\n",
       "       [1.10000000e+01, 4.20000000e+01, 2.31342080e-01, 2.00000000e+00],\n",
       "       [3.10000000e+01, 9.20000000e+01, 2.34705619e-01, 2.00000000e+00],\n",
       "       [1.56000000e+02, 2.36000000e+02, 2.36438040e-01, 2.00000000e+00],\n",
       "       [1.80000000e+02, 2.21000000e+02, 2.37052426e-01, 2.00000000e+00],\n",
       "       [1.69000000e+02, 2.18000000e+02, 2.42072929e-01, 2.00000000e+00],\n",
       "       [1.76000000e+02, 1.95000000e+02, 2.47271551e-01, 2.00000000e+00],\n",
       "       [2.23000000e+02, 2.56000000e+02, 2.48596611e-01, 3.00000000e+00],\n",
       "       [4.00000000e+00, 9.40000000e+01, 2.58197049e-01, 2.00000000e+00],\n",
       "       [0.00000000e+00, 3.70000000e+01, 2.59823588e-01, 2.00000000e+00],\n",
       "       [1.51000000e+02, 1.65000000e+02, 2.59829034e-01, 2.00000000e+00],\n",
       "       [5.20000000e+01, 5.80000000e+01, 2.59965797e-01, 2.00000000e+00],\n",
       "       [9.00000000e+00, 4.80000000e+01, 2.60436630e-01, 2.00000000e+00],\n",
       "       [1.39000000e+02, 2.65000000e+02, 2.68802151e-01, 3.00000000e+00],\n",
       "       [6.50000000e+01, 7.70000000e+01, 2.75228569e-01, 2.00000000e+00],\n",
       "       [1.75000000e+02, 2.53000000e+02, 2.81747583e-01, 3.00000000e+00],\n",
       "       [6.90000000e+01, 2.69000000e+02, 2.85886670e-01, 3.00000000e+00],\n",
       "       [1.61000000e+02, 1.70000000e+02, 2.92510184e-01, 2.00000000e+00],\n",
       "       [1.58000000e+02, 2.39000000e+02, 2.93789495e-01, 2.00000000e+00],\n",
       "       [3.90000000e+01, 7.20000000e+01, 3.05450577e-01, 2.00000000e+00],\n",
       "       [1.01000000e+02, 1.37000000e+02, 3.10561955e-01, 2.00000000e+00],\n",
       "       [2.15000000e+02, 2.82000000e+02, 3.15987270e-01, 3.00000000e+00],\n",
       "       [1.86000000e+02, 1.98000000e+02, 3.18741868e-01, 2.00000000e+00],\n",
       "       [1.94000000e+02, 2.80000000e+02, 3.20358156e-01, 3.00000000e+00],\n",
       "       [1.59000000e+02, 1.97000000e+02, 3.22333588e-01, 2.00000000e+00],\n",
       "       [1.19000000e+02, 1.40000000e+02, 3.30829950e-01, 2.00000000e+00],\n",
       "       [2.01000000e+02, 2.03000000e+02, 3.32452951e-01, 2.00000000e+00],\n",
       "       [2.00000000e+00, 9.80000000e+01, 3.33988703e-01, 2.00000000e+00],\n",
       "       [7.00000000e+00, 2.80000000e+01, 3.43577048e-01, 2.00000000e+00],\n",
       "       [4.70000000e+01, 2.61000000e+02, 3.44377663e-01, 3.00000000e+00],\n",
       "       [3.40000000e+01, 2.87000000e+02, 3.51365747e-01, 3.00000000e+00],\n",
       "       [1.71000000e+02, 2.33000000e+02, 3.55661734e-01, 2.00000000e+00],\n",
       "       [1.33000000e+02, 1.47000000e+02, 3.62111209e-01, 2.00000000e+00],\n",
       "       [1.52000000e+02, 2.47000000e+02, 3.63850153e-01, 2.00000000e+00],\n",
       "       [6.60000000e+01, 9.70000000e+01, 3.70907382e-01, 2.00000000e+00],\n",
       "       [2.48000000e+02, 3.02000000e+02, 3.75317949e-01, 3.00000000e+00],\n",
       "       [2.10000000e+02, 2.12000000e+02, 3.85561001e-01, 2.00000000e+00],\n",
       "       [2.26000000e+02, 2.41000000e+02, 3.88365964e-01, 2.00000000e+00],\n",
       "       [1.09000000e+02, 2.76000000e+02, 4.03544298e-01, 3.00000000e+00],\n",
       "       [1.03000000e+02, 2.78000000e+02, 4.11264798e-01, 3.00000000e+00],\n",
       "       [2.32000000e+02, 2.59000000e+02, 4.14666275e-01, 3.00000000e+00],\n",
       "       [2.20000000e+01, 2.77000000e+02, 4.17841481e-01, 3.00000000e+00],\n",
       "       [5.30000000e+01, 2.71000000e+02, 4.21118445e-01, 3.00000000e+00],\n",
       "       [4.30000000e+01, 9.50000000e+01, 4.24744790e-01, 2.00000000e+00],\n",
       "       [1.30000000e+01, 9.90000000e+01, 4.35553768e-01, 2.00000000e+00],\n",
       "       [1.00000000e+00, 1.80000000e+01, 4.48672229e-01, 2.00000000e+00],\n",
       "       [2.94000000e+02, 2.97000000e+02, 4.51938511e-01, 4.00000000e+00],\n",
       "       [2.17000000e+02, 2.84000000e+02, 4.52142276e-01, 3.00000000e+00],\n",
       "       [1.88000000e+02, 2.58000000e+02, 4.54891391e-01, 3.00000000e+00],\n",
       "       [6.00000000e+00, 1.70000000e+01, 4.56366460e-01, 2.00000000e+00],\n",
       "       [2.07000000e+02, 2.20000000e+02, 4.61546274e-01, 2.00000000e+00],\n",
       "       [1.06000000e+02, 2.55000000e+02, 4.65159688e-01, 3.00000000e+00],\n",
       "       [8.20000000e+01, 2.86000000e+02, 4.67147752e-01, 3.00000000e+00],\n",
       "       [2.06000000e+02, 2.35000000e+02, 4.67902921e-01, 2.00000000e+00],\n",
       "       [3.50000000e+01, 8.00000000e+01, 4.77887698e-01, 2.00000000e+00],\n",
       "       [2.90000000e+01, 9.60000000e+01, 4.81274783e-01, 2.00000000e+00],\n",
       "       [2.52000000e+02, 2.95000000e+02, 4.98565139e-01, 4.00000000e+00],\n",
       "       [4.50000000e+01, 3.12000000e+02, 5.20499786e-01, 3.00000000e+00],\n",
       "       [2.60000000e+01, 3.00000000e+01, 5.27515851e-01, 2.00000000e+00],\n",
       "       [1.00000000e+01, 2.85000000e+02, 5.39932062e-01, 3.00000000e+00],\n",
       "       [1.38000000e+02, 2.68000000e+02, 5.41931678e-01, 3.00000000e+00],\n",
       "       [1.99000000e+02, 3.11000000e+02, 5.43798473e-01, 3.00000000e+00],\n",
       "       [2.22000000e+02, 2.43000000e+02, 5.59041123e-01, 2.00000000e+00],\n",
       "       [2.66000000e+02, 3.22000000e+02, 5.61651930e-01, 4.00000000e+00],\n",
       "       [2.79000000e+02, 2.99000000e+02, 5.69880635e-01, 4.00000000e+00],\n",
       "       [1.17000000e+02, 1.22000000e+02, 5.71527231e-01, 2.00000000e+00],\n",
       "       [2.54000000e+02, 2.81000000e+02, 5.71794696e-01, 4.00000000e+00],\n",
       "       [1.90000000e+01, 3.20000000e+01, 5.76886342e-01, 2.00000000e+00],\n",
       "       [1.45000000e+02, 3.10000000e+02, 5.89199032e-01, 3.00000000e+00],\n",
       "       [3.00000000e+00, 5.90000000e+01, 5.96029845e-01, 2.00000000e+00],\n",
       "       [8.70000000e+01, 2.60000000e+02, 6.17043025e-01, 3.00000000e+00],\n",
       "       [1.07000000e+02, 1.12000000e+02, 6.17579624e-01, 2.00000000e+00],\n",
       "       [1.96000000e+02, 2.24000000e+02, 6.19342081e-01, 2.00000000e+00],\n",
       "       [1.50000000e+01, 7.90000000e+01, 6.27595422e-01, 2.00000000e+00],\n",
       "       [2.40000000e+01, 2.73000000e+02, 6.34598758e-01, 3.00000000e+00],\n",
       "       [2.46000000e+02, 3.06000000e+02, 6.49713201e-01, 4.00000000e+00],\n",
       "       [2.70000000e+02, 3.03000000e+02, 6.52161187e-01, 4.00000000e+00],\n",
       "       [1.79000000e+02, 1.89000000e+02, 6.59233523e-01, 2.00000000e+00],\n",
       "       [1.20000000e+02, 1.23000000e+02, 6.60169419e-01, 2.00000000e+00],\n",
       "       [2.88000000e+02, 3.07000000e+02, 6.77505061e-01, 4.00000000e+00],\n",
       "       [8.40000000e+01, 2.50000000e+02, 6.77783879e-01, 3.00000000e+00],\n",
       "       [2.45000000e+02, 3.32000000e+02, 6.88681132e-01, 4.00000000e+00],\n",
       "       [1.27000000e+02, 1.36000000e+02, 7.03011786e-01, 2.00000000e+00],\n",
       "       [4.60000000e+01, 3.37000000e+02, 7.07268634e-01, 4.00000000e+00],\n",
       "       [8.30000000e+01, 3.13000000e+02, 7.09061698e-01, 3.00000000e+00],\n",
       "       [1.60000000e+01, 2.74000000e+02, 7.15730010e-01, 3.00000000e+00],\n",
       "       [2.14000000e+02, 3.33000000e+02, 7.30362997e-01, 4.00000000e+00],\n",
       "       [1.73000000e+02, 2.30000000e+02, 7.56574816e-01, 2.00000000e+00],\n",
       "       [1.08000000e+02, 3.67000000e+02, 7.64870132e-01, 3.00000000e+00],\n",
       "       [2.72000000e+02, 3.16000000e+02, 7.65003193e-01, 4.00000000e+00],\n",
       "       [1.30000000e+02, 1.32000000e+02, 7.78733013e-01, 2.00000000e+00],\n",
       "       [2.00000000e+02, 2.25000000e+02, 7.86755449e-01, 2.00000000e+00],\n",
       "       [1.42000000e+02, 3.23000000e+02, 7.93961672e-01, 4.00000000e+00],\n",
       "       [8.90000000e+01, 2.57000000e+02, 8.00794370e-01, 3.00000000e+00],\n",
       "       [5.00000000e+01, 3.04000000e+02, 8.03013650e-01, 3.00000000e+00],\n",
       "       [4.00000000e+01, 5.70000000e+01, 8.18007810e-01, 2.00000000e+00],\n",
       "       [5.40000000e+01, 5.60000000e+01, 8.18550124e-01, 2.00000000e+00],\n",
       "       [2.93000000e+02, 3.34000000e+02, 8.43547499e-01, 4.00000000e+00],\n",
       "       [7.00000000e+01, 3.29000000e+02, 8.55920620e-01, 3.00000000e+00],\n",
       "       [6.70000000e+01, 2.96000000e+02, 8.58829299e-01, 3.00000000e+00],\n",
       "       [2.29000000e+02, 2.64000000e+02, 8.60753904e-01, 3.00000000e+00],\n",
       "       [1.43000000e+02, 3.45000000e+02, 8.68697278e-01, 4.00000000e+00],\n",
       "       [7.80000000e+01, 3.27000000e+02, 8.71222532e-01, 4.00000000e+00],\n",
       "       [3.18000000e+02, 3.62000000e+02, 8.85855008e-01, 4.00000000e+00],\n",
       "       [3.42000000e+02, 3.59000000e+02, 9.11997783e-01, 6.00000000e+00],\n",
       "       [1.82000000e+02, 2.89000000e+02, 9.13944149e-01, 3.00000000e+00],\n",
       "       [2.91000000e+02, 3.35000000e+02, 9.74880433e-01, 4.00000000e+00],\n",
       "       [5.50000000e+01, 3.81000000e+02, 9.77876611e-01, 3.00000000e+00],\n",
       "       [1.18000000e+02, 1.28000000e+02, 9.86786026e-01, 2.00000000e+00],\n",
       "       [2.83000000e+02, 3.30000000e+02, 9.92412793e-01, 4.00000000e+00],\n",
       "       [1.35000000e+02, 3.24000000e+02, 1.00724959e+00, 4.00000000e+00],\n",
       "       [4.40000000e+01, 3.40000000e+02, 1.01062589e+00, 3.00000000e+00],\n",
       "       [2.75000000e+02, 3.76000000e+02, 1.02353903e+00, 4.00000000e+00],\n",
       "       [1.63000000e+02, 3.71000000e+02, 1.02893167e+00, 5.00000000e+00],\n",
       "       [2.51000000e+02, 3.25000000e+02, 1.03029052e+00, 5.00000000e+00],\n",
       "       [1.16000000e+02, 3.63000000e+02, 1.04979237e+00, 3.00000000e+00],\n",
       "       [3.26000000e+02, 3.39000000e+02, 1.07284956e+00, 5.00000000e+00],\n",
       "       [7.30000000e+01, 3.78000000e+02, 1.08543455e+00, 4.00000000e+00],\n",
       "       [3.19000000e+02, 3.49000000e+02, 1.10710821e+00, 6.00000000e+00],\n",
       "       [2.90000000e+02, 3.47000000e+02, 1.10862759e+00, 4.00000000e+00],\n",
       "       [3.17000000e+02, 3.36000000e+02, 1.11486996e+00, 5.00000000e+00],\n",
       "       [3.08000000e+02, 3.51000000e+02, 1.11852375e+00, 7.00000000e+00],\n",
       "       [1.57000000e+02, 2.37000000e+02, 1.18568980e+00, 2.00000000e+00],\n",
       "       [1.46000000e+02, 3.53000000e+02, 1.18864541e+00, 4.00000000e+00],\n",
       "       [3.00000000e+02, 3.41000000e+02, 1.21303972e+00, 7.00000000e+00],\n",
       "       [3.01000000e+02, 3.70000000e+02, 1.22708682e+00, 6.00000000e+00],\n",
       "       [3.14000000e+02, 3.84000000e+02, 1.22791782e+00, 6.00000000e+00],\n",
       "       [2.67000000e+02, 3.15000000e+02, 1.23486954e+00, 5.00000000e+00],\n",
       "       [8.60000000e+01, 3.52000000e+02, 1.28211791e+00, 3.00000000e+00],\n",
       "       [1.53000000e+02, 3.72000000e+02, 1.32633513e+00, 3.00000000e+00],\n",
       "       [3.31000000e+02, 4.03000000e+02, 1.39137161e+00, 1.00000000e+01],\n",
       "       [2.63000000e+02, 3.21000000e+02, 1.40026353e+00, 4.00000000e+00],\n",
       "       [3.64000000e+02, 3.99000000e+02, 1.40096364e+00, 9.00000000e+00],\n",
       "       [3.05000000e+02, 3.56000000e+02, 1.46257268e+00, 4.00000000e+00],\n",
       "       [1.13000000e+02, 1.44000000e+02, 1.47773764e+00, 2.00000000e+00],\n",
       "       [7.60000000e+01, 3.43000000e+02, 1.47958468e+00, 3.00000000e+00],\n",
       "       [3.20000000e+02, 3.97000000e+02, 1.48634559e+00, 7.00000000e+00],\n",
       "       [3.61000000e+02, 3.91000000e+02, 1.49515587e+00, 8.00000000e+00],\n",
       "       [1.91000000e+02, 2.27000000e+02, 1.50698753e+00, 2.00000000e+00],\n",
       "       [3.60000000e+02, 4.04000000e+02, 1.55073632e+00, 8.00000000e+00],\n",
       "       [3.09000000e+02, 4.16000000e+02, 1.55669496e+00, 6.00000000e+00],\n",
       "       [3.65000000e+02, 3.80000000e+02, 1.56347185e+00, 5.00000000e+00],\n",
       "       [2.62000000e+02, 3.69000000e+02, 1.57919877e+00, 5.00000000e+00],\n",
       "       [1.15000000e+02, 3.75000000e+02, 1.62201137e+00, 3.00000000e+00],\n",
       "       [1.77000000e+02, 3.85000000e+02, 1.62764915e+00, 4.00000000e+00],\n",
       "       [3.95000000e+02, 4.08000000e+02, 1.63864786e+00, 8.00000000e+00],\n",
       "       [1.04000000e+02, 3.93000000e+02, 1.67396959e+00, 3.00000000e+00],\n",
       "       [3.38000000e+02, 3.74000000e+02, 1.74574778e+00, 6.00000000e+00],\n",
       "       [3.28000000e+02, 3.89000000e+02, 1.75766331e+00, 8.00000000e+00],\n",
       "       [3.66000000e+02, 4.09000000e+02, 1.77298411e+00, 1.10000000e+01],\n",
       "       [3.46000000e+02, 4.22000000e+02, 1.79535529e+00, 1.10000000e+01],\n",
       "       [1.14000000e+02, 4.18000000e+02, 1.97266411e+00, 5.00000000e+00],\n",
       "       [1.92000000e+02, 4.07000000e+02, 1.98914476e+00, 3.00000000e+00],\n",
       "       [4.00000000e+02, 4.05000000e+02, 1.99046170e+00, 8.00000000e+00],\n",
       "       [3.58000000e+02, 4.26000000e+02, 2.01587574e+00, 7.00000000e+00],\n",
       "       [3.82000000e+02, 3.92000000e+02, 2.01953966e+00, 7.00000000e+00],\n",
       "       [3.94000000e+02, 3.96000000e+02, 2.05029159e+00, 7.00000000e+00],\n",
       "       [3.50000000e+02, 3.86000000e+02, 2.06077310e+00, 6.00000000e+00],\n",
       "       [2.08000000e+02, 4.14000000e+02, 2.08669802e+00, 4.00000000e+00],\n",
       "       [3.55000000e+02, 4.01000000e+02, 2.10906899e+00, 8.00000000e+00],\n",
       "       [3.87000000e+02, 4.11000000e+02, 2.12154740e+00, 1.00000000e+01],\n",
       "       [3.77000000e+02, 4.31000000e+02, 2.15392670e+00, 7.00000000e+00],\n",
       "       [3.88000000e+02, 4.06000000e+02, 2.15680815e+00, 1.10000000e+01],\n",
       "       [3.54000000e+02, 3.79000000e+02, 2.19976792e+00, 5.00000000e+00],\n",
       "       [3.44000000e+02, 4.12000000e+02, 2.31540784e+00, 8.00000000e+00],\n",
       "       [1.11000000e+02, 3.73000000e+02, 2.33592185e+00, 4.00000000e+00],\n",
       "       [3.83000000e+02, 4.41000000e+02, 2.35452102e+00, 1.00000000e+01],\n",
       "       [3.48000000e+02, 3.90000000e+02, 2.48333460e+00, 7.00000000e+00],\n",
       "       [4.15000000e+02, 4.33000000e+02, 2.51906483e+00, 1.80000000e+01],\n",
       "       [4.13000000e+02, 4.27000000e+02, 2.62159078e+00, 8.00000000e+00],\n",
       "       [1.85000000e+02, 4.23000000e+02, 2.65892227e+00, 3.00000000e+00],\n",
       "       [2.92000000e+02, 4.17000000e+02, 2.69320845e+00, 1.20000000e+01],\n",
       "       [2.98000000e+02, 4.38000000e+02, 2.74639166e+00, 1.10000000e+01],\n",
       "       [1.05000000e+02, 4.19000000e+02, 2.96125046e+00, 3.00000000e+00],\n",
       "       [3.98000000e+02, 4.34000000e+02, 3.15483824e+00, 1.60000000e+01],\n",
       "       [4.28000000e+02, 4.46000000e+02, 3.34535677e+00, 1.00000000e+01],\n",
       "       [4.24000000e+02, 4.47000000e+02, 3.38746854e+00, 1.90000000e+01],\n",
       "       [1.21000000e+02, 1.48000000e+02, 3.39195828e+00, 2.00000000e+00],\n",
       "       [3.68000000e+02, 4.53000000e+02, 3.42109903e+00, 2.20000000e+01],\n",
       "       [4.32000000e+02, 4.37000000e+02, 3.55790890e+00, 9.00000000e+00],\n",
       "       [4.44000000e+02, 4.45000000e+02, 3.75669729e+00, 1.80000000e+01],\n",
       "       [1.26000000e+02, 4.50000000e+02, 3.88844616e+00, 5.00000000e+00],\n",
       "       [3.57000000e+02, 4.52000000e+02, 3.89332011e+00, 9.00000000e+00],\n",
       "       [1.40000000e+01, 4.40000000e+02, 4.06076563e+00, 8.00000000e+00],\n",
       "       [4.10000000e+02, 4.48000000e+02, 4.10797149e+00, 1.10000000e+01],\n",
       "       [4.42000000e+02, 4.60000000e+02, 4.14939295e+00, 1.60000000e+01],\n",
       "       [4.25000000e+02, 4.29000000e+02, 4.31098071e+00, 1.00000000e+01],\n",
       "       [1.20000000e+01, 4.51000000e+02, 4.34144434e+00, 1.10000000e+01],\n",
       "       [4.21000000e+02, 4.43000000e+02, 4.35355280e+00, 1.10000000e+01],\n",
       "       [4.30000000e+02, 4.36000000e+02, 4.54914187e+00, 1.30000000e+01],\n",
       "       [4.02000000e+02, 4.54000000e+02, 4.57501810e+00, 1.20000000e+01],\n",
       "       [4.49000000e+02, 4.63000000e+02, 4.82792999e+00, 3.00000000e+01],\n",
       "       [4.35000000e+02, 4.73000000e+02, 4.94677095e+00, 2.20000000e+01],\n",
       "       [4.39000000e+02, 4.69000000e+02, 4.95532372e+00, 1.80000000e+01],\n",
       "       [4.57000000e+02, 4.58000000e+02, 4.97141789e+00, 1.40000000e+01],\n",
       "       [4.55000000e+02, 4.61000000e+02, 5.21475873e+00, 2.20000000e+01],\n",
       "       [4.56000000e+02, 4.59000000e+02, 5.61940646e+00, 2.80000000e+01],\n",
       "       [4.65000000e+02, 4.72000000e+02, 7.55893935e+00, 2.90000000e+01],\n",
       "       [4.20000000e+02, 4.75000000e+02, 7.69505457e+00, 1.50000000e+01],\n",
       "       [4.62000000e+02, 4.70000000e+02, 7.86509905e+00, 1.80000000e+01],\n",
       "       [4.67000000e+02, 4.81000000e+02, 8.07271868e+00, 3.70000000e+01],\n",
       "       [4.68000000e+02, 4.78000000e+02, 8.91490408e+00, 2.60000000e+01],\n",
       "       [4.74000000e+02, 4.79000000e+02, 9.59840699e+00, 2.70000000e+01],\n",
       "       [4.76000000e+02, 4.83000000e+02, 1.01014298e+01, 4.50000000e+01],\n",
       "       [4.66000000e+02, 4.84000000e+02, 1.05058367e+01, 2.30000000e+01],\n",
       "       [4.64000000e+02, 4.80000000e+02, 1.05684359e+01, 3.10000000e+01],\n",
       "       [4.71000000e+02, 4.77000000e+02, 1.10239839e+01, 3.20000000e+01],\n",
       "       [4.85000000e+02, 4.90000000e+02, 1.44588649e+01, 6.80000000e+01],\n",
       "       [4.82000000e+02, 4.86000000e+02, 1.61451088e+01, 5.50000000e+01],\n",
       "       [4.87000000e+02, 4.89000000e+02, 1.95655103e+01, 5.00000000e+01],\n",
       "       [4.88000000e+02, 4.93000000e+02, 2.04737980e+01, 1.00000000e+02],\n",
       "       [4.91000000e+02, 4.92000000e+02, 2.35889286e+01, 1.00000000e+02],\n",
       "       [4.94000000e+02, 4.96000000e+02, 8.10668289e+01, 1.50000000e+02],\n",
       "       [4.95000000e+02, 4.97000000e+02, 2.24632257e+02, 2.50000000e+02]])"
      ]
     },
     "execution_count": 125,
     "metadata": {},
     "output_type": "execute_result"
    }
   ],
   "source": [
    "shc.linkage(combine_df.values, method='ward',metric='euclidean')"
   ]
  },
  {
   "cell_type": "markdown",
   "metadata": {},
   "source": [
    "Use ward as linkage metric and distance as Eucledian"
   ]
  },
  {
   "cell_type": "markdown",
   "metadata": {},
   "source": [
    "### 12. Plot the dendrogram for the consolidated dataframe"
   ]
  },
  {
   "cell_type": "code",
   "execution_count": 127,
   "metadata": {},
   "outputs": [
    {
     "data": {
      "image/png": "[encoded data removed]",
      "text/plain": [
       "<Figure size 720x504 with 1 Axes>"
      ]
     },
     "metadata": {
      "needs_background": "light"
     },
     "output_type": "display_data"
    }
   ],
   "source": [
    "plt.figure(figsize=(10,7))\n",
    "plt.title('Dendogram')\n",
    "dend = shc.dendrogram(shc.linkage(combine_df.values, method='ward',metric='euclidean'))"
   ]
  },
  {
   "cell_type": "markdown",
   "metadata": {},
   "source": [
    "### 13. Recreate the dendrogram for last 12 merged clusters "
   ]
  },
  {
   "cell_type": "code",
   "execution_count": 128,
   "metadata": {},
   "outputs": [
    {
     "data": {
      "image/png": "[encoded data removed]",
      "text/plain": [
       "<Figure size 720x504 with 1 Axes>"
      ]
     },
     "metadata": {
      "needs_background": "light"
     },
     "output_type": "display_data"
    }
   ],
   "source": [
    "plt.figure(figsize=(10,7))\n",
    "plt.title('Dendogram')\n",
    "dend = shc.dendrogram(shc.linkage(combine_df.values, method='ward',metric='euclidean'),truncate_mode='lastp',p=12)"
   ]
  },
  {
   "cell_type": "markdown",
   "metadata": {},
   "source": [
    "Hint: Use truncate_mode='lastp' attribute in dendrogram function to arrive at dendrogram "
   ]
  },
  {
   "cell_type": "markdown",
   "metadata": {},
   "source": [
    "### 14. Using this distance measure and AgglomerativeClustering() function to cluster the data into 3 different groups"
   ]
  },
  {
   "cell_type": "code",
   "execution_count": 129,
   "metadata": {},
   "outputs": [],
   "source": [
    "from sklearn.cluster import AgglomerativeClustering"
   ]
  },
  {
   "cell_type": "code",
   "execution_count": 130,
   "metadata": {},
   "outputs": [],
   "source": [
    "ac = AgglomerativeClustering(n_clusters=3)"
   ]
  },
  {
   "cell_type": "code",
   "execution_count": 132,
   "metadata": {},
   "outputs": [],
   "source": [
    "combine_df['Cluster_3'] = ac.fit_predict(combine_df.values)"
   ]
  },
  {
   "cell_type": "code",
   "execution_count": 134,
   "metadata": {},
   "outputs": [
    {
     "data": {
      "text/plain": [
       "array([1, 2, 0], dtype=int64)"
      ]
     },
     "execution_count": 134,
     "metadata": {},
     "output_type": "execute_result"
    }
   ],
   "source": [
    "combine_df.Cluster_3.unique()"
   ]
  },
  {
   "cell_type": "code",
   "execution_count": 135,
   "metadata": {},
   "outputs": [
    {
     "data": {
      "text/html": [
       "<div>\n",
       "<style scoped>\n",
       "    .dataframe tbody tr th:only-of-type {\n",
       "        vertical-align: middle;\n",
       "    }\n",
       "\n",
       "    .dataframe tbody tr th {\n",
       "        vertical-align: top;\n",
       "    }\n",
       "\n",
       "    .dataframe thead th {\n",
       "        text-align: right;\n",
       "    }\n",
       "</style>\n",
       "<table border=\"1\" class=\"dataframe\">\n",
       "  <thead>\n",
       "    <tr style=\"text-align: right;\">\n",
       "      <th></th>\n",
       "      <th>0</th>\n",
       "      <th>1</th>\n",
       "      <th>Cluster_3</th>\n",
       "    </tr>\n",
       "  </thead>\n",
       "  <tbody>\n",
       "    <tr>\n",
       "      <th>1</th>\n",
       "      <td>9.990457</td>\n",
       "      <td>20.829815</td>\n",
       "      <td>0</td>\n",
       "    </tr>\n",
       "    <tr>\n",
       "      <th>51</th>\n",
       "      <td>12.421241</td>\n",
       "      <td>-1.573835</td>\n",
       "      <td>1</td>\n",
       "    </tr>\n",
       "    <tr>\n",
       "      <th>18</th>\n",
       "      <td>1.335150</td>\n",
       "      <td>17.701331</td>\n",
       "      <td>2</td>\n",
       "    </tr>\n",
       "    <tr>\n",
       "      <th>95</th>\n",
       "      <td>10.727754</td>\n",
       "      <td>21.676053</td>\n",
       "      <td>0</td>\n",
       "    </tr>\n",
       "    <tr>\n",
       "      <th>13</th>\n",
       "      <td>-1.887345</td>\n",
       "      <td>24.368943</td>\n",
       "      <td>2</td>\n",
       "    </tr>\n",
       "    <tr>\n",
       "      <th>59</th>\n",
       "      <td>13.608445</td>\n",
       "      <td>-0.589355</td>\n",
       "      <td>1</td>\n",
       "    </tr>\n",
       "    <tr>\n",
       "      <th>74</th>\n",
       "      <td>11.180997</td>\n",
       "      <td>0.432610</td>\n",
       "      <td>1</td>\n",
       "    </tr>\n",
       "    <tr>\n",
       "      <th>40</th>\n",
       "      <td>0.650081</td>\n",
       "      <td>20.715285</td>\n",
       "      <td>2</td>\n",
       "    </tr>\n",
       "    <tr>\n",
       "      <th>65</th>\n",
       "      <td>10.043529</td>\n",
       "      <td>-0.744176</td>\n",
       "      <td>1</td>\n",
       "    </tr>\n",
       "    <tr>\n",
       "      <th>99</th>\n",
       "      <td>8.496471</td>\n",
       "      <td>1.689564</td>\n",
       "      <td>1</td>\n",
       "    </tr>\n",
       "  </tbody>\n",
       "</table>\n",
       "</div>"
      ],
      "text/plain": [
       "            0          1  Cluster_3\n",
       "1    9.990457  20.829815          0\n",
       "51  12.421241  -1.573835          1\n",
       "18   1.335150  17.701331          2\n",
       "95  10.727754  21.676053          0\n",
       "13  -1.887345  24.368943          2\n",
       "59  13.608445  -0.589355          1\n",
       "74  11.180997   0.432610          1\n",
       "40   0.650081  20.715285          2\n",
       "65  10.043529  -0.744176          1\n",
       "99   8.496471   1.689564          1"
      ]
     },
     "execution_count": 135,
     "metadata": {},
     "output_type": "execute_result"
    }
   ],
   "source": [
    "combine_df.sample(10)"
   ]
  },
  {
   "cell_type": "markdown",
   "metadata": {},
   "source": [
    "### 15. Use matplotlib to visually observe the clusters in 2D space "
   ]
  },
  {
   "cell_type": "code",
   "execution_count": 152,
   "metadata": {},
   "outputs": [
    {
     "data": {
      "text/plain": [
       "<matplotlib.collections.PathCollection at 0x2ab0f50ab38>"
      ]
     },
     "execution_count": 152,
     "metadata": {},
     "output_type": "execute_result"
    },
    {
     "data": {
      "image/png": "[encoded data removed]",
      "text/plain": [
       "<Figure size 432x288 with 1 Axes>"
      ]
     },
     "metadata": {
      "needs_background": "light"
     },
     "output_type": "display_data"
    }
   ],
   "source": [
    "plt.figure()\n",
    "plt.scatter(x=combine_df[0],y=combine_df[1],c=combine_df['Cluster_3'])"
   ]
  },
  {
   "cell_type": "code",
   "execution_count": null,
   "metadata": {},
   "outputs": [],
   "source": []
  }
 ],
 "metadata": {
  "kernelspec": {
   "display_name": "Python 3",
   "language": "python",
   "name": "python3"
  },
  "language_info": {
   "codemirror_mode": {
    "name": "ipython",
    "version": 3
   },
   "file_extension": ".py",
   "mimetype": "text/x-python",
   "name": "python",
   "nbconvert_exporter": "python",
   "pygments_lexer": "ipython3",
   "version": "3.7.3"
  }
 },
 "nbformat": 4,
 "nbformat_minor": 2
}
