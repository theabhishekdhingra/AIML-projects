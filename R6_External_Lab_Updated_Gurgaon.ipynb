{
  "nbformat": 4,
  "nbformat_minor": 0,
  "metadata": {
    "colab": {
      "name": "R6_External_Lab_Updated_Gurgaon.ipynb",
      "provenance": [],
      "collapsed_sections": []
    },
    "kernelspec": {
      "name": "python3",
      "display_name": "Python 3"
    }
  },
  "cells": [
    {
      "cell_type": "markdown",
      "metadata": {
        "colab_type": "text",
        "id": "84Q8JfvaeZZ6"
      },
      "source": [
        "## Linear Classifier in TensorFlow \n",
        "Using Low Level API in Eager Execution mode"
      ]
    },
    {
      "cell_type": "code",
      "metadata": {
        "id": "UPoSl0GXQDLB",
        "colab_type": "code",
        "colab": {}
      },
      "source": [
        "%tensorflow_version 2.x"
      ],
      "execution_count": 0,
      "outputs": []
    },
    {
      "cell_type": "markdown",
      "metadata": {
        "colab_type": "text",
        "id": "sb7Epo0VOB58"
      },
      "source": [
        "### Load tensorflow"
      ]
    },
    {
      "cell_type": "code",
      "metadata": {
        "colab_type": "code",
        "id": "fHpCNRv1OB5-",
        "colab": {}
      },
      "source": [
        "import tensorflow as tf"
      ],
      "execution_count": 0,
      "outputs": []
    },
    {
      "cell_type": "code",
      "metadata": {
        "colab_type": "code",
        "id": "Mjtb-EMcm5K0",
        "colab": {}
      },
      "source": [
        "#Enable Eager Execution if using tensflow version < 2.0\n",
        "#From tensorflow v2.0 onwards, Eager Execution will be enabled by default\n"
      ],
      "execution_count": 0,
      "outputs": []
    },
    {
      "cell_type": "markdown",
      "metadata": {
        "colab_type": "text",
        "id": "DxJDmJqqOB6K"
      },
      "source": [
        "### Collect Data"
      ]
    },
    {
      "cell_type": "code",
      "metadata": {
        "colab_type": "code",
        "id": "FhllFLyKOB6N",
        "outputId": "9a200018-66d4-476b-dc11-201b94429d8b",
        "colab": {
          "base_uri": "https://localhost:8080/",
          "height": 36
        }
      },
      "source": [
        "from google.colab import drive\n",
        "drive.mount('/content/gdrive')"
      ],
      "execution_count": 363,
      "outputs": [
        {
          "output_type": "stream",
          "text": [
            "Drive already mounted at /content/gdrive; to attempt to forcibly remount, call drive.mount(\"/content/gdrive\", force_remount=True).\n"
          ],
          "name": "stdout"
        }
      ]
    },
    {
      "cell_type": "code",
      "metadata": {
        "colab_type": "code",
        "id": "KiObW4V4SIOz",
        "colab": {}
      },
      "source": [
        "import pandas as pd\n",
        "import numpy as np"
      ],
      "execution_count": 0,
      "outputs": []
    },
    {
      "cell_type": "code",
      "metadata": {
        "id": "DvY91aXhUov0",
        "colab_type": "code",
        "colab": {}
      },
      "source": [
        "Iris_df = pd.read_csv( '/content/gdrive/My Drive/Classnotes/Iris.csv' )"
      ],
      "execution_count": 0,
      "outputs": []
    },
    {
      "cell_type": "code",
      "metadata": {
        "id": "XBEC7RZwWkzs",
        "colab_type": "code",
        "colab": {}
      },
      "source": [
        "prices_df = pd.read_csv( '/content/gdrive/My Drive/Classnotes/inClassMaterial/neuralnetwork/prices.csv' )"
      ],
      "execution_count": 0,
      "outputs": []
    },
    {
      "cell_type": "markdown",
      "metadata": {
        "colab_type": "text",
        "id": "fgkX6SEqOB6W"
      },
      "source": [
        "### Check all columns in the dataset"
      ]
    },
    {
      "cell_type": "code",
      "metadata": {
        "colab_type": "code",
        "id": "7K8pWsNQOB6X",
        "outputId": "4683d239-b715-4377-db69-202572560303",
        "colab": {
          "base_uri": "https://localhost:8080/",
          "height": 73
        }
      },
      "source": [
        "Iris_df.columns"
      ],
      "execution_count": 367,
      "outputs": [
        {
          "output_type": "execute_result",
          "data": {
            "text/plain": [
              "Index(['Sepal Length (in cm)', 'Sepal Width in (cm)', 'Petal length (in cm)',\n",
              "       'Petal width (in cm)', 'Class'],\n",
              "      dtype='object')"
            ]
          },
          "metadata": {
            "tags": []
          },
          "execution_count": 367
        }
      ]
    },
    {
      "cell_type": "code",
      "metadata": {
        "id": "n5tZMqMweYrv",
        "colab_type": "code",
        "outputId": "7102aeda-d47c-4f3c-e7fd-8b51c9cac02b",
        "colab": {
          "base_uri": "https://localhost:8080/",
          "height": 36
        }
      },
      "source": [
        "prices_df.columns"
      ],
      "execution_count": 368,
      "outputs": [
        {
          "output_type": "execute_result",
          "data": {
            "text/plain": [
              "Index(['date', 'symbol', 'open', 'close', 'low', 'high', 'volume'], dtype='object')"
            ]
          },
          "metadata": {
            "tags": []
          },
          "execution_count": 368
        }
      ]
    },
    {
      "cell_type": "code",
      "metadata": {
        "id": "0UuzRieNXYjh",
        "colab_type": "code",
        "outputId": "c252738c-303c-4280-c075-dbaf5bfad893",
        "colab": {
          "base_uri": "https://localhost:8080/",
          "height": 206
        }
      },
      "source": [
        "Iris_df.head()"
      ],
      "execution_count": 369,
      "outputs": [
        {
          "output_type": "execute_result",
          "data": {
            "text/html": [
              "<div>\n",
              "<style scoped>\n",
              "    .dataframe tbody tr th:only-of-type {\n",
              "        vertical-align: middle;\n",
              "    }\n",
              "\n",
              "    .dataframe tbody tr th {\n",
              "        vertical-align: top;\n",
              "    }\n",
              "\n",
              "    .dataframe thead th {\n",
              "        text-align: right;\n",
              "    }\n",
              "</style>\n",
              "<table border=\"1\" class=\"dataframe\">\n",
              "  <thead>\n",
              "    <tr style=\"text-align: right;\">\n",
              "      <th></th>\n",
              "      <th>Sepal Length (in cm)</th>\n",
              "      <th>Sepal Width in (cm)</th>\n",
              "      <th>Petal length (in cm)</th>\n",
              "      <th>Petal width (in cm)</th>\n",
              "      <th>Class</th>\n",
              "    </tr>\n",
              "  </thead>\n",
              "  <tbody>\n",
              "    <tr>\n",
              "      <th>0</th>\n",
              "      <td>5.1</td>\n",
              "      <td>3.5</td>\n",
              "      <td>1.4</td>\n",
              "      <td>0.2</td>\n",
              "      <td>Iris-setosa</td>\n",
              "    </tr>\n",
              "    <tr>\n",
              "      <th>1</th>\n",
              "      <td>4.9</td>\n",
              "      <td>3.0</td>\n",
              "      <td>1.4</td>\n",
              "      <td>0.2</td>\n",
              "      <td>Iris-setosa</td>\n",
              "    </tr>\n",
              "    <tr>\n",
              "      <th>2</th>\n",
              "      <td>4.7</td>\n",
              "      <td>3.2</td>\n",
              "      <td>1.3</td>\n",
              "      <td>0.2</td>\n",
              "      <td>Iris-setosa</td>\n",
              "    </tr>\n",
              "    <tr>\n",
              "      <th>3</th>\n",
              "      <td>4.6</td>\n",
              "      <td>3.1</td>\n",
              "      <td>1.5</td>\n",
              "      <td>0.2</td>\n",
              "      <td>Iris-setosa</td>\n",
              "    </tr>\n",
              "    <tr>\n",
              "      <th>4</th>\n",
              "      <td>5.0</td>\n",
              "      <td>3.6</td>\n",
              "      <td>1.4</td>\n",
              "      <td>0.2</td>\n",
              "      <td>Iris-setosa</td>\n",
              "    </tr>\n",
              "  </tbody>\n",
              "</table>\n",
              "</div>"
            ],
            "text/plain": [
              "   Sepal Length (in cm)  Sepal Width in (cm)  ...  Petal width (in cm)        Class\n",
              "0                   5.1                  3.5  ...                  0.2  Iris-setosa\n",
              "1                   4.9                  3.0  ...                  0.2  Iris-setosa\n",
              "2                   4.7                  3.2  ...                  0.2  Iris-setosa\n",
              "3                   4.6                  3.1  ...                  0.2  Iris-setosa\n",
              "4                   5.0                  3.6  ...                  0.2  Iris-setosa\n",
              "\n",
              "[5 rows x 5 columns]"
            ]
          },
          "metadata": {
            "tags": []
          },
          "execution_count": 369
        }
      ]
    },
    {
      "cell_type": "code",
      "metadata": {
        "id": "CcZkVoiNYOJK",
        "colab_type": "code",
        "outputId": "ecff0be0-13f5-47f6-bcf4-add1daa66ec4",
        "colab": {
          "base_uri": "https://localhost:8080/",
          "height": 206
        }
      },
      "source": [
        "prices_df.head()"
      ],
      "execution_count": 370,
      "outputs": [
        {
          "output_type": "execute_result",
          "data": {
            "text/html": [
              "<div>\n",
              "<style scoped>\n",
              "    .dataframe tbody tr th:only-of-type {\n",
              "        vertical-align: middle;\n",
              "    }\n",
              "\n",
              "    .dataframe tbody tr th {\n",
              "        vertical-align: top;\n",
              "    }\n",
              "\n",
              "    .dataframe thead th {\n",
              "        text-align: right;\n",
              "    }\n",
              "</style>\n",
              "<table border=\"1\" class=\"dataframe\">\n",
              "  <thead>\n",
              "    <tr style=\"text-align: right;\">\n",
              "      <th></th>\n",
              "      <th>date</th>\n",
              "      <th>symbol</th>\n",
              "      <th>open</th>\n",
              "      <th>close</th>\n",
              "      <th>low</th>\n",
              "      <th>high</th>\n",
              "      <th>volume</th>\n",
              "    </tr>\n",
              "  </thead>\n",
              "  <tbody>\n",
              "    <tr>\n",
              "      <th>0</th>\n",
              "      <td>2016-01-05 00:00:00</td>\n",
              "      <td>WLTW</td>\n",
              "      <td>123.430000</td>\n",
              "      <td>125.839996</td>\n",
              "      <td>122.309998</td>\n",
              "      <td>126.250000</td>\n",
              "      <td>2163600.0</td>\n",
              "    </tr>\n",
              "    <tr>\n",
              "      <th>1</th>\n",
              "      <td>2016-01-06 00:00:00</td>\n",
              "      <td>WLTW</td>\n",
              "      <td>125.239998</td>\n",
              "      <td>119.980003</td>\n",
              "      <td>119.940002</td>\n",
              "      <td>125.540001</td>\n",
              "      <td>2386400.0</td>\n",
              "    </tr>\n",
              "    <tr>\n",
              "      <th>2</th>\n",
              "      <td>2016-01-07 00:00:00</td>\n",
              "      <td>WLTW</td>\n",
              "      <td>116.379997</td>\n",
              "      <td>114.949997</td>\n",
              "      <td>114.930000</td>\n",
              "      <td>119.739998</td>\n",
              "      <td>2489500.0</td>\n",
              "    </tr>\n",
              "    <tr>\n",
              "      <th>3</th>\n",
              "      <td>2016-01-08 00:00:00</td>\n",
              "      <td>WLTW</td>\n",
              "      <td>115.480003</td>\n",
              "      <td>116.620003</td>\n",
              "      <td>113.500000</td>\n",
              "      <td>117.440002</td>\n",
              "      <td>2006300.0</td>\n",
              "    </tr>\n",
              "    <tr>\n",
              "      <th>4</th>\n",
              "      <td>2016-01-11 00:00:00</td>\n",
              "      <td>WLTW</td>\n",
              "      <td>117.010002</td>\n",
              "      <td>114.970001</td>\n",
              "      <td>114.089996</td>\n",
              "      <td>117.330002</td>\n",
              "      <td>1408600.0</td>\n",
              "    </tr>\n",
              "  </tbody>\n",
              "</table>\n",
              "</div>"
            ],
            "text/plain": [
              "                  date symbol        open  ...         low        high     volume\n",
              "0  2016-01-05 00:00:00   WLTW  123.430000  ...  122.309998  126.250000  2163600.0\n",
              "1  2016-01-06 00:00:00   WLTW  125.239998  ...  119.940002  125.540001  2386400.0\n",
              "2  2016-01-07 00:00:00   WLTW  116.379997  ...  114.930000  119.739998  2489500.0\n",
              "3  2016-01-08 00:00:00   WLTW  115.480003  ...  113.500000  117.440002  2006300.0\n",
              "4  2016-01-11 00:00:00   WLTW  117.010002  ...  114.089996  117.330002  1408600.0\n",
              "\n",
              "[5 rows x 7 columns]"
            ]
          },
          "metadata": {
            "tags": []
          },
          "execution_count": 370
        }
      ]
    },
    {
      "cell_type": "markdown",
      "metadata": {
        "colab_type": "text",
        "id": "7dU6X7MpOB6c"
      },
      "source": [
        "### Drop columns `date` and  `symbol`"
      ]
    },
    {
      "cell_type": "code",
      "metadata": {
        "colab_type": "code",
        "id": "lh_6spSKOB6e",
        "colab": {}
      },
      "source": [
        "prices_x = prices_df.drop(['date','symbol'],axis=1)"
      ],
      "execution_count": 0,
      "outputs": []
    },
    {
      "cell_type": "code",
      "metadata": {
        "colab_type": "code",
        "id": "xlwbUgTwOB6i",
        "outputId": "1b28265c-3db2-4520-8301-5301b0347776",
        "colab": {
          "base_uri": "https://localhost:8080/",
          "height": 206
        }
      },
      "source": [
        "prices_x.head()"
      ],
      "execution_count": 372,
      "outputs": [
        {
          "output_type": "execute_result",
          "data": {
            "text/html": [
              "<div>\n",
              "<style scoped>\n",
              "    .dataframe tbody tr th:only-of-type {\n",
              "        vertical-align: middle;\n",
              "    }\n",
              "\n",
              "    .dataframe tbody tr th {\n",
              "        vertical-align: top;\n",
              "    }\n",
              "\n",
              "    .dataframe thead th {\n",
              "        text-align: right;\n",
              "    }\n",
              "</style>\n",
              "<table border=\"1\" class=\"dataframe\">\n",
              "  <thead>\n",
              "    <tr style=\"text-align: right;\">\n",
              "      <th></th>\n",
              "      <th>open</th>\n",
              "      <th>close</th>\n",
              "      <th>low</th>\n",
              "      <th>high</th>\n",
              "      <th>volume</th>\n",
              "    </tr>\n",
              "  </thead>\n",
              "  <tbody>\n",
              "    <tr>\n",
              "      <th>0</th>\n",
              "      <td>123.430000</td>\n",
              "      <td>125.839996</td>\n",
              "      <td>122.309998</td>\n",
              "      <td>126.250000</td>\n",
              "      <td>2163600.0</td>\n",
              "    </tr>\n",
              "    <tr>\n",
              "      <th>1</th>\n",
              "      <td>125.239998</td>\n",
              "      <td>119.980003</td>\n",
              "      <td>119.940002</td>\n",
              "      <td>125.540001</td>\n",
              "      <td>2386400.0</td>\n",
              "    </tr>\n",
              "    <tr>\n",
              "      <th>2</th>\n",
              "      <td>116.379997</td>\n",
              "      <td>114.949997</td>\n",
              "      <td>114.930000</td>\n",
              "      <td>119.739998</td>\n",
              "      <td>2489500.0</td>\n",
              "    </tr>\n",
              "    <tr>\n",
              "      <th>3</th>\n",
              "      <td>115.480003</td>\n",
              "      <td>116.620003</td>\n",
              "      <td>113.500000</td>\n",
              "      <td>117.440002</td>\n",
              "      <td>2006300.0</td>\n",
              "    </tr>\n",
              "    <tr>\n",
              "      <th>4</th>\n",
              "      <td>117.010002</td>\n",
              "      <td>114.970001</td>\n",
              "      <td>114.089996</td>\n",
              "      <td>117.330002</td>\n",
              "      <td>1408600.0</td>\n",
              "    </tr>\n",
              "  </tbody>\n",
              "</table>\n",
              "</div>"
            ],
            "text/plain": [
              "         open       close         low        high     volume\n",
              "0  123.430000  125.839996  122.309998  126.250000  2163600.0\n",
              "1  125.239998  119.980003  119.940002  125.540001  2386400.0\n",
              "2  116.379997  114.949997  114.930000  119.739998  2489500.0\n",
              "3  115.480003  116.620003  113.500000  117.440002  2006300.0\n",
              "4  117.010002  114.970001  114.089996  117.330002  1408600.0"
            ]
          },
          "metadata": {
            "tags": []
          },
          "execution_count": 372
        }
      ]
    },
    {
      "cell_type": "markdown",
      "metadata": {
        "colab_type": "text",
        "id": "3DBv3WWYOB6q"
      },
      "source": [
        "### Consider only first 1000 rows in the dataset for building feature set and target set\n",
        "Target 'Volume' has very high values. Divide 'Volume' by 1000,000"
      ]
    },
    {
      "cell_type": "code",
      "metadata": {
        "id": "GQWhkynqlJ-W",
        "colab_type": "code",
        "colab": {}
      },
      "source": [
        "X = prices_x.iloc[0:1000,]"
      ],
      "execution_count": 0,
      "outputs": []
    },
    {
      "cell_type": "code",
      "metadata": {
        "id": "2DKybrWPlZod",
        "colab_type": "code",
        "outputId": "d9d0b4df-3d91-4a2e-cf76-cb51d0c77cc5",
        "colab": {
          "base_uri": "https://localhost:8080/",
          "height": 36
        }
      },
      "source": [
        "X.shape"
      ],
      "execution_count": 374,
      "outputs": [
        {
          "output_type": "execute_result",
          "data": {
            "text/plain": [
              "(1000, 5)"
            ]
          },
          "metadata": {
            "tags": []
          },
          "execution_count": 374
        }
      ]
    },
    {
      "cell_type": "code",
      "metadata": {
        "id": "jzdcJzW6m_TM",
        "colab_type": "code",
        "outputId": "ed7ed66b-8933-4452-9d6f-3d78624d37c1",
        "colab": {
          "base_uri": "https://localhost:8080/",
          "height": 149
        }
      },
      "source": [
        "X['volume_in_mn'] = (X['volume']/1000000)"
      ],
      "execution_count": 375,
      "outputs": [
        {
          "output_type": "stream",
          "text": [
            "/usr/local/lib/python3.6/dist-packages/ipykernel_launcher.py:1: SettingWithCopyWarning: \n",
            "A value is trying to be set on a copy of a slice from a DataFrame.\n",
            "Try using .loc[row_indexer,col_indexer] = value instead\n",
            "\n",
            "See the caveats in the documentation: http://pandas.pydata.org/pandas-docs/stable/user_guide/indexing.html#returning-a-view-versus-a-copy\n",
            "  \"\"\"Entry point for launching an IPython kernel.\n"
          ],
          "name": "stderr"
        }
      ]
    },
    {
      "cell_type": "code",
      "metadata": {
        "id": "ZgzDPCVhnRvq",
        "colab_type": "code",
        "outputId": "1c34472a-df4b-40f9-e42f-b7185354fb8f",
        "colab": {
          "base_uri": "https://localhost:8080/",
          "height": 206
        }
      },
      "source": [
        "X.head()"
      ],
      "execution_count": 376,
      "outputs": [
        {
          "output_type": "execute_result",
          "data": {
            "text/html": [
              "<div>\n",
              "<style scoped>\n",
              "    .dataframe tbody tr th:only-of-type {\n",
              "        vertical-align: middle;\n",
              "    }\n",
              "\n",
              "    .dataframe tbody tr th {\n",
              "        vertical-align: top;\n",
              "    }\n",
              "\n",
              "    .dataframe thead th {\n",
              "        text-align: right;\n",
              "    }\n",
              "</style>\n",
              "<table border=\"1\" class=\"dataframe\">\n",
              "  <thead>\n",
              "    <tr style=\"text-align: right;\">\n",
              "      <th></th>\n",
              "      <th>open</th>\n",
              "      <th>close</th>\n",
              "      <th>low</th>\n",
              "      <th>high</th>\n",
              "      <th>volume</th>\n",
              "      <th>volume_in_mn</th>\n",
              "    </tr>\n",
              "  </thead>\n",
              "  <tbody>\n",
              "    <tr>\n",
              "      <th>0</th>\n",
              "      <td>123.430000</td>\n",
              "      <td>125.839996</td>\n",
              "      <td>122.309998</td>\n",
              "      <td>126.250000</td>\n",
              "      <td>2163600.0</td>\n",
              "      <td>2.1636</td>\n",
              "    </tr>\n",
              "    <tr>\n",
              "      <th>1</th>\n",
              "      <td>125.239998</td>\n",
              "      <td>119.980003</td>\n",
              "      <td>119.940002</td>\n",
              "      <td>125.540001</td>\n",
              "      <td>2386400.0</td>\n",
              "      <td>2.3864</td>\n",
              "    </tr>\n",
              "    <tr>\n",
              "      <th>2</th>\n",
              "      <td>116.379997</td>\n",
              "      <td>114.949997</td>\n",
              "      <td>114.930000</td>\n",
              "      <td>119.739998</td>\n",
              "      <td>2489500.0</td>\n",
              "      <td>2.4895</td>\n",
              "    </tr>\n",
              "    <tr>\n",
              "      <th>3</th>\n",
              "      <td>115.480003</td>\n",
              "      <td>116.620003</td>\n",
              "      <td>113.500000</td>\n",
              "      <td>117.440002</td>\n",
              "      <td>2006300.0</td>\n",
              "      <td>2.0063</td>\n",
              "    </tr>\n",
              "    <tr>\n",
              "      <th>4</th>\n",
              "      <td>117.010002</td>\n",
              "      <td>114.970001</td>\n",
              "      <td>114.089996</td>\n",
              "      <td>117.330002</td>\n",
              "      <td>1408600.0</td>\n",
              "      <td>1.4086</td>\n",
              "    </tr>\n",
              "  </tbody>\n",
              "</table>\n",
              "</div>"
            ],
            "text/plain": [
              "         open       close         low        high     volume  volume_in_mn\n",
              "0  123.430000  125.839996  122.309998  126.250000  2163600.0        2.1636\n",
              "1  125.239998  119.980003  119.940002  125.540001  2386400.0        2.3864\n",
              "2  116.379997  114.949997  114.930000  119.739998  2489500.0        2.4895\n",
              "3  115.480003  116.620003  113.500000  117.440002  2006300.0        2.0063\n",
              "4  117.010002  114.970001  114.089996  117.330002  1408600.0        1.4086"
            ]
          },
          "metadata": {
            "tags": []
          },
          "execution_count": 376
        }
      ]
    },
    {
      "cell_type": "code",
      "metadata": {
        "id": "dXbqu5SWppZW",
        "colab_type": "code",
        "colab": {
          "base_uri": "https://localhost:8080/",
          "height": 131
        },
        "outputId": "42225889-da7a-492d-ab28-2e87b557c367"
      },
      "source": [
        "y=X['volume_in_mn']\n",
        "X.drop(['volume','volume_in_mn'],axis=1,inplace=True)"
      ],
      "execution_count": 377,
      "outputs": [
        {
          "output_type": "stream",
          "text": [
            "/usr/local/lib/python3.6/dist-packages/pandas/core/frame.py:4117: SettingWithCopyWarning: \n",
            "A value is trying to be set on a copy of a slice from a DataFrame\n",
            "\n",
            "See the caveats in the documentation: http://pandas.pydata.org/pandas-docs/stable/user_guide/indexing.html#returning-a-view-versus-a-copy\n",
            "  errors=errors,\n"
          ],
          "name": "stderr"
        }
      ]
    },
    {
      "cell_type": "code",
      "metadata": {
        "id": "rLTFoSJtp29u",
        "colab_type": "code",
        "outputId": "1c89e13b-f40a-4881-b1cb-cca99a231a53",
        "colab": {
          "base_uri": "https://localhost:8080/",
          "height": 206
        }
      },
      "source": [
        "X.head()"
      ],
      "execution_count": 378,
      "outputs": [
        {
          "output_type": "execute_result",
          "data": {
            "text/html": [
              "<div>\n",
              "<style scoped>\n",
              "    .dataframe tbody tr th:only-of-type {\n",
              "        vertical-align: middle;\n",
              "    }\n",
              "\n",
              "    .dataframe tbody tr th {\n",
              "        vertical-align: top;\n",
              "    }\n",
              "\n",
              "    .dataframe thead th {\n",
              "        text-align: right;\n",
              "    }\n",
              "</style>\n",
              "<table border=\"1\" class=\"dataframe\">\n",
              "  <thead>\n",
              "    <tr style=\"text-align: right;\">\n",
              "      <th></th>\n",
              "      <th>open</th>\n",
              "      <th>close</th>\n",
              "      <th>low</th>\n",
              "      <th>high</th>\n",
              "    </tr>\n",
              "  </thead>\n",
              "  <tbody>\n",
              "    <tr>\n",
              "      <th>0</th>\n",
              "      <td>123.430000</td>\n",
              "      <td>125.839996</td>\n",
              "      <td>122.309998</td>\n",
              "      <td>126.250000</td>\n",
              "    </tr>\n",
              "    <tr>\n",
              "      <th>1</th>\n",
              "      <td>125.239998</td>\n",
              "      <td>119.980003</td>\n",
              "      <td>119.940002</td>\n",
              "      <td>125.540001</td>\n",
              "    </tr>\n",
              "    <tr>\n",
              "      <th>2</th>\n",
              "      <td>116.379997</td>\n",
              "      <td>114.949997</td>\n",
              "      <td>114.930000</td>\n",
              "      <td>119.739998</td>\n",
              "    </tr>\n",
              "    <tr>\n",
              "      <th>3</th>\n",
              "      <td>115.480003</td>\n",
              "      <td>116.620003</td>\n",
              "      <td>113.500000</td>\n",
              "      <td>117.440002</td>\n",
              "    </tr>\n",
              "    <tr>\n",
              "      <th>4</th>\n",
              "      <td>117.010002</td>\n",
              "      <td>114.970001</td>\n",
              "      <td>114.089996</td>\n",
              "      <td>117.330002</td>\n",
              "    </tr>\n",
              "  </tbody>\n",
              "</table>\n",
              "</div>"
            ],
            "text/plain": [
              "         open       close         low        high\n",
              "0  123.430000  125.839996  122.309998  126.250000\n",
              "1  125.239998  119.980003  119.940002  125.540001\n",
              "2  116.379997  114.949997  114.930000  119.739998\n",
              "3  115.480003  116.620003  113.500000  117.440002\n",
              "4  117.010002  114.970001  114.089996  117.330002"
            ]
          },
          "metadata": {
            "tags": []
          },
          "execution_count": 378
        }
      ]
    },
    {
      "cell_type": "code",
      "metadata": {
        "id": "10vMrmQ6S_lw",
        "colab_type": "code",
        "colab": {}
      },
      "source": [
        "features=X.columns"
      ],
      "execution_count": 0,
      "outputs": []
    },
    {
      "cell_type": "code",
      "metadata": {
        "id": "Dm5TgjiXzp8C",
        "colab_type": "code",
        "outputId": "abbff1d2-431e-4dde-e634-e9805a6a61f6",
        "colab": {
          "base_uri": "https://localhost:8080/",
          "height": 185
        }
      },
      "source": [
        "X.info()"
      ],
      "execution_count": 380,
      "outputs": [
        {
          "output_type": "stream",
          "text": [
            "<class 'pandas.core.frame.DataFrame'>\n",
            "RangeIndex: 1000 entries, 0 to 999\n",
            "Data columns (total 4 columns):\n",
            "open     1000 non-null float64\n",
            "close    1000 non-null float64\n",
            "low      1000 non-null float64\n",
            "high     1000 non-null float64\n",
            "dtypes: float64(4)\n",
            "memory usage: 31.4 KB\n"
          ],
          "name": "stdout"
        }
      ]
    },
    {
      "cell_type": "code",
      "metadata": {
        "id": "gb6IpmLJzDIc",
        "colab_type": "code",
        "outputId": "03a7a4f1-f6e6-4284-99d1-46491f3a326e",
        "colab": {
          "base_uri": "https://localhost:8080/",
          "height": 129
        }
      },
      "source": [
        "y.head()"
      ],
      "execution_count": 381,
      "outputs": [
        {
          "output_type": "execute_result",
          "data": {
            "text/plain": [
              "0    2.1636\n",
              "1    2.3864\n",
              "2    2.4895\n",
              "3    2.0063\n",
              "4    1.4086\n",
              "Name: volume_in_mn, dtype: float64"
            ]
          },
          "metadata": {
            "tags": []
          },
          "execution_count": 381
        }
      ]
    },
    {
      "cell_type": "markdown",
      "metadata": {
        "colab_type": "text",
        "id": "M3UaApqYOB6x"
      },
      "source": [
        "### Divide the data into train and test sets"
      ]
    },
    {
      "cell_type": "code",
      "metadata": {
        "colab_type": "code",
        "id": "4LE4U8lTdQJq",
        "colab": {}
      },
      "source": [
        "from sklearn.model_selection import train_test_split"
      ],
      "execution_count": 0,
      "outputs": []
    },
    {
      "cell_type": "code",
      "metadata": {
        "id": "LzHrbOAJlkiq",
        "colab_type": "code",
        "colab": {}
      },
      "source": [
        "x_train,x_test,y_train,y_test = train_test_split(X,y,test_size=0.2)"
      ],
      "execution_count": 0,
      "outputs": []
    },
    {
      "cell_type": "markdown",
      "metadata": {
        "colab_type": "text",
        "id": "oYK-aUuLbrz2"
      },
      "source": [
        "#### Convert Training and Test Data to numpy float32 arrays\n"
      ]
    },
    {
      "cell_type": "code",
      "metadata": {
        "colab_type": "code",
        "id": "Ao-S0tQGcncz",
        "colab": {}
      },
      "source": [
        "x_train=x_train.astype('float32')"
      ],
      "execution_count": 0,
      "outputs": []
    },
    {
      "cell_type": "code",
      "metadata": {
        "id": "7Wx8Gsh-8ZPE",
        "colab_type": "code",
        "colab": {}
      },
      "source": [
        "x_test=x_test.astype('float32')"
      ],
      "execution_count": 0,
      "outputs": []
    },
    {
      "cell_type": "code",
      "metadata": {
        "id": "tN2M6HiP_M52",
        "colab_type": "code",
        "colab": {}
      },
      "source": [
        "y_train=y_train.astype('float32')"
      ],
      "execution_count": 0,
      "outputs": []
    },
    {
      "cell_type": "code",
      "metadata": {
        "id": "Yc1m939L_RYB",
        "colab_type": "code",
        "colab": {}
      },
      "source": [
        "y_test=y_test.astype('float32')"
      ],
      "execution_count": 0,
      "outputs": []
    },
    {
      "cell_type": "code",
      "metadata": {
        "id": "k1TkNNo_Iz2K",
        "colab_type": "code",
        "colab": {
          "base_uri": "https://localhost:8080/",
          "height": 36
        },
        "outputId": "593aac86-972d-4c95-fcb0-5ac079a24046"
      },
      "source": [
        "type(x_test)"
      ],
      "execution_count": 388,
      "outputs": [
        {
          "output_type": "execute_result",
          "data": {
            "text/plain": [
              "pandas.core.frame.DataFrame"
            ]
          },
          "metadata": {
            "tags": []
          },
          "execution_count": 388
        }
      ]
    },
    {
      "cell_type": "markdown",
      "metadata": {
        "colab_type": "text",
        "id": "im1ZegbDdKgv"
      },
      "source": [
        "### Normalize the data\n",
        "You can use Normalizer from sklearn.preprocessing"
      ]
    },
    {
      "cell_type": "code",
      "metadata": {
        "colab_type": "code",
        "id": "2EkKAy7fOB6y",
        "colab": {}
      },
      "source": [
        "from sklearn.preprocessing import StandardScaler"
      ],
      "execution_count": 0,
      "outputs": []
    },
    {
      "cell_type": "code",
      "metadata": {
        "id": "pLfe___dCJfm",
        "colab_type": "code",
        "colab": {}
      },
      "source": [
        "ss = StandardScaler()"
      ],
      "execution_count": 0,
      "outputs": []
    },
    {
      "cell_type": "code",
      "metadata": {
        "id": "GrL622fPCS7c",
        "colab_type": "code",
        "colab": {}
      },
      "source": [
        "x_scaled_train=ss.fit_transform(x_train)"
      ],
      "execution_count": 0,
      "outputs": []
    },
    {
      "cell_type": "code",
      "metadata": {
        "id": "vhxFcQCSJq9m",
        "colab_type": "code",
        "outputId": "b562a499-c257-457f-ad59-68d5a89d5744",
        "colab": {
          "base_uri": "https://localhost:8080/",
          "height": 167
        }
      },
      "source": [
        "x_scaled_train"
      ],
      "execution_count": 392,
      "outputs": [
        {
          "output_type": "execute_result",
          "data": {
            "text/plain": [
              "array([[-0.83798766, -0.83376074, -0.83608633, -0.8361765 ],\n",
              "       [-0.92453974, -0.92335117, -0.92182165, -0.92691714],\n",
              "       [-0.9309704 , -0.93117946, -0.9281334 , -0.93452203],\n",
              "       ...,\n",
              "       [ 0.22757484,  0.19870356,  0.20606217,  0.22626649],\n",
              "       [ 0.7969411 ,  0.74911946,  0.7548385 ,  0.7916238 ],\n",
              "       [-0.24255177, -0.24733487, -0.23628977, -0.24765883]],\n",
              "      dtype=float32)"
            ]
          },
          "metadata": {
            "tags": []
          },
          "execution_count": 392
        }
      ]
    },
    {
      "cell_type": "code",
      "metadata": {
        "id": "1reWWKTCKjCH",
        "colab_type": "code",
        "colab": {}
      },
      "source": [
        "#ytrain=ss.transform(x_scaled_train)\n",
        "x_scaled_test=ss.transform(x_test)"
      ],
      "execution_count": 0,
      "outputs": []
    },
    {
      "cell_type": "code",
      "metadata": {
        "id": "0IOXfu5BOHe5",
        "colab_type": "code",
        "colab": {}
      },
      "source": [
        "x_scaled_train=x_scaled_train.astype('float32')"
      ],
      "execution_count": 0,
      "outputs": []
    },
    {
      "cell_type": "code",
      "metadata": {
        "id": "ROa19G5POTBi",
        "colab_type": "code",
        "colab": {}
      },
      "source": [
        "x_scaled_test=x_scaled_test.astype('float32')"
      ],
      "execution_count": 0,
      "outputs": []
    },
    {
      "cell_type": "markdown",
      "metadata": {
        "colab_type": "text",
        "id": "v6vE4eYCOB62"
      },
      "source": [
        "## Building the Model in tensorflow"
      ]
    },
    {
      "cell_type": "markdown",
      "metadata": {
        "colab_type": "text",
        "id": "297_qja4OB7A"
      },
      "source": [
        "1.Define Weights and Bias, use tf.zeros to initialize weights and Bias"
      ]
    },
    {
      "cell_type": "code",
      "metadata": {
        "colab_type": "code",
        "id": "L205qPeQOB7B",
        "colab": {}
      },
      "source": [
        "w=tf.zeros(shape=(4,1))\n",
        "b=tf.zeros(shape=(1))"
      ],
      "execution_count": 0,
      "outputs": []
    },
    {
      "cell_type": "code",
      "metadata": {
        "id": "3gar_FaQMIYD",
        "colab_type": "code",
        "colab": {
          "base_uri": "https://localhost:8080/",
          "height": 36
        },
        "outputId": "ab307d2c-8bda-4f65-a7ba-b58d283360ef"
      },
      "source": [
        "w.dtype"
      ],
      "execution_count": 397,
      "outputs": [
        {
          "output_type": "execute_result",
          "data": {
            "text/plain": [
              "tf.float32"
            ]
          },
          "metadata": {
            "tags": []
          },
          "execution_count": 397
        }
      ]
    },
    {
      "cell_type": "code",
      "metadata": {
        "id": "mrB3PdXgl86A",
        "colab_type": "code",
        "colab": {
          "base_uri": "https://localhost:8080/",
          "height": 111
        },
        "outputId": "20db4ff1-c535-4ed2-94f9-14654e63abb4"
      },
      "source": [
        "w"
      ],
      "execution_count": 398,
      "outputs": [
        {
          "output_type": "execute_result",
          "data": {
            "text/plain": [
              "<tf.Tensor: shape=(4, 1), dtype=float32, numpy=\n",
              "array([[0.],\n",
              "       [0.],\n",
              "       [0.],\n",
              "       [0.]], dtype=float32)>"
            ]
          },
          "metadata": {
            "tags": []
          },
          "execution_count": 398
        }
      ]
    },
    {
      "cell_type": "code",
      "metadata": {
        "id": "8y8WZP6MmBYq",
        "colab_type": "code",
        "colab": {
          "base_uri": "https://localhost:8080/",
          "height": 36
        },
        "outputId": "9a54edb6-bb04-4d2a-f4a8-345c43ad40f7"
      },
      "source": [
        "b"
      ],
      "execution_count": 399,
      "outputs": [
        {
          "output_type": "execute_result",
          "data": {
            "text/plain": [
              "<tf.Tensor: shape=(1,), dtype=float32, numpy=array([0.], dtype=float32)>"
            ]
          },
          "metadata": {
            "tags": []
          },
          "execution_count": 399
        }
      ]
    },
    {
      "cell_type": "code",
      "metadata": {
        "id": "vjM0Y_OKltSq",
        "colab_type": "code",
        "colab": {}
      },
      "source": [
        ""
      ],
      "execution_count": 0,
      "outputs": []
    },
    {
      "cell_type": "markdown",
      "metadata": {
        "colab_type": "text",
        "id": "HgtWA-UIOB7F"
      },
      "source": [
        "2.Define a function to calculate prediction"
      ]
    },
    {
      "cell_type": "code",
      "metadata": {
        "colab_type": "code",
        "id": "JveGlx25OB7H",
        "colab": {}
      },
      "source": [
        "@tf.function\n",
        "def prediction(x_scaled_train,w,b):\n",
        "    y_pred=tf.add(tf.matmul(x_scaled_train,w), b)\n",
        "    return y_pred\n",
        "     "
      ],
      "execution_count": 0,
      "outputs": []
    },
    {
      "cell_type": "markdown",
      "metadata": {
        "colab_type": "text",
        "id": "TL1hIwf_OB7M"
      },
      "source": [
        "3.Loss (Cost) Function [Mean square error]"
      ]
    },
    {
      "cell_type": "code",
      "metadata": {
        "colab_type": "code",
        "id": "8VSWPiGXOB7P",
        "colab": {}
      },
      "source": [
        "@tf.function\n",
        "def loss(y_pred,y_train):\n",
        "  diff=y_train-y_pred\n",
        "  sqr=tf.square(diff)\n",
        "  avg=tf.reduce_mean(sqr)\n",
        "  return avg"
      ],
      "execution_count": 0,
      "outputs": []
    },
    {
      "cell_type": "markdown",
      "metadata": {
        "colab_type": "text",
        "id": "jzG85FUlOB7U"
      },
      "source": [
        "4.Function to train the Model\n",
        "\n",
        "1.   Record all the mathematical steps to calculate Loss\n",
        "2.   Calculate Gradients of Loss w.r.t weights and bias\n",
        "3.   Update Weights and Bias based on gradients and learning rate to minimize loss"
      ]
    },
    {
      "cell_type": "code",
      "metadata": {
        "colab_type": "code",
        "id": "cj802w-3OB7X",
        "colab": {}
      },
      "source": [
        "@tf.function\n",
        "def train(x_scaled_train, y_train, w, b, learning_rate=0.01):\n",
        "    \n",
        "    # Record mathematical operations on 'tape' to calculate loss\n",
        "    with tf.GradientTape() as t:\n",
        "        t.watch([w,b])\n",
        "        current_prediction = prediction(x_scaled_train, w, b)\n",
        "        current_loss = loss(y_train, current_prediction)\n",
        "    \n",
        "    # Calculate Gradients for Loss with respect to Weights and Bias\n",
        "    dw, db = t.gradient(current_loss,[w, b])\n",
        "    \n",
        "    # Update Weights and Bias\n",
        "    w = w - learning_rate * dw\n",
        "    b = b - learning_rate * db\n",
        "    \n",
        "    return w, b"
      ],
      "execution_count": 0,
      "outputs": []
    },
    {
      "cell_type": "markdown",
      "metadata": {
        "colab_type": "text",
        "id": "xSypb_u8OB7e"
      },
      "source": [
        "## Train the model for 100 epochs \n",
        "1. Observe the training loss at every iteration\n",
        "2. Observe Train loss at every 5th iteration"
      ]
    },
    {
      "cell_type": "code",
      "metadata": {
        "id": "IAh38PYDH5_0",
        "colab_type": "code",
        "colab": {
          "base_uri": "https://localhost:8080/",
          "height": 36
        },
        "outputId": "d2c538ab-7341-413d-f194-447cc4ba65af"
      },
      "source": [
        "x_scaled_train.dtype"
      ],
      "execution_count": 403,
      "outputs": [
        {
          "output_type": "execute_result",
          "data": {
            "text/plain": [
              "dtype('float32')"
            ]
          },
          "metadata": {
            "tags": []
          },
          "execution_count": 403
        }
      ]
    },
    {
      "cell_type": "code",
      "metadata": {
        "colab_type": "code",
        "id": "DVvgj7eQOB7f",
        "colab": {
          "base_uri": "https://localhost:8080/",
          "height": 1000
        },
        "outputId": "5ea9c1f6-8b6b-4bf8-e4a1-b3eba84583c0"
      },
      "source": [
        "for i in range(100):    \n",
        "    w, b = train(x_scaled_train, y_train, w, b)\n",
        "    print('Current Training Loss on iteration', i, loss(y_train, prediction(x_scaled_train, w, b)).numpy())"
      ],
      "execution_count": 404,
      "outputs": [
        {
          "output_type": "stream",
          "text": [
            "Current Training Loss on iteration 0 202.14075\n",
            "Current Training Loss on iteration 1 201.16193\n",
            "Current Training Loss on iteration 2 200.22177\n",
            "Current Training Loss on iteration 3 199.31895\n",
            "Current Training Loss on iteration 4 198.45178\n",
            "Current Training Loss on iteration 5 197.61913\n",
            "Current Training Loss on iteration 6 196.81932\n",
            "Current Training Loss on iteration 7 196.05132\n",
            "Current Training Loss on iteration 8 195.31358\n",
            "Current Training Loss on iteration 9 194.60516\n",
            "Current Training Loss on iteration 10 193.92477\n",
            "Current Training Loss on iteration 11 193.27126\n",
            "Current Training Loss on iteration 12 192.64368\n",
            "Current Training Loss on iteration 13 192.041\n",
            "Current Training Loss on iteration 14 191.46208\n",
            "Current Training Loss on iteration 15 190.90605\n",
            "Current Training Loss on iteration 16 190.37222\n",
            "Current Training Loss on iteration 17 189.85934\n",
            "Current Training Loss on iteration 18 189.36694\n",
            "Current Training Loss on iteration 19 188.89398\n",
            "Current Training Loss on iteration 20 188.43968\n",
            "Current Training Loss on iteration 21 188.00348\n",
            "Current Training Loss on iteration 22 187.58452\n",
            "Current Training Loss on iteration 23 187.1821\n",
            "Current Training Loss on iteration 24 186.79561\n",
            "Current Training Loss on iteration 25 186.4244\n",
            "Current Training Loss on iteration 26 186.06796\n",
            "Current Training Loss on iteration 27 185.72572\n",
            "Current Training Loss on iteration 28 185.39693\n",
            "Current Training Loss on iteration 29 185.08105\n",
            "Current Training Loss on iteration 30 184.77785\n",
            "Current Training Loss on iteration 31 184.4866\n",
            "Current Training Loss on iteration 32 184.2069\n",
            "Current Training Loss on iteration 33 183.93817\n",
            "Current Training Loss on iteration 34 183.6802\n",
            "Current Training Loss on iteration 35 183.43248\n",
            "Current Training Loss on iteration 36 183.19447\n",
            "Current Training Loss on iteration 37 182.96599\n",
            "Current Training Loss on iteration 38 182.74648\n",
            "Current Training Loss on iteration 39 182.5356\n",
            "Current Training Loss on iteration 40 182.33313\n",
            "Current Training Loss on iteration 41 182.1387\n",
            "Current Training Loss on iteration 42 181.95192\n",
            "Current Training Loss on iteration 43 181.7726\n",
            "Current Training Loss on iteration 44 181.60037\n",
            "Current Training Loss on iteration 45 181.43489\n",
            "Current Training Loss on iteration 46 181.2761\n",
            "Current Training Loss on iteration 47 181.12349\n",
            "Current Training Loss on iteration 48 180.97702\n",
            "Current Training Loss on iteration 49 180.8362\n",
            "Current Training Loss on iteration 50 180.7011\n",
            "Current Training Loss on iteration 51 180.5713\n",
            "Current Training Loss on iteration 52 180.4466\n",
            "Current Training Loss on iteration 53 180.3268\n",
            "Current Training Loss on iteration 54 180.21193\n",
            "Current Training Loss on iteration 55 180.1014\n",
            "Current Training Loss on iteration 56 179.99538\n",
            "Current Training Loss on iteration 57 179.89352\n",
            "Current Training Loss on iteration 58 179.79565\n",
            "Current Training Loss on iteration 59 179.7017\n",
            "Current Training Loss on iteration 60 179.6114\n",
            "Current Training Loss on iteration 61 179.52492\n",
            "Current Training Loss on iteration 62 179.4415\n",
            "Current Training Loss on iteration 63 179.3617\n",
            "Current Training Loss on iteration 64 179.28488\n",
            "Current Training Loss on iteration 65 179.21123\n",
            "Current Training Loss on iteration 66 179.1403\n",
            "Current Training Loss on iteration 67 179.07237\n",
            "Current Training Loss on iteration 68 179.00702\n",
            "Current Training Loss on iteration 69 178.94432\n",
            "Current Training Loss on iteration 70 178.88408\n",
            "Current Training Loss on iteration 71 178.82623\n",
            "Current Training Loss on iteration 72 178.77068\n",
            "Current Training Loss on iteration 73 178.71725\n",
            "Current Training Loss on iteration 74 178.66603\n",
            "Current Training Loss on iteration 75 178.61688\n",
            "Current Training Loss on iteration 76 178.56946\n",
            "Current Training Loss on iteration 77 178.52402\n",
            "Current Training Loss on iteration 78 178.48045\n",
            "Current Training Loss on iteration 79 178.43864\n",
            "Current Training Loss on iteration 80 178.39845\n",
            "Current Training Loss on iteration 81 178.35983\n",
            "Current Training Loss on iteration 82 178.32263\n",
            "Current Training Loss on iteration 83 178.28703\n",
            "Current Training Loss on iteration 84 178.25287\n",
            "Current Training Loss on iteration 85 178.21996\n",
            "Current Training Loss on iteration 86 178.18848\n",
            "Current Training Loss on iteration 87 178.15816\n",
            "Current Training Loss on iteration 88 178.12898\n",
            "Current Training Loss on iteration 89 178.10103\n",
            "Current Training Loss on iteration 90 178.0742\n",
            "Current Training Loss on iteration 91 178.04843\n",
            "Current Training Loss on iteration 92 178.02371\n",
            "Current Training Loss on iteration 93 177.9999\n",
            "Current Training Loss on iteration 94 177.9771\n",
            "Current Training Loss on iteration 95 177.9551\n",
            "Current Training Loss on iteration 96 177.93404\n",
            "Current Training Loss on iteration 97 177.91376\n",
            "Current Training Loss on iteration 98 177.89441\n",
            "Current Training Loss on iteration 99 177.87567\n"
          ],
          "name": "stdout"
        }
      ]
    },
    {
      "cell_type": "markdown",
      "metadata": {
        "colab_type": "text",
        "id": "DOL2ncA1OB7q"
      },
      "source": [
        "### Get the shapes and values of W and b"
      ]
    },
    {
      "cell_type": "code",
      "metadata": {
        "colab_type": "code",
        "id": "ZGvtyTeuOB7r",
        "colab": {
          "base_uri": "https://localhost:8080/",
          "height": 92
        },
        "outputId": "646089cb-26fa-4753-cf40-0d68384ab840"
      },
      "source": [
        "w.numpy()"
      ],
      "execution_count": 405,
      "outputs": [
        {
          "output_type": "execute_result",
          "data": {
            "text/plain": [
              "array([[-1.5554249e-08],\n",
              "       [ 9.7672392e-10],\n",
              "       [ 6.2759526e-09],\n",
              "       [ 2.8782528e-08]], dtype=float32)"
            ]
          },
          "metadata": {
            "tags": []
          },
          "execution_count": 405
        }
      ]
    },
    {
      "cell_type": "code",
      "metadata": {
        "id": "WuM_JdouS3T5",
        "colab_type": "code",
        "colab": {
          "base_uri": "https://localhost:8080/",
          "height": 36
        },
        "outputId": "11195660-5327-4056-f4c6-662f6d7b6ba9"
      },
      "source": [
        "w.shape"
      ],
      "execution_count": 406,
      "outputs": [
        {
          "output_type": "execute_result",
          "data": {
            "text/plain": [
              "TensorShape([4, 1])"
            ]
          },
          "metadata": {
            "tags": []
          },
          "execution_count": 406
        }
      ]
    },
    {
      "cell_type": "code",
      "metadata": {
        "colab_type": "code",
        "id": "vhDtOv5UOB7x",
        "colab": {
          "base_uri": "https://localhost:8080/",
          "height": 36
        },
        "outputId": "f1ebfa99-9a7e-4c35-8418-f9bda3b96c72"
      },
      "source": [
        "b.numpy()"
      ],
      "execution_count": 407,
      "outputs": [
        {
          "output_type": "execute_result",
          "data": {
            "text/plain": [
              "array([4.400352], dtype=float32)"
            ]
          },
          "metadata": {
            "tags": []
          },
          "execution_count": 407
        }
      ]
    },
    {
      "cell_type": "code",
      "metadata": {
        "id": "37T1287-S8mY",
        "colab_type": "code",
        "colab": {
          "base_uri": "https://localhost:8080/",
          "height": 36
        },
        "outputId": "44ec7810-a044-4a27-839d-f4a26ab3d088"
      },
      "source": [
        "b.shape"
      ],
      "execution_count": 408,
      "outputs": [
        {
          "output_type": "execute_result",
          "data": {
            "text/plain": [
              "TensorShape([1])"
            ]
          },
          "metadata": {
            "tags": []
          },
          "execution_count": 408
        }
      ]
    },
    {
      "cell_type": "markdown",
      "metadata": {
        "colab_type": "text",
        "id": "ERq9GOKKciho"
      },
      "source": [
        "### Model Prediction on 1st Examples in Test Dataset"
      ]
    },
    {
      "cell_type": "code",
      "metadata": {
        "id": "VqfYxIdsQ0-z",
        "colab_type": "code",
        "colab": {
          "base_uri": "https://localhost:8080/",
          "height": 1000
        },
        "outputId": "bae1a5eb-267e-4498-d3af-b8ea445f9251"
      },
      "source": [
        "prediction(x_scaled_test,w,b)"
      ],
      "execution_count": 409,
      "outputs": [
        {
          "output_type": "execute_result",
          "data": {
            "text/plain": [
              "<tf.Tensor: shape=(200, 1), dtype=float32, numpy=\n",
              "array([[4.400352],\n",
              "       [4.400352],\n",
              "       [4.400352],\n",
              "       [4.400352],\n",
              "       [4.400352],\n",
              "       [4.400352],\n",
              "       [4.400352],\n",
              "       [4.400352],\n",
              "       [4.400352],\n",
              "       [4.400352],\n",
              "       [4.400352],\n",
              "       [4.400352],\n",
              "       [4.400352],\n",
              "       [4.400352],\n",
              "       [4.400352],\n",
              "       [4.400352],\n",
              "       [4.400352],\n",
              "       [4.400352],\n",
              "       [4.400352],\n",
              "       [4.400352],\n",
              "       [4.400352],\n",
              "       [4.400352],\n",
              "       [4.400352],\n",
              "       [4.400352],\n",
              "       [4.400352],\n",
              "       [4.400352],\n",
              "       [4.400352],\n",
              "       [4.400352],\n",
              "       [4.400352],\n",
              "       [4.400352],\n",
              "       [4.400352],\n",
              "       [4.400352],\n",
              "       [4.400352],\n",
              "       [4.400352],\n",
              "       [4.400352],\n",
              "       [4.400352],\n",
              "       [4.400352],\n",
              "       [4.400352],\n",
              "       [4.400352],\n",
              "       [4.400352],\n",
              "       [4.400352],\n",
              "       [4.400352],\n",
              "       [4.400352],\n",
              "       [4.400352],\n",
              "       [4.400352],\n",
              "       [4.400352],\n",
              "       [4.400352],\n",
              "       [4.400352],\n",
              "       [4.400352],\n",
              "       [4.400352],\n",
              "       [4.400352],\n",
              "       [4.400352],\n",
              "       [4.400352],\n",
              "       [4.400352],\n",
              "       [4.400352],\n",
              "       [4.400352],\n",
              "       [4.400352],\n",
              "       [4.400352],\n",
              "       [4.400352],\n",
              "       [4.400352],\n",
              "       [4.400352],\n",
              "       [4.400352],\n",
              "       [4.400352],\n",
              "       [4.400352],\n",
              "       [4.400352],\n",
              "       [4.400352],\n",
              "       [4.400352],\n",
              "       [4.400352],\n",
              "       [4.400352],\n",
              "       [4.400352],\n",
              "       [4.400352],\n",
              "       [4.400352],\n",
              "       [4.400352],\n",
              "       [4.400352],\n",
              "       [4.400352],\n",
              "       [4.400352],\n",
              "       [4.400352],\n",
              "       [4.400352],\n",
              "       [4.400352],\n",
              "       [4.400352],\n",
              "       [4.400352],\n",
              "       [4.400352],\n",
              "       [4.400352],\n",
              "       [4.400352],\n",
              "       [4.400352],\n",
              "       [4.400352],\n",
              "       [4.400352],\n",
              "       [4.400352],\n",
              "       [4.400352],\n",
              "       [4.400352],\n",
              "       [4.400352],\n",
              "       [4.400352],\n",
              "       [4.400352],\n",
              "       [4.400352],\n",
              "       [4.400352],\n",
              "       [4.400352],\n",
              "       [4.400352],\n",
              "       [4.400352],\n",
              "       [4.400352],\n",
              "       [4.400352],\n",
              "       [4.400352],\n",
              "       [4.400352],\n",
              "       [4.400352],\n",
              "       [4.400352],\n",
              "       [4.400352],\n",
              "       [4.400352],\n",
              "       [4.400352],\n",
              "       [4.400352],\n",
              "       [4.400352],\n",
              "       [4.400352],\n",
              "       [4.400352],\n",
              "       [4.400352],\n",
              "       [4.400352],\n",
              "       [4.400352],\n",
              "       [4.400352],\n",
              "       [4.400352],\n",
              "       [4.400352],\n",
              "       [4.400352],\n",
              "       [4.400352],\n",
              "       [4.400352],\n",
              "       [4.400352],\n",
              "       [4.400352],\n",
              "       [4.400352],\n",
              "       [4.400352],\n",
              "       [4.400352],\n",
              "       [4.400352],\n",
              "       [4.400352],\n",
              "       [4.400352],\n",
              "       [4.400352],\n",
              "       [4.400352],\n",
              "       [4.400352],\n",
              "       [4.400352],\n",
              "       [4.400352],\n",
              "       [4.400352],\n",
              "       [4.400352],\n",
              "       [4.400352],\n",
              "       [4.400352],\n",
              "       [4.400352],\n",
              "       [4.400352],\n",
              "       [4.400352],\n",
              "       [4.400352],\n",
              "       [4.400352],\n",
              "       [4.400352],\n",
              "       [4.400352],\n",
              "       [4.400352],\n",
              "       [4.400352],\n",
              "       [4.400352],\n",
              "       [4.400352],\n",
              "       [4.400352],\n",
              "       [4.400352],\n",
              "       [4.400352],\n",
              "       [4.400352],\n",
              "       [4.400352],\n",
              "       [4.400352],\n",
              "       [4.400352],\n",
              "       [4.400352],\n",
              "       [4.400352],\n",
              "       [4.400352],\n",
              "       [4.400352],\n",
              "       [4.400352],\n",
              "       [4.400352],\n",
              "       [4.400352],\n",
              "       [4.400352],\n",
              "       [4.400352],\n",
              "       [4.400352],\n",
              "       [4.400352],\n",
              "       [4.400352],\n",
              "       [4.400352],\n",
              "       [4.400352],\n",
              "       [4.400352],\n",
              "       [4.400352],\n",
              "       [4.400352],\n",
              "       [4.400352],\n",
              "       [4.400352],\n",
              "       [4.400352],\n",
              "       [4.400352],\n",
              "       [4.400352],\n",
              "       [4.400352],\n",
              "       [4.400352],\n",
              "       [4.400352],\n",
              "       [4.400352],\n",
              "       [4.400352],\n",
              "       [4.400352],\n",
              "       [4.400352],\n",
              "       [4.400352],\n",
              "       [4.400352],\n",
              "       [4.400352],\n",
              "       [4.400352],\n",
              "       [4.400352],\n",
              "       [4.400352],\n",
              "       [4.400352],\n",
              "       [4.400352],\n",
              "       [4.400352],\n",
              "       [4.400352],\n",
              "       [4.400352],\n",
              "       [4.400352],\n",
              "       [4.400352],\n",
              "       [4.400352],\n",
              "       [4.400352],\n",
              "       [4.400352]], dtype=float32)>"
            ]
          },
          "metadata": {
            "tags": []
          },
          "execution_count": 409
        }
      ]
    },
    {
      "cell_type": "markdown",
      "metadata": {
        "colab_type": "text",
        "id": "YJRBuqXhOB7_"
      },
      "source": [
        "## Classification using tf.Keras\n",
        "\n",
        "In this exercise, we will build a Deep Neural Network using tf.Keras. We will use Iris Dataset for this exercise."
      ]
    },
    {
      "cell_type": "markdown",
      "metadata": {
        "colab_type": "text",
        "id": "O0g6lorycihf"
      },
      "source": [
        "### Load the given Iris data using pandas (Iris.csv)"
      ]
    },
    {
      "cell_type": "code",
      "metadata": {
        "colab_type": "code",
        "id": "YRCBWIFQ3aCy",
        "colab": {}
      },
      "source": [
        "Iris_df = pd.read_csv( '/content/gdrive/My Drive/Classnotes/Iris.csv')"
      ],
      "execution_count": 0,
      "outputs": []
    },
    {
      "cell_type": "markdown",
      "metadata": {
        "colab_type": "text",
        "id": "SAB--Qdwcihm"
      },
      "source": [
        "### Target set has different categories. So, Label encode them. And convert into one-hot vectors using get_dummies in pandas."
      ]
    },
    {
      "cell_type": "code",
      "metadata": {
        "colab_type": "code",
        "id": "IJr5dYnocihm",
        "colab": {}
      },
      "source": [
        "#from sklearn.preprocessing import LabelEncoder\n",
        "#le=LabelEncoder()\n",
        "#Iris_df['Class']=le.fit_transform(Iris_df['Class'])\n",
        "Iris_df=pd.get_dummies(Iris_df,drop_first=False)"
      ],
      "execution_count": 0,
      "outputs": []
    },
    {
      "cell_type": "code",
      "metadata": {
        "id": "qZxcNqCujwxP",
        "colab_type": "code",
        "colab": {
          "base_uri": "https://localhost:8080/",
          "height": 223
        },
        "outputId": "146a9354-4b83-4f77-ba12-6e625aa92f66"
      },
      "source": [
        "Iris_df.sample(5)"
      ],
      "execution_count": 412,
      "outputs": [
        {
          "output_type": "execute_result",
          "data": {
            "text/html": [
              "<div>\n",
              "<style scoped>\n",
              "    .dataframe tbody tr th:only-of-type {\n",
              "        vertical-align: middle;\n",
              "    }\n",
              "\n",
              "    .dataframe tbody tr th {\n",
              "        vertical-align: top;\n",
              "    }\n",
              "\n",
              "    .dataframe thead th {\n",
              "        text-align: right;\n",
              "    }\n",
              "</style>\n",
              "<table border=\"1\" class=\"dataframe\">\n",
              "  <thead>\n",
              "    <tr style=\"text-align: right;\">\n",
              "      <th></th>\n",
              "      <th>Sepal Length (in cm)</th>\n",
              "      <th>Sepal Width in (cm)</th>\n",
              "      <th>Petal length (in cm)</th>\n",
              "      <th>Petal width (in cm)</th>\n",
              "      <th>Class_Iris-setosa</th>\n",
              "      <th>Class_Iris-versicolor</th>\n",
              "      <th>Class_Iris-virginica</th>\n",
              "    </tr>\n",
              "  </thead>\n",
              "  <tbody>\n",
              "    <tr>\n",
              "      <th>20</th>\n",
              "      <td>5.4</td>\n",
              "      <td>3.4</td>\n",
              "      <td>1.7</td>\n",
              "      <td>0.2</td>\n",
              "      <td>1</td>\n",
              "      <td>0</td>\n",
              "      <td>0</td>\n",
              "    </tr>\n",
              "    <tr>\n",
              "      <th>28</th>\n",
              "      <td>5.2</td>\n",
              "      <td>3.4</td>\n",
              "      <td>1.4</td>\n",
              "      <td>0.2</td>\n",
              "      <td>1</td>\n",
              "      <td>0</td>\n",
              "      <td>0</td>\n",
              "    </tr>\n",
              "    <tr>\n",
              "      <th>118</th>\n",
              "      <td>7.7</td>\n",
              "      <td>2.6</td>\n",
              "      <td>6.9</td>\n",
              "      <td>2.3</td>\n",
              "      <td>0</td>\n",
              "      <td>0</td>\n",
              "      <td>1</td>\n",
              "    </tr>\n",
              "    <tr>\n",
              "      <th>127</th>\n",
              "      <td>6.1</td>\n",
              "      <td>3.0</td>\n",
              "      <td>4.9</td>\n",
              "      <td>1.8</td>\n",
              "      <td>0</td>\n",
              "      <td>0</td>\n",
              "      <td>1</td>\n",
              "    </tr>\n",
              "    <tr>\n",
              "      <th>1</th>\n",
              "      <td>4.9</td>\n",
              "      <td>3.0</td>\n",
              "      <td>1.4</td>\n",
              "      <td>0.2</td>\n",
              "      <td>1</td>\n",
              "      <td>0</td>\n",
              "      <td>0</td>\n",
              "    </tr>\n",
              "  </tbody>\n",
              "</table>\n",
              "</div>"
            ],
            "text/plain": [
              "     Sepal Length (in cm)  ...  Class_Iris-virginica\n",
              "20                    5.4  ...                     0\n",
              "28                    5.2  ...                     0\n",
              "118                   7.7  ...                     1\n",
              "127                   6.1  ...                     1\n",
              "1                     4.9  ...                     0\n",
              "\n",
              "[5 rows x 7 columns]"
            ]
          },
          "metadata": {
            "tags": []
          },
          "execution_count": 412
        }
      ]
    },
    {
      "cell_type": "markdown",
      "metadata": {
        "colab_type": "text",
        "id": "D95nY5ILcihj"
      },
      "source": [
        "### Splitting the data into feature set and target set"
      ]
    },
    {
      "cell_type": "code",
      "metadata": {
        "colab_type": "code",
        "id": "RyMQoLMucihj",
        "colab": {}
      },
      "source": [
        "X=Iris_df.drop(['Class_Iris-setosa','Class_Iris-versicolor','Class_Iris-virginica'],axis=1)\n",
        "Y=Iris_df[['Class_Iris-setosa','Class_Iris-versicolor','Class_Iris-virginica']]"
      ],
      "execution_count": 0,
      "outputs": []
    },
    {
      "cell_type": "code",
      "metadata": {
        "id": "K3EbQ4A8rSfg",
        "colab_type": "code",
        "colab": {}
      },
      "source": [
        "X=X.iloc[0:,]\n",
        "Y=Y.loc[0:,]"
      ],
      "execution_count": 0,
      "outputs": []
    },
    {
      "cell_type": "code",
      "metadata": {
        "id": "nX3H7-Byvl6P",
        "colab_type": "code",
        "colab": {
          "base_uri": "https://localhost:8080/",
          "height": 185
        },
        "outputId": "95231aef-ab9a-4972-a70a-d74934f5bf55"
      },
      "source": [
        "X.info()"
      ],
      "execution_count": 415,
      "outputs": [
        {
          "output_type": "stream",
          "text": [
            "<class 'pandas.core.frame.DataFrame'>\n",
            "RangeIndex: 150 entries, 0 to 149\n",
            "Data columns (total 4 columns):\n",
            "Sepal Length (in cm)    150 non-null float64\n",
            "Sepal Width in (cm)     150 non-null float64\n",
            "Petal length (in cm)    150 non-null float64\n",
            "Petal width (in cm)     150 non-null float64\n",
            "dtypes: float64(4)\n",
            "memory usage: 4.8 KB\n"
          ],
          "name": "stdout"
        }
      ]
    },
    {
      "cell_type": "code",
      "metadata": {
        "id": "KLtoEQjlerZJ",
        "colab_type": "code",
        "colab": {}
      },
      "source": [
        "x_train_iris,x_test_iris,y_train_iris,y_test_iris=train_test_split(X,Y,test_size=0.2,random_state=3)"
      ],
      "execution_count": 0,
      "outputs": []
    },
    {
      "cell_type": "markdown",
      "metadata": {
        "colab_type": "text",
        "id": "b22qpC5xcihr"
      },
      "source": [
        "###  Building Model in tf.keras\n",
        "\n",
        "Build a Linear Classifier model  <br>\n",
        "1.  Use Dense Layer  with input shape of 4 (according to the feature set) and number of outputs set to 3<br> \n",
        "2. Apply Softmax on Dense Layer outputs <br>\n",
        "3. Use SGD as Optimizer\n",
        "4. Use categorical_crossentropy as loss function "
      ]
    },
    {
      "cell_type": "code",
      "metadata": {
        "colab_type": "code",
        "id": "Hov_UFnUciht",
        "colab": {}
      },
      "source": [
        "model=tf.keras.models.Sequential()"
      ],
      "execution_count": 0,
      "outputs": []
    },
    {
      "cell_type": "code",
      "metadata": {
        "id": "Mi0VvA8bpuHS",
        "colab_type": "code",
        "colab": {}
      },
      "source": [
        "model.add(tf.keras.layers.BatchNormalization(input_shape=(4,)))"
      ],
      "execution_count": 0,
      "outputs": []
    },
    {
      "cell_type": "code",
      "metadata": {
        "id": "z17K6Lrop85p",
        "colab_type": "code",
        "colab": {}
      },
      "source": [
        "model.add(tf.keras.layers.Dense(3,activation='softmax'))"
      ],
      "execution_count": 0,
      "outputs": []
    },
    {
      "cell_type": "code",
      "metadata": {
        "id": "H6057578qRnw",
        "colab_type": "code",
        "colab": {}
      },
      "source": [
        "model.compile(optimizer='sgd',loss='categorical_crossentropy',metrics=['accuracy'])"
      ],
      "execution_count": 0,
      "outputs": []
    },
    {
      "cell_type": "markdown",
      "metadata": {
        "colab_type": "text",
        "id": "T5FdzqIKcihw"
      },
      "source": [
        "### Model Training "
      ]
    },
    {
      "cell_type": "code",
      "metadata": {
        "colab_type": "code",
        "id": "4qLEdHPscihx",
        "colab": {
          "base_uri": "https://localhost:8080/",
          "height": 1000
        },
        "outputId": "c1b7d5a2-ca30-4ce5-9c2e-6036dd41089d"
      },
      "source": [
        "model.fit(x_train_iris,y_train_iris,epochs=100,validation_data=(x_test_iris,y_test_iris))"
      ],
      "execution_count": 421,
      "outputs": [
        {
          "output_type": "stream",
          "text": [
            "Train on 120 samples, validate on 30 samples\n",
            "Epoch 1/100\n",
            "120/120 [==============================] - 0s 3ms/sample - loss: 1.0490 - accuracy: 0.3833 - val_loss: 3.3809 - val_accuracy: 0.3333\n",
            "Epoch 2/100\n",
            "120/120 [==============================] - 0s 178us/sample - loss: 1.0041 - accuracy: 0.4333 - val_loss: 3.1071 - val_accuracy: 0.3333\n",
            "Epoch 3/100\n",
            "120/120 [==============================] - 0s 158us/sample - loss: 0.9774 - accuracy: 0.4417 - val_loss: 2.8531 - val_accuracy: 0.3333\n",
            "Epoch 4/100\n",
            "120/120 [==============================] - 0s 191us/sample - loss: 0.9521 - accuracy: 0.4917 - val_loss: 2.6318 - val_accuracy: 0.3333\n",
            "Epoch 5/100\n",
            "120/120 [==============================] - 0s 141us/sample - loss: 0.9353 - accuracy: 0.5083 - val_loss: 2.4354 - val_accuracy: 0.3333\n",
            "Epoch 6/100\n",
            "120/120 [==============================] - 0s 153us/sample - loss: 0.9084 - accuracy: 0.5417 - val_loss: 2.2608 - val_accuracy: 0.3333\n",
            "Epoch 7/100\n",
            "120/120 [==============================] - 0s 158us/sample - loss: 0.9069 - accuracy: 0.5167 - val_loss: 2.1049 - val_accuracy: 0.3333\n",
            "Epoch 8/100\n",
            "120/120 [==============================] - 0s 162us/sample - loss: 0.8687 - accuracy: 0.5583 - val_loss: 1.9646 - val_accuracy: 0.3333\n",
            "Epoch 9/100\n",
            "120/120 [==============================] - 0s 155us/sample - loss: 0.8592 - accuracy: 0.5583 - val_loss: 1.8395 - val_accuracy: 0.3667\n",
            "Epoch 10/100\n",
            "120/120 [==============================] - 0s 151us/sample - loss: 0.8217 - accuracy: 0.5917 - val_loss: 1.7295 - val_accuracy: 0.3667\n",
            "Epoch 11/100\n",
            "120/120 [==============================] - 0s 151us/sample - loss: 0.8134 - accuracy: 0.5833 - val_loss: 1.6302 - val_accuracy: 0.4333\n",
            "Epoch 12/100\n",
            "120/120 [==============================] - 0s 138us/sample - loss: 0.7971 - accuracy: 0.5750 - val_loss: 1.5438 - val_accuracy: 0.4333\n",
            "Epoch 13/100\n",
            "120/120 [==============================] - 0s 153us/sample - loss: 0.7819 - accuracy: 0.6250 - val_loss: 1.4660 - val_accuracy: 0.5333\n",
            "Epoch 14/100\n",
            "120/120 [==============================] - 0s 163us/sample - loss: 0.7926 - accuracy: 0.5833 - val_loss: 1.3985 - val_accuracy: 0.5667\n",
            "Epoch 15/100\n",
            "120/120 [==============================] - 0s 155us/sample - loss: 0.7633 - accuracy: 0.5917 - val_loss: 1.3336 - val_accuracy: 0.6000\n",
            "Epoch 16/100\n",
            "120/120 [==============================] - 0s 170us/sample - loss: 0.7488 - accuracy: 0.6167 - val_loss: 1.2788 - val_accuracy: 0.6667\n",
            "Epoch 17/100\n",
            "120/120 [==============================] - 0s 173us/sample - loss: 0.7327 - accuracy: 0.6250 - val_loss: 1.2259 - val_accuracy: 0.6667\n",
            "Epoch 18/100\n",
            "120/120 [==============================] - 0s 178us/sample - loss: 0.7146 - accuracy: 0.6667 - val_loss: 1.1797 - val_accuracy: 0.6667\n",
            "Epoch 19/100\n",
            "120/120 [==============================] - 0s 148us/sample - loss: 0.7123 - accuracy: 0.6500 - val_loss: 1.1362 - val_accuracy: 0.6667\n",
            "Epoch 20/100\n",
            "120/120 [==============================] - 0s 210us/sample - loss: 0.6962 - accuracy: 0.6583 - val_loss: 1.0967 - val_accuracy: 0.6667\n",
            "Epoch 21/100\n",
            "120/120 [==============================] - 0s 178us/sample - loss: 0.6988 - accuracy: 0.6833 - val_loss: 1.0589 - val_accuracy: 0.6667\n",
            "Epoch 22/100\n",
            "120/120 [==============================] - 0s 172us/sample - loss: 0.6739 - accuracy: 0.6667 - val_loss: 1.0249 - val_accuracy: 0.6667\n",
            "Epoch 23/100\n",
            "120/120 [==============================] - 0s 188us/sample - loss: 0.6722 - accuracy: 0.7167 - val_loss: 0.9950 - val_accuracy: 0.6667\n",
            "Epoch 24/100\n",
            "120/120 [==============================] - 0s 157us/sample - loss: 0.6709 - accuracy: 0.6833 - val_loss: 0.9678 - val_accuracy: 0.6667\n",
            "Epoch 25/100\n",
            "120/120 [==============================] - 0s 167us/sample - loss: 0.6852 - accuracy: 0.6750 - val_loss: 0.9429 - val_accuracy: 0.6667\n",
            "Epoch 26/100\n",
            "120/120 [==============================] - 0s 151us/sample - loss: 0.6561 - accuracy: 0.6917 - val_loss: 0.9181 - val_accuracy: 0.6667\n",
            "Epoch 27/100\n",
            "120/120 [==============================] - 0s 156us/sample - loss: 0.6332 - accuracy: 0.7000 - val_loss: 0.8944 - val_accuracy: 0.6667\n",
            "Epoch 28/100\n",
            "120/120 [==============================] - 0s 180us/sample - loss: 0.6325 - accuracy: 0.7000 - val_loss: 0.8731 - val_accuracy: 0.6667\n",
            "Epoch 29/100\n",
            "120/120 [==============================] - 0s 156us/sample - loss: 0.6304 - accuracy: 0.7417 - val_loss: 0.8513 - val_accuracy: 0.6667\n",
            "Epoch 30/100\n",
            "120/120 [==============================] - 0s 173us/sample - loss: 0.6114 - accuracy: 0.7250 - val_loss: 0.8335 - val_accuracy: 0.6667\n",
            "Epoch 31/100\n",
            "120/120 [==============================] - 0s 149us/sample - loss: 0.6172 - accuracy: 0.7083 - val_loss: 0.8155 - val_accuracy: 0.6667\n",
            "Epoch 32/100\n",
            "120/120 [==============================] - 0s 204us/sample - loss: 0.6118 - accuracy: 0.7167 - val_loss: 0.7988 - val_accuracy: 0.6667\n",
            "Epoch 33/100\n",
            "120/120 [==============================] - 0s 176us/sample - loss: 0.5966 - accuracy: 0.7083 - val_loss: 0.7832 - val_accuracy: 0.6667\n",
            "Epoch 34/100\n",
            "120/120 [==============================] - 0s 189us/sample - loss: 0.5912 - accuracy: 0.7167 - val_loss: 0.7679 - val_accuracy: 0.6667\n",
            "Epoch 35/100\n",
            "120/120 [==============================] - 0s 167us/sample - loss: 0.5966 - accuracy: 0.7167 - val_loss: 0.7530 - val_accuracy: 0.6667\n",
            "Epoch 36/100\n",
            "120/120 [==============================] - 0s 167us/sample - loss: 0.5882 - accuracy: 0.7167 - val_loss: 0.7394 - val_accuracy: 0.6667\n",
            "Epoch 37/100\n",
            "120/120 [==============================] - 0s 180us/sample - loss: 0.6167 - accuracy: 0.7333 - val_loss: 0.7255 - val_accuracy: 0.6667\n",
            "Epoch 38/100\n",
            "120/120 [==============================] - 0s 163us/sample - loss: 0.5740 - accuracy: 0.7500 - val_loss: 0.7130 - val_accuracy: 0.6667\n",
            "Epoch 39/100\n",
            "120/120 [==============================] - 0s 177us/sample - loss: 0.5752 - accuracy: 0.7500 - val_loss: 0.7004 - val_accuracy: 0.6667\n",
            "Epoch 40/100\n",
            "120/120 [==============================] - 0s 149us/sample - loss: 0.5644 - accuracy: 0.7667 - val_loss: 0.6887 - val_accuracy: 0.6667\n",
            "Epoch 41/100\n",
            "120/120 [==============================] - 0s 198us/sample - loss: 0.5663 - accuracy: 0.7583 - val_loss: 0.6777 - val_accuracy: 0.6667\n",
            "Epoch 42/100\n",
            "120/120 [==============================] - 0s 181us/sample - loss: 0.5699 - accuracy: 0.7333 - val_loss: 0.6668 - val_accuracy: 0.6667\n",
            "Epoch 43/100\n",
            "120/120 [==============================] - 0s 163us/sample - loss: 0.5606 - accuracy: 0.7333 - val_loss: 0.6564 - val_accuracy: 0.7000\n",
            "Epoch 44/100\n",
            "120/120 [==============================] - 0s 265us/sample - loss: 0.5532 - accuracy: 0.7500 - val_loss: 0.6459 - val_accuracy: 0.7000\n",
            "Epoch 45/100\n",
            "120/120 [==============================] - 0s 179us/sample - loss: 0.5385 - accuracy: 0.7167 - val_loss: 0.6369 - val_accuracy: 0.7000\n",
            "Epoch 46/100\n",
            "120/120 [==============================] - 0s 149us/sample - loss: 0.5570 - accuracy: 0.7583 - val_loss: 0.6280 - val_accuracy: 0.7000\n",
            "Epoch 47/100\n",
            "120/120 [==============================] - 0s 133us/sample - loss: 0.5369 - accuracy: 0.7500 - val_loss: 0.6190 - val_accuracy: 0.7000\n",
            "Epoch 48/100\n",
            "120/120 [==============================] - 0s 158us/sample - loss: 0.5296 - accuracy: 0.7583 - val_loss: 0.6107 - val_accuracy: 0.7000\n",
            "Epoch 49/100\n",
            "120/120 [==============================] - 0s 149us/sample - loss: 0.5463 - accuracy: 0.7500 - val_loss: 0.6019 - val_accuracy: 0.7000\n",
            "Epoch 50/100\n",
            "120/120 [==============================] - 0s 147us/sample - loss: 0.5398 - accuracy: 0.7833 - val_loss: 0.5946 - val_accuracy: 0.7000\n",
            "Epoch 51/100\n",
            "120/120 [==============================] - 0s 182us/sample - loss: 0.5228 - accuracy: 0.7583 - val_loss: 0.5868 - val_accuracy: 0.7000\n",
            "Epoch 52/100\n",
            "120/120 [==============================] - 0s 188us/sample - loss: 0.5118 - accuracy: 0.7750 - val_loss: 0.5795 - val_accuracy: 0.7000\n",
            "Epoch 53/100\n",
            "120/120 [==============================] - 0s 153us/sample - loss: 0.5132 - accuracy: 0.7583 - val_loss: 0.5724 - val_accuracy: 0.7000\n",
            "Epoch 54/100\n",
            "120/120 [==============================] - 0s 126us/sample - loss: 0.5089 - accuracy: 0.7833 - val_loss: 0.5657 - val_accuracy: 0.7000\n",
            "Epoch 55/100\n",
            "120/120 [==============================] - 0s 163us/sample - loss: 0.5006 - accuracy: 0.7750 - val_loss: 0.5592 - val_accuracy: 0.7000\n",
            "Epoch 56/100\n",
            "120/120 [==============================] - 0s 160us/sample - loss: 0.5201 - accuracy: 0.7750 - val_loss: 0.5528 - val_accuracy: 0.7000\n",
            "Epoch 57/100\n",
            "120/120 [==============================] - 0s 155us/sample - loss: 0.5100 - accuracy: 0.7667 - val_loss: 0.5464 - val_accuracy: 0.7333\n",
            "Epoch 58/100\n",
            "120/120 [==============================] - 0s 141us/sample - loss: 0.5172 - accuracy: 0.7667 - val_loss: 0.5402 - val_accuracy: 0.7333\n",
            "Epoch 59/100\n",
            "120/120 [==============================] - 0s 122us/sample - loss: 0.4969 - accuracy: 0.7667 - val_loss: 0.5343 - val_accuracy: 0.7333\n",
            "Epoch 60/100\n",
            "120/120 [==============================] - 0s 126us/sample - loss: 0.4943 - accuracy: 0.7833 - val_loss: 0.5282 - val_accuracy: 0.7667\n",
            "Epoch 61/100\n",
            "120/120 [==============================] - 0s 152us/sample - loss: 0.5165 - accuracy: 0.7667 - val_loss: 0.5226 - val_accuracy: 0.7667\n",
            "Epoch 62/100\n",
            "120/120 [==============================] - 0s 150us/sample - loss: 0.5090 - accuracy: 0.7750 - val_loss: 0.5171 - val_accuracy: 0.7667\n",
            "Epoch 63/100\n",
            "120/120 [==============================] - 0s 177us/sample - loss: 0.4973 - accuracy: 0.7833 - val_loss: 0.5119 - val_accuracy: 0.7667\n",
            "Epoch 64/100\n",
            "120/120 [==============================] - 0s 182us/sample - loss: 0.5001 - accuracy: 0.7583 - val_loss: 0.5069 - val_accuracy: 0.7667\n",
            "Epoch 65/100\n",
            "120/120 [==============================] - 0s 151us/sample - loss: 0.4999 - accuracy: 0.7333 - val_loss: 0.5019 - val_accuracy: 0.7667\n",
            "Epoch 66/100\n",
            "120/120 [==============================] - 0s 158us/sample - loss: 0.4840 - accuracy: 0.7833 - val_loss: 0.4974 - val_accuracy: 0.7667\n",
            "Epoch 67/100\n",
            "120/120 [==============================] - 0s 155us/sample - loss: 0.4844 - accuracy: 0.7917 - val_loss: 0.4927 - val_accuracy: 0.7667\n",
            "Epoch 68/100\n",
            "120/120 [==============================] - 0s 148us/sample - loss: 0.4838 - accuracy: 0.8250 - val_loss: 0.4881 - val_accuracy: 0.7667\n",
            "Epoch 69/100\n",
            "120/120 [==============================] - 0s 209us/sample - loss: 0.4746 - accuracy: 0.7750 - val_loss: 0.4836 - val_accuracy: 0.8000\n",
            "Epoch 70/100\n",
            "120/120 [==============================] - 0s 142us/sample - loss: 0.4784 - accuracy: 0.8083 - val_loss: 0.4793 - val_accuracy: 0.8000\n",
            "Epoch 71/100\n",
            "120/120 [==============================] - 0s 158us/sample - loss: 0.4626 - accuracy: 0.8000 - val_loss: 0.4750 - val_accuracy: 0.8000\n",
            "Epoch 72/100\n",
            "120/120 [==============================] - 0s 149us/sample - loss: 0.4651 - accuracy: 0.8167 - val_loss: 0.4709 - val_accuracy: 0.8000\n",
            "Epoch 73/100\n",
            "120/120 [==============================] - 0s 165us/sample - loss: 0.4609 - accuracy: 0.8000 - val_loss: 0.4670 - val_accuracy: 0.8000\n",
            "Epoch 74/100\n",
            "120/120 [==============================] - 0s 171us/sample - loss: 0.4478 - accuracy: 0.8333 - val_loss: 0.4631 - val_accuracy: 0.8000\n",
            "Epoch 75/100\n",
            "120/120 [==============================] - 0s 147us/sample - loss: 0.4607 - accuracy: 0.8000 - val_loss: 0.4592 - val_accuracy: 0.8000\n",
            "Epoch 76/100\n",
            "120/120 [==============================] - 0s 140us/sample - loss: 0.4509 - accuracy: 0.8167 - val_loss: 0.4557 - val_accuracy: 0.8000\n",
            "Epoch 77/100\n",
            "120/120 [==============================] - 0s 169us/sample - loss: 0.4790 - accuracy: 0.7750 - val_loss: 0.4521 - val_accuracy: 0.8000\n",
            "Epoch 78/100\n",
            "120/120 [==============================] - 0s 144us/sample - loss: 0.4674 - accuracy: 0.8083 - val_loss: 0.4486 - val_accuracy: 0.8000\n",
            "Epoch 79/100\n",
            "120/120 [==============================] - 0s 138us/sample - loss: 0.4337 - accuracy: 0.7833 - val_loss: 0.4453 - val_accuracy: 0.8000\n",
            "Epoch 80/100\n",
            "120/120 [==============================] - 0s 178us/sample - loss: 0.4436 - accuracy: 0.7917 - val_loss: 0.4422 - val_accuracy: 0.8000\n",
            "Epoch 81/100\n",
            "120/120 [==============================] - 0s 175us/sample - loss: 0.4623 - accuracy: 0.7917 - val_loss: 0.4389 - val_accuracy: 0.8333\n",
            "Epoch 82/100\n",
            "120/120 [==============================] - 0s 155us/sample - loss: 0.4457 - accuracy: 0.8083 - val_loss: 0.4359 - val_accuracy: 0.8333\n",
            "Epoch 83/100\n",
            "120/120 [==============================] - 0s 154us/sample - loss: 0.4708 - accuracy: 0.7917 - val_loss: 0.4330 - val_accuracy: 0.8333\n",
            "Epoch 84/100\n",
            "120/120 [==============================] - 0s 158us/sample - loss: 0.4406 - accuracy: 0.8083 - val_loss: 0.4301 - val_accuracy: 0.8333\n",
            "Epoch 85/100\n",
            "120/120 [==============================] - 0s 164us/sample - loss: 0.4499 - accuracy: 0.8000 - val_loss: 0.4272 - val_accuracy: 0.8000\n",
            "Epoch 86/100\n",
            "120/120 [==============================] - 0s 132us/sample - loss: 0.4424 - accuracy: 0.7750 - val_loss: 0.4246 - val_accuracy: 0.8000\n",
            "Epoch 87/100\n",
            "120/120 [==============================] - 0s 144us/sample - loss: 0.4534 - accuracy: 0.7833 - val_loss: 0.4218 - val_accuracy: 0.8000\n",
            "Epoch 88/100\n",
            "120/120 [==============================] - 0s 163us/sample - loss: 0.4429 - accuracy: 0.8083 - val_loss: 0.4190 - val_accuracy: 0.8000\n",
            "Epoch 89/100\n",
            "120/120 [==============================] - 0s 162us/sample - loss: 0.4239 - accuracy: 0.8083 - val_loss: 0.4165 - val_accuracy: 0.8333\n",
            "Epoch 90/100\n",
            "120/120 [==============================] - 0s 161us/sample - loss: 0.4339 - accuracy: 0.8083 - val_loss: 0.4140 - val_accuracy: 0.8333\n",
            "Epoch 91/100\n",
            "120/120 [==============================] - 0s 149us/sample - loss: 0.4248 - accuracy: 0.8250 - val_loss: 0.4116 - val_accuracy: 0.8333\n",
            "Epoch 92/100\n",
            "120/120 [==============================] - 0s 154us/sample - loss: 0.4203 - accuracy: 0.8333 - val_loss: 0.4090 - val_accuracy: 0.8333\n",
            "Epoch 93/100\n",
            "120/120 [==============================] - 0s 182us/sample - loss: 0.4292 - accuracy: 0.8000 - val_loss: 0.4066 - val_accuracy: 0.8333\n",
            "Epoch 94/100\n",
            "120/120 [==============================] - 0s 155us/sample - loss: 0.4213 - accuracy: 0.8000 - val_loss: 0.4042 - val_accuracy: 0.8333\n",
            "Epoch 95/100\n",
            "120/120 [==============================] - 0s 161us/sample - loss: 0.4802 - accuracy: 0.8000 - val_loss: 0.4017 - val_accuracy: 0.8333\n",
            "Epoch 96/100\n",
            "120/120 [==============================] - 0s 183us/sample - loss: 0.4173 - accuracy: 0.8250 - val_loss: 0.3994 - val_accuracy: 0.8333\n",
            "Epoch 97/100\n",
            "120/120 [==============================] - 0s 158us/sample - loss: 0.4200 - accuracy: 0.8167 - val_loss: 0.3972 - val_accuracy: 0.8333\n",
            "Epoch 98/100\n",
            "120/120 [==============================] - 0s 158us/sample - loss: 0.4209 - accuracy: 0.8250 - val_loss: 0.3951 - val_accuracy: 0.8333\n",
            "Epoch 99/100\n",
            "120/120 [==============================] - 0s 143us/sample - loss: 0.4167 - accuracy: 0.8500 - val_loss: 0.3931 - val_accuracy: 0.8333\n",
            "Epoch 100/100\n",
            "120/120 [==============================] - 0s 158us/sample - loss: 0.4107 - accuracy: 0.8250 - val_loss: 0.3910 - val_accuracy: 0.8333\n"
          ],
          "name": "stdout"
        },
        {
          "output_type": "execute_result",
          "data": {
            "text/plain": [
              "<tensorflow.python.keras.callbacks.History at 0x7f08a7d55fd0>"
            ]
          },
          "metadata": {
            "tags": []
          },
          "execution_count": 421
        }
      ]
    },
    {
      "cell_type": "markdown",
      "metadata": {
        "colab_type": "text",
        "id": "y-SgSSdRcih5"
      },
      "source": [
        "### Model Prediction"
      ]
    },
    {
      "cell_type": "code",
      "metadata": {
        "colab_type": "code",
        "id": "GBgKZkhkcih6",
        "colab": {
          "base_uri": "https://localhost:8080/",
          "height": 578
        },
        "outputId": "f07272d7-ca15-47d6-8072-f19072dc565a"
      },
      "source": [
        "model.predict(x_test_iris)"
      ],
      "execution_count": 422,
      "outputs": [
        {
          "output_type": "execute_result",
          "data": {
            "text/plain": [
              "array([[9.0951771e-01, 8.5370637e-02, 5.1116967e-03],\n",
              "       [8.8457090e-01, 1.0866427e-01, 6.7647793e-03],\n",
              "       [9.1694230e-01, 7.6688483e-02, 6.3692583e-03],\n",
              "       [8.6101884e-01, 1.2970920e-01, 9.2719318e-03],\n",
              "       [9.9414402e-01, 4.7805021e-03, 1.0754565e-03],\n",
              "       [8.5416174e-04, 6.5885536e-02, 9.3326026e-01],\n",
              "       [6.0827240e-02, 6.5912217e-01, 2.8005055e-01],\n",
              "       [9.2890114e-01, 6.6723309e-02, 4.3755118e-03],\n",
              "       [1.8209733e-02, 2.0335221e-01, 7.7843803e-01],\n",
              "       [1.5716682e-01, 3.3294219e-01, 5.0989097e-01],\n",
              "       [1.7768560e-01, 4.6005359e-01, 3.6226085e-01],\n",
              "       [8.4807259e-01, 1.4586550e-01, 6.0619446e-03],\n",
              "       [9.9892847e-02, 5.8029652e-01, 3.1981063e-01],\n",
              "       [3.7438668e-02, 7.1125138e-01, 2.5130999e-01],\n",
              "       [7.3085683e-03, 2.5442791e-01, 7.3826355e-01],\n",
              "       [9.4785804e-01, 4.8746433e-02, 3.3955155e-03],\n",
              "       [2.6316576e-02, 4.0582132e-01, 5.6786209e-01],\n",
              "       [4.4215363e-03, 1.2179830e-01, 8.7378019e-01],\n",
              "       [7.2998633e-03, 5.3329277e-01, 4.5940739e-01],\n",
              "       [9.0661329e-01, 8.8941932e-02, 4.4447761e-03],\n",
              "       [2.6900625e-02, 4.4378901e-01, 5.2931035e-01],\n",
              "       [1.2527098e-02, 2.3799111e-01, 7.4948180e-01],\n",
              "       [1.3532966e-02, 3.6029527e-01, 6.2617177e-01],\n",
              "       [6.7077130e-02, 3.0976158e-01, 6.2316138e-01],\n",
              "       [9.7702730e-01, 1.9614872e-02, 3.3578300e-03],\n",
              "       [9.7844079e-03, 9.7657286e-02, 8.9255834e-01],\n",
              "       [2.3559522e-02, 1.9471873e-01, 7.8172177e-01],\n",
              "       [1.8483903e-01, 4.4528630e-01, 3.6987466e-01],\n",
              "       [1.0683220e-01, 7.5919950e-01, 1.3396823e-01],\n",
              "       [1.0617974e-01, 2.9141518e-01, 6.0240513e-01]], dtype=float32)"
            ]
          },
          "metadata": {
            "tags": []
          },
          "execution_count": 422
        }
      ]
    },
    {
      "cell_type": "code",
      "metadata": {
        "id": "-1RVeKEohUjb",
        "colab_type": "code",
        "colab": {
          "base_uri": "https://localhost:8080/",
          "height": 54
        },
        "outputId": "5a1b8926-3687-497e-fcc2-730c9f03ed3e"
      },
      "source": [
        "model.predict_classes(x_test_iris)"
      ],
      "execution_count": 423,
      "outputs": [
        {
          "output_type": "execute_result",
          "data": {
            "text/plain": [
              "array([0, 0, 0, 0, 0, 2, 1, 0, 2, 2, 1, 0, 1, 1, 2, 0, 2, 2, 1, 0, 2, 2,\n",
              "       2, 2, 0, 2, 2, 1, 1, 2])"
            ]
          },
          "metadata": {
            "tags": []
          },
          "execution_count": 423
        }
      ]
    },
    {
      "cell_type": "code",
      "metadata": {
        "id": "2W8gYdGBlBiG",
        "colab_type": "code",
        "colab": {
          "base_uri": "https://localhost:8080/",
          "height": 241
        },
        "outputId": "fe10bc7d-d34e-4b4f-aead-cce55bd9ad68"
      },
      "source": [
        "model.summary()"
      ],
      "execution_count": 424,
      "outputs": [
        {
          "output_type": "stream",
          "text": [
            "Model: \"sequential_5\"\n",
            "_________________________________________________________________\n",
            "Layer (type)                 Output Shape              Param #   \n",
            "=================================================================\n",
            "batch_normalization_5 (Batch (None, 4)                 16        \n",
            "_________________________________________________________________\n",
            "dense_5 (Dense)              (None, 3)                 15        \n",
            "=================================================================\n",
            "Total params: 31\n",
            "Trainable params: 23\n",
            "Non-trainable params: 8\n",
            "_________________________________________________________________\n"
          ],
          "name": "stdout"
        }
      ]
    },
    {
      "cell_type": "markdown",
      "metadata": {
        "colab_type": "text",
        "id": "P32ASP1Vjt0a"
      },
      "source": [
        "### Save the Model"
      ]
    },
    {
      "cell_type": "code",
      "metadata": {
        "colab_type": "code",
        "id": "n8rd0jjAjyTR",
        "colab": {
          "base_uri": "https://localhost:8080/",
          "height": 36
        },
        "outputId": "bb4eb93e-792d-48f1-cf8c-8755c942fbbc"
      },
      "source": [
        "model.save('R6_External_Lab_Updated_Gurgaon_v1.pynb')"
      ],
      "execution_count": 425,
      "outputs": [
        {
          "output_type": "stream",
          "text": [
            "INFO:tensorflow:Assets written to: R6_External_Lab_Updated_Gurgaon_v1.pynb/assets\n"
          ],
          "name": "stdout"
        }
      ]
    },
    {
      "cell_type": "markdown",
      "metadata": {
        "colab_type": "text",
        "id": "XiipRpe7rbVh"
      },
      "source": [
        "### Build and Train a Deep Neural network with 2 hidden layer  - Optional - For Practice\n",
        "\n",
        "Does it perform better than Linear Classifier? What could be the reason for difference in performance?"
      ]
    },
    {
      "cell_type": "code",
      "metadata": {
        "colab_type": "code",
        "id": "v5Du3lubr4sA",
        "colab": {}
      },
      "source": [
        ""
      ],
      "execution_count": 0,
      "outputs": []
    }
  ]
}