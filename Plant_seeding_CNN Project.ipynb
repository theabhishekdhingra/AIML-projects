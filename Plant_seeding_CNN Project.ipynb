{
  "nbformat": 4,
  "nbformat_minor": 0,
  "metadata": {
    "colab": {
      "name": "CNNProject_change_convert RGB.ipynb",
      "provenance": [],
      "collapsed_sections": []
    },
    "kernelspec": {
      "name": "python3",
      "display_name": "Python 3"
    }
  },
  "cells": [
    {
      "cell_type": "markdown",
      "metadata": {
        "id": "T7n6FUSA_6RM",
        "colab_type": "text"
      },
      "source": [
        "You are provided with a training set and a test set of images of plant seedlings at various stages of grown. Each image has a filename that is its unique id. The dataset comprises 12 plant species. The goal of the competition is to create a classifier capable of determining a plant's species from a photo. The list of species is as follows:\n",
        "\n",
        "Black-grass\n",
        "Charlock\n",
        "Cleavers\n",
        "Common Chickweed\n",
        "Common wheat\n",
        "Fat Hen\n",
        "Loose Silky-bent\n",
        "Maize\n",
        "Scentless Mayweed\n",
        "Shepherds Purse\n",
        "Small-flowered Cranesbill\n",
        "Sugar beet"
      ]
    },
    {
      "cell_type": "markdown",
      "metadata": {
        "id": "XNpB_5oQAaYC",
        "colab_type": "text"
      },
      "source": [
        "1) Mounting Google Drive, Data set of 1.7 GB is uploaded in the google drive under directory \"/content/drive/My Drive/CNN/plant-seedlings-classification/train"
      ]
    },
    {
      "cell_type": "code",
      "metadata": {
        "id": "W1H8M_Moljqq",
        "colab_type": "code",
        "colab": {
          "base_uri": "https://localhost:8080/",
          "height": 34
        },
        "outputId": "da2fa418-afae-4232-dbc7-7c1116a29ba4"
      },
      "source": [
        "from google.colab import drive\n",
        "drive.mount('/content/drive',force_remount=True)"
      ],
      "execution_count": 13,
      "outputs": [
        {
          "output_type": "stream",
          "text": [
            "Mounted at /content/drive\n"
          ],
          "name": "stdout"
        }
      ]
    },
    {
      "cell_type": "markdown",
      "metadata": {
        "id": "FV8n6kupA3eQ",
        "colab_type": "text"
      },
      "source": [
        "Importing all libraries that will be needed during the course of this code\n",
        "\n",
        "OS library will be used to traverse the flowers directory\n",
        "\n",
        "PIL library will be used to read the images\n",
        "\n",
        "Keras will be used to create the model"
      ]
    },
    {
      "cell_type": "code",
      "metadata": {
        "id": "yA5bv0m6oaey",
        "colab_type": "code",
        "colab": {}
      },
      "source": [
        "import pandas as pd\n",
        "import os\n",
        "import numpy as np\n",
        "from PIL import Image, ImageOps\n",
        "from sklearn.model_selection import train_test_split\n",
        "import cv2\n",
        "# KERAS AND SKLEARN MODULES\n",
        "from keras.utils import np_utils\n",
        "from keras.preprocessing.image import ImageDataGenerator\n",
        "from keras.models import Sequential\n",
        "from keras.layers import Dense\n",
        "from keras.layers import Dropout\n",
        "from keras.layers import Flatten\n",
        "from keras.layers.convolutional import Conv2D\n",
        "from keras.layers.convolutional import MaxPooling2D\n",
        "from keras.layers import BatchNormalization\n",
        "import keras.callbacks"
      ],
      "execution_count": 14,
      "outputs": []
    },
    {
      "cell_type": "markdown",
      "metadata": {
        "id": "ML7cZXBeBaPO",
        "colab_type": "text"
      },
      "source": [
        "Under Directory \"/content/drive/My Drive/CNN/plant-seedlings-classification/train\" there are 12 folders categorizing each flower. Under each folder there are multiple images of one flower"
      ]
    },
    {
      "cell_type": "code",
      "metadata": {
        "id": "c_BMk52hpP4j",
        "colab_type": "code",
        "colab": {}
      },
      "source": [
        "os.chdir('/content/drive/My Drive/CNN/plant-seedlings-classification/train')"
      ],
      "execution_count": 15,
      "outputs": []
    },
    {
      "cell_type": "code",
      "metadata": {
        "id": "IPZSzWZN8GSz",
        "colab_type": "code",
        "colab": {}
      },
      "source": [
        "path=os.chdir('/content/drive/My Drive/CNN/plant-seedlings-classification/train')"
      ],
      "execution_count": 16,
      "outputs": []
    },
    {
      "cell_type": "code",
      "metadata": {
        "colab_type": "code",
        "id": "WPNowCQkrjUw",
        "colab": {}
      },
      "source": [
        "flower_names=os.listdir()"
      ],
      "execution_count": 17,
      "outputs": []
    },
    {
      "cell_type": "code",
      "metadata": {
        "id": "8ex86cDDo7Qj",
        "colab_type": "code",
        "colab": {
          "base_uri": "https://localhost:8080/",
          "height": 54
        },
        "outputId": "2a0d6f38-ed3b-4fed-d3d7-313c9cd5ef72"
      },
      "source": [
        "print(flower_names)"
      ],
      "execution_count": 18,
      "outputs": [
        {
          "output_type": "stream",
          "text": [
            "['Shepherds Purse', 'Maize', 'Loose Silky-bent', 'Small-flowered Cranesbill', 'Common Chickweed', 'Sugar beet', 'Fat Hen', 'Common wheat', 'Scentless Mayweed', 'Black-grass', 'Cleavers', 'Charlock', 'model-001-0.629211-0.145263.h5', 'model-001.h5', 'model-010.h5', 'model-011.h5', 'model-012.h5', 'model-013.h5', 'model-015.h5', 'model-016.h5', 'model-018.h5', 'model-022.h5', 'output_file.csv']\n"
          ],
          "name": "stdout"
        }
      ]
    },
    {
      "cell_type": "markdown",
      "metadata": {
        "id": "_7xCy32XOQFJ",
        "colab_type": "text"
      },
      "source": [
        "Creating dictionary with the flowers name in the train directory"
      ]
    },
    {
      "cell_type": "code",
      "metadata": {
        "id": "jzQ2_DvpubaT",
        "colab_type": "code",
        "colab": {}
      },
      "source": [
        "category_flowernames={'Cleavers' : '0','Common wheat' : '1', 'Black-grass' : '2', 'Maize' : '3', 'Fat Hen' : '4', 'Common Chickweed' : '5', 'Loose Silky-bent' : '6', 'Sugar beet' : '7', 'Scentless Mayweed' : '8', 'Charlock' : '9', 'Small-flowered Cranesbill' : '10', 'Shepherds Purse' : '11'}\n",
        "#category_flowernames={'Cleavers' : '0', 'Fat Hen' : '1', 'Shepherds Purse' : '2'}"
      ],
      "execution_count": 19,
      "outputs": []
    },
    {
      "cell_type": "code",
      "metadata": {
        "id": "kuwcQnA6vZma",
        "colab_type": "code",
        "colab": {
          "base_uri": "https://localhost:8080/",
          "height": 54
        },
        "outputId": "3f4f2b33-3e70-4213-cfa7-65de5ee1c491"
      },
      "source": [
        "print(category_flowernames)"
      ],
      "execution_count": 20,
      "outputs": [
        {
          "output_type": "stream",
          "text": [
            "{'Cleavers': '0', 'Common wheat': '1', 'Black-grass': '2', 'Maize': '3', 'Fat Hen': '4', 'Common Chickweed': '5', 'Loose Silky-bent': '6', 'Sugar beet': '7', 'Scentless Mayweed': '8', 'Charlock': '9', 'Small-flowered Cranesbill': '10', 'Shepherds Purse': '11'}\n"
          ],
          "name": "stdout"
        }
      ]
    },
    {
      "cell_type": "code",
      "metadata": {
        "id": "PI-ZMU9fvhUT",
        "colab_type": "code",
        "colab": {
          "base_uri": "https://localhost:8080/",
          "height": 235
        },
        "outputId": "fe312471-dbc6-45ec-8be4-cf2fc656a516"
      },
      "source": [
        "for category,(dirpath,dirname,filelist) in enumerate(os.walk(top='/content/drive/My Drive/CNN/plant-seedlings-classification/train/')):\n",
        "  #print('Category is {} and name is {}'.format(category,name[0]))\n",
        "  print(dirpath)"
      ],
      "execution_count": 21,
      "outputs": [
        {
          "output_type": "stream",
          "text": [
            "/content/drive/My Drive/CNN/plant-seedlings-classification/train/\n",
            "/content/drive/My Drive/CNN/plant-seedlings-classification/train/Shepherds Purse\n",
            "/content/drive/My Drive/CNN/plant-seedlings-classification/train/Maize\n",
            "/content/drive/My Drive/CNN/plant-seedlings-classification/train/Loose Silky-bent\n",
            "/content/drive/My Drive/CNN/plant-seedlings-classification/train/Small-flowered Cranesbill\n",
            "/content/drive/My Drive/CNN/plant-seedlings-classification/train/Common Chickweed\n",
            "/content/drive/My Drive/CNN/plant-seedlings-classification/train/Sugar beet\n",
            "/content/drive/My Drive/CNN/plant-seedlings-classification/train/Fat Hen\n",
            "/content/drive/My Drive/CNN/plant-seedlings-classification/train/Common wheat\n",
            "/content/drive/My Drive/CNN/plant-seedlings-classification/train/Scentless Mayweed\n",
            "/content/drive/My Drive/CNN/plant-seedlings-classification/train/Black-grass\n",
            "/content/drive/My Drive/CNN/plant-seedlings-classification/train/Cleavers\n",
            "/content/drive/My Drive/CNN/plant-seedlings-classification/train/Charlock\n"
          ],
          "name": "stdout"
        }
      ]
    },
    {
      "cell_type": "code",
      "metadata": {
        "id": "WCzeKd-79plc",
        "colab_type": "code",
        "colab": {}
      },
      "source": [
        "path='/content/drive/My Drive/CNN/plant-seedlings-classification/train/'"
      ],
      "execution_count": 22,
      "outputs": []
    },
    {
      "cell_type": "code",
      "metadata": {
        "id": "VaxUPtLbcaHj",
        "colab_type": "code",
        "colab": {}
      },
      "source": [
        "imgs=[]\n",
        "imgs_label=[]\n",
        "y_test=[]\n",
        "y_train=[]\n"
      ],
      "execution_count": 23,
      "outputs": []
    },
    {
      "cell_type": "markdown",
      "metadata": {
        "id": "exkUXBrVOgZA",
        "colab_type": "text"
      },
      "source": [
        "#Reading flowers images from each subdirectory and assiging labels to the flowers. Flowers and labels are read in the separate array"
      ]
    },
    {
      "cell_type": "code",
      "metadata": {
        "id": "xRu0R27SxktA",
        "colab_type": "code",
        "colab": {
          "base_uri": "https://localhost:8080/",
          "height": 622
        },
        "outputId": "54f36547-a87c-44e6-9ae5-d29ea80b19dd"
      },
      "source": [
        "for category,(dirpath,dirname,filelist) in enumerate(os.walk(top='/content/drive/My Drive/CNN/plant-seedlings-classification/train/')):\n",
        "  #for dirpath in name:\n",
        "  if dirpath == path :\n",
        "    continue;\n",
        "    \n",
        "  print(category_flowernames.get(dirpath.split('/')[-1]))\n",
        "  print(dirpath)\n",
        " # tmp_img=[Image.open((os.path.join(dirpath,filename))) for filename in filelist if os.path.isfile(os.path.join(dirpath,filename))]\n",
        "  imgs.append([Image.open((os.path.join(dirpath,filename))).convert('RGBA') for filename in filelist if os.path.isfile(os.path.join(dirpath,filename))])\n",
        "  #impic=[Image.open((os.path.join(dirpath,filename))) for filename in filelist if os.path.isfile(os.path.join(dirpath,filename))]\n",
        " # cv.imread(os.path.join(dirpath,filename) for filename in filelist if os.path.isfile(os.path.join(dirpath,filename)))\n",
        "  #imgs.append(cv.resize(impic,(ScaleTo, ScaleTo)))\n",
        " ##waste imgs.append(cv.resize([Image.open((os.path.join(dirpath,filename))) for filename in filelist if os.path.isfile(os.path.join(dirpath,filename))],(ScaleTo, ScaleTo)))\n",
        "  imgs_label.append([category_flowernames.get(dirpath.split('/')[-1]) for num in range(0,len(filelist))])\n",
        "  print(dirpath);"
      ],
      "execution_count": 24,
      "outputs": [
        {
          "output_type": "stream",
          "text": [
            "11\n",
            "/content/drive/My Drive/CNN/plant-seedlings-classification/train/Shepherds Purse\n",
            "/content/drive/My Drive/CNN/plant-seedlings-classification/train/Shepherds Purse\n",
            "3\n",
            "/content/drive/My Drive/CNN/plant-seedlings-classification/train/Maize\n",
            "/content/drive/My Drive/CNN/plant-seedlings-classification/train/Maize\n",
            "6\n",
            "/content/drive/My Drive/CNN/plant-seedlings-classification/train/Loose Silky-bent\n",
            "/content/drive/My Drive/CNN/plant-seedlings-classification/train/Loose Silky-bent\n",
            "10\n",
            "/content/drive/My Drive/CNN/plant-seedlings-classification/train/Small-flowered Cranesbill\n",
            "/content/drive/My Drive/CNN/plant-seedlings-classification/train/Small-flowered Cranesbill\n",
            "5\n",
            "/content/drive/My Drive/CNN/plant-seedlings-classification/train/Common Chickweed\n",
            "/content/drive/My Drive/CNN/plant-seedlings-classification/train/Common Chickweed\n",
            "7\n",
            "/content/drive/My Drive/CNN/plant-seedlings-classification/train/Sugar beet\n",
            "/content/drive/My Drive/CNN/plant-seedlings-classification/train/Sugar beet\n",
            "4\n",
            "/content/drive/My Drive/CNN/plant-seedlings-classification/train/Fat Hen\n",
            "/content/drive/My Drive/CNN/plant-seedlings-classification/train/Fat Hen\n",
            "1\n",
            "/content/drive/My Drive/CNN/plant-seedlings-classification/train/Common wheat\n",
            "/content/drive/My Drive/CNN/plant-seedlings-classification/train/Common wheat\n",
            "8\n",
            "/content/drive/My Drive/CNN/plant-seedlings-classification/train/Scentless Mayweed\n",
            "/content/drive/My Drive/CNN/plant-seedlings-classification/train/Scentless Mayweed\n",
            "2\n",
            "/content/drive/My Drive/CNN/plant-seedlings-classification/train/Black-grass\n",
            "/content/drive/My Drive/CNN/plant-seedlings-classification/train/Black-grass\n",
            "0\n",
            "/content/drive/My Drive/CNN/plant-seedlings-classification/train/Cleavers\n",
            "/content/drive/My Drive/CNN/plant-seedlings-classification/train/Cleavers\n",
            "9\n",
            "/content/drive/My Drive/CNN/plant-seedlings-classification/train/Charlock\n",
            "/content/drive/My Drive/CNN/plant-seedlings-classification/train/Charlock\n"
          ],
          "name": "stdout"
        }
      ]
    },
    {
      "cell_type": "code",
      "metadata": {
        "id": "qUHEmtKeG1OO",
        "colab_type": "code",
        "colab": {}
      },
      "source": [
        "imgs=np.array(imgs)"
      ],
      "execution_count": 25,
      "outputs": []
    },
    {
      "cell_type": "code",
      "metadata": {
        "id": "o2r-fJkWG_2L",
        "colab_type": "code",
        "colab": {
          "base_uri": "https://localhost:8080/",
          "height": 34
        },
        "outputId": "9455c7b1-8a63-44f7-a3e7-5867de69c6d7"
      },
      "source": [
        "imgs.shape"
      ],
      "execution_count": 26,
      "outputs": [
        {
          "output_type": "execute_result",
          "data": {
            "text/plain": [
              "(12,)"
            ]
          },
          "metadata": {
            "tags": []
          },
          "execution_count": 26
        }
      ]
    },
    {
      "cell_type": "markdown",
      "metadata": {
        "id": "hhjL49TGO8w7",
        "colab_type": "text"
      },
      "source": [
        "#Flowers are read in a list of list, total number of list are 12 each corresponding to one flower. Converting list of list to a list "
      ]
    },
    {
      "cell_type": "code",
      "metadata": {
        "id": "FkywYqKXEs2q",
        "colab_type": "code",
        "colab": {}
      },
      "source": [
        "allimgs=([im for li in imgs for im in li])\n",
        "alllabels=([la for li in imgs_label for la in li])"
      ],
      "execution_count": 27,
      "outputs": []
    },
    {
      "cell_type": "code",
      "metadata": {
        "id": "9qX9rcb5HMXc",
        "colab_type": "code",
        "colab": {
          "base_uri": "https://localhost:8080/",
          "height": 34
        },
        "outputId": "747b9ae0-eb53-42ab-c1a8-cee9d4cf8ea7"
      },
      "source": [
        "type(allimgs)"
      ],
      "execution_count": 28,
      "outputs": [
        {
          "output_type": "execute_result",
          "data": {
            "text/plain": [
              "list"
            ]
          },
          "metadata": {
            "tags": []
          },
          "execution_count": 28
        }
      ]
    },
    {
      "cell_type": "code",
      "metadata": {
        "id": "ApYw3DE5KwKi",
        "colab_type": "code",
        "colab": {
          "base_uri": "https://localhost:8080/",
          "height": 34
        },
        "outputId": "3f7dd659-499a-4e11-8941-7eff421b14f8"
      },
      "source": [
        "len(alllabels)"
      ],
      "execution_count": 29,
      "outputs": [
        {
          "output_type": "execute_result",
          "data": {
            "text/plain": [
              "4750"
            ]
          },
          "metadata": {
            "tags": []
          },
          "execution_count": 29
        }
      ]
    },
    {
      "cell_type": "code",
      "metadata": {
        "id": "dLPJ2m9t5OgU",
        "colab_type": "code",
        "colab": {}
      },
      "source": [
        "#allimgs[0]"
      ],
      "execution_count": 30,
      "outputs": []
    },
    {
      "cell_type": "code",
      "metadata": {
        "id": "uL_xewEkHWnR",
        "colab_type": "code",
        "colab": {
          "base_uri": "https://localhost:8080/",
          "height": 117
        },
        "outputId": "63ce01d9-48b6-4f0b-c095-d4f8e3ca0fa6"
      },
      "source": [
        "allimgs[1].resize((100,100))"
      ],
      "execution_count": 31,
      "outputs": [
        {
          "output_type": "execute_result",
          "data": {
            "image/png": "[encoded data removed]",
            "text/plain": [
              "<PIL.Image.Image image mode=RGBA size=100x100 at 0x7F2812B896D8>"
            ]
          },
          "metadata": {
            "tags": []
          },
          "execution_count": 31
        }
      ]
    },
    {
      "cell_type": "code",
      "metadata": {
        "id": "5AfyjJ7Q7XjJ",
        "colab_type": "code",
        "colab": {}
      },
      "source": [
        "allimgs_new=[]\n",
        "alllabels_new=[]\n",
        "allimgs_resize=[]"
      ],
      "execution_count": 32,
      "outputs": []
    },
    {
      "cell_type": "code",
      "metadata": {
        "id": "okWk-mMW8XPa",
        "colab_type": "code",
        "colab": {}
      },
      "source": [
        "allimgs_new=allimgs\n",
        "alllabels_new=alllabels"
      ],
      "execution_count": 33,
      "outputs": []
    },
    {
      "cell_type": "code",
      "metadata": {
        "id": "WZTM8nbf0-cx",
        "colab_type": "code",
        "colab": {}
      },
      "source": [
        "#for i in range(0,len(alllabels)):\n",
        " # if allimgs[i].mode == 'RGBA':\n",
        "  #  continue\n",
        "\n",
        "  #allimgs_new.append(allimgs[i])\n",
        "  ###allimgs_resize.append(cv.resize(allimgs[i],(ScaleTo, ScaleTo), interpolation=cv.INTER_LINEAR))\n",
        "  #alllabels_new.append(alllabels[i])"
      ],
      "execution_count": 34,
      "outputs": []
    },
    {
      "cell_type": "code",
      "metadata": {
        "id": "DahDEomo4hfG",
        "colab_type": "code",
        "colab": {}
      },
      "source": [
        "#allimgs=np.asarray(allimgs,dtype='float32')"
      ],
      "execution_count": 35,
      "outputs": []
    },
    {
      "cell_type": "markdown",
      "metadata": {
        "id": "K3G0W7XxPxjr",
        "colab_type": "text"
      },
      "source": [
        "#Each image is of different size , few are very big and few are very small. Hence we need to bring all images to the same size that is 118*118. Below logic convert image to the same size"
      ]
    },
    {
      "cell_type": "code",
      "metadata": {
        "id": "Y3hQoZsMLvQM",
        "colab_type": "code",
        "colab": {}
      },
      "source": [
        "Scale=118"
      ],
      "execution_count": 36,
      "outputs": []
    },
    {
      "cell_type": "code",
      "metadata": {
        "id": "ZgIhftgc8Kln",
        "colab_type": "code",
        "colab": {}
      },
      "source": [
        "for im1 in range(0,len(alllabels_new)):\n",
        "  allimgs_new[im1]=allimgs_new[im1].resize((Scale, Scale))"
      ],
      "execution_count": 37,
      "outputs": []
    },
    {
      "cell_type": "markdown",
      "metadata": {
        "id": "lIldh7M3QJBA",
        "colab_type": "text"
      },
      "source": [
        "#Dividing data in train, test "
      ]
    },
    {
      "cell_type": "code",
      "metadata": {
        "id": "dG7cES1-NAPX",
        "colab_type": "code",
        "colab": {}
      },
      "source": [
        "X_train,X_test,y_train,y_test=train_test_split(allimgs_new,alllabels_new,test_size=0.2,random_state=5)"
      ],
      "execution_count": 38,
      "outputs": []
    },
    {
      "cell_type": "code",
      "metadata": {
        "id": "zvYgAaUx7k8n",
        "colab_type": "code",
        "colab": {}
      },
      "source": [
        "#X_train[3]"
      ],
      "execution_count": 39,
      "outputs": []
    },
    {
      "cell_type": "code",
      "metadata": {
        "id": "8x_5DMejaoGj",
        "colab_type": "code",
        "colab": {}
      },
      "source": [
        "left = 155\n",
        "top = 65\n",
        "right = 360\n",
        "bottom = 270"
      ],
      "execution_count": 40,
      "outputs": []
    },
    {
      "cell_type": "code",
      "metadata": {
        "id": "wPmbqXHgdPtd",
        "colab_type": "code",
        "colab": {}
      },
      "source": [
        "#X_train[3]=X_train[3].crop((left,top,right,bottom))"
      ],
      "execution_count": 41,
      "outputs": []
    },
    {
      "cell_type": "code",
      "metadata": {
        "id": "UbNu0ttzeIlR",
        "colab_type": "code",
        "colab": {}
      },
      "source": [
        "#for im1 in range(0,len(X_train)):\n",
        " # width, height = X_train[im1].size\n",
        "  #left = 6\n",
        "  #top = height / 4\n",
        "  #right = 174\n",
        "  #bottom = 3 * height / 4\n",
        "  #X_train[im1]=X_train[im1].crop((left,top,right,bottom))\n",
        "  ##X_train[im1]=X_train[im1].resize((200*200))"
      ],
      "execution_count": 42,
      "outputs": []
    },
    {
      "cell_type": "code",
      "metadata": {
        "id": "b45S55_Fwm-J",
        "colab_type": "code",
        "colab": {}
      },
      "source": [
        "#for im1 in range(0,len(X_train)):\n",
        " # X_train[im1]=X_train[im1].resize((ScaleTo, ScaleTo))"
      ],
      "execution_count": 43,
      "outputs": []
    },
    {
      "cell_type": "code",
      "metadata": {
        "id": "yR6THdp-CxqJ",
        "colab_type": "code",
        "colab": {
          "base_uri": "https://localhost:8080/",
          "height": 1000
        },
        "outputId": "62da1e15-b285-4f07-9ec2-65b7d73b8326"
      },
      "source": [
        "X_train"
      ],
      "execution_count": 44,
      "outputs": [
        {
          "output_type": "execute_result",
          "data": {
            "text/plain": [
              "[<PIL.Image.Image image mode=RGBA size=118x118 at 0x7F2812048780>,\n",
              " <PIL.Image.Image image mode=RGBA size=118x118 at 0x7F28120F66A0>,\n",
              " <PIL.Image.Image image mode=RGBA size=118x118 at 0x7F2811D9F9B0>,\n",
              " <PIL.Image.Image image mode=RGBA size=118x118 at 0x7F2811DD5E10>,\n",
              " <PIL.Image.Image image mode=RGBA size=118x118 at 0x7F2811E75240>,\n",
              " <PIL.Image.Image image mode=RGBA size=118x118 at 0x7F2811CFFF60>,\n",
              " <PIL.Image.Image image mode=RGBA size=118x118 at 0x7F2811F7A630>,\n",
              " <PIL.Image.Image image mode=RGBA size=118x118 at 0x7F281200B2B0>,\n",
              " <PIL.Image.Image image mode=RGBA size=118x118 at 0x7F2811FECA90>,\n",
              " <PIL.Image.Image image mode=RGBA size=118x118 at 0x7F2811E85E80>,\n",
              " <PIL.Image.Image image mode=RGBA size=118x118 at 0x7F2811F15860>,\n",
              " <PIL.Image.Image image mode=RGBA size=118x118 at 0x7F2811E75CC0>,\n",
              " <PIL.Image.Image image mode=RGBA size=118x118 at 0x7F2811DFC860>,\n",
              " <PIL.Image.Image image mode=RGBA size=118x118 at 0x7F2811E42550>,\n",
              " <PIL.Image.Image image mode=RGBA size=118x118 at 0x7F2811D16400>,\n",
              " <PIL.Image.Image image mode=RGBA size=118x118 at 0x7F2811F98C50>,\n",
              " <PIL.Image.Image image mode=RGBA size=118x118 at 0x7F2811E42710>,\n",
              " <PIL.Image.Image image mode=RGBA size=118x118 at 0x7F2812030390>,\n",
              " <PIL.Image.Image image mode=RGBA size=118x118 at 0x7F2811DEAC50>,\n",
              " <PIL.Image.Image image mode=RGBA size=118x118 at 0x7F281209D5C0>,\n",
              " <PIL.Image.Image image mode=RGBA size=118x118 at 0x7F2811E6D550>,\n",
              " <PIL.Image.Image image mode=RGBA size=118x118 at 0x7F2812023320>,\n",
              " <PIL.Image.Image image mode=RGBA size=118x118 at 0x7F2811D5BFD0>,\n",
              " <PIL.Image.Image image mode=RGBA size=118x118 at 0x7F2811D2C1D0>,\n",
              " <PIL.Image.Image image mode=RGBA size=118x118 at 0x7F2811DEA780>,\n",
              " <PIL.Image.Image image mode=RGBA size=118x118 at 0x7F2811F3E080>,\n",
              " <PIL.Image.Image image mode=RGBA size=118x118 at 0x7F2811F69780>,\n",
              " <PIL.Image.Image image mode=RGBA size=118x118 at 0x7F2811D681D0>,\n",
              " <PIL.Image.Image image mode=RGBA size=118x118 at 0x7F2811F3ED30>,\n",
              " <PIL.Image.Image image mode=RGBA size=118x118 at 0x7F2812058550>,\n",
              " <PIL.Image.Image image mode=RGBA size=118x118 at 0x7F2811D25C50>,\n",
              " <PIL.Image.Image image mode=RGBA size=118x118 at 0x7F2811F4BDA0>,\n",
              " <PIL.Image.Image image mode=RGBA size=118x118 at 0x7F281201AD30>,\n",
              " <PIL.Image.Image image mode=RGBA size=118x118 at 0x7F2811FA0550>,\n",
              " <PIL.Image.Image image mode=RGBA size=118x118 at 0x7F2811D7AF60>,\n",
              " <PIL.Image.Image image mode=RGBA size=118x118 at 0x7F2811EE05C0>,\n",
              " <PIL.Image.Image image mode=RGBA size=118x118 at 0x7F2811E2FE10>,\n",
              " <PIL.Image.Image image mode=RGBA size=118x118 at 0x7F2811D52470>,\n",
              " <PIL.Image.Image image mode=RGBA size=118x118 at 0x7F2812086B00>,\n",
              " <PIL.Image.Image image mode=RGBA size=118x118 at 0x7F2811F1ED30>,\n",
              " <PIL.Image.Image image mode=RGBA size=118x118 at 0x7F2811F337F0>,\n",
              " <PIL.Image.Image image mode=RGBA size=118x118 at 0x7F2811D250F0>,\n",
              " <PIL.Image.Image image mode=RGBA size=118x118 at 0x7F2811EC9DA0>,\n",
              " <PIL.Image.Image image mode=RGBA size=118x118 at 0x7F281207F780>,\n",
              " <PIL.Image.Image image mode=RGBA size=118x118 at 0x7F2811F4BB70>,\n",
              " <PIL.Image.Image image mode=RGBA size=118x118 at 0x7F2811E396A0>,\n",
              " <PIL.Image.Image image mode=RGBA size=118x118 at 0x7F2812058630>,\n",
              " <PIL.Image.Image image mode=RGBA size=118x118 at 0x7F2811D25A20>,\n",
              " <PIL.Image.Image image mode=RGBA size=118x118 at 0x7F2811D25E80>,\n",
              " <PIL.Image.Image image mode=RGBA size=118x118 at 0x7F28120F67F0>,\n",
              " <PIL.Image.Image image mode=RGBA size=118x118 at 0x7F2811DAEE10>,\n",
              " <PIL.Image.Image image mode=RGBA size=118x118 at 0x7F2811DEA9B0>,\n",
              " <PIL.Image.Image image mode=RGBA size=118x118 at 0x7F2811FCE400>,\n",
              " <PIL.Image.Image image mode=RGBA size=118x118 at 0x7F2811DC6780>,\n",
              " <PIL.Image.Image image mode=RGBA size=118x118 at 0x7F2811E21B00>,\n",
              " <PIL.Image.Image image mode=RGBA size=118x118 at 0x7F2811FADEF0>,\n",
              " <PIL.Image.Image image mode=RGBA size=118x118 at 0x7F2811E19DA0>,\n",
              " <PIL.Image.Image image mode=RGBA size=118x118 at 0x7F2811E64400>,\n",
              " <PIL.Image.Image image mode=RGBA size=118x118 at 0x7F2811ED18D0>,\n",
              " <PIL.Image.Image image mode=RGBA size=118x118 at 0x7F2811FFC780>,\n",
              " <PIL.Image.Image image mode=RGBA size=118x118 at 0x7F2811F33A90>,\n",
              " <PIL.Image.Image image mode=RGBA size=118x118 at 0x7F2811D62E80>,\n",
              " <PIL.Image.Image image mode=RGBA size=118x118 at 0x7F2811FD6400>,\n",
              " <PIL.Image.Image image mode=RGBA size=118x118 at 0x7F2811E2F9B0>,\n",
              " <PIL.Image.Image image mode=RGBA size=118x118 at 0x7F2811FB6978>,\n",
              " <PIL.Image.Image image mode=RGBA size=118x118 at 0x7F2811E94FD0>,\n",
              " <PIL.Image.Image image mode=RGBA size=118x118 at 0x7F2811FE3630>,\n",
              " <PIL.Image.Image image mode=RGBA size=118x118 at 0x7F281206E1D0>,\n",
              " <PIL.Image.Image image mode=RGBA size=118x118 at 0x7F281203B550>,\n",
              " <PIL.Image.Image image mode=RGBA size=118x118 at 0x7F2811EEFD30>,\n",
              " <PIL.Image.Image image mode=RGBA size=118x118 at 0x7F2811FAD7F0>,\n",
              " <PIL.Image.Image image mode=RGBA size=118x118 at 0x7F2812012160>,\n",
              " <PIL.Image.Image image mode=RGBA size=118x118 at 0x7F2812075400>,\n",
              " <PIL.Image.Image image mode=RGBA size=118x118 at 0x7F2811DC68D0>,\n",
              " <PIL.Image.Image image mode=RGBA size=118x118 at 0x7F2811DBFA20>,\n",
              " <PIL.Image.Image image mode=RGBA size=118x118 at 0x7F28120125C0>,\n",
              " <PIL.Image.Image image mode=RGBA size=118x118 at 0x7F2812028320>,\n",
              " <PIL.Image.Image image mode=RGBA size=118x118 at 0x7F2811ED12B0>,\n",
              " <PIL.Image.Image image mode=RGBA size=118x118 at 0x7F2811FC08D0>,\n",
              " <PIL.Image.Image image mode=RGBA size=118x118 at 0x7F2811D68CC0>,\n",
              " <PIL.Image.Image image mode=RGBA size=118x118 at 0x7F281206E320>,\n",
              " <PIL.Image.Image image mode=RGBA size=118x118 at 0x7F2811D1C390>,\n",
              " <PIL.Image.Image image mode=RGBA size=118x118 at 0x7F2811E85FD0>,\n",
              " <PIL.Image.Image image mode=RGBA size=118x118 at 0x7F2811DFC780>,\n",
              " <PIL.Image.Image image mode=RGBA size=118x118 at 0x7F2811DFC7F0>,\n",
              " <PIL.Image.Image image mode=RGBA size=118x118 at 0x7F28120F0F60>,\n",
              " <PIL.Image.Image image mode=RGBA size=118x118 at 0x7F2811DE4550>,\n",
              " <PIL.Image.Image image mode=RGBA size=118x118 at 0x7F2811F82160>,\n",
              " <PIL.Image.Image image mode=RGBA size=118x118 at 0x7F281206ECC0>,\n",
              " <PIL.Image.Image image mode=RGBA size=118x118 at 0x7F28120D4FD0>,\n",
              " <PIL.Image.Image image mode=RGBA size=118x118 at 0x7F2811FEC080>,\n",
              " <PIL.Image.Image image mode=RGBA size=118x118 at 0x7F2811F7AC50>,\n",
              " <PIL.Image.Image image mode=RGBA size=118x118 at 0x7F2811F785C0>,\n",
              " <PIL.Image.Image image mode=RGBA size=118x118 at 0x7F2811CF91D0>,\n",
              " <PIL.Image.Image image mode=RGBA size=118x118 at 0x7F2811E4F400>,\n",
              " <PIL.Image.Image image mode=RGBA size=118x118 at 0x7F2811EBC1D0>,\n",
              " <PIL.Image.Image image mode=RGBA size=118x118 at 0x7F28120F0FD0>,\n",
              " <PIL.Image.Image image mode=RGBA size=118x118 at 0x7F2811E0BE10>,\n",
              " <PIL.Image.Image image mode=RGBA size=118x118 at 0x7F2811E9B7F0>,\n",
              " <PIL.Image.Image image mode=RGBA size=118x118 at 0x7F2811DB47F0>,\n",
              " <PIL.Image.Image image mode=RGBA size=118x118 at 0x7F2811FFCE80>,\n",
              " <PIL.Image.Image image mode=RGBA size=118x118 at 0x7F2811F00C50>,\n",
              " <PIL.Image.Image image mode=RGBA size=118x118 at 0x7F2811D456A0>,\n",
              " <PIL.Image.Image image mode=RGBA size=118x118 at 0x7F2811E392B0>,\n",
              " <PIL.Image.Image image mode=RGBA size=118x118 at 0x7F2811F2C860>,\n",
              " <PIL.Image.Image image mode=RGBA size=118x118 at 0x7F2811EAA550>,\n",
              " <PIL.Image.Image image mode=RGBA size=118x118 at 0x7F2811F1E780>,\n",
              " <PIL.Image.Image image mode=RGBA size=118x118 at 0x7F2811E0B400>,\n",
              " <PIL.Image.Image image mode=RGBA size=118x118 at 0x7F2811F25860>,\n",
              " <PIL.Image.Image image mode=RGBA size=118x118 at 0x7F2811F00CC0>,\n",
              " <PIL.Image.Image image mode=RGBA size=118x118 at 0x7F281200B390>,\n",
              " <PIL.Image.Image image mode=RGBA size=118x118 at 0x7F2811E8D9B0>,\n",
              " <PIL.Image.Image image mode=RGBA size=118x118 at 0x7F2811F7A160>,\n",
              " <PIL.Image.Image image mode=RGBA size=118x118 at 0x7F2811EAAF60>,\n",
              " <PIL.Image.Image image mode=RGBA size=118x118 at 0x7F2812BA01D0>,\n",
              " <PIL.Image.Image image mode=RGBA size=118x118 at 0x7F2811E42470>,\n",
              " <PIL.Image.Image image mode=RGBA size=118x118 at 0x7F2811DEA320>,\n",
              " <PIL.Image.Image image mode=RGBA size=118x118 at 0x7F2811F7AA90>,\n",
              " <PIL.Image.Image image mode=RGBA size=118x118 at 0x7F2811E9B8D0>,\n",
              " <PIL.Image.Image image mode=RGBA size=118x118 at 0x7F2811DA6CC0>,\n",
              " <PIL.Image.Image image mode=RGBA size=118x118 at 0x7F2811D3DC50>,\n",
              " <PIL.Image.Image image mode=RGBA size=118x118 at 0x7F2811F00550>,\n",
              " <PIL.Image.Image image mode=RGBA size=118x118 at 0x7F2811F2C4E0>,\n",
              " <PIL.Image.Image image mode=RGBA size=118x118 at 0x7F2811E8D1D0>,\n",
              " <PIL.Image.Image image mode=RGBA size=118x118 at 0x7F2812075E80>,\n",
              " <PIL.Image.Image image mode=RGBA size=118x118 at 0x7F2811F152B0>,\n",
              " <PIL.Image.Image image mode=RGBA size=118x118 at 0x7F2811F82940>,\n",
              " <PIL.Image.Image image mode=RGBA size=118x118 at 0x7F2811FF3A20>,\n",
              " <PIL.Image.Image image mode=RGBA size=118x118 at 0x7F2812023B70>,\n",
              " <PIL.Image.Image image mode=RGBA size=118x118 at 0x7F2811E57780>,\n",
              " <PIL.Image.Image image mode=RGBA size=118x118 at 0x7F2811E9BD30>,\n",
              " <PIL.Image.Image image mode=RGBA size=118x118 at 0x7F2811D3D0F0>,\n",
              " <PIL.Image.Image image mode=RGBA size=118x118 at 0x7F2811D5B0F0>,\n",
              " <PIL.Image.Image image mode=RGBA size=118x118 at 0x7F2811D91D30>,\n",
              " <PIL.Image.Image image mode=RGBA size=118x118 at 0x7F2811F90550>,\n",
              " <PIL.Image.Image image mode=RGBA size=118x118 at 0x7F2811DE4A20>,\n",
              " <PIL.Image.Image image mode=RGBA size=118x118 at 0x7F2811F33FD0>,\n",
              " <PIL.Image.Image image mode=RGBA size=118x118 at 0x7F2811E470F0>,\n",
              " <PIL.Image.Image image mode=RGBA size=118x118 at 0x7F2811E12390>,\n",
              " <PIL.Image.Image image mode=RGBA size=118x118 at 0x7F2811DF3FD0>,\n",
              " <PIL.Image.Image image mode=RGBA size=118x118 at 0x7F2811CFF780>,\n",
              " <PIL.Image.Image image mode=RGBA size=118x118 at 0x7F2811EF74E0>,\n",
              " <PIL.Image.Image image mode=RGBA size=118x118 at 0x7F2811FE3DA0>,\n",
              " <PIL.Image.Image image mode=RGBA size=118x118 at 0x7F2811DB45C0>,\n",
              " <PIL.Image.Image image mode=RGBA size=118x118 at 0x7F2811EC3470>,\n",
              " <PIL.Image.Image image mode=RGBA size=118x118 at 0x7F2811DAEC50>,\n",
              " <PIL.Image.Image image mode=RGBA size=118x118 at 0x7F2811F3E780>,\n",
              " <PIL.Image.Image image mode=RGBA size=118x118 at 0x7F2812028B70>,\n",
              " <PIL.Image.Image image mode=RGBA size=118x118 at 0x7F2811F0F390>,\n",
              " <PIL.Image.Image image mode=RGBA size=118x118 at 0x7F2811ED1EF0>,\n",
              " <PIL.Image.Image image mode=RGBA size=118x118 at 0x7F281206EBE0>,\n",
              " <PIL.Image.Image image mode=RGBA size=118x118 at 0x7F2811FCE780>,\n",
              " <PIL.Image.Image image mode=RGBA size=118x118 at 0x7F2811F2CF60>,\n",
              " <PIL.Image.Image image mode=RGBA size=118x118 at 0x7F2811E8D780>,\n",
              " <PIL.Image.Image image mode=RGBA size=118x118 at 0x7F2811CF9B70>,\n",
              " <PIL.Image.Image image mode=RGBA size=118x118 at 0x7F2811EC9240>,\n",
              " <PIL.Image.Image image mode=RGBA size=118x118 at 0x7F2812066BE0>,\n",
              " <PIL.Image.Image image mode=RGBA size=118x118 at 0x7F2811FE3EF0>,\n",
              " <PIL.Image.Image image mode=RGBA size=118x118 at 0x7F2811D0EB70>,\n",
              " <PIL.Image.Image image mode=RGBA size=118x118 at 0x7F2811D0E0F0>,\n",
              " <PIL.Image.Image image mode=RGBA size=118x118 at 0x7F2811F1E550>,\n",
              " <PIL.Image.Image image mode=RGBA size=118x118 at 0x7F2811E9BEF0>,\n",
              " <PIL.Image.Image image mode=RGBA size=118x118 at 0x7F2811F8A4E0>,\n",
              " <PIL.Image.Image image mode=RGBA size=118x118 at 0x7F2811E39080>,\n",
              " <PIL.Image.Image image mode=RGBA size=118x118 at 0x7F2811DE4A90>,\n",
              " <PIL.Image.Image image mode=RGBA size=118x118 at 0x7F2811F982B0>,\n",
              " <PIL.Image.Image image mode=RGBA size=118x118 at 0x7F2811EDAB00>,\n",
              " <PIL.Image.Image image mode=RGBA size=118x118 at 0x7F2811D91E80>,\n",
              " <PIL.Image.Image image mode=RGBA size=118x118 at 0x7F2811FA7F60>,\n",
              " <PIL.Image.Image image mode=RGBA size=118x118 at 0x7F2811DBF9B0>,\n",
              " <PIL.Image.Image image mode=RGBA size=118x118 at 0x7F2811E575C0>,\n",
              " <PIL.Image.Image image mode=RGBA size=118x118 at 0x7F28120F69B0>,\n",
              " <PIL.Image.Image image mode=RGBA size=118x118 at 0x7F2811D7AE10>,\n",
              " <PIL.Image.Image image mode=RGBA size=118x118 at 0x7F281209DBE0>,\n",
              " <PIL.Image.Image image mode=RGBA size=118x118 at 0x7F28120B2400>,\n",
              " <PIL.Image.Image image mode=RGBA size=118x118 at 0x7F2811E397F0>,\n",
              " <PIL.Image.Image image mode=RGBA size=118x118 at 0x7F2811F62630>,\n",
              " <PIL.Image.Image image mode=RGBA size=118x118 at 0x7F2811EB1A90>,\n",
              " <PIL.Image.Image image mode=RGBA size=118x118 at 0x7F2811F3E940>,\n",
              " <PIL.Image.Image image mode=RGBA size=118x118 at 0x7F2811FC5DA0>,\n",
              " <PIL.Image.Image image mode=RGBA size=118x118 at 0x7F2811ED1DA0>,\n",
              " <PIL.Image.Image image mode=RGBA size=118x118 at 0x7F28120AA7F0>,\n",
              " <PIL.Image.Image image mode=RGBA size=118x118 at 0x7F281205E160>,\n",
              " <PIL.Image.Image image mode=RGBA size=118x118 at 0x7F2811D62B70>,\n",
              " <PIL.Image.Image image mode=RGBA size=118x118 at 0x7F2811E852B0>,\n",
              " <PIL.Image.Image image mode=RGBA size=118x118 at 0x7F2811E2F1D0>,\n",
              " <PIL.Image.Image image mode=RGBA size=118x118 at 0x7F2811F1ECC0>,\n",
              " <PIL.Image.Image image mode=RGBA size=118x118 at 0x7F2811DD57F0>,\n",
              " <PIL.Image.Image image mode=RGBA size=118x118 at 0x7F2811F82780>,\n",
              " <PIL.Image.Image image mode=RGBA size=118x118 at 0x7F2811EF7B70>,\n",
              " <PIL.Image.Image image mode=RGBA size=118x118 at 0x7F2812041550>,\n",
              " <PIL.Image.Image image mode=RGBA size=118x118 at 0x7F281208DD30>,\n",
              " <PIL.Image.Image image mode=RGBA size=118x118 at 0x7F2811D81780>,\n",
              " <PIL.Image.Image image mode=RGBA size=118x118 at 0x7F2811F4B160>,\n",
              " <PIL.Image.Image image mode=RGBA size=118x118 at 0x7F2811D4BD30>,\n",
              " <PIL.Image.Image image mode=RGBA size=118x118 at 0x7F2812066CC0>,\n",
              " <PIL.Image.Image image mode=RGBA size=118x118 at 0x7F2811EDA8D0>,\n",
              " <PIL.Image.Image image mode=RGBA size=118x118 at 0x7F2811D680F0>,\n",
              " <PIL.Image.Image image mode=RGBA size=118x118 at 0x7F2811E752B0>,\n",
              " <PIL.Image.Image image mode=RGBA size=118x118 at 0x7F2811E5F780>,\n",
              " <PIL.Image.Image image mode=RGBA size=118x118 at 0x7F2811F258D0>,\n",
              " <PIL.Image.Image image mode=RGBA size=118x118 at 0x7F2811D0E080>,\n",
              " <PIL.Image.Image image mode=RGBA size=118x118 at 0x7F2812058390>,\n",
              " <PIL.Image.Image image mode=RGBA size=118x118 at 0x7F2812028400>,\n",
              " <PIL.Image.Image image mode=RGBA size=118x118 at 0x7F2811D25780>,\n",
              " <PIL.Image.Image image mode=RGBA size=118x118 at 0x7F2811EF71D0>,\n",
              " <PIL.Image.Image image mode=RGBA size=118x118 at 0x7F2811E64470>,\n",
              " <PIL.Image.Image image mode=RGBA size=118x118 at 0x7F28120661D0>,\n",
              " <PIL.Image.Image image mode=RGBA size=118x118 at 0x7F2811DEA0F0>,\n",
              " <PIL.Image.Image image mode=RGBA size=118x118 at 0x7F2811F00F60>,\n",
              " <PIL.Image.Image image mode=RGBA size=118x118 at 0x7F2811E42390>,\n",
              " <PIL.Image.Image image mode=RGBA size=118x118 at 0x7F2811F691D0>,\n",
              " <PIL.Image.Image image mode=RGBA size=118x118 at 0x7F2811DF3CC0>,\n",
              " <PIL.Image.Image image mode=RGBA size=118x118 at 0x7F2812050320>,\n",
              " <PIL.Image.Image image mode=RGBA size=118x118 at 0x7F2811D06FD0>,\n",
              " <PIL.Image.Image image mode=RGBA size=118x118 at 0x7F2811F8AA90>,\n",
              " <PIL.Image.Image image mode=RGBA size=118x118 at 0x7F28120F6E80>,\n",
              " <PIL.Image.Image image mode=RGBA size=118x118 at 0x7F2811DC6860>,\n",
              " <PIL.Image.Image image mode=RGBA size=118x118 at 0x7F2811D62940>,\n",
              " <PIL.Image.Image image mode=RGBA size=118x118 at 0x7F28120AA390>,\n",
              " <PIL.Image.Image image mode=RGBA size=118x118 at 0x7F2811E5FCC0>,\n",
              " <PIL.Image.Image image mode=RGBA size=118x118 at 0x7F2811E6D940>,\n",
              " <PIL.Image.Image image mode=RGBA size=118x118 at 0x7F2811DC6240>,\n",
              " <PIL.Image.Image image mode=RGBA size=118x118 at 0x7F2811F1EFD0>,\n",
              " <PIL.Image.Image image mode=RGBA size=118x118 at 0x7F2811F69E80>,\n",
              " <PIL.Image.Image image mode=RGBA size=118x118 at 0x7F2811FA0710>,\n",
              " <PIL.Image.Image image mode=RGBA size=118x118 at 0x7F28120481D0>,\n",
              " <PIL.Image.Image image mode=RGBA size=118x118 at 0x7F2811FF3550>,\n",
              " <PIL.Image.Image image mode=RGBA size=118x118 at 0x7F28120F0DA0>,\n",
              " <PIL.Image.Image image mode=RGBA size=118x118 at 0x7F281200BBE0>,\n",
              " <PIL.Image.Image image mode=RGBA size=118x118 at 0x7F2811EF72B0>,\n",
              " <PIL.Image.Image image mode=RGBA size=118x118 at 0x7F2811F72A90>,\n",
              " <PIL.Image.Image image mode=RGBA size=118x118 at 0x7F2811F33D30>,\n",
              " <PIL.Image.Image image mode=RGBA size=118x118 at 0x7F28120AA550>,\n",
              " <PIL.Image.Image image mode=RGBA size=118x118 at 0x7F2811FCEC50>,\n",
              " <PIL.Image.Image image mode=RGBA size=118x118 at 0x7F2811FEC940>,\n",
              " <PIL.Image.Image image mode=RGBA size=118x118 at 0x7F28120AACC0>,\n",
              " <PIL.Image.Image image mode=RGBA size=118x118 at 0x7F2811DDD908>,\n",
              " <PIL.Image.Image image mode=RGBA size=118x118 at 0x7F2811E2FB70>,\n",
              " <PIL.Image.Image image mode=RGBA size=118x118 at 0x7F2811E37E80>,\n",
              " <PIL.Image.Image image mode=RGBA size=118x118 at 0x7F2811F72BE0>,\n",
              " <PIL.Image.Image image mode=RGBA size=118x118 at 0x7F2811FAD470>,\n",
              " <PIL.Image.Image image mode=RGBA size=118x118 at 0x7F2811DE4240>,\n",
              " <PIL.Image.Image image mode=RGBA size=118x118 at 0x7F2811D70630>,\n",
              " <PIL.Image.Image image mode=RGBA size=118x118 at 0x7F2812050C50>,\n",
              " <PIL.Image.Image image mode=RGBA size=118x118 at 0x7F2811E7D5C0>,\n",
              " <PIL.Image.Image image mode=RGBA size=118x118 at 0x7F2812075240>,\n",
              " <PIL.Image.Image image mode=RGBA size=118x118 at 0x7F2811F5B240>,\n",
              " <PIL.Image.Image image mode=RGBA size=118x118 at 0x7F2811F44320>,\n",
              " <PIL.Image.Image image mode=RGBA size=118x118 at 0x7F2811E2F5C0>,\n",
              " <PIL.Image.Image image mode=RGBA size=118x118 at 0x7F2811DCCCC0>,\n",
              " <PIL.Image.Image image mode=RGBA size=118x118 at 0x7F2811FA7390>,\n",
              " <PIL.Image.Image image mode=RGBA size=118x118 at 0x7F2811E42080>,\n",
              " <PIL.Image.Image image mode=RGBA size=118x118 at 0x7F2811D97A90>,\n",
              " <PIL.Image.Image image mode=RGBA size=118x118 at 0x7F281203BBE0>,\n",
              " <PIL.Image.Image image mode=RGBA size=118x118 at 0x7F2811EE7EF0>,\n",
              " <PIL.Image.Image image mode=RGBA size=118x118 at 0x7F2811FA7B70>,\n",
              " <PIL.Image.Image image mode=RGBA size=118x118 at 0x7F281206ED30>,\n",
              " <PIL.Image.Image image mode=RGBA size=118x118 at 0x7F2812058320>,\n",
              " <PIL.Image.Image image mode=RGBA size=118x118 at 0x7F2811DB4E80>,\n",
              " <PIL.Image.Image image mode=RGBA size=118x118 at 0x7F2811FA7EF0>,\n",
              " <PIL.Image.Image image mode=RGBA size=118x118 at 0x7F2811FC5550>,\n",
              " <PIL.Image.Image image mode=RGBA size=118x118 at 0x7F2811FAD8D0>,\n",
              " <PIL.Image.Image image mode=RGBA size=118x118 at 0x7F28120A3710>,\n",
              " <PIL.Image.Image image mode=RGBA size=118x118 at 0x7F2811D259B0>,\n",
              " <PIL.Image.Image image mode=RGBA size=118x118 at 0x7F28120284E0>,\n",
              " <PIL.Image.Image image mode=RGBA size=118x118 at 0x7F2811E8D390>,\n",
              " <PIL.Image.Image image mode=RGBA size=118x118 at 0x7F2811EF7A20>,\n",
              " <PIL.Image.Image image mode=RGBA size=118x118 at 0x7F2811D684E0>,\n",
              " <PIL.Image.Image image mode=RGBA size=118x118 at 0x7F2811F33940>,\n",
              " <PIL.Image.Image image mode=RGBA size=118x118 at 0x7F2811EC3080>,\n",
              " <PIL.Image.Image image mode=RGBA size=118x118 at 0x7F2811F78240>,\n",
              " <PIL.Image.Image image mode=RGBA size=118x118 at 0x7F2811F4B1D0>,\n",
              " <PIL.Image.Image image mode=RGBA size=118x118 at 0x7F2811FE31D0>,\n",
              " <PIL.Image.Image image mode=RGBA size=118x118 at 0x7F2811FA7C50>,\n",
              " <PIL.Image.Image image mode=RGBA size=118x118 at 0x7F2811E03080>,\n",
              " <PIL.Image.Image image mode=RGBA size=118x118 at 0x7F2811F44470>,\n",
              " <PIL.Image.Image image mode=RGBA size=118x118 at 0x7F2811DB4EF0>,\n",
              " <PIL.Image.Image image mode=RGBA size=118x118 at 0x7F2811F62BE0>,\n",
              " <PIL.Image.Image image mode=RGBA size=118x118 at 0x7F2811ED1D30>,\n",
              " <PIL.Image.Image image mode=RGBA size=118x118 at 0x7F2811EE7470>,\n",
              " <PIL.Image.Image image mode=RGBA size=118x118 at 0x7F2811D97BE0>,\n",
              " <PIL.Image.Image image mode=RGBA size=118x118 at 0x7F2811F62240>,\n",
              " <PIL.Image.Image image mode=RGBA size=118x118 at 0x7F2812004BE0>,\n",
              " <PIL.Image.Image image mode=RGBA size=118x118 at 0x7F2812086780>,\n",
              " <PIL.Image.Image image mode=RGBA size=118x118 at 0x7F2811F252B0>,\n",
              " <PIL.Image.Image image mode=RGBA size=118x118 at 0x7F2811D68D30>,\n",
              " <PIL.Image.Image image mode=RGBA size=118x118 at 0x7F281205E6A0>,\n",
              " <PIL.Image.Image image mode=RGBA size=118x118 at 0x7F2811EC9780>,\n",
              " <PIL.Image.Image image mode=RGBA size=118x118 at 0x7F2811D458D0>,\n",
              " <PIL.Image.Image image mode=RGBA size=118x118 at 0x7F2811D91FD0>,\n",
              " <PIL.Image.Image image mode=RGBA size=118x118 at 0x7F2811F33CC0>,\n",
              " <PIL.Image.Image image mode=RGBA size=118x118 at 0x7F2811FF37F0>,\n",
              " <PIL.Image.Image image mode=RGBA size=118x118 at 0x7F2811E21CC0>,\n",
              " <PIL.Image.Image image mode=RGBA size=118x118 at 0x7F2811FF3C50>,\n",
              " <PIL.Image.Image image mode=RGBA size=118x118 at 0x7F2812030DA0>,\n",
              " <PIL.Image.Image image mode=RGBA size=118x118 at 0x7F2811D701D0>,\n",
              " <PIL.Image.Image image mode=RGBA size=118x118 at 0x7F2811DEAA90>,\n",
              " <PIL.Image.Image image mode=RGBA size=118x118 at 0x7F2811D45E10>,\n",
              " <PIL.Image.Image image mode=RGBA size=118x118 at 0x7F2811E39160>,\n",
              " <PIL.Image.Image image mode=RGBA size=118x118 at 0x7F281203B7F0>,\n",
              " <PIL.Image.Image image mode=RGBA size=118x118 at 0x7F2811FC5710>,\n",
              " <PIL.Image.Image image mode=RGBA size=118x118 at 0x7F2811E0B8D0>,\n",
              " <PIL.Image.Image image mode=RGBA size=118x118 at 0x7F2811F256A0>,\n",
              " <PIL.Image.Image image mode=RGBA size=118x118 at 0x7F2811E8DB70>,\n",
              " <PIL.Image.Image image mode=RGBA size=118x118 at 0x7F2811D7A9B0>,\n",
              " <PIL.Image.Image image mode=RGBA size=118x118 at 0x7F281208D400>,\n",
              " <PIL.Image.Image image mode=RGBA size=118x118 at 0x7F2812030B00>,\n",
              " <PIL.Image.Image image mode=RGBA size=118x118 at 0x7F2811DFC160>,\n",
              " <PIL.Image.Image image mode=RGBA size=118x118 at 0x7F2811D91240>,\n",
              " <PIL.Image.Image image mode=RGBA size=118x118 at 0x7F2811E85390>,\n",
              " <PIL.Image.Image image mode=RGBA size=118x118 at 0x7F2811DDD470>,\n",
              " <PIL.Image.Image image mode=RGBA size=118x118 at 0x7F2811EBCDA0>,\n",
              " <PIL.Image.Image image mode=RGBA size=118x118 at 0x7F2811F44D30>,\n",
              " <PIL.Image.Image image mode=RGBA size=118x118 at 0x7F2811D069B0>,\n",
              " <PIL.Image.Image image mode=RGBA size=118x118 at 0x7F2811F0F550>,\n",
              " <PIL.Image.Image image mode=RGBA size=118x118 at 0x7F28120389B0>,\n",
              " <PIL.Image.Image image mode=RGBA size=118x118 at 0x7F28120A3860>,\n",
              " <PIL.Image.Image image mode=RGBA size=118x118 at 0x7F28120F05C0>,\n",
              " <PIL.Image.Image image mode=RGBA size=118x118 at 0x7F2812038CC0>,\n",
              " <PIL.Image.Image image mode=RGBA size=118x118 at 0x7F2811EA46A0>,\n",
              " <PIL.Image.Image image mode=RGBA size=118x118 at 0x7F2811F98DA0>,\n",
              " <PIL.Image.Image image mode=RGBA size=118x118 at 0x7F2811EC9860>,\n",
              " <PIL.Image.Image image mode=RGBA size=118x118 at 0x7F2811E8D630>,\n",
              " <PIL.Image.Image image mode=RGBA size=118x118 at 0x7F2812050550>,\n",
              " <PIL.Image.Image image mode=RGBA size=118x118 at 0x7F2812004D30>,\n",
              " <PIL.Image.Image image mode=RGBA size=118x118 at 0x7F2811FA7E10>,\n",
              " <PIL.Image.Image image mode=RGBA size=118x118 at 0x7F2811F254E0>,\n",
              " <PIL.Image.Image image mode=RGBA size=118x118 at 0x7F2812066C50>,\n",
              " <PIL.Image.Image image mode=RGBA size=118x118 at 0x7F2811F548D0>,\n",
              " <PIL.Image.Image image mode=RGBA size=118x118 at 0x7F2812075780>,\n",
              " <PIL.Image.Image image mode=RGBA size=118x118 at 0x7F2811EC99B0>,\n",
              " <PIL.Image.Image image mode=RGBA size=118x118 at 0x7F28120288D0>,\n",
              " <PIL.Image.Image image mode=RGBA size=118x118 at 0x7F2812094400>,\n",
              " <PIL.Image.Image image mode=RGBA size=118x118 at 0x7F2811F72550>,\n",
              " <PIL.Image.Image image mode=RGBA size=118x118 at 0x7F2811FB6860>,\n",
              " <PIL.Image.Image image mode=RGBA size=118x118 at 0x7F2811E75710>,\n",
              " <PIL.Image.Image image mode=RGBA size=118x118 at 0x7F28120287F0>,\n",
              " <PIL.Image.Image image mode=RGBA size=118x118 at 0x7F2811E7D2B0>,\n",
              " <PIL.Image.Image image mode=RGBA size=118x118 at 0x7F2811F98160>,\n",
              " <PIL.Image.Image image mode=RGBA size=118x118 at 0x7F2811DAEA90>,\n",
              " <PIL.Image.Image image mode=RGBA size=118x118 at 0x7F2811EE7B70>,\n",
              " <PIL.Image.Image image mode=RGBA size=118x118 at 0x7F281207F160>,\n",
              " <PIL.Image.Image image mode=RGBA size=118x118 at 0x7F2811E378D0>,\n",
              " <PIL.Image.Image image mode=RGBA size=118x118 at 0x7F2812075550>,\n",
              " <PIL.Image.Image image mode=RGBA size=118x118 at 0x7F2812BA0630>,\n",
              " <PIL.Image.Image image mode=RGBA size=118x118 at 0x7F2811E294E0>,\n",
              " <PIL.Image.Image image mode=RGBA size=118x118 at 0x7F2811D70CC0>,\n",
              " <PIL.Image.Image image mode=RGBA size=118x118 at 0x7F2811D7A5C0>,\n",
              " <PIL.Image.Image image mode=RGBA size=118x118 at 0x7F2811D4B780>,\n",
              " <PIL.Image.Image image mode=RGBA size=118x118 at 0x7F28120948D0>,\n",
              " <PIL.Image.Image image mode=RGBA size=118x118 at 0x7F2811FB6400>,\n",
              " <PIL.Image.Image image mode=RGBA size=118x118 at 0x7F2811FCE240>,\n",
              " <PIL.Image.Image image mode=RGBA size=118x118 at 0x7F2811FC0E10>,\n",
              " <PIL.Image.Image image mode=RGBA size=118x118 at 0x7F2811FC5F60>,\n",
              " <PIL.Image.Image image mode=RGBA size=118x118 at 0x7F2811DCCBE0>,\n",
              " <PIL.Image.Image image mode=RGBA size=118x118 at 0x7F2811DC6E80>,\n",
              " <PIL.Image.Image image mode=RGBA size=118x118 at 0x7F2811F546A0>,\n",
              " <PIL.Image.Image image mode=RGBA size=118x118 at 0x7F2811F90A90>,\n",
              " <PIL.Image.Image image mode=RGBA size=118x118 at 0x7F2811F1E390>,\n",
              " <PIL.Image.Image image mode=RGBA size=118x118 at 0x7F2811DA6320>,\n",
              " <PIL.Image.Image image mode=RGBA size=118x118 at 0x7F2811EAAFD0>,\n",
              " <PIL.Image.Image image mode=RGBA size=118x118 at 0x7F28120047F0>,\n",
              " <PIL.Image.Image image mode=RGBA size=118x118 at 0x7F2811FA0860>,\n",
              " <PIL.Image.Image image mode=RGBA size=118x118 at 0x7F2811E4FF60>,\n",
              " <PIL.Image.Image image mode=RGBA size=118x118 at 0x7F2811D9FCC0>,\n",
              " <PIL.Image.Image image mode=RGBA size=118x118 at 0x7F2812075080>,\n",
              " <PIL.Image.Image image mode=RGBA size=118x118 at 0x7F2811D68E10>,\n",
              " <PIL.Image.Image image mode=RGBA size=118x118 at 0x7F2811F25D30>,\n",
              " <PIL.Image.Image image mode=RGBA size=118x118 at 0x7F2811F7A0F0>,\n",
              " <PIL.Image.Image image mode=RGBA size=118x118 at 0x7F2811F004E0>,\n",
              " <PIL.Image.Image image mode=RGBA size=118x118 at 0x7F28120869B0>,\n",
              " <PIL.Image.Image image mode=RGBA size=118x118 at 0x7F2811FAD978>,\n",
              " <PIL.Image.Image image mode=RGBA size=118x118 at 0x7F2811D25080>,\n",
              " <PIL.Image.Image image mode=RGBA size=118x118 at 0x7F2811E75B00>,\n",
              " <PIL.Image.Image image mode=RGBA size=118x118 at 0x7F2811F8AA20>,\n",
              " <PIL.Image.Image image mode=RGBA size=118x118 at 0x7F2811F98A90>,\n",
              " <PIL.Image.Image image mode=RGBA size=118x118 at 0x7F2811EB14E0>,\n",
              " <PIL.Image.Image image mode=RGBA size=118x118 at 0x7F2811EC38D0>,\n",
              " <PIL.Image.Image image mode=RGBA size=118x118 at 0x7F2811E21D30>,\n",
              " <PIL.Image.Image image mode=RGBA size=118x118 at 0x7F2811DC6CC0>,\n",
              " <PIL.Image.Image image mode=RGBA size=118x118 at 0x7F2811EF7320>,\n",
              " <PIL.Image.Image image mode=RGBA size=118x118 at 0x7F2811FEC470>,\n",
              " <PIL.Image.Image image mode=RGBA size=118x118 at 0x7F2811E0B860>,\n",
              " <PIL.Image.Image image mode=RGBA size=118x118 at 0x7F281200B320>,\n",
              " <PIL.Image.Image image mode=RGBA size=118x118 at 0x7F2811FA7940>,\n",
              " <PIL.Image.Image image mode=RGBA size=118x118 at 0x7F2811F15BE0>,\n",
              " <PIL.Image.Image image mode=RGBA size=118x118 at 0x7F2811E12E80>,\n",
              " <PIL.Image.Image image mode=RGBA size=118x118 at 0x7F2811EAA2B0>,\n",
              " <PIL.Image.Image image mode=RGBA size=118x118 at 0x7F2811EE75C0>,\n",
              " <PIL.Image.Image image mode=RGBA size=118x118 at 0x7F2811E64F60>,\n",
              " <PIL.Image.Image image mode=RGBA size=118x118 at 0x7F281208D6A0>,\n",
              " <PIL.Image.Image image mode=RGBA size=118x118 at 0x7F2811E128D0>,\n",
              " <PIL.Image.Image image mode=RGBA size=118x118 at 0x7F28120B2320>,\n",
              " <PIL.Image.Image image mode=RGBA size=118x118 at 0x7F2811E47B70>,\n",
              " <PIL.Image.Image image mode=RGBA size=118x118 at 0x7F2811E64550>,\n",
              " <PIL.Image.Image image mode=RGBA size=118x118 at 0x7F2812B894A8>,\n",
              " <PIL.Image.Image image mode=RGBA size=118x118 at 0x7F28120B20F0>,\n",
              " <PIL.Image.Image image mode=RGBA size=118x118 at 0x7F2812041390>,\n",
              " <PIL.Image.Image image mode=RGBA size=118x118 at 0x7F2811F2C2B0>,\n",
              " <PIL.Image.Image image mode=RGBA size=118x118 at 0x7F2811EC91D0>,\n",
              " <PIL.Image.Image image mode=RGBA size=118x118 at 0x7F2811E9BBE0>,\n",
              " <PIL.Image.Image image mode=RGBA size=118x118 at 0x7F2811D70EF0>,\n",
              " <PIL.Image.Image image mode=RGBA size=118x118 at 0x7F28120F6080>,\n",
              " <PIL.Image.Image image mode=RGBA size=118x118 at 0x7F281205ED30>,\n",
              " <PIL.Image.Image image mode=RGBA size=118x118 at 0x7F2811D16BE0>,\n",
              " <PIL.Image.Image image mode=RGBA size=118x118 at 0x7F28120752B0>,\n",
              " <PIL.Image.Image image mode=RGBA size=118x118 at 0x7F2811F44BE0>,\n",
              " <PIL.Image.Image image mode=RGBA size=118x118 at 0x7F2811FA0FD0>,\n",
              " <PIL.Image.Image image mode=RGBA size=118x118 at 0x7F2811D9F550>,\n",
              " <PIL.Image.Image image mode=RGBA size=118x118 at 0x7F2811D911D0>,\n",
              " <PIL.Image.Image image mode=RGBA size=118x118 at 0x7F2811EC3BE0>,\n",
              " <PIL.Image.Image image mode=RGBA size=118x118 at 0x7F2811EC3780>,\n",
              " <PIL.Image.Image image mode=RGBA size=118x118 at 0x7F2811FC05C0>,\n",
              " <PIL.Image.Image image mode=RGBA size=118x118 at 0x7F2811DDD1D0>,\n",
              " <PIL.Image.Image image mode=RGBA size=118x118 at 0x7F2811DC6390>,\n",
              " <PIL.Image.Image image mode=RGBA size=118x118 at 0x7F2811D45630>,\n",
              " <PIL.Image.Image image mode=RGBA size=118x118 at 0x7F2811E8D2B0>,\n",
              " <PIL.Image.Image image mode=RGBA size=118x118 at 0x7F2811FA0D30>,\n",
              " <PIL.Image.Image image mode=RGBA size=118x118 at 0x7F2812004B00>,\n",
              " <PIL.Image.Image image mode=RGBA size=118x118 at 0x7F2811DFC940>,\n",
              " <PIL.Image.Image image mode=RGBA size=118x118 at 0x7F2811F78780>,\n",
              " <PIL.Image.Image image mode=RGBA size=118x118 at 0x7F2811FAD4E0>,\n",
              " <PIL.Image.Image image mode=RGBA size=118x118 at 0x7F2811DF3160>,\n",
              " <PIL.Image.Image image mode=RGBA size=118x118 at 0x7F2811DF3A90>,\n",
              " <PIL.Image.Image image mode=RGBA size=118x118 at 0x7F2811FAD780>,\n",
              " <PIL.Image.Image image mode=RGBA size=118x118 at 0x7F2812028FD0>,\n",
              " <PIL.Image.Image image mode=RGBA size=118x118 at 0x7F2811E64160>,\n",
              " <PIL.Image.Image image mode=RGBA size=118x118 at 0x7F2811E29630>,\n",
              " <PIL.Image.Image image mode=RGBA size=118x118 at 0x7F2811F15FD0>,\n",
              " <PIL.Image.Image image mode=RGBA size=118x118 at 0x7F2812012400>,\n",
              " <PIL.Image.Image image mode=RGBA size=118x118 at 0x7F2811DBF470>,\n",
              " <PIL.Image.Image image mode=RGBA size=118x118 at 0x7F2811E8D240>,\n",
              " <PIL.Image.Image image mode=RGBA size=118x118 at 0x7F28120949B0>,\n",
              " <PIL.Image.Image image mode=RGBA size=118x118 at 0x7F2811FC0320>,\n",
              " <PIL.Image.Image image mode=RGBA size=118x118 at 0x7F2812023240>,\n",
              " <PIL.Image.Image image mode=RGBA size=118x118 at 0x7F2811D62710>,\n",
              " <PIL.Image.Image image mode=RGBA size=118x118 at 0x7F2811E21F60>,\n",
              " <PIL.Image.Image image mode=RGBA size=118x118 at 0x7F2811DCCB70>,\n",
              " <PIL.Image.Image image mode=RGBA size=118x118 at 0x7F2811F8AC50>,\n",
              " <PIL.Image.Image image mode=RGBA size=118x118 at 0x7F28120AA710>,\n",
              " <PIL.Image.Image image mode=RGBA size=118x118 at 0x7F281201A1D0>,\n",
              " <PIL.Image.Image image mode=RGBA size=118x118 at 0x7F2811E9B9B0>,\n",
              " <PIL.Image.Image image mode=RGBA size=118x118 at 0x7F2811F7ACC0>,\n",
              " <PIL.Image.Image image mode=RGBA size=118x118 at 0x7F2811DC6A20>,\n",
              " <PIL.Image.Image image mode=RGBA size=118x118 at 0x7F2811EBC390>,\n",
              " <PIL.Image.Image image mode=RGBA size=118x118 at 0x7F2811F69550>,\n",
              " <PIL.Image.Image image mode=RGBA size=118x118 at 0x7F2811E4F630>,\n",
              " <PIL.Image.Image image mode=RGBA size=118x118 at 0x7F2811EC9BE0>,\n",
              " <PIL.Image.Image image mode=RGBA size=118x118 at 0x7F2811EE0240>,\n",
              " <PIL.Image.Image image mode=RGBA size=118x118 at 0x7F2811EDA0F0>,\n",
              " <PIL.Image.Image image mode=RGBA size=118x118 at 0x7F2812041B70>,\n",
              " <PIL.Image.Image image mode=RGBA size=118x118 at 0x7F2811E9B4E0>,\n",
              " <PIL.Image.Image image mode=RGBA size=118x118 at 0x7F28120D4400>,\n",
              " <PIL.Image.Image image mode=RGBA size=118x118 at 0x7F2811F251D0>,\n",
              " <PIL.Image.Image image mode=RGBA size=118x118 at 0x7F2811E57C50>,\n",
              " <PIL.Image.Image image mode=RGBA size=118x118 at 0x7F2811DCCC50>,\n",
              " <PIL.Image.Image image mode=RGBA size=118x118 at 0x7F2811FC0FD0>,\n",
              " <PIL.Image.Image image mode=RGBA size=118x118 at 0x7F2812041E10>,\n",
              " <PIL.Image.Image image mode=RGBA size=118x118 at 0x7F2811D7AFD0>,\n",
              " <PIL.Image.Image image mode=RGBA size=118x118 at 0x7F2811E47E80>,\n",
              " <PIL.Image.Image image mode=RGBA size=118x118 at 0x7F2811E5F0F0>,\n",
              " <PIL.Image.Image image mode=RGBA size=118x118 at 0x7F2811EB11D0>,\n",
              " <PIL.Image.Image image mode=RGBA size=118x118 at 0x7F2811F33550>,\n",
              " <PIL.Image.Image image mode=RGBA size=118x118 at 0x7F2811D0EBE0>,\n",
              " <PIL.Image.Image image mode=RGBA size=118x118 at 0x7F2811F15B70>,\n",
              " <PIL.Image.Image image mode=RGBA size=118x118 at 0x7F2811E85BE0>,\n",
              " <PIL.Image.Image image mode=RGBA size=118x118 at 0x7F2811F62A20>,\n",
              " <PIL.Image.Image image mode=RGBA size=118x118 at 0x7F28120F0EF0>,\n",
              " <PIL.Image.Image image mode=RGBA size=118x118 at 0x7F2811FA7320>,\n",
              " <PIL.Image.Image image mode=RGBA size=118x118 at 0x7F28120F0CC0>,\n",
              " <PIL.Image.Image image mode=RGBA size=118x118 at 0x7F2811EDA940>,\n",
              " <PIL.Image.Image image mode=RGBA size=118x118 at 0x7F281208D320>,\n",
              " <PIL.Image.Image image mode=RGBA size=118x118 at 0x7F2811FEC400>,\n",
              " <PIL.Image.Image image mode=RGBA size=118x118 at 0x7F2811E4FA20>,\n",
              " <PIL.Image.Image image mode=RGBA size=118x118 at 0x7F2811D0E240>,\n",
              " <PIL.Image.Image image mode=RGBA size=118x118 at 0x7F2811D81710>,\n",
              " <PIL.Image.Image image mode=RGBA size=118x118 at 0x7F2811E6DB70>,\n",
              " <PIL.Image.Image image mode=RGBA size=118x118 at 0x7F2812030780>,\n",
              " <PIL.Image.Image image mode=RGBA size=118x118 at 0x7F2811DEAB70>,\n",
              " <PIL.Image.Image image mode=RGBA size=118x118 at 0x7F2811DDDC50>,\n",
              " <PIL.Image.Image image mode=RGBA size=118x118 at 0x7F2811D62A90>,\n",
              " <PIL.Image.Image image mode=RGBA size=118x118 at 0x7F2812BA0400>,\n",
              " <PIL.Image.Image image mode=RGBA size=118x118 at 0x7F2811FECA20>,\n",
              " <PIL.Image.Image image mode=RGBA size=118x118 at 0x7F2811F07630>,\n",
              " <PIL.Image.Image image mode=RGBA size=118x118 at 0x7F2812041780>,\n",
              " <PIL.Image.Image image mode=RGBA size=118x118 at 0x7F2811F547F0>,\n",
              " <PIL.Image.Image image mode=RGBA size=118x118 at 0x7F281203B8D0>,\n",
              " <PIL.Image.Image image mode=RGBA size=118x118 at 0x7F2811FC0BE0>,\n",
              " <PIL.Image.Image image mode=RGBA size=118x118 at 0x7F2811E94860>,\n",
              " <PIL.Image.Image image mode=RGBA size=118x118 at 0x7F2811EEFA20>,\n",
              " <PIL.Image.Image image mode=RGBA size=118x118 at 0x7F2811F444E0>,\n",
              " <PIL.Image.Image image mode=RGBA size=118x118 at 0x7F2812012320>,\n",
              " <PIL.Image.Image image mode=RGBA size=118x118 at 0x7F2811F00D30>,\n",
              " <PIL.Image.Image image mode=RGBA size=118x118 at 0x7F2811F54CC0>,\n",
              " <PIL.Image.Image image mode=RGBA size=118x118 at 0x7F281206EFD0>,\n",
              " <PIL.Image.Image image mode=RGBA size=118x118 at 0x7F2811F2C7F0>,\n",
              " <PIL.Image.Image image mode=RGBA size=118x118 at 0x7F2811EAAE80>,\n",
              " <PIL.Image.Image image mode=RGBA size=118x118 at 0x7F2811D169B0>,\n",
              " <PIL.Image.Image image mode=RGBA size=118x118 at 0x7F2811E39630>,\n",
              " <PIL.Image.Image image mode=RGBA size=118x118 at 0x7F2812030860>,\n",
              " <PIL.Image.Image image mode=RGBA size=118x118 at 0x7F28120B2BE0>,\n",
              " <PIL.Image.Image image mode=RGBA size=118x118 at 0x7F2811DFC080>,\n",
              " <PIL.Image.Image image mode=RGBA size=118x118 at 0x7F281206EE10>,\n",
              " <PIL.Image.Image image mode=RGBA size=118x118 at 0x7F2811F72F60>,\n",
              " <PIL.Image.Image image mode=RGBA size=118x118 at 0x7F2811F07BE0>,\n",
              " <PIL.Image.Image image mode=RGBA size=118x118 at 0x7F28120411D0>,\n",
              " <PIL.Image.Image image mode=RGBA size=118x118 at 0x7F2811D06390>,\n",
              " <PIL.Image.Image image mode=RGBA size=118x118 at 0x7F2811D0EDA0>,\n",
              " <PIL.Image.Image image mode=RGBA size=118x118 at 0x7F2811FADBE0>,\n",
              " <PIL.Image.Image image mode=RGBA size=118x118 at 0x7F2812086BE0>,\n",
              " <PIL.Image.Image image mode=RGBA size=118x118 at 0x7F2811FDDCC0>,\n",
              " <PIL.Image.Image image mode=RGBA size=118x118 at 0x7F2811FCE2B0>,\n",
              " <PIL.Image.Image image mode=RGBA size=118x118 at 0x7F281205EA90>,\n",
              " <PIL.Image.Image image mode=RGBA size=118x118 at 0x7F28120B2CC0>,\n",
              " <PIL.Image.Image image mode=RGBA size=118x118 at 0x7F2811D68550>,\n",
              " <PIL.Image.Image image mode=RGBA size=118x118 at 0x7F2811E57A90>,\n",
              " <PIL.Image.Image image mode=RGBA size=118x118 at 0x7F2811F155C0>,\n",
              " <PIL.Image.Image image mode=RGBA size=118x118 at 0x7F2811F5BBE0>,\n",
              " <PIL.Image.Image image mode=RGBA size=118x118 at 0x7F2811D9F860>,\n",
              " <PIL.Image.Image image mode=RGBA size=118x118 at 0x7F2811E646A0>,\n",
              " <PIL.Image.Image image mode=RGBA size=118x118 at 0x7F2811E57D30>,\n",
              " <PIL.Image.Image image mode=RGBA size=118x118 at 0x7F2811F8A5C0>,\n",
              " <PIL.Image.Image image mode=RGBA size=118x118 at 0x7F2812030160>,\n",
              " <PIL.Image.Image image mode=RGBA size=118x118 at 0x7F2812B89240>,\n",
              " <PIL.Image.Image image mode=RGBA size=118x118 at 0x7F2812030E80>,\n",
              " <PIL.Image.Image image mode=RGBA size=118x118 at 0x7F2811F4BCC0>,\n",
              " <PIL.Image.Image image mode=RGBA size=118x118 at 0x7F281203B780>,\n",
              " <PIL.Image.Image image mode=RGBA size=118x118 at 0x7F2811D629B0>,\n",
              " <PIL.Image.Image image mode=RGBA size=118x118 at 0x7F2811FE35C0>,\n",
              " <PIL.Image.Image image mode=RGBA size=118x118 at 0x7F2811D885C0>,\n",
              " <PIL.Image.Image image mode=RGBA size=118x118 at 0x7F2812058240>,\n",
              " <PIL.Image.Image image mode=RGBA size=118x118 at 0x7F2811D88630>,\n",
              " <PIL.Image.Image image mode=RGBA size=118x118 at 0x7F28120A3CC0>,\n",
              " <PIL.Image.Image image mode=RGBA size=118x118 at 0x7F2811DCC8D0>,\n",
              " <PIL.Image.Image image mode=RGBA size=118x118 at 0x7F2811F624E0>,\n",
              " <PIL.Image.Image image mode=RGBA size=118x118 at 0x7F2811F07EF0>,\n",
              " <PIL.Image.Image image mode=RGBA size=118x118 at 0x7F2811D687F0>,\n",
              " <PIL.Image.Image image mode=RGBA size=118x118 at 0x7F2811E29470>,\n",
              " <PIL.Image.Image image mode=RGBA size=118x118 at 0x7F2811F8A9B0>,\n",
              " <PIL.Image.Image image mode=RGBA size=118x118 at 0x7F28120F68D0>,\n",
              " <PIL.Image.Image image mode=RGBA size=118x118 at 0x7F2811E6D470>,\n",
              " <PIL.Image.Image image mode=RGBA size=118x118 at 0x7F2811F1E8D0>,\n",
              " <PIL.Image.Image image mode=RGBA size=118x118 at 0x7F2811F3EFD0>,\n",
              " <PIL.Image.Image image mode=RGBA size=118x118 at 0x7F2811DBF940>,\n",
              " <PIL.Image.Image image mode=RGBA size=118x118 at 0x7F2811EF7DA0>,\n",
              " <PIL.Image.Image image mode=RGBA size=118x118 at 0x7F2811D522B0>,\n",
              " <PIL.Image.Image image mode=RGBA size=118x118 at 0x7F281201A6A0>,\n",
              " <PIL.Image.Image image mode=RGBA size=118x118 at 0x7F2811D705C0>,\n",
              " <PIL.Image.Image image mode=RGBA size=118x118 at 0x7F2811E7D9B0>,\n",
              " <PIL.Image.Image image mode=RGBA size=118x118 at 0x7F281207F630>,\n",
              " <PIL.Image.Image image mode=RGBA size=118x118 at 0x7F2811E8DE80>,\n",
              " <PIL.Image.Image image mode=RGBA size=118x118 at 0x7F2811ED1320>,\n",
              " <PIL.Image.Image image mode=RGBA size=118x118 at 0x7F28120F08D0>,\n",
              " <PIL.Image.Image image mode=RGBA size=118x118 at 0x7F281208D860>,\n",
              " <PIL.Image.Image image mode=RGBA size=118x118 at 0x7F2811F44080>,\n",
              " <PIL.Image.Image image mode=RGBA size=118x118 at 0x7F2811D5B320>,\n",
              " <PIL.Image.Image image mode=RGBA size=118x118 at 0x7F281207F710>,\n",
              " <PIL.Image.Image image mode=RGBA size=118x118 at 0x7F2811D0EFD0>,\n",
              " <PIL.Image.Image image mode=RGBA size=118x118 at 0x7F2811EB1400>,\n",
              " <PIL.Image.Image image mode=RGBA size=118x118 at 0x7F2811D52B00>,\n",
              " <PIL.Image.Image image mode=RGBA size=118x118 at 0x7F2811D4B630>,\n",
              " <PIL.Image.Image image mode=RGBA size=118x118 at 0x7F2811EDA5C0>,\n",
              " <PIL.Image.Image image mode=RGBA size=118x118 at 0x7F2811DBFBE0>,\n",
              " <PIL.Image.Image image mode=RGBA size=118x118 at 0x7F2812075A90>,\n",
              " <PIL.Image.Image image mode=RGBA size=118x118 at 0x7F2811E2F7F0>,\n",
              " <PIL.Image.Image image mode=RGBA size=118x118 at 0x7F2812004860>,\n",
              " <PIL.Image.Image image mode=RGBA size=118x118 at 0x7F2811D1C7F0>,\n",
              " <PIL.Image.Image image mode=RGBA size=118x118 at 0x7F2811E2FA20>,\n",
              " <PIL.Image.Image image mode=RGBA size=118x118 at 0x7F2811E29080>,\n",
              " <PIL.Image.Image image mode=RGBA size=118x118 at 0x7F28120F6240>,\n",
              " <PIL.Image.Image image mode=RGBA size=118x118 at 0x7F2811EBCBE0>,\n",
              " <PIL.Image.Image image mode=RGBA size=118x118 at 0x7F2811F98CC0>,\n",
              " <PIL.Image.Image image mode=RGBA size=118x118 at 0x7F2811EDA160>,\n",
              " <PIL.Image.Image image mode=RGBA size=118x118 at 0x7F2811E03B00>,\n",
              " <PIL.Image.Image image mode=RGBA size=118x118 at 0x7F2811D06C50>,\n",
              " <PIL.Image.Image image mode=RGBA size=118x118 at 0x7F2811EAA240>,\n",
              " <PIL.Image.Image image mode=RGBA size=118x118 at 0x7F2811E12D30>,\n",
              " <PIL.Image.Image image mode=RGBA size=118x118 at 0x7F2811E94550>,\n",
              " <PIL.Image.Image image mode=RGBA size=118x118 at 0x7F2811E03A90>,\n",
              " <PIL.Image.Image image mode=RGBA size=118x118 at 0x7F2811D91BE0>,\n",
              " <PIL.Image.Image image mode=RGBA size=118x118 at 0x7F2811E37FD0>,\n",
              " <PIL.Image.Image image mode=RGBA size=118x118 at 0x7F2811ED1BE0>,\n",
              " <PIL.Image.Image image mode=RGBA size=118x118 at 0x7F2811DD5780>,\n",
              " <PIL.Image.Image image mode=RGBA size=118x118 at 0x7F2811CF9EF0>,\n",
              " <PIL.Image.Image image mode=RGBA size=118x118 at 0x7F2811D9F320>,\n",
              " <PIL.Image.Image image mode=RGBA size=118x118 at 0x7F2811E7DB00>,\n",
              " <PIL.Image.Image image mode=RGBA size=118x118 at 0x7F2811DE4160>,\n",
              " <PIL.Image.Image image mode=RGBA size=118x118 at 0x7F2811E64DA0>,\n",
              " <PIL.Image.Image image mode=RGBA size=118x118 at 0x7F2811EAACC0>,\n",
              " <PIL.Image.Image image mode=RGBA size=118x118 at 0x7F2811FDD160>,\n",
              " <PIL.Image.Image image mode=RGBA size=118x118 at 0x7F281208D550>,\n",
              " <PIL.Image.Image image mode=RGBA size=118x118 at 0x7F2811D254E0>,\n",
              " <PIL.Image.Image image mode=RGBA size=118x118 at 0x7F2811E6DD30>,\n",
              " <PIL.Image.Image image mode=RGBA size=118x118 at 0x7F2811DB4080>,\n",
              " <PIL.Image.Image image mode=RGBA size=118x118 at 0x7F2812038EF0>,\n",
              " <PIL.Image.Image image mode=RGBA size=118x118 at 0x7F2811F4BC50>,\n",
              " <PIL.Image.Image image mode=RGBA size=118x118 at 0x7F2811F0FF60>,\n",
              " <PIL.Image.Image image mode=RGBA size=118x118 at 0x7F2811F2C320>,\n",
              " <PIL.Image.Image image mode=RGBA size=118x118 at 0x7F2811FDDA90>,\n",
              " <PIL.Image.Image image mode=RGBA size=118x118 at 0x7F2811D7A550>,\n",
              " <PIL.Image.Image image mode=RGBA size=118x118 at 0x7F2811E6D860>,\n",
              " <PIL.Image.Image image mode=RGBA size=118x118 at 0x7F2811FADDA0>,\n",
              " <PIL.Image.Image image mode=RGBA size=118x118 at 0x7F2811F2C1D0>,\n",
              " <PIL.Image.Image image mode=RGBA size=118x118 at 0x7F2811FB6D30>,\n",
              " <PIL.Image.Image image mode=RGBA size=118x118 at 0x7F2811DD5B70>,\n",
              " <PIL.Image.Image image mode=RGBA size=118x118 at 0x7F2811D25320>,\n",
              " <PIL.Image.Image image mode=RGBA size=118x118 at 0x7F2811EE07F0>,\n",
              " <PIL.Image.Image image mode=RGBA size=118x118 at 0x7F2811DC6550>,\n",
              " <PIL.Image.Image image mode=RGBA size=118x118 at 0x7F2811D97470>,\n",
              " <PIL.Image.Image image mode=RGBA size=118x118 at 0x7F281203BB00>,\n",
              " <PIL.Image.Image image mode=RGBA size=118x118 at 0x7F2811D81320>,\n",
              " <PIL.Image.Image image mode=RGBA size=118x118 at 0x7F2811E5FF60>,\n",
              " <PIL.Image.Image image mode=RGBA size=118x118 at 0x7F2811F54A90>,\n",
              " <PIL.Image.Image image mode=RGBA size=118x118 at 0x7F281201A400>,\n",
              " <PIL.Image.Image image mode=RGBA size=118x118 at 0x7F2811E39400>,\n",
              " <PIL.Image.Image image mode=RGBA size=118x118 at 0x7F2812086CC0>,\n",
              " <PIL.Image.Image image mode=RGBA size=118x118 at 0x7F2811D7A390>,\n",
              " <PIL.Image.Image image mode=RGBA size=118x118 at 0x7F2811E85400>,\n",
              " <PIL.Image.Image image mode=RGBA size=118x118 at 0x7F2811E6D9B0>,\n",
              " <PIL.Image.Image image mode=RGBA size=118x118 at 0x7F2811DD54E0>,\n",
              " <PIL.Image.Image image mode=RGBA size=118x118 at 0x7F2811E6DA90>,\n",
              " <PIL.Image.Image image mode=RGBA size=118x118 at 0x7F2811E42E80>,\n",
              " <PIL.Image.Image image mode=RGBA size=118x118 at 0x7F2811F908D0>,\n",
              " <PIL.Image.Image image mode=RGBA size=118x118 at 0x7F2811F44780>,\n",
              " <PIL.Image.Image image mode=RGBA size=118x118 at 0x7F2811E64080>,\n",
              " <PIL.Image.Image image mode=RGBA size=118x118 at 0x7F2811DCC5C0>,\n",
              " <PIL.Image.Image image mode=RGBA size=118x118 at 0x7F2812004E10>,\n",
              " <PIL.Image.Image image mode=RGBA size=118x118 at 0x7F281209DFD0>,\n",
              " <PIL.Image.Image image mode=RGBA size=118x118 at 0x7F2811EE7E80>,\n",
              " <PIL.Image.Image image mode=RGBA size=118x118 at 0x7F281201A2B0>,\n",
              " <PIL.Image.Image image mode=RGBA size=118x118 at 0x7F2811F008D0>,\n",
              " <PIL.Image.Image image mode=RGBA size=118x118 at 0x7F2811E57710>,\n",
              " <PIL.Image.Image image mode=RGBA size=118x118 at 0x7F2811E424E0>,\n",
              " <PIL.Image.Image image mode=RGBA size=118x118 at 0x7F2811D62D30>,\n",
              " <PIL.Image.Image image mode=RGBA size=118x118 at 0x7F2811F62EF0>,\n",
              " <PIL.Image.Image image mode=RGBA size=118x118 at 0x7F2811D919B0>,\n",
              " <PIL.Image.Image image mode=RGBA size=118x118 at 0x7F2812041D30>,\n",
              " <PIL.Image.Image image mode=RGBA size=118x118 at 0x7F2811EE7320>,\n",
              " <PIL.Image.Image image mode=RGBA size=118x118 at 0x7F2811CF92B0>,\n",
              " <PIL.Image.Image image mode=RGBA size=118x118 at 0x7F2811EA44E0>,\n",
              " <PIL.Image.Image image mode=RGBA size=118x118 at 0x7F281203BA20>,\n",
              " <PIL.Image.Image image mode=RGBA size=118x118 at 0x7F2811D68BE0>,\n",
              " <PIL.Image.Image image mode=RGBA size=118x118 at 0x7F2811D626A0>,\n",
              " <PIL.Image.Image image mode=RGBA size=118x118 at 0x7F2811FC5240>,\n",
              " <PIL.Image.Image image mode=RGBA size=118x118 at 0x7F2811D68A20>,\n",
              " <PIL.Image.Image image mode=RGBA size=118x118 at 0x7F2811CFF320>,\n",
              " <PIL.Image.Image image mode=RGBA size=118x118 at 0x7F2811ED1E80>,\n",
              " <PIL.Image.Image image mode=RGBA size=118x118 at 0x7F2811D3DBE0>,\n",
              " <PIL.Image.Image image mode=RGBA size=118x118 at 0x7F2812041A20>,\n",
              " <PIL.Image.Image image mode=RGBA size=118x118 at 0x7F2811E8D5C0>,\n",
              " <PIL.Image.Image image mode=RGBA size=118x118 at 0x7F2811FECCC0>,\n",
              " <PIL.Image.Image image mode=RGBA size=118x118 at 0x7F2811E29550>,\n",
              " <PIL.Image.Image image mode=RGBA size=118x118 at 0x7F2811F62390>,\n",
              " <PIL.Image.Image image mode=RGBA size=118x118 at 0x7F2811DCC400>,\n",
              " <PIL.Image.Image image mode=RGBA size=118x118 at 0x7F2811EA4D30>,\n",
              " <PIL.Image.Image image mode=RGBA size=118x118 at 0x7F2812066860>,\n",
              " <PIL.Image.Image image mode=RGBA size=118x118 at 0x7F2811DCC7F0>,\n",
              " <PIL.Image.Image image mode=RGBA size=118x118 at 0x7F2811F25DA0>,\n",
              " <PIL.Image.Image image mode=RGBA size=118x118 at 0x7F2811FCE080>,\n",
              " <PIL.Image.Image image mode=RGBA size=118x118 at 0x7F2811FE3160>,\n",
              " <PIL.Image.Image image mode=RGBA size=118x118 at 0x7F281207F860>,\n",
              " <PIL.Image.Image image mode=RGBA size=118x118 at 0x7F2812094B70>,\n",
              " <PIL.Image.Image image mode=RGBA size=118x118 at 0x7F2811F98F60>,\n",
              " <PIL.Image.Image image mode=RGBA size=118x118 at 0x7F28120D4CC0>,\n",
              " <PIL.Image.Image image mode=RGBA size=118x118 at 0x7F2811E39EF0>,\n",
              " <PIL.Image.Image image mode=RGBA size=118x118 at 0x7F2811D91F60>,\n",
              " <PIL.Image.Image image mode=RGBA size=118x118 at 0x7F2811E42B70>,\n",
              " <PIL.Image.Image image mode=RGBA size=118x118 at 0x7F2811EEF780>,\n",
              " <PIL.Image.Image image mode=RGBA size=118x118 at 0x7F2811DFCB00>,\n",
              " <PIL.Image.Image image mode=RGBA size=118x118 at 0x7F281201AA20>,\n",
              " <PIL.Image.Image image mode=RGBA size=118x118 at 0x7F28120E9BE0>,\n",
              " <PIL.Image.Image image mode=RGBA size=118x118 at 0x7F2811E85B00>,\n",
              " <PIL.Image.Image image mode=RGBA size=118x118 at 0x7F2811FB6630>,\n",
              " <PIL.Image.Image image mode=RGBA size=118x118 at 0x7F2811EEF9B0>,\n",
              " <PIL.Image.Image image mode=RGBA size=118x118 at 0x7F2811E9B160>,\n",
              " <PIL.Image.Image image mode=RGBA size=118x118 at 0x7F2811DAE390>,\n",
              " <PIL.Image.Image image mode=RGBA size=118x118 at 0x7F2811E03240>,\n",
              " <PIL.Image.Image image mode=RGBA size=118x118 at 0x7F2811FC55C0>,\n",
              " <PIL.Image.Image image mode=RGBA size=118x118 at 0x7F2811E7D630>,\n",
              " <PIL.Image.Image image mode=RGBA size=118x118 at 0x7F2811D16240>,\n",
              " <PIL.Image.Image image mode=RGBA size=118x118 at 0x7F2811D1CE10>,\n",
              " <PIL.Image.Image image mode=RGBA size=118x118 at 0x7F2811FFC630>,\n",
              " <PIL.Image.Image image mode=RGBA size=118x118 at 0x7F2811E19160>,\n",
              " <PIL.Image.Image image mode=RGBA size=118x118 at 0x7F28120AAB70>,\n",
              " <PIL.Image.Image image mode=RGBA size=118x118 at 0x7F2811E032B0>,\n",
              " <PIL.Image.Image image mode=RGBA size=118x118 at 0x7F2811FB6E80>,\n",
              " <PIL.Image.Image image mode=RGBA size=118x118 at 0x7F2811E75080>,\n",
              " <PIL.Image.Image image mode=RGBA size=118x118 at 0x7F2812094240>,\n",
              " <PIL.Image.Image image mode=RGBA size=118x118 at 0x7F2811DAEA20>,\n",
              " <PIL.Image.Image image mode=RGBA size=118x118 at 0x7F2811D0E7F0>,\n",
              " <PIL.Image.Image image mode=RGBA size=118x118 at 0x7F2811D5BBE0>,\n",
              " <PIL.Image.Image image mode=RGBA size=118x118 at 0x7F2811E21160>,\n",
              " <PIL.Image.Image image mode=RGBA size=118x118 at 0x7F2811E857F0>,\n",
              " <PIL.Image.Image image mode=RGBA size=118x118 at 0x7F2811FD6DA0>,\n",
              " <PIL.Image.Image image mode=RGBA size=118x118 at 0x7F2811FCE630>,\n",
              " <PIL.Image.Image image mode=RGBA size=118x118 at 0x7F2811FCEB00>,\n",
              " <PIL.Image.Image image mode=RGBA size=118x118 at 0x7F2811F54390>,\n",
              " <PIL.Image.Image image mode=RGBA size=118x118 at 0x7F2811F4B5C0>,\n",
              " <PIL.Image.Image image mode=RGBA size=118x118 at 0x7F28120D42B0>,\n",
              " <PIL.Image.Image image mode=RGBA size=118x118 at 0x7F2811F15940>,\n",
              " <PIL.Image.Image image mode=RGBA size=118x118 at 0x7F2811F98B70>,\n",
              " <PIL.Image.Image image mode=RGBA size=118x118 at 0x7F2811DD51D0>,\n",
              " <PIL.Image.Image image mode=RGBA size=118x118 at 0x7F2811DFC0F0>,\n",
              " <PIL.Image.Image image mode=RGBA size=118x118 at 0x7F2811F7A240>,\n",
              " <PIL.Image.Image image mode=RGBA size=118x118 at 0x7F2811FEC710>,\n",
              " <PIL.Image.Image image mode=RGBA size=118x118 at 0x7F2811EC3240>,\n",
              " <PIL.Image.Image image mode=RGBA size=118x118 at 0x7F2811E12470>,\n",
              " <PIL.Image.Image image mode=RGBA size=118x118 at 0x7F2811E39C50>,\n",
              " <PIL.Image.Image image mode=RGBA size=118x118 at 0x7F2811DB4630>,\n",
              " <PIL.Image.Image image mode=RGBA size=118x118 at 0x7F2811DA64E0>,\n",
              " <PIL.Image.Image image mode=RGBA size=118x118 at 0x7F2811DBF400>,\n",
              " <PIL.Image.Image image mode=RGBA size=118x118 at 0x7F281200B940>,\n",
              " <PIL.Image.Image image mode=RGBA size=118x118 at 0x7F2811E47940>,\n",
              " <PIL.Image.Image image mode=RGBA size=118x118 at 0x7F2811DD5710>,\n",
              " <PIL.Image.Image image mode=RGBA size=118x118 at 0x7F2811EB1DA0>,\n",
              " <PIL.Image.Image image mode=RGBA size=118x118 at 0x7F2811EC3320>,\n",
              " <PIL.Image.Image image mode=RGBA size=118x118 at 0x7F28120944E0>,\n",
              " <PIL.Image.Image image mode=RGBA size=118x118 at 0x7F2812094FD0>,\n",
              " <PIL.Image.Image image mode=RGBA size=118x118 at 0x7F2811D974E0>,\n",
              " <PIL.Image.Image image mode=RGBA size=118x118 at 0x7F28120E9710>,\n",
              " <PIL.Image.Image image mode=RGBA size=118x118 at 0x7F28120239B0>,\n",
              " <PIL.Image.Image image mode=RGBA size=118x118 at 0x7F2811E579B0>,\n",
              " <PIL.Image.Image image mode=RGBA size=118x118 at 0x7F28120508D0>,\n",
              " <PIL.Image.Image image mode=RGBA size=118x118 at 0x7F28120D4A20>,\n",
              " <PIL.Image.Image image mode=RGBA size=118x118 at 0x7F2811E64860>,\n",
              " <PIL.Image.Image image mode=RGBA size=118x118 at 0x7F2812023470>,\n",
              " <PIL.Image.Image image mode=RGBA size=118x118 at 0x7F2811F3E1D0>,\n",
              " <PIL.Image.Image image mode=RGBA size=118x118 at 0x7F2811EBC080>,\n",
              " <PIL.Image.Image image mode=RGBA size=118x118 at 0x7F2811E8DC50>,\n",
              " <PIL.Image.Image image mode=RGBA size=118x118 at 0x7F2811D70940>,\n",
              " <PIL.Image.Image image mode=RGBA size=118x118 at 0x7F2812038160>,\n",
              " <PIL.Image.Image image mode=RGBA size=118x118 at 0x7F2811DFCDA0>,\n",
              " <PIL.Image.Image image mode=RGBA size=118x118 at 0x7F2811F0F780>,\n",
              " <PIL.Image.Image image mode=RGBA size=118x118 at 0x7F2811D0E9B0>,\n",
              " <PIL.Image.Image image mode=RGBA size=118x118 at 0x7F281203B9B0>,\n",
              " <PIL.Image.Image image mode=RGBA size=118x118 at 0x7F2811DFCE10>,\n",
              " <PIL.Image.Image image mode=RGBA size=118x118 at 0x7F2811D25240>,\n",
              " <PIL.Image.Image image mode=RGBA size=118x118 at 0x7F28120B25C0>,\n",
              " <PIL.Image.Image image mode=RGBA size=118x118 at 0x7F281208DB00>,\n",
              " <PIL.Image.Image image mode=RGBA size=118x118 at 0x7F2811DDD860>,\n",
              " <PIL.Image.Image image mode=RGBA size=118x118 at 0x7F2811E75F60>,\n",
              " <PIL.Image.Image image mode=RGBA size=118x118 at 0x7F2811FE3A90>,\n",
              " <PIL.Image.Image image mode=RGBA size=118x118 at 0x7F2811E6D4E0>,\n",
              " <PIL.Image.Image image mode=RGBA size=118x118 at 0x7F2811DBFDA0>,\n",
              " <PIL.Image.Image image mode=RGBA size=118x118 at 0x7F2811E9B240>,\n",
              " <PIL.Image.Image image mode=RGBA size=118x118 at 0x7F2811D97860>,\n",
              " <PIL.Image.Image image mode=RGBA size=118x118 at 0x7F2811F82EF0>,\n",
              " <PIL.Image.Image image mode=RGBA size=118x118 at 0x7F2811F0FA20>,\n",
              " <PIL.Image.Image image mode=RGBA size=118x118 at 0x7F281207FF60>,\n",
              " <PIL.Image.Image image mode=RGBA size=118x118 at 0x7F2811D7AB00>,\n",
              " <PIL.Image.Image image mode=RGBA size=118x118 at 0x7F2811D9F2B0>,\n",
              " <PIL.Image.Image image mode=RGBA size=118x118 at 0x7F2811F62FD0>,\n",
              " <PIL.Image.Image image mode=RGBA size=118x118 at 0x7F2811F62320>,\n",
              " <PIL.Image.Image image mode=RGBA size=118x118 at 0x7F2811F72390>,\n",
              " <PIL.Image.Image image mode=RGBA size=118x118 at 0x7F2811FAD2B0>,\n",
              " <PIL.Image.Image image mode=RGBA size=118x118 at 0x7F28120286A0>,\n",
              " <PIL.Image.Image image mode=RGBA size=118x118 at 0x7F28120E92B0>,\n",
              " <PIL.Image.Image image mode=RGBA size=118x118 at 0x7F2811EC31D0>,\n",
              " <PIL.Image.Image image mode=RGBA size=118x118 at 0x7F2811D5B8D0>,\n",
              " <PIL.Image.Image image mode=RGBA size=118x118 at 0x7F2811F82B70>,\n",
              " <PIL.Image.Image image mode=RGBA size=118x118 at 0x7F2811D62240>,\n",
              " <PIL.Image.Image image mode=RGBA size=118x118 at 0x7F2811CF9940>,\n",
              " <PIL.Image.Image image mode=RGBA size=118x118 at 0x7F28120947F0>,\n",
              " <PIL.Image.Image image mode=RGBA size=118x118 at 0x7F2811FA08D0>,\n",
              " <PIL.Image.Image image mode=RGBA size=118x118 at 0x7F2811EEF630>,\n",
              " <PIL.Image.Image image mode=RGBA size=118x118 at 0x7F2811D0E780>,\n",
              " <PIL.Image.Image image mode=RGBA size=118x118 at 0x7F2811F7AE10>,\n",
              " <PIL.Image.Image image mode=RGBA size=118x118 at 0x7F2811FEC240>,\n",
              " <PIL.Image.Image image mode=RGBA size=118x118 at 0x7F2811D81B00>,\n",
              " <PIL.Image.Image image mode=RGBA size=118x118 at 0x7F2811D06B70>,\n",
              " <PIL.Image.Image image mode=RGBA size=118x118 at 0x7F2811E641D0>,\n",
              " <PIL.Image.Image image mode=RGBA size=118x118 at 0x7F2811EBC7F0>,\n",
              " <PIL.Image.Image image mode=RGBA size=118x118 at 0x7F2811DF38D0>,\n",
              " <PIL.Image.Image image mode=RGBA size=118x118 at 0x7F281203B400>,\n",
              " <PIL.Image.Image image mode=RGBA size=118x118 at 0x7F2811FB62B0>,\n",
              " <PIL.Image.Image image mode=RGBA size=118x118 at 0x7F2811E03550>,\n",
              " <PIL.Image.Image image mode=RGBA size=118x118 at 0x7F2811DF3550>,\n",
              " <PIL.Image.Image image mode=RGBA size=118x118 at 0x7F28120F0B00>,\n",
              " <PIL.Image.Image image mode=RGBA size=118x118 at 0x7F2811EC39B0>,\n",
              " <PIL.Image.Image image mode=RGBA size=118x118 at 0x7F2811E29EF0>,\n",
              " <PIL.Image.Image image mode=RGBA size=118x118 at 0x7F2811E196A0>,\n",
              " <PIL.Image.Image image mode=RGBA size=118x118 at 0x7F2811D4B1D0>,\n",
              " <PIL.Image.Image image mode=RGBA size=118x118 at 0x7F2811E64A20>,\n",
              " <PIL.Image.Image image mode=RGBA size=118x118 at 0x7F2812050710>,\n",
              " <PIL.Image.Image image mode=RGBA size=118x118 at 0x7F2811F78710>,\n",
              " <PIL.Image.Image image mode=RGBA size=118x118 at 0x7F2811EB1470>,\n",
              " <PIL.Image.Image image mode=RGBA size=118x118 at 0x7F2811E4F6A0>,\n",
              " <PIL.Image.Image image mode=RGBA size=118x118 at 0x7F2811FC0B70>,\n",
              " <PIL.Image.Image image mode=RGBA size=118x118 at 0x7F2811F62400>,\n",
              " <PIL.Image.Image image mode=RGBA size=118x118 at 0x7F2812041A90>,\n",
              " <PIL.Image.Image image mode=RGBA size=118x118 at 0x7F2811D1CC50>,\n",
              " <PIL.Image.Image image mode=RGBA size=118x118 at 0x7F2811E195C0>,\n",
              " <PIL.Image.Image image mode=RGBA size=118x118 at 0x7F2811E4FCC0>,\n",
              " <PIL.Image.Image image mode=RGBA size=118x118 at 0x7F2811D628D0>,\n",
              " <PIL.Image.Image image mode=RGBA size=118x118 at 0x7F2811D70710>,\n",
              " <PIL.Image.Image image mode=RGBA size=118x118 at 0x7F2811EE0390>,\n",
              " <PIL.Image.Image image mode=RGBA size=118x118 at 0x7F28120867F0>,\n",
              " <PIL.Image.Image image mode=RGBA size=118x118 at 0x7F2811DFCFD0>,\n",
              " <PIL.Image.Image image mode=RGBA size=118x118 at 0x7F2811F44A20>,\n",
              " <PIL.Image.Image image mode=RGBA size=118x118 at 0x7F2811DBFA90>,\n",
              " <PIL.Image.Image image mode=RGBA size=118x118 at 0x7F2811F7A8D0>,\n",
              " <PIL.Image.Image image mode=RGBA size=118x118 at 0x7F2812012E10>,\n",
              " <PIL.Image.Image image mode=RGBA size=118x118 at 0x7F2811EA4550>,\n",
              " <PIL.Image.Image image mode=RGBA size=118x118 at 0x7F2811EC9400>,\n",
              " <PIL.Image.Image image mode=RGBA size=118x118 at 0x7F281206E0F0>,\n",
              " <PIL.Image.Image image mode=RGBA size=118x118 at 0x7F2811F15780>,\n",
              " <PIL.Image.Image image mode=RGBA size=118x118 at 0x7F2811D708D0>,\n",
              " <PIL.Image.Image image mode=RGBA size=118x118 at 0x7F2812058BE0>,\n",
              " <PIL.Image.Image image mode=RGBA size=118x118 at 0x7F2811FC06A0>,\n",
              " <PIL.Image.Image image mode=RGBA size=118x118 at 0x7F28120E9C50>,\n",
              " <PIL.Image.Image image mode=RGBA size=118x118 at 0x7F2811DC6160>,\n",
              " <PIL.Image.Image image mode=RGBA size=118x118 at 0x7F2811D52860>,\n",
              " <PIL.Image.Image image mode=RGBA size=118x118 at 0x7F2811E12EF0>,\n",
              " <PIL.Image.Image image mode=RGBA size=118x118 at 0x7F2811F1E320>,\n",
              " <PIL.Image.Image image mode=RGBA size=118x118 at 0x7F2811F69400>,\n",
              " <PIL.Image.Image image mode=RGBA size=118x118 at 0x7F2811E03320>,\n",
              " <PIL.Image.Image image mode=RGBA size=118x118 at 0x7F2811E94E80>,\n",
              " <PIL.Image.Image image mode=RGBA size=118x118 at 0x7F2811DB40F0>,\n",
              " <PIL.Image.Image image mode=RGBA size=118x118 at 0x7F28120E9240>,\n",
              " <PIL.Image.Image image mode=RGBA size=118x118 at 0x7F2812028160>,\n",
              " <PIL.Image.Image image mode=RGBA size=118x118 at 0x7F2811D882B0>,\n",
              " <PIL.Image.Image image mode=RGBA size=118x118 at 0x7F2811E39940>,\n",
              " <PIL.Image.Image image mode=RGBA size=118x118 at 0x7F2811DEAFD0>,\n",
              " <PIL.Image.Image image mode=RGBA size=118x118 at 0x7F2811D3D160>,\n",
              " <PIL.Image.Image image mode=RGBA size=118x118 at 0x7F2811D62860>,\n",
              " <PIL.Image.Image image mode=RGBA size=118x118 at 0x7F2811FC01D0>,\n",
              " <PIL.Image.Image image mode=RGBA size=118x118 at 0x7F28120945C0>,\n",
              " <PIL.Image.Image image mode=RGBA size=118x118 at 0x7F2811FD6940>,\n",
              " <PIL.Image.Image image mode=RGBA size=118x118 at 0x7F2811D5B400>,\n",
              " <PIL.Image.Image image mode=RGBA size=118x118 at 0x7F2811CF90F0>,\n",
              " <PIL.Image.Image image mode=RGBA size=118x118 at 0x7F2811CF9E80>,\n",
              " <PIL.Image.Image image mode=RGBA size=118x118 at 0x7F281205EBE0>,\n",
              " <PIL.Image.Image image mode=RGBA size=118x118 at 0x7F2811F33400>,\n",
              " <PIL.Image.Image image mode=RGBA size=118x118 at 0x7F2812048860>,\n",
              " <PIL.Image.Image image mode=RGBA size=118x118 at 0x7F2811D81860>,\n",
              " <PIL.Image.Image image mode=RGBA size=118x118 at 0x7F2811FFC7F0>,\n",
              " <PIL.Image.Image image mode=RGBA size=118x118 at 0x7F2811EDAF60>,\n",
              " <PIL.Image.Image image mode=RGBA size=118x118 at 0x7F2811D9F080>,\n",
              " <PIL.Image.Image image mode=RGBA size=118x118 at 0x7F2811F90240>,\n",
              " <PIL.Image.Image image mode=RGBA size=118x118 at 0x7F2811F3E860>,\n",
              " <PIL.Image.Image image mode=RGBA size=118x118 at 0x7F2811FAD9B0>,\n",
              " <PIL.Image.Image image mode=RGBA size=118x118 at 0x7F281207F4E0>,\n",
              " <PIL.Image.Image image mode=RGBA size=118x118 at 0x7F28120482B0>,\n",
              " <PIL.Image.Image image mode=RGBA size=118x118 at 0x7F2811F90860>,\n",
              " <PIL.Image.Image image mode=RGBA size=118x118 at 0x7F28120B2A90>,\n",
              " <PIL.Image.Image image mode=RGBA size=118x118 at 0x7F281209D1D0>,\n",
              " <PIL.Image.Image image mode=RGBA size=118x118 at 0x7F2811D45B00>,\n",
              " <PIL.Image.Image image mode=RGBA size=118x118 at 0x7F2811EEFC50>,\n",
              " <PIL.Image.Image image mode=RGBA size=118x118 at 0x7F2811EA4C50>,\n",
              " <PIL.Image.Image image mode=RGBA size=118x118 at 0x7F2811EC34E0>,\n",
              " <PIL.Image.Image image mode=RGBA size=118x118 at 0x7F2811DF36A0>,\n",
              " <PIL.Image.Image image mode=RGBA size=118x118 at 0x7F2811DFC4E0>,\n",
              " <PIL.Image.Image image mode=RGBA size=118x118 at 0x7F2811E5F6A0>,\n",
              " <PIL.Image.Image image mode=RGBA size=118x118 at 0x7F2811FA0470>,\n",
              " <PIL.Image.Image image mode=RGBA size=118x118 at 0x7F2812030FD0>,\n",
              " <PIL.Image.Image image mode=RGBA size=118x118 at 0x7F2811F8AB00>,\n",
              " <PIL.Image.Image image mode=RGBA size=118x118 at 0x7F2811DAE470>,\n",
              " <PIL.Image.Image image mode=RGBA size=118x118 at 0x7F2811D16F60>,\n",
              " <PIL.Image.Image image mode=RGBA size=118x118 at 0x7F2811E94A20>,\n",
              " <PIL.Image.Image image mode=RGBA size=118x118 at 0x7F2811FDD710>,\n",
              " <PIL.Image.Image image mode=RGBA size=118x118 at 0x7F2811D45CC0>,\n",
              " <PIL.Image.Image image mode=RGBA size=118x118 at 0x7F2811EF7860>,\n",
              " <PIL.Image.Image image mode=RGBA size=118x118 at 0x7F2812058A90>,\n",
              " <PIL.Image.Image image mode=RGBA size=118x118 at 0x7F2811F2CE10>,\n",
              " <PIL.Image.Image image mode=RGBA size=118x118 at 0x7F2811F98710>,\n",
              " <PIL.Image.Image image mode=RGBA size=118x118 at 0x7F2811EE0320>,\n",
              " <PIL.Image.Image image mode=RGBA size=118x118 at 0x7F2811F72A20>,\n",
              " <PIL.Image.Image image mode=RGBA size=118x118 at 0x7F2811D7A470>,\n",
              " <PIL.Image.Image image mode=RGBA size=118x118 at 0x7F2811DD55C0>,\n",
              " <PIL.Image.Image image mode=RGBA size=118x118 at 0x7F28120E9400>,\n",
              " <PIL.Image.Image image mode=RGBA size=118x118 at 0x7F281201A9B0>,\n",
              " <PIL.Image.Image image mode=RGBA size=118x118 at 0x7F2811F90E10>,\n",
              " <PIL.Image.Image image mode=RGBA size=118x118 at 0x7F2811CF9240>,\n",
              " <PIL.Image.Image image mode=RGBA size=118x118 at 0x7F2811D4BB70>,\n",
              " <PIL.Image.Image image mode=RGBA size=118x118 at 0x7F2811CFFB70>,\n",
              " <PIL.Image.Image image mode=RGBA size=118x118 at 0x7F2811D526A0>,\n",
              " <PIL.Image.Image image mode=RGBA size=118x118 at 0x7F2811FFC5C0>,\n",
              " <PIL.Image.Image image mode=RGBA size=118x118 at 0x7F2811E2FE80>,\n",
              " <PIL.Image.Image image mode=RGBA size=118x118 at 0x7F2811CFFCC0>,\n",
              " <PIL.Image.Image image mode=RGBA size=118x118 at 0x7F2811D81630>,\n",
              " <PIL.Image.Image image mode=RGBA size=118x118 at 0x7F281209DEF0>,\n",
              " <PIL.Image.Image image mode=RGBA size=118x118 at 0x7F2811F542B0>,\n",
              " <PIL.Image.Image image mode=RGBA size=118x118 at 0x7F2811FA0E10>,\n",
              " <PIL.Image.Image image mode=RGBA size=118x118 at 0x7F2811F69EF0>,\n",
              " <PIL.Image.Image image mode=RGBA size=118x118 at 0x7F2811EBC0F0>,\n",
              " <PIL.Image.Image image mode=RGBA size=118x118 at 0x7F28120B24E0>,\n",
              " <PIL.Image.Image image mode=RGBA size=118x118 at 0x7F28120942B0>,\n",
              " <PIL.Image.Image image mode=RGBA size=118x118 at 0x7F2811F8ADA0>,\n",
              " <PIL.Image.Image image mode=RGBA size=118x118 at 0x7F281203B390>,\n",
              " <PIL.Image.Image image mode=RGBA size=118x118 at 0x7F2811F25550>,\n",
              " <PIL.Image.Image image mode=RGBA size=118x118 at 0x7F2811D16390>,\n",
              " <PIL.Image.Image image mode=RGBA size=118x118 at 0x7F2811FA7240>,\n",
              " <PIL.Image.Image image mode=RGBA size=118x118 at 0x7F2811E9B1D0>,\n",
              " <PIL.Image.Image image mode=RGBA size=118x118 at 0x7F2811FEC9B0>,\n",
              " <PIL.Image.Image image mode=RGBA size=118x118 at 0x7F28120A3BE0>,\n",
              " <PIL.Image.Image image mode=RGBA size=118x118 at 0x7F281200B240>,\n",
              " <PIL.Image.Image image mode=RGBA size=118x118 at 0x7F2811F7AFD0>,\n",
              " <PIL.Image.Image image mode=RGBA size=118x118 at 0x7F2811F72470>,\n",
              " <PIL.Image.Image image mode=RGBA size=118x118 at 0x7F2811DA6160>,\n",
              " <PIL.Image.Image image mode=RGBA size=118x118 at 0x7F2811FC0DA0>,\n",
              " <PIL.Image.Image image mode=RGBA size=118x118 at 0x7F2811F72160>,\n",
              " <PIL.Image.Image image mode=RGBA size=118x118 at 0x7F2811CFF4E0>,\n",
              " <PIL.Image.Image image mode=RGBA size=118x118 at 0x7F281205E630>,\n",
              " <PIL.Image.Image image mode=RGBA size=118x118 at 0x7F2811E75940>,\n",
              " <PIL.Image.Image image mode=RGBA size=118x118 at 0x7F2811EAA470>,\n",
              " <PIL.Image.Image image mode=RGBA size=118x118 at 0x7F2811E37080>,\n",
              " <PIL.Image.Image image mode=RGBA size=118x118 at 0x7F2811FA0320>,\n",
              " <PIL.Image.Image image mode=RGBA size=118x118 at 0x7F2811EE0C50>,\n",
              " <PIL.Image.Image image mode=RGBA size=118x118 at 0x7F281203B2B0>,\n",
              " <PIL.Image.Image image mode=RGBA size=118x118 at 0x7F2811F1E470>,\n",
              " <PIL.Image.Image image mode=RGBA size=118x118 at 0x7F2811D52390>,\n",
              " <PIL.Image.Image image mode=RGBA size=118x118 at 0x7F2811D70BE0>,\n",
              " <PIL.Image.Image image mode=RGBA size=118x118 at 0x7F2811EC9A20>,\n",
              " <PIL.Image.Image image mode=RGBA size=118x118 at 0x7F2811FC5EF0>,\n",
              " <PIL.Image.Image image mode=RGBA size=118x118 at 0x7F2811E757F0>,\n",
              " <PIL.Image.Image image mode=RGBA size=118x118 at 0x7F2811E8D8D0>,\n",
              " <PIL.Image.Image image mode=RGBA size=118x118 at 0x7F2811CFF080>,\n",
              " <PIL.Image.Image image mode=RGBA size=118x118 at 0x7F2811D4BA90>,\n",
              " <PIL.Image.Image image mode=RGBA size=118x118 at 0x7F2811EE0E80>,\n",
              " <PIL.Image.Image image mode=RGBA size=118x118 at 0x7F2811EA4940>,\n",
              " <PIL.Image.Image image mode=RGBA size=118x118 at 0x7F2811D3D5C0>,\n",
              " <PIL.Image.Image image mode=RGBA size=118x118 at 0x7F28120B2EF0>,\n",
              " <PIL.Image.Image image mode=RGBA size=118x118 at 0x7F2811D62320>,\n",
              " <PIL.Image.Image image mode=RGBA size=118x118 at 0x7F2811E57080>,\n",
              " <PIL.Image.Image image mode=RGBA size=118x118 at 0x7F2811D3D8D0>,\n",
              " <PIL.Image.Image image mode=RGBA size=118x118 at 0x7F2811EEF5C0>,\n",
              " <PIL.Image.Image image mode=RGBA size=118x118 at 0x7F2811FAD630>,\n",
              " <PIL.Image.Image image mode=RGBA size=118x118 at 0x7F2811E7D080>,\n",
              " <PIL.Image.Image image mode=RGBA size=118x118 at 0x7F28120F6C50>,\n",
              " <PIL.Image.Image image mode=RGBA size=118x118 at 0x7F281207F1D0>,\n",
              " <PIL.Image.Image image mode=RGBA size=118x118 at 0x7F2811F69940>,\n",
              " <PIL.Image.Image image mode=RGBA size=118x118 at 0x7F28120D4D30>,\n",
              " <PIL.Image.Image image mode=RGBA size=118x118 at 0x7F2811F3E6A0>,\n",
              " <PIL.Image.Image image mode=RGBA size=118x118 at 0x7F2811E942B0>,\n",
              " <PIL.Image.Image image mode=RGBA size=118x118 at 0x7F2811D62470>,\n",
              " <PIL.Image.Image image mode=RGBA size=118x118 at 0x7F2811E7DA20>,\n",
              " <PIL.Image.Image image mode=RGBA size=118x118 at 0x7F2811F5B2E8>,\n",
              " <PIL.Image.Image image mode=RGBA size=118x118 at 0x7F2811E75160>,\n",
              " <PIL.Image.Image image mode=RGBA size=118x118 at 0x7F28120B2E80>,\n",
              " <PIL.Image.Image image mode=RGBA size=118x118 at 0x7F2811FD6240>,\n",
              " <PIL.Image.Image image mode=RGBA size=118x118 at 0x7F2811E9B0F0>,\n",
              " <PIL.Image.Image image mode=RGBA size=118x118 at 0x7F2811EA4F60>,\n",
              " <PIL.Image.Image image mode=RGBA size=118x118 at 0x7F2811E4F4E0>,\n",
              " <PIL.Image.Image image mode=RGBA size=118x118 at 0x7F2811E19A90>,\n",
              " <PIL.Image.Image image mode=RGBA size=118x118 at 0x7F2811DDDFD0>,\n",
              " <PIL.Image.Image image mode=RGBA size=118x118 at 0x7F2811E4F208>,\n",
              " <PIL.Image.Image image mode=RGBA size=118x118 at 0x7F2811E03160>,\n",
              " <PIL.Image.Image image mode=RGBA size=118x118 at 0x7F2811E37A20>,\n",
              " <PIL.Image.Image image mode=RGBA size=118x118 at 0x7F2811EAA630>,\n",
              " <PIL.Image.Image image mode=RGBA size=118x118 at 0x7F2811F62860>,\n",
              " <PIL.Image.Image image mode=RGBA size=118x118 at 0x7F28120D41D0>,\n",
              " <PIL.Image.Image image mode=RGBA size=118x118 at 0x7F2811F5BFD0>,\n",
              " <PIL.Image.Image image mode=RGBA size=118x118 at 0x7F28120041D0>,\n",
              " <PIL.Image.Image image mode=RGBA size=118x118 at 0x7F2811E2F400>,\n",
              " <PIL.Image.Image image mode=RGBA size=118x118 at 0x7F28120F60F0>,\n",
              " <PIL.Image.Image image mode=RGBA size=118x118 at 0x7F281208DEF0>,\n",
              " <PIL.Image.Image image mode=RGBA size=118x118 at 0x7F2811D16940>,\n",
              " <PIL.Image.Image image mode=RGBA size=118x118 at 0x7F2811F5BF60>,\n",
              " <PIL.Image.Image image mode=RGBA size=118x118 at 0x7F2811DB4A90>,\n",
              " <PIL.Image.Image image mode=RGBA size=118x118 at 0x7F2811D88CC0>,\n",
              " <PIL.Image.Image image mode=RGBA size=118x118 at 0x7F2811F8AFD0>,\n",
              " <PIL.Image.Image image mode=RGBA size=118x118 at 0x7F2811DBF0F0>,\n",
              " <PIL.Image.Image image mode=RGBA size=118x118 at 0x7F2811F62B00>,\n",
              " <PIL.Image.Image image mode=RGBA size=118x118 at 0x7F2812038C50>,\n",
              " <PIL.Image.Image image mode=RGBA size=118x118 at 0x7F2811F72240>,\n",
              " <PIL.Image.Image image mode=RGBA size=118x118 at 0x7F2811DDD240>,\n",
              " <PIL.Image.Image image mode=RGBA size=118x118 at 0x7F2811E42B00>,\n",
              " <PIL.Image.Image image mode=RGBA size=118x118 at 0x7F28120A32B0>,\n",
              " <PIL.Image.Image image mode=RGBA size=118x118 at 0x7F28120F6A90>,\n",
              " <PIL.Image.Image image mode=RGBA size=118x118 at 0x7F2811DDD080>,\n",
              " <PIL.Image.Image image mode=RGBA size=118x118 at 0x7F2811E2F550>,\n",
              " <PIL.Image.Image image mode=RGBA size=118x118 at 0x7F2811E85D30>,\n",
              " <PIL.Image.Image image mode=RGBA size=118x118 at 0x7F2811ED1F60>,\n",
              " <PIL.Image.Image image mode=RGBA size=118x118 at 0x7F2811EC90F0>,\n",
              " <PIL.Image.Image image mode=RGBA size=118x118 at 0x7F2811D454E0>,\n",
              " <PIL.Image.Image image mode=RGBA size=118x118 at 0x7F2812075E10>,\n",
              " <PIL.Image.Image image mode=RGBA size=118x118 at 0x7F2812058FD0>,\n",
              " <PIL.Image.Image image mode=RGBA size=118x118 at 0x7F28120F6B00>,\n",
              " <PIL.Image.Image image mode=RGBA size=118x118 at 0x7F2811FA7CC0>,\n",
              " <PIL.Image.Image image mode=RGBA size=118x118 at 0x7F281201A4E0>,\n",
              " <PIL.Image.Image image mode=RGBA size=118x118 at 0x7F28120AAFD0>,\n",
              " <PIL.Image.Image image mode=RGBA size=118x118 at 0x7F281201A7F0>,\n",
              " <PIL.Image.Image image mode=RGBA size=118x118 at 0x7F2811DC6EF0>,\n",
              " <PIL.Image.Image image mode=RGBA size=118x118 at 0x7F2811E9B400>,\n",
              " <PIL.Image.Image image mode=RGBA size=118x118 at 0x7F2811D0E8D0>,\n",
              " <PIL.Image.Image image mode=RGBA size=118x118 at 0x7F2811FA0B70>,\n",
              " <PIL.Image.Image image mode=RGBA size=118x118 at 0x7F2811F69320>,\n",
              " <PIL.Image.Image image mode=RGBA size=118x118 at 0x7F2811EDA9B0>,\n",
              " <PIL.Image.Image image mode=RGBA size=118x118 at 0x7F2811EF7F60>,\n",
              " <PIL.Image.Image image mode=RGBA size=118x118 at 0x7F2811F3E5C0>,\n",
              " <PIL.Image.Image image mode=RGBA size=118x118 at 0x7F2811D0E2B0>,\n",
              " <PIL.Image.Image image mode=RGBA size=118x118 at 0x7F2811F1E160>,\n",
              " <PIL.Image.Image image mode=RGBA size=118x118 at 0x7F2811F8A0F0>,\n",
              " <PIL.Image.Image image mode=RGBA size=118x118 at 0x7F2812094A90>,\n",
              " <PIL.Image.Image image mode=RGBA size=118x118 at 0x7F2811FA7A90>,\n",
              " <PIL.Image.Image image mode=RGBA size=118x118 at 0x7F2811DEA710>,\n",
              " <PIL.Image.Image image mode=RGBA size=118x118 at 0x7F2811FCE160>,\n",
              " <PIL.Image.Image image mode=RGBA size=118x118 at 0x7F2811FD61D0>,\n",
              " <PIL.Image.Image image mode=RGBA size=118x118 at 0x7F2811F907F0>,\n",
              " ...]"
            ]
          },
          "metadata": {
            "tags": []
          },
          "execution_count": 44
        }
      ]
    },
    {
      "cell_type": "markdown",
      "metadata": {
        "id": "pYtTwQqnQXeO",
        "colab_type": "text"
      },
      "source": [
        "#Converting list in to np.array. Since bobth Xtrain and Xtest are lists, both need to be converted into np.array"
      ]
    },
    {
      "cell_type": "code",
      "metadata": {
        "id": "XXdg0m81VOCF",
        "colab_type": "code",
        "colab": {}
      },
      "source": [
        "for im1 in range(0,len(X_train)):\n",
        "    X_train[im1]=np.asarray(X_train[im1])"
      ],
      "execution_count": 45,
      "outputs": []
    },
    {
      "cell_type": "code",
      "metadata": {
        "id": "WR208fumPFjZ",
        "colab_type": "code",
        "colab": {}
      },
      "source": [
        "for im1 in range(0,len(X_test)):\n",
        "    X_test[im1]=np.asarray(X_test[im1])"
      ],
      "execution_count": 46,
      "outputs": []
    },
    {
      "cell_type": "code",
      "metadata": {
        "id": "oB865SToPNsn",
        "colab_type": "code",
        "colab": {}
      },
      "source": [
        "X_test=np.asarray(X_test,dtype='float32')"
      ],
      "execution_count": 47,
      "outputs": []
    },
    {
      "cell_type": "code",
      "metadata": {
        "id": "5oNUELs8jaOI",
        "colab_type": "code",
        "colab": {
          "base_uri": "https://localhost:8080/",
          "height": 34
        },
        "outputId": "5d702cd4-97b7-4823-e823-7e362bd84515"
      },
      "source": [
        "len(X_train)"
      ],
      "execution_count": 48,
      "outputs": [
        {
          "output_type": "execute_result",
          "data": {
            "text/plain": [
              "3800"
            ]
          },
          "metadata": {
            "tags": []
          },
          "execution_count": 48
        }
      ]
    },
    {
      "cell_type": "code",
      "metadata": {
        "id": "C_qdBK1TT8O1",
        "colab_type": "code",
        "colab": {
          "base_uri": "https://localhost:8080/",
          "height": 34
        },
        "outputId": "da60a82a-e657-461e-f6b0-4392d77439a7"
      },
      "source": [
        "len(X_test)"
      ],
      "execution_count": 49,
      "outputs": [
        {
          "output_type": "execute_result",
          "data": {
            "text/plain": [
              "950"
            ]
          },
          "metadata": {
            "tags": []
          },
          "execution_count": 49
        }
      ]
    },
    {
      "cell_type": "code",
      "metadata": {
        "id": "hojBt6rJf_CG",
        "colab_type": "code",
        "colab": {}
      },
      "source": [
        "X_train=np.asarray(X_train,dtype='float32')"
      ],
      "execution_count": 50,
      "outputs": []
    },
    {
      "cell_type": "code",
      "metadata": {
        "id": "qMnPhttYtN9I",
        "colab_type": "code",
        "colab": {}
      },
      "source": [
        "#X_train[3700]"
      ],
      "execution_count": 51,
      "outputs": []
    },
    {
      "cell_type": "code",
      "metadata": {
        "id": "cvsyCELQtVRI",
        "colab_type": "code",
        "colab": {}
      },
      "source": [
        "X_train=X_train/255\n"
      ],
      "execution_count": 52,
      "outputs": []
    },
    {
      "cell_type": "code",
      "metadata": {
        "id": "PJehdB2I_GEX",
        "colab_type": "code",
        "colab": {}
      },
      "source": [
        "import matplotlib.pyplot as plt\n"
      ],
      "execution_count": 53,
      "outputs": []
    },
    {
      "cell_type": "code",
      "metadata": {
        "id": "TYlg0crq_A9i",
        "colab_type": "code",
        "colab": {}
      },
      "source": [
        "#for i in range(8):\n",
        "   # plt.subplot(2, 4, i + 1)\n",
        "    #plt.figure(figsize=(10,10))\n",
        "    #X_train[i]"
      ],
      "execution_count": 54,
      "outputs": []
    },
    {
      "cell_type": "code",
      "metadata": {
        "id": "EiPD4uq7iHcU",
        "colab_type": "code",
        "colab": {}
      },
      "source": [
        "from keras.utils import to_categorical"
      ],
      "execution_count": 55,
      "outputs": []
    },
    {
      "cell_type": "code",
      "metadata": {
        "id": "mej_TeqYxEtY",
        "colab_type": "code",
        "colab": {}
      },
      "source": [
        "y_train=np.asarray(y_train,dtype='float32')"
      ],
      "execution_count": 56,
      "outputs": []
    },
    {
      "cell_type": "code",
      "metadata": {
        "id": "uFToHc8VfQn8",
        "colab_type": "code",
        "colab": {}
      },
      "source": [
        "y_test=np.asarray(y_test,dtype='float32')"
      ],
      "execution_count": 57,
      "outputs": []
    },
    {
      "cell_type": "code",
      "metadata": {
        "id": "RwBiJMhQxi0B",
        "colab_type": "code",
        "colab": {
          "base_uri": "https://localhost:8080/",
          "height": 34
        },
        "outputId": "9d2478dd-5ee8-43d8-b071-9a282433bcd0"
      },
      "source": [
        "y_train.shape"
      ],
      "execution_count": 58,
      "outputs": [
        {
          "output_type": "execute_result",
          "data": {
            "text/plain": [
              "(3800,)"
            ]
          },
          "metadata": {
            "tags": []
          },
          "execution_count": 58
        }
      ]
    },
    {
      "cell_type": "code",
      "metadata": {
        "id": "7O8ucqsqx691",
        "colab_type": "code",
        "colab": {
          "base_uri": "https://localhost:8080/",
          "height": 34
        },
        "outputId": "54cec04a-4ec1-4f5d-83f7-1033163511ce"
      },
      "source": [
        "X_train[2].shape"
      ],
      "execution_count": 59,
      "outputs": [
        {
          "output_type": "execute_result",
          "data": {
            "text/plain": [
              "(118, 118, 4)"
            ]
          },
          "metadata": {
            "tags": []
          },
          "execution_count": 59
        }
      ]
    },
    {
      "cell_type": "code",
      "metadata": {
        "id": "FXV5QcczRHht",
        "colab_type": "code",
        "colab": {
          "base_uri": "https://localhost:8080/",
          "height": 34
        },
        "outputId": "690cf634-6c11-4dc2-a195-c0387e31472d"
      },
      "source": [
        "X_train.shape"
      ],
      "execution_count": 60,
      "outputs": [
        {
          "output_type": "execute_result",
          "data": {
            "text/plain": [
              "(3800, 118, 118, 4)"
            ]
          },
          "metadata": {
            "tags": []
          },
          "execution_count": 60
        }
      ]
    },
    {
      "cell_type": "code",
      "metadata": {
        "id": "xIYVAAmFjmE4",
        "colab_type": "code",
        "colab": {
          "base_uri": "https://localhost:8080/",
          "height": 34
        },
        "outputId": "13c22326-dc11-460a-e914-440b74797099"
      },
      "source": [
        "X_test.shape"
      ],
      "execution_count": 61,
      "outputs": [
        {
          "output_type": "execute_result",
          "data": {
            "text/plain": [
              "(950, 118, 118, 4)"
            ]
          },
          "metadata": {
            "tags": []
          },
          "execution_count": 61
        }
      ]
    },
    {
      "cell_type": "markdown",
      "metadata": {
        "id": "VfJbtz1VQt-3",
        "colab_type": "text"
      },
      "source": [
        "# We have 12 categories , hence ytrain and ytest need to be one hot encoded "
      ]
    },
    {
      "cell_type": "code",
      "metadata": {
        "id": "dhBYYIdyhu3d",
        "colab_type": "code",
        "colab": {}
      },
      "source": [
        "y_train=to_categorical(y_train,num_classes=12)\n",
        "y_test=to_categorical(y_test,num_classes=12)"
      ],
      "execution_count": 62,
      "outputs": []
    },
    {
      "cell_type": "code",
      "metadata": {
        "id": "anSs-uHq0gkQ",
        "colab_type": "code",
        "colab": {
          "base_uri": "https://localhost:8080/",
          "height": 134
        },
        "outputId": "2ae7e794-06b7-459a-ad4c-5d45eceb306b"
      },
      "source": [
        "y_train"
      ],
      "execution_count": 63,
      "outputs": [
        {
          "output_type": "execute_result",
          "data": {
            "text/plain": [
              "array([[0., 0., 0., ..., 0., 0., 0.],\n",
              "       [0., 0., 0., ..., 0., 0., 1.],\n",
              "       [1., 0., 0., ..., 0., 0., 0.],\n",
              "       ...,\n",
              "       [1., 0., 0., ..., 0., 0., 0.],\n",
              "       [0., 0., 0., ..., 0., 0., 0.],\n",
              "       [0., 0., 0., ..., 0., 0., 0.]], dtype=float32)"
            ]
          },
          "metadata": {
            "tags": []
          },
          "execution_count": 63
        }
      ]
    },
    {
      "cell_type": "code",
      "metadata": {
        "id": "FZQ0rrn-eflZ",
        "colab_type": "code",
        "colab": {}
      },
      "source": [
        "X_test=X_test/255"
      ],
      "execution_count": 64,
      "outputs": []
    },
    {
      "cell_type": "markdown",
      "metadata": {
        "id": "jmWTTjhDQ5xh",
        "colab_type": "text"
      },
      "source": [
        "# Defining Modelcheckpoint , so best model can be saved to a file and later reused on the test data (transfer learning)"
      ]
    },
    {
      "cell_type": "code",
      "metadata": {
        "id": "kzHRS1sGrOG4",
        "colab_type": "code",
        "colab": {}
      },
      "source": [
        "checkpoint = keras.callbacks.ModelCheckpoint(filepath='model-{epoch:03d}.h5', verbose=1, monitor='val_loss',save_best_only=True, mode='auto')\n",
        "callbacks_list = [checkpoint]"
      ],
      "execution_count": 65,
      "outputs": []
    },
    {
      "cell_type": "markdown",
      "metadata": {
        "id": "pe2LNNZzRVZO",
        "colab_type": "text"
      },
      "source": [
        "#Definging Model"
      ]
    },
    {
      "cell_type": "code",
      "metadata": {
        "id": "RiXIaIXkgFks",
        "colab_type": "code",
        "colab": {
          "base_uri": "https://localhost:8080/",
          "height": 1000
        },
        "outputId": "33a8d058-c5f3-4e82-ca64-7c3dc601a234"
      },
      "source": [
        "model = Sequential()\n",
        "\n",
        "#model.add(Conv2D(filters=64, kernel_size=(5, 5), input_shape=(None, None, 3), activation='relu'))\n",
        "model.add(Conv2D(filters=64, kernel_size=(3, 3), input_shape=(118, 118, 4), activation='relu',name=\"conv1\"))\n",
        "model.add(BatchNormalization(axis=3))\n",
        "model.add(Conv2D(filters=64, kernel_size=(3, 3), activation='relu'))\n",
        "model.add(MaxPooling2D((2, 2)))\n",
        "model.add(BatchNormalization(axis=3))\n",
        "model.add(Dropout(0.1))\n",
        "\n",
        "model.add(Conv2D(filters=128, kernel_size=(2, 2), activation='relu'))\n",
        "model.add(BatchNormalization(axis=3))\n",
        "model.add(Conv2D(filters=128, kernel_size=(2, 2), activation='relu'))\n",
        "model.add(MaxPooling2D((2, 2)))\n",
        "model.add(BatchNormalization(axis=3))\n",
        "model.add(Dropout(0.1))\n",
        "\n",
        "model.add(Conv2D(filters=256, kernel_size=(2, 2), activation='relu'))\n",
        "model.add(BatchNormalization(axis=3))\n",
        "model.add(Conv2D(filters=256, kernel_size=(2, 2), activation='relu'))\n",
        "model.add(MaxPooling2D((2, 2)))\n",
        "model.add(BatchNormalization(axis=3))\n",
        "model.add(Dropout(0.1))\n",
        "\n",
        "model.add(Flatten())\n",
        "\n",
        "model.add(Dense(256, activation='relu'))\n",
        "model.add(BatchNormalization())\n",
        "model.add(Dropout(0.2))\n",
        "\n",
        "model.add(Dense(256, activation='relu'))\n",
        "model.add(BatchNormalization())\n",
        "model.add(Dropout(0.2))\n",
        "\n",
        "model.add(Dense(12,activation='softmax'))\n",
        "\n",
        "model.summary()\n",
        "\n"
      ],
      "execution_count": 66,
      "outputs": [
        {
          "output_type": "stream",
          "text": [
            "Model: \"sequential_1\"\n",
            "_________________________________________________________________\n",
            "Layer (type)                 Output Shape              Param #   \n",
            "=================================================================\n",
            "conv1 (Conv2D)               (None, 116, 116, 64)      2368      \n",
            "_________________________________________________________________\n",
            "batch_normalization_1 (Batch (None, 116, 116, 64)      256       \n",
            "_________________________________________________________________\n",
            "conv2d_1 (Conv2D)            (None, 114, 114, 64)      36928     \n",
            "_________________________________________________________________\n",
            "max_pooling2d_1 (MaxPooling2 (None, 57, 57, 64)        0         \n",
            "_________________________________________________________________\n",
            "batch_normalization_2 (Batch (None, 57, 57, 64)        256       \n",
            "_________________________________________________________________\n",
            "dropout_1 (Dropout)          (None, 57, 57, 64)        0         \n",
            "_________________________________________________________________\n",
            "conv2d_2 (Conv2D)            (None, 56, 56, 128)       32896     \n",
            "_________________________________________________________________\n",
            "batch_normalization_3 (Batch (None, 56, 56, 128)       512       \n",
            "_________________________________________________________________\n",
            "conv2d_3 (Conv2D)            (None, 55, 55, 128)       65664     \n",
            "_________________________________________________________________\n",
            "max_pooling2d_2 (MaxPooling2 (None, 27, 27, 128)       0         \n",
            "_________________________________________________________________\n",
            "batch_normalization_4 (Batch (None, 27, 27, 128)       512       \n",
            "_________________________________________________________________\n",
            "dropout_2 (Dropout)          (None, 27, 27, 128)       0         \n",
            "_________________________________________________________________\n",
            "conv2d_4 (Conv2D)            (None, 26, 26, 256)       131328    \n",
            "_________________________________________________________________\n",
            "batch_normalization_5 (Batch (None, 26, 26, 256)       1024      \n",
            "_________________________________________________________________\n",
            "conv2d_5 (Conv2D)            (None, 25, 25, 256)       262400    \n",
            "_________________________________________________________________\n",
            "max_pooling2d_3 (MaxPooling2 (None, 12, 12, 256)       0         \n",
            "_________________________________________________________________\n",
            "batch_normalization_6 (Batch (None, 12, 12, 256)       1024      \n",
            "_________________________________________________________________\n",
            "dropout_3 (Dropout)          (None, 12, 12, 256)       0         \n",
            "_________________________________________________________________\n",
            "flatten_1 (Flatten)          (None, 36864)             0         \n",
            "_________________________________________________________________\n",
            "dense_1 (Dense)              (None, 256)               9437440   \n",
            "_________________________________________________________________\n",
            "batch_normalization_7 (Batch (None, 256)               1024      \n",
            "_________________________________________________________________\n",
            "dropout_4 (Dropout)          (None, 256)               0         \n",
            "_________________________________________________________________\n",
            "dense_2 (Dense)              (None, 256)               65792     \n",
            "_________________________________________________________________\n",
            "batch_normalization_8 (Batch (None, 256)               1024      \n",
            "_________________________________________________________________\n",
            "dropout_5 (Dropout)          (None, 256)               0         \n",
            "_________________________________________________________________\n",
            "dense_3 (Dense)              (None, 12)                3084      \n",
            "=================================================================\n",
            "Total params: 10,043,532\n",
            "Trainable params: 10,040,716\n",
            "Non-trainable params: 2,816\n",
            "_________________________________________________________________\n"
          ],
          "name": "stdout"
        }
      ]
    },
    {
      "cell_type": "markdown",
      "metadata": {
        "id": "ZgSBhiuNRZ7f",
        "colab_type": "text"
      },
      "source": [
        "#Comipling Model"
      ]
    },
    {
      "cell_type": "code",
      "metadata": {
        "id": "A1Cg9DTGWMY_",
        "colab_type": "code",
        "colab": {}
      },
      "source": [
        "model.compile(loss='categorical_crossentropy', optimizer='adam', metrics=['acc'])"
      ],
      "execution_count": 67,
      "outputs": []
    },
    {
      "cell_type": "markdown",
      "metadata": {
        "id": "F8XGm8_jRrfl",
        "colab_type": "text"
      },
      "source": [
        "# Model fit on training data and validating the data."
      ]
    },
    {
      "cell_type": "code",
      "metadata": {
        "id": "3WqBGtyOggSx",
        "colab_type": "code",
        "colab": {
          "base_uri": "https://localhost:8080/",
          "height": 1000
        },
        "outputId": "dec98d08-d999-4aaf-d0eb-260820c451ad"
      },
      "source": [
        "model.fit(X_train,y_train,epochs=25,batch_size=75,validation_data=(X_test,y_test),callbacks=callbacks_list)"
      ],
      "execution_count": 68,
      "outputs": [
        {
          "output_type": "stream",
          "text": [
            "Train on 3800 samples, validate on 950 samples\n",
            "Epoch 1/25\n",
            "3800/3800 [==============================] - 727s 191ms/step - loss: 1.3247 - acc: 0.5876 - val_loss: 6.1655 - val_acc: 0.1453\n",
            "\n",
            "Epoch 00001: val_loss improved from inf to 6.16545, saving model to model-001.h5\n",
            "Epoch 2/25\n",
            "3800/3800 [==============================] - 725s 191ms/step - loss: 0.5311 - acc: 0.8237 - val_loss: 10.4104 - val_acc: 0.1453\n",
            "\n",
            "Epoch 00002: val_loss did not improve from 6.16545\n",
            "Epoch 3/25\n",
            "3800/3800 [==============================] - 719s 189ms/step - loss: 0.3072 - acc: 0.8947 - val_loss: 12.5281 - val_acc: 0.1453\n",
            "\n",
            "Epoch 00003: val_loss did not improve from 6.16545\n",
            "Epoch 4/25\n",
            "3800/3800 [==============================] - 720s 189ms/step - loss: 0.1950 - acc: 0.9379 - val_loss: 12.6423 - val_acc: 0.1453\n",
            "\n",
            "Epoch 00004: val_loss did not improve from 6.16545\n",
            "Epoch 5/25\n",
            "3800/3800 [==============================] - 719s 189ms/step - loss: 0.1403 - acc: 0.9550 - val_loss: 9.2095 - val_acc: 0.1589\n",
            "\n",
            "Epoch 00005: val_loss did not improve from 6.16545\n",
            "Epoch 6/25\n",
            "3800/3800 [==============================] - 721s 190ms/step - loss: 0.1041 - acc: 0.9687 - val_loss: 11.3851 - val_acc: 0.1484\n",
            "\n",
            "Epoch 00006: val_loss did not improve from 6.16545\n",
            "Epoch 7/25\n",
            "3800/3800 [==============================] - 719s 189ms/step - loss: 0.0857 - acc: 0.9747 - val_loss: 10.1865 - val_acc: 0.1642\n",
            "\n",
            "Epoch 00007: val_loss did not improve from 6.16545\n",
            "Epoch 8/25\n",
            "3800/3800 [==============================] - 720s 190ms/step - loss: 0.0628 - acc: 0.9808 - val_loss: 13.9006 - val_acc: 0.1505\n",
            "\n",
            "Epoch 00008: val_loss did not improve from 6.16545\n",
            "Epoch 9/25\n",
            "3800/3800 [==============================] - 721s 190ms/step - loss: 0.0558 - acc: 0.9824 - val_loss: 7.0619 - val_acc: 0.2179\n",
            "\n",
            "Epoch 00009: val_loss did not improve from 6.16545\n",
            "Epoch 10/25\n",
            "3800/3800 [==============================] - 719s 189ms/step - loss: 0.0595 - acc: 0.9811 - val_loss: 6.8373 - val_acc: 0.2021\n",
            "\n",
            "Epoch 00010: val_loss did not improve from 6.16545\n",
            "Epoch 11/25\n",
            "3800/3800 [==============================] - 720s 189ms/step - loss: 0.0376 - acc: 0.9897 - val_loss: 5.1678 - val_acc: 0.3263\n",
            "\n",
            "Epoch 00011: val_loss improved from 6.16545 to 5.16779, saving model to model-011.h5\n",
            "Epoch 12/25\n",
            "3800/3800 [==============================] - 718s 189ms/step - loss: 0.0171 - acc: 0.9966 - val_loss: 3.0277 - val_acc: 0.4905\n",
            "\n",
            "Epoch 00012: val_loss improved from 5.16779 to 3.02767, saving model to model-012.h5\n",
            "Epoch 13/25\n",
            "3800/3800 [==============================] - 718s 189ms/step - loss: 0.0137 - acc: 0.9976 - val_loss: 2.3723 - val_acc: 0.5032\n",
            "\n",
            "Epoch 00013: val_loss improved from 3.02767 to 2.37228, saving model to model-013.h5\n",
            "Epoch 14/25\n",
            "3800/3800 [==============================] - 716s 188ms/step - loss: 0.0113 - acc: 0.9984 - val_loss: 1.2488 - val_acc: 0.7158\n",
            "\n",
            "Epoch 00014: val_loss improved from 2.37228 to 1.24875, saving model to model-014.h5\n",
            "Epoch 15/25\n",
            "3800/3800 [==============================] - 715s 188ms/step - loss: 0.0070 - acc: 0.9989 - val_loss: 0.8997 - val_acc: 0.7842\n",
            "\n",
            "Epoch 00015: val_loss improved from 1.24875 to 0.89975, saving model to model-015.h5\n",
            "Epoch 16/25\n",
            "3800/3800 [==============================] - 717s 189ms/step - loss: 0.0146 - acc: 0.9963 - val_loss: 1.3772 - val_acc: 0.6937\n",
            "\n",
            "Epoch 00016: val_loss did not improve from 0.89975\n",
            "Epoch 17/25\n",
            "3800/3800 [==============================] - 721s 190ms/step - loss: 0.0282 - acc: 0.9926 - val_loss: 1.4166 - val_acc: 0.6989\n",
            "\n",
            "Epoch 00017: val_loss did not improve from 0.89975\n",
            "Epoch 18/25\n",
            "3800/3800 [==============================] - 715s 188ms/step - loss: 0.0404 - acc: 0.9866 - val_loss: 1.6536 - val_acc: 0.6863\n",
            "\n",
            "Epoch 00018: val_loss did not improve from 0.89975\n",
            "Epoch 19/25\n",
            "3800/3800 [==============================] - 718s 189ms/step - loss: 0.0319 - acc: 0.9913 - val_loss: 3.0048 - val_acc: 0.4305\n",
            "\n",
            "Epoch 00019: val_loss did not improve from 0.89975\n",
            "Epoch 20/25\n",
            "3800/3800 [==============================] - 716s 188ms/step - loss: 0.0221 - acc: 0.9916 - val_loss: 1.3458 - val_acc: 0.6916\n",
            "\n",
            "Epoch 00020: val_loss did not improve from 0.89975\n",
            "Epoch 21/25\n",
            "3800/3800 [==============================] - 713s 188ms/step - loss: 0.0183 - acc: 0.9937 - val_loss: 1.3949 - val_acc: 0.7411\n",
            "\n",
            "Epoch 00021: val_loss did not improve from 0.89975\n",
            "Epoch 22/25\n",
            "3800/3800 [==============================] - 716s 188ms/step - loss: 0.0136 - acc: 0.9974 - val_loss: 2.3072 - val_acc: 0.5295\n",
            "\n",
            "Epoch 00022: val_loss did not improve from 0.89975\n",
            "Epoch 23/25\n",
            "3800/3800 [==============================] - 724s 190ms/step - loss: 0.0076 - acc: 0.9992 - val_loss: 0.8634 - val_acc: 0.7958\n",
            "\n",
            "Epoch 00023: val_loss improved from 0.89975 to 0.86340, saving model to model-023.h5\n",
            "Epoch 24/25\n",
            "3800/3800 [==============================] - 716s 188ms/step - loss: 0.0060 - acc: 0.9992 - val_loss: 0.6126 - val_acc: 0.8684\n",
            "\n",
            "Epoch 00024: val_loss improved from 0.86340 to 0.61263, saving model to model-024.h5\n",
            "Epoch 25/25\n",
            "3800/3800 [==============================] - 719s 189ms/step - loss: 0.0101 - acc: 0.9968 - val_loss: 1.2505 - val_acc: 0.7568\n",
            "\n",
            "Epoch 00025: val_loss did not improve from 0.61263\n"
          ],
          "name": "stdout"
        },
        {
          "output_type": "execute_result",
          "data": {
            "text/plain": [
              "<keras.callbacks.callbacks.History at 0x7f2809fe3da0>"
            ]
          },
          "metadata": {
            "tags": []
          },
          "execution_count": 68
        }
      ]
    },
    {
      "cell_type": "markdown",
      "metadata": {
        "id": "sp_JdyemRvgN",
        "colab_type": "text"
      },
      "source": [
        "#Load the best model saved in a file"
      ]
    },
    {
      "cell_type": "code",
      "metadata": {
        "id": "3-6JNE9Jb7G-",
        "colab_type": "code",
        "colab": {}
      },
      "source": [
        "model_loaded = keras.models.load_model('/content/drive/My Drive/model-024.h5')"
      ],
      "execution_count": 69,
      "outputs": []
    },
    {
      "cell_type": "code",
      "metadata": {
        "id": "AIYfRBUHmsnv",
        "colab_type": "code",
        "colab": {}
      },
      "source": [
        "data={'file': [],'species' : []}"
      ],
      "execution_count": 70,
      "outputs": []
    },
    {
      "cell_type": "code",
      "metadata": {
        "id": "jWw1gx1_lqWj",
        "colab_type": "code",
        "colab": {}
      },
      "source": [
        "sample_sub=pd.DataFrame(data=data)"
      ],
      "execution_count": 71,
      "outputs": []
    },
    {
      "cell_type": "code",
      "metadata": {
        "id": "RtFcHv1Qm5VE",
        "colab_type": "code",
        "colab": {}
      },
      "source": [
        "imgs_test=[]"
      ],
      "execution_count": 72,
      "outputs": []
    },
    {
      "cell_type": "code",
      "metadata": {
        "id": "Me9tH210h0Ic",
        "colab_type": "code",
        "colab": {}
      },
      "source": [
        "#path='/content/drive/My Drive/CNN/plant-seedlings-classification/test'"
      ],
      "execution_count": 73,
      "outputs": []
    },
    {
      "cell_type": "markdown",
      "metadata": {
        "id": "P2Suj_RhR7Or",
        "colab_type": "text"
      },
      "source": [
        "#Reading the test data from the file"
      ]
    },
    {
      "cell_type": "code",
      "metadata": {
        "id": "U50MkwZXUIIW",
        "colab_type": "code",
        "colab": {
          "base_uri": "https://localhost:8080/",
          "height": 50
        },
        "outputId": "e1790027-e83a-4ce9-c6a6-3f4406fb1b48"
      },
      "source": [
        "for category,(dirpath,dirname,filelist) in enumerate(os.walk(top='/content/drive/My Drive/CNN/plant-seedlings-classification/test/')):\n",
        "  #for dirpath in name:\n",
        "  if dirpath == path :\n",
        "    continue;\n",
        "    \n",
        "  print(category_flowernames.get(dirpath.split('/')[-1]))\n",
        "  print(dirpath)\n",
        " # tmp_img=[Image.open((os.path.join(dirpath,filename))) for filename in filelist if os.path.isfile(os.path.join(dirpath,filename))]\n",
        "  imgs_test.append([Image.open((os.path.join(dirpath,filename))).convert('RGBA') for filename in filelist if os.path.isfile(os.path.join(dirpath,filename))])"
      ],
      "execution_count": 74,
      "outputs": [
        {
          "output_type": "stream",
          "text": [
            "None\n",
            "/content/drive/My Drive/CNN/plant-seedlings-classification/test/\n"
          ],
          "name": "stdout"
        }
      ]
    },
    {
      "cell_type": "code",
      "metadata": {
        "id": "sVj-O3Icm0Ml",
        "colab_type": "code",
        "colab": {
          "base_uri": "https://localhost:8080/",
          "height": 1000
        },
        "outputId": "871f5198-3bde-4ef6-b522-e5d5e11c50de"
      },
      "source": [
        "imgs_test"
      ],
      "execution_count": 75,
      "outputs": [
        {
          "output_type": "execute_result",
          "data": {
            "text/plain": [
              "[[<PIL.Image.Image image mode=RGBA size=214x214 at 0x7F2809AC7E80>,\n",
              "  <PIL.Image.Image image mode=RGBA size=253x253 at 0x7F2808D4F6D8>,\n",
              "  <PIL.Image.Image image mode=RGBA size=270x270 at 0x7F2808D4FF60>,\n",
              "  <PIL.Image.Image image mode=RGBA size=288x288 at 0x7F2808D4FD68>,\n",
              "  <PIL.Image.Image image mode=RGBA size=283x283 at 0x7F2808D62048>,\n",
              "  <PIL.Image.Image image mode=RGBA size=313x313 at 0x7F2808D62198>,\n",
              "  <PIL.Image.Image image mode=RGBA size=204x204 at 0x7F2808D62128>,\n",
              "  <PIL.Image.Image image mode=RGBA size=231x231 at 0x7F2808D62320>,\n",
              "  <PIL.Image.Image image mode=RGBA size=259x259 at 0x7F2808D622B0>,\n",
              "  <PIL.Image.Image image mode=RGBA size=251x251 at 0x7F2808D62208>,\n",
              "  <PIL.Image.Image image mode=RGBA size=269x269 at 0x7F2808D624E0>,\n",
              "  <PIL.Image.Image image mode=RGBA size=276x276 at 0x7F2808D62470>,\n",
              "  <PIL.Image.Image image mode=RGBA size=293x293 at 0x7F2808D62518>,\n",
              "  <PIL.Image.Image image mode=RGBA size=308x308 at 0x7F2808D62780>,\n",
              "  <PIL.Image.Image image mode=RGBA size=333x333 at 0x7F2808D62710>,\n",
              "  <PIL.Image.Image image mode=RGBA size=348x348 at 0x7F2808D626A0>,\n",
              "  <PIL.Image.Image image mode=RGBA size=220x220 at 0x7F2808D62898>,\n",
              "  <PIL.Image.Image image mode=RGBA size=307x307 at 0x7F2808D62828>,\n",
              "  <PIL.Image.Image image mode=RGBA size=205x205 at 0x7F2808D628D0>,\n",
              "  <PIL.Image.Image image mode=RGBA size=237x237 at 0x7F2808D62A58>,\n",
              "  <PIL.Image.Image image mode=RGBA size=262x262 at 0x7F2808D629E8>,\n",
              "  <PIL.Image.Image image mode=RGBA size=211x211 at 0x7F2808D62BA8>,\n",
              "  <PIL.Image.Image image mode=RGBA size=223x223 at 0x7F2808D62B38>,\n",
              "  <PIL.Image.Image image mode=RGBA size=285x285 at 0x7F2808D62BE0>,\n",
              "  <PIL.Image.Image image mode=RGBA size=249x249 at 0x7F2808D62D68>,\n",
              "  <PIL.Image.Image image mode=RGBA size=290x290 at 0x7F2808D62CF8>,\n",
              "  <PIL.Image.Image image mode=RGBA size=312x312 at 0x7F2808D62D30>,\n",
              "  <PIL.Image.Image image mode=RGBA size=253x253 at 0x7F2808D62C50>,\n",
              "  <PIL.Image.Image image mode=RGBA size=211x211 at 0x7F2808D50748>,\n",
              "  <PIL.Image.Image image mode=RGBA size=227x227 at 0x7F2808D500F0>,\n",
              "  <PIL.Image.Image image mode=RGBA size=337x337 at 0x7F2808D50390>,\n",
              "  <PIL.Image.Image image mode=RGBA size=237x237 at 0x7F2808D50358>,\n",
              "  <PIL.Image.Image image mode=RGBA size=269x269 at 0x7F2808D501D0>,\n",
              "  <PIL.Image.Image image mode=RGBA size=298x298 at 0x7F2808D509B0>,\n",
              "  <PIL.Image.Image image mode=RGBA size=261x261 at 0x7F2808D50860>,\n",
              "  <PIL.Image.Image image mode=RGBA size=283x283 at 0x7F2808D508D0>,\n",
              "  <PIL.Image.Image image mode=RGBA size=317x317 at 0x7F2808D50898>,\n",
              "  <PIL.Image.Image image mode=RGBA size=297x297 at 0x7F2808D50AC8>,\n",
              "  <PIL.Image.Image image mode=RGBA size=260x260 at 0x7F2808D50978>,\n",
              "  <PIL.Image.Image image mode=RGBA size=245x245 at 0x7F2808D509E8>,\n",
              "  <PIL.Image.Image image mode=RGBA size=234x234 at 0x7F2808D50D68>,\n",
              "  <PIL.Image.Image image mode=RGBA size=273x273 at 0x7F2808D50CC0>,\n",
              "  <PIL.Image.Image image mode=RGBA size=232x232 at 0x7F2808D50DD8>,\n",
              "  <PIL.Image.Image image mode=RGBA size=326x326 at 0x7F2808D50EF0>,\n",
              "  <PIL.Image.Image image mode=RGBA size=244x244 at 0x7F2808D50E80>,\n",
              "  <PIL.Image.Image image mode=RGBA size=206x206 at 0x7F2808D50E48>,\n",
              "  <PIL.Image.Image image mode=RGBA size=309x309 at 0x7F2808D50CF8>,\n",
              "  <PIL.Image.Image image mode=RGBA size=323x323 at 0x7F2808D50198>,\n",
              "  <PIL.Image.Image image mode=RGBA size=232x232 at 0x7F2808D50470>,\n",
              "  <PIL.Image.Image image mode=RGBA size=322x322 at 0x7F2808D50F98>,\n",
              "  <PIL.Image.Image image mode=RGBA size=271x271 at 0x7F2808D502E8>,\n",
              "  <PIL.Image.Image image mode=RGBA size=202x202 at 0x7F28086819B0>,\n",
              "  <PIL.Image.Image image mode=RGBA size=222x222 at 0x7F28086818D0>,\n",
              "  <PIL.Image.Image image mode=RGBA size=207x207 at 0x7F2808B9ACF8>,\n",
              "  <PIL.Image.Image image mode=RGBA size=285x285 at 0x7F28081670F0>,\n",
              "  <PIL.Image.Image image mode=RGBA size=308x308 at 0x7F2808167160>,\n",
              "  <PIL.Image.Image image mode=RGBA size=230x230 at 0x7F28081671D0>,\n",
              "  <PIL.Image.Image image mode=RGBA size=299x299 at 0x7F2808167240>,\n",
              "  <PIL.Image.Image image mode=RGBA size=276x276 at 0x7F28081672B0>,\n",
              "  <PIL.Image.Image image mode=RGBA size=201x201 at 0x7F2808167320>,\n",
              "  <PIL.Image.Image image mode=RGBA size=216x216 at 0x7F2808167390>,\n",
              "  <PIL.Image.Image image mode=RGBA size=293x293 at 0x7F2808167400>,\n",
              "  <PIL.Image.Image image mode=RGBA size=271x271 at 0x7F2808167470>,\n",
              "  <PIL.Image.Image image mode=RGBA size=308x308 at 0x7F28081674E0>,\n",
              "  <PIL.Image.Image image mode=RGBA size=261x261 at 0x7F28081675C0>,\n",
              "  <PIL.Image.Image image mode=RGBA size=216x216 at 0x7F2808167518>,\n",
              "  <PIL.Image.Image image mode=RGBA size=313x313 at 0x7F2808167588>,\n",
              "  <PIL.Image.Image image mode=RGBA size=227x227 at 0x7F2808198978>,\n",
              "  <PIL.Image.Image image mode=RGBA size=251x251 at 0x7F28081989E8>,\n",
              "  <PIL.Image.Image image mode=RGBA size=315x315 at 0x7F2808198A58>,\n",
              "  <PIL.Image.Image image mode=RGBA size=337x337 at 0x7F2808198AC8>,\n",
              "  <PIL.Image.Image image mode=RGBA size=284x284 at 0x7F2808198B38>,\n",
              "  <PIL.Image.Image image mode=RGBA size=217x217 at 0x7F2808198BA8>,\n",
              "  <PIL.Image.Image image mode=RGBA size=290x290 at 0x7F2808198C18>,\n",
              "  <PIL.Image.Image image mode=RGBA size=254x254 at 0x7F2808198C88>,\n",
              "  <PIL.Image.Image image mode=RGBA size=225x225 at 0x7F2808198CF8>,\n",
              "  <PIL.Image.Image image mode=RGBA size=214x214 at 0x7F2808198D68>,\n",
              "  <PIL.Image.Image image mode=RGBA size=307x307 at 0x7F2808198DD8>,\n",
              "  <PIL.Image.Image image mode=RGBA size=218x218 at 0x7F2808198E48>,\n",
              "  <PIL.Image.Image image mode=RGBA size=275x275 at 0x7F2808198EB8>,\n",
              "  <PIL.Image.Image image mode=RGBA size=218x218 at 0x7F2808198F28>,\n",
              "  <PIL.Image.Image image mode=RGBA size=245x245 at 0x7F2808198F98>,\n",
              "  <PIL.Image.Image image mode=RGBA size=212x212 at 0x7F2808198F60>,\n",
              "  <PIL.Image.Image image mode=RGBA size=203x203 at 0x7F2808198FD0>,\n",
              "  <PIL.Image.Image image mode=RGBA size=235x235 at 0x7F28084B5128>,\n",
              "  <PIL.Image.Image image mode=RGBA size=289x289 at 0x7F28084B5198>,\n",
              "  <PIL.Image.Image image mode=RGBA size=200x200 at 0x7F28084B5208>,\n",
              "  <PIL.Image.Image image mode=RGBA size=290x290 at 0x7F28084B5278>,\n",
              "  <PIL.Image.Image image mode=RGBA size=328x328 at 0x7F28084B52E8>,\n",
              "  <PIL.Image.Image image mode=RGBA size=254x254 at 0x7F28084B5358>,\n",
              "  <PIL.Image.Image image mode=RGBA size=314x314 at 0x7F28084B53C8>,\n",
              "  <PIL.Image.Image image mode=RGBA size=237x237 at 0x7F28084B5438>,\n",
              "  <PIL.Image.Image image mode=RGBA size=215x215 at 0x7F28084B54A8>,\n",
              "  <PIL.Image.Image image mode=RGBA size=311x311 at 0x7F28084B5518>,\n",
              "  <PIL.Image.Image image mode=RGBA size=224x224 at 0x7F28084B5588>,\n",
              "  <PIL.Image.Image image mode=RGBA size=215x215 at 0x7F28084B55F8>,\n",
              "  <PIL.Image.Image image mode=RGBA size=338x338 at 0x7F28084B5668>,\n",
              "  <PIL.Image.Image image mode=RGBA size=345x345 at 0x7F28084B56D8>,\n",
              "  <PIL.Image.Image image mode=RGBA size=313x313 at 0x7F28084B5748>,\n",
              "  <PIL.Image.Image image mode=RGBA size=325x325 at 0x7F28084B57B8>,\n",
              "  <PIL.Image.Image image mode=RGBA size=242x242 at 0x7F28084B5828>,\n",
              "  <PIL.Image.Image image mode=RGBA size=308x308 at 0x7F28084B5898>,\n",
              "  <PIL.Image.Image image mode=RGBA size=300x300 at 0x7F28084B5908>,\n",
              "  <PIL.Image.Image image mode=RGBA size=223x223 at 0x7F28084B5978>,\n",
              "  <PIL.Image.Image image mode=RGBA size=287x287 at 0x7F28084B59E8>,\n",
              "  <PIL.Image.Image image mode=RGBA size=339x339 at 0x7F28084B5A58>,\n",
              "  <PIL.Image.Image image mode=RGBA size=213x213 at 0x7F28084B5AC8>,\n",
              "  <PIL.Image.Image image mode=RGBA size=318x318 at 0x7F28084B5B38>,\n",
              "  <PIL.Image.Image image mode=RGBA size=220x220 at 0x7F28084B5BA8>,\n",
              "  <PIL.Image.Image image mode=RGBA size=340x340 at 0x7F28084B5C18>,\n",
              "  <PIL.Image.Image image mode=RGBA size=256x256 at 0x7F28084B5C88>,\n",
              "  <PIL.Image.Image image mode=RGBA size=263x263 at 0x7F28084B5CF8>,\n",
              "  <PIL.Image.Image image mode=RGBA size=251x251 at 0x7F28084B5D68>,\n",
              "  <PIL.Image.Image image mode=RGBA size=308x308 at 0x7F28084B5DD8>,\n",
              "  <PIL.Image.Image image mode=RGBA size=287x287 at 0x7F28084B5048>,\n",
              "  <PIL.Image.Image image mode=RGBA size=346x346 at 0x7F28084B5EB8>,\n",
              "  <PIL.Image.Image image mode=RGBA size=295x295 at 0x7F28084B5F28>,\n",
              "  <PIL.Image.Image image mode=RGBA size=204x204 at 0x7F28084B5F98>,\n",
              "  <PIL.Image.Image image mode=RGBA size=257x257 at 0x7F28084B5F60>,\n",
              "  <PIL.Image.Image image mode=RGBA size=335x335 at 0x7F28084B5FD0>,\n",
              "  <PIL.Image.Image image mode=RGBA size=260x260 at 0x7F2808518128>,\n",
              "  <PIL.Image.Image image mode=RGBA size=273x273 at 0x7F2808518198>,\n",
              "  <PIL.Image.Image image mode=RGBA size=262x262 at 0x7F2808518208>,\n",
              "  <PIL.Image.Image image mode=RGBA size=282x282 at 0x7F2808518278>,\n",
              "  <PIL.Image.Image image mode=RGBA size=229x229 at 0x7F28085182E8>,\n",
              "  <PIL.Image.Image image mode=RGBA size=256x256 at 0x7F2808518358>,\n",
              "  <PIL.Image.Image image mode=RGBA size=238x238 at 0x7F28085183C8>,\n",
              "  <PIL.Image.Image image mode=RGBA size=251x251 at 0x7F2808518438>,\n",
              "  <PIL.Image.Image image mode=RGBA size=300x300 at 0x7F28085184A8>,\n",
              "  <PIL.Image.Image image mode=RGBA size=263x263 at 0x7F2808518518>,\n",
              "  <PIL.Image.Image image mode=RGBA size=283x283 at 0x7F2808518588>,\n",
              "  <PIL.Image.Image image mode=RGBA size=301x301 at 0x7F28085185F8>,\n",
              "  <PIL.Image.Image image mode=RGBA size=296x296 at 0x7F2808518668>,\n",
              "  <PIL.Image.Image image mode=RGBA size=209x209 at 0x7F28085186D8>,\n",
              "  <PIL.Image.Image image mode=RGBA size=339x339 at 0x7F2808518748>,\n",
              "  <PIL.Image.Image image mode=RGBA size=271x271 at 0x7F28085187B8>,\n",
              "  <PIL.Image.Image image mode=RGBA size=261x261 at 0x7F2808518828>,\n",
              "  <PIL.Image.Image image mode=RGBA size=321x321 at 0x7F2808518898>,\n",
              "  <PIL.Image.Image image mode=RGBA size=282x282 at 0x7F2808518908>,\n",
              "  <PIL.Image.Image image mode=RGBA size=338x338 at 0x7F2809ACCF60>,\n",
              "  <PIL.Image.Image image mode=RGBA size=209x209 at 0x7F28085189B0>,\n",
              "  <PIL.Image.Image image mode=RGBA size=267x267 at 0x7F2808518A20>,\n",
              "  <PIL.Image.Image image mode=RGBA size=306x306 at 0x7F2808518A90>,\n",
              "  <PIL.Image.Image image mode=RGBA size=285x285 at 0x7F2808518B00>,\n",
              "  <PIL.Image.Image image mode=RGBA size=310x310 at 0x7F2808518B70>,\n",
              "  <PIL.Image.Image image mode=RGBA size=225x225 at 0x7F2808518BE0>,\n",
              "  <PIL.Image.Image image mode=RGBA size=263x263 at 0x7F2808518C50>,\n",
              "  <PIL.Image.Image image mode=RGBA size=273x273 at 0x7F2808518CC0>,\n",
              "  <PIL.Image.Image image mode=RGBA size=346x346 at 0x7F2808518D30>,\n",
              "  <PIL.Image.Image image mode=RGBA size=349x349 at 0x7F2808518DA0>,\n",
              "  <PIL.Image.Image image mode=RGBA size=324x324 at 0x7F2808518E10>,\n",
              "  <PIL.Image.Image image mode=RGBA size=216x216 at 0x7F2808518E80>,\n",
              "  <PIL.Image.Image image mode=RGBA size=293x293 at 0x7F2808518EF0>,\n",
              "  <PIL.Image.Image image mode=RGBA size=289x289 at 0x7F2808518F60>,\n",
              "  <PIL.Image.Image image mode=RGBA size=210x210 at 0x7F2808518FD0>,\n",
              "  <PIL.Image.Image image mode=RGBA size=304x304 at 0x7F2808518F98>,\n",
              "  <PIL.Image.Image image mode=RGBA size=324x324 at 0x7F280838A0F0>,\n",
              "  <PIL.Image.Image image mode=RGBA size=249x249 at 0x7F280838A160>,\n",
              "  <PIL.Image.Image image mode=RGBA size=303x303 at 0x7F280838A1D0>,\n",
              "  <PIL.Image.Image image mode=RGBA size=325x325 at 0x7F280838A240>,\n",
              "  <PIL.Image.Image image mode=RGBA size=288x288 at 0x7F280838A2B0>,\n",
              "  <PIL.Image.Image image mode=RGBA size=222x222 at 0x7F280838A320>,\n",
              "  <PIL.Image.Image image mode=RGBA size=299x299 at 0x7F280838A390>,\n",
              "  <PIL.Image.Image image mode=RGBA size=272x272 at 0x7F280838A400>,\n",
              "  <PIL.Image.Image image mode=RGBA size=205x205 at 0x7F280838A470>,\n",
              "  <PIL.Image.Image image mode=RGBA size=297x297 at 0x7F280838A4E0>,\n",
              "  <PIL.Image.Image image mode=RGBA size=344x344 at 0x7F280838A550>,\n",
              "  <PIL.Image.Image image mode=RGBA size=218x218 at 0x7F280838A5C0>,\n",
              "  <PIL.Image.Image image mode=RGBA size=289x289 at 0x7F280838A630>,\n",
              "  <PIL.Image.Image image mode=RGBA size=288x288 at 0x7F280838A6A0>,\n",
              "  <PIL.Image.Image image mode=RGBA size=328x328 at 0x7F280838A710>,\n",
              "  <PIL.Image.Image image mode=RGBA size=270x270 at 0x7F280838A780>,\n",
              "  <PIL.Image.Image image mode=RGBA size=253x253 at 0x7F280838A7F0>,\n",
              "  <PIL.Image.Image image mode=RGBA size=297x297 at 0x7F280838A860>,\n",
              "  <PIL.Image.Image image mode=RGBA size=318x318 at 0x7F280838A8D0>,\n",
              "  <PIL.Image.Image image mode=RGBA size=307x307 at 0x7F280838A940>,\n",
              "  <PIL.Image.Image image mode=RGBA size=299x299 at 0x7F280838A9B0>,\n",
              "  <PIL.Image.Image image mode=RGBA size=326x326 at 0x7F280838AA20>,\n",
              "  <PIL.Image.Image image mode=RGBA size=205x205 at 0x7F280838AA90>,\n",
              "  <PIL.Image.Image image mode=RGBA size=292x292 at 0x7F280838AB00>,\n",
              "  <PIL.Image.Image image mode=RGBA size=228x228 at 0x7F280838AB70>,\n",
              "  <PIL.Image.Image image mode=RGBA size=245x245 at 0x7F280838ABE0>,\n",
              "  <PIL.Image.Image image mode=RGBA size=201x201 at 0x7F280838AC50>,\n",
              "  <PIL.Image.Image image mode=RGBA size=261x261 at 0x7F280838ACC0>,\n",
              "  <PIL.Image.Image image mode=RGBA size=282x282 at 0x7F280838AD30>,\n",
              "  <PIL.Image.Image image mode=RGBA size=263x263 at 0x7F280838ADA0>,\n",
              "  <PIL.Image.Image image mode=RGBA size=297x297 at 0x7F280838AE10>,\n",
              "  <PIL.Image.Image image mode=RGBA size=205x205 at 0x7F280838AE80>,\n",
              "  <PIL.Image.Image image mode=RGBA size=347x347 at 0x7F280838AEF0>,\n",
              "  <PIL.Image.Image image mode=RGBA size=263x263 at 0x7F280838AF60>,\n",
              "  <PIL.Image.Image image mode=RGBA size=264x264 at 0x7F280838AFD0>,\n",
              "  <PIL.Image.Image image mode=RGBA size=223x223 at 0x7F280838AF98>,\n",
              "  <PIL.Image.Image image mode=RGBA size=327x327 at 0x7F28121160F0>,\n",
              "  <PIL.Image.Image image mode=RGBA size=269x269 at 0x7F2812116160>,\n",
              "  <PIL.Image.Image image mode=RGBA size=232x232 at 0x7F28121161D0>,\n",
              "  <PIL.Image.Image image mode=RGBA size=291x291 at 0x7F2812116240>,\n",
              "  <PIL.Image.Image image mode=RGBA size=336x336 at 0x7F28121162B0>,\n",
              "  <PIL.Image.Image image mode=RGBA size=226x226 at 0x7F2812116320>,\n",
              "  <PIL.Image.Image image mode=RGBA size=320x320 at 0x7F2812116390>,\n",
              "  <PIL.Image.Image image mode=RGBA size=232x232 at 0x7F2812116400>,\n",
              "  <PIL.Image.Image image mode=RGBA size=293x293 at 0x7F2812116470>,\n",
              "  <PIL.Image.Image image mode=RGBA size=211x211 at 0x7F28121164E0>,\n",
              "  <PIL.Image.Image image mode=RGBA size=203x203 at 0x7F2812116550>,\n",
              "  <PIL.Image.Image image mode=RGBA size=338x338 at 0x7F28121165C0>,\n",
              "  <PIL.Image.Image image mode=RGBA size=243x243 at 0x7F2812116630>,\n",
              "  <PIL.Image.Image image mode=RGBA size=224x224 at 0x7F28121166A0>,\n",
              "  <PIL.Image.Image image mode=RGBA size=303x303 at 0x7F2812116710>,\n",
              "  <PIL.Image.Image image mode=RGBA size=294x294 at 0x7F2812116780>,\n",
              "  <PIL.Image.Image image mode=RGBA size=239x239 at 0x7F28121167F0>,\n",
              "  <PIL.Image.Image image mode=RGBA size=282x282 at 0x7F2812116860>,\n",
              "  <PIL.Image.Image image mode=RGBA size=212x212 at 0x7F28121168D0>,\n",
              "  <PIL.Image.Image image mode=RGBA size=262x262 at 0x7F2812116940>,\n",
              "  <PIL.Image.Image image mode=RGBA size=209x209 at 0x7F28121169B0>,\n",
              "  <PIL.Image.Image image mode=RGBA size=270x270 at 0x7F2812116A20>,\n",
              "  <PIL.Image.Image image mode=RGBA size=232x232 at 0x7F2812116A90>,\n",
              "  <PIL.Image.Image image mode=RGBA size=324x324 at 0x7F2812116B00>,\n",
              "  <PIL.Image.Image image mode=RGBA size=313x313 at 0x7F2812116B70>,\n",
              "  <PIL.Image.Image image mode=RGBA size=208x208 at 0x7F2812116BE0>,\n",
              "  <PIL.Image.Image image mode=RGBA size=224x224 at 0x7F2812116C50>,\n",
              "  <PIL.Image.Image image mode=RGBA size=240x240 at 0x7F2812116CC0>,\n",
              "  <PIL.Image.Image image mode=RGBA size=295x295 at 0x7F2812116D30>,\n",
              "  <PIL.Image.Image image mode=RGBA size=226x226 at 0x7F2812116DA0>,\n",
              "  <PIL.Image.Image image mode=RGBA size=221x221 at 0x7F2812116E10>,\n",
              "  <PIL.Image.Image image mode=RGBA size=250x250 at 0x7F2812116E80>,\n",
              "  <PIL.Image.Image image mode=RGBA size=242x242 at 0x7F2812116EF0>,\n",
              "  <PIL.Image.Image image mode=RGBA size=270x270 at 0x7F2812116F60>,\n",
              "  <PIL.Image.Image image mode=RGBA size=275x275 at 0x7F2812116FD0>,\n",
              "  <PIL.Image.Image image mode=RGBA size=298x298 at 0x7F2812116F98>,\n",
              "  <PIL.Image.Image image mode=RGBA size=320x320 at 0x7F280868B0F0>,\n",
              "  <PIL.Image.Image image mode=RGBA size=325x325 at 0x7F280868B160>,\n",
              "  <PIL.Image.Image image mode=RGBA size=344x344 at 0x7F280868B1D0>,\n",
              "  <PIL.Image.Image image mode=RGBA size=335x335 at 0x7F280868B240>,\n",
              "  <PIL.Image.Image image mode=RGBA size=262x262 at 0x7F280868B2B0>,\n",
              "  <PIL.Image.Image image mode=RGBA size=305x305 at 0x7F280868B320>,\n",
              "  <PIL.Image.Image image mode=RGBA size=250x250 at 0x7F280868B390>,\n",
              "  <PIL.Image.Image image mode=RGBA size=208x208 at 0x7F280868B400>,\n",
              "  <PIL.Image.Image image mode=RGBA size=297x297 at 0x7F280868B470>,\n",
              "  <PIL.Image.Image image mode=RGBA size=310x310 at 0x7F280868B4E0>,\n",
              "  <PIL.Image.Image image mode=RGBA size=222x222 at 0x7F280868B550>,\n",
              "  <PIL.Image.Image image mode=RGBA size=231x231 at 0x7F280868B5C0>,\n",
              "  <PIL.Image.Image image mode=RGBA size=286x286 at 0x7F280868B630>,\n",
              "  <PIL.Image.Image image mode=RGBA size=325x325 at 0x7F280868B6A0>,\n",
              "  <PIL.Image.Image image mode=RGBA size=274x274 at 0x7F280868B710>,\n",
              "  <PIL.Image.Image image mode=RGBA size=237x237 at 0x7F280868B780>,\n",
              "  <PIL.Image.Image image mode=RGBA size=266x266 at 0x7F280868B7F0>,\n",
              "  <PIL.Image.Image image mode=RGBA size=210x210 at 0x7F280868B860>,\n",
              "  <PIL.Image.Image image mode=RGBA size=226x226 at 0x7F280868B8D0>,\n",
              "  <PIL.Image.Image image mode=RGBA size=304x304 at 0x7F280868B940>,\n",
              "  <PIL.Image.Image image mode=RGBA size=315x315 at 0x7F280868B9B0>,\n",
              "  <PIL.Image.Image image mode=RGBA size=320x320 at 0x7F280868BA20>,\n",
              "  <PIL.Image.Image image mode=RGBA size=292x292 at 0x7F280868BA90>,\n",
              "  <PIL.Image.Image image mode=RGBA size=245x245 at 0x7F280868BB00>,\n",
              "  <PIL.Image.Image image mode=RGBA size=265x265 at 0x7F280868BB70>,\n",
              "  <PIL.Image.Image image mode=RGBA size=325x325 at 0x7F280868BBE0>,\n",
              "  <PIL.Image.Image image mode=RGBA size=252x252 at 0x7F280868BC50>,\n",
              "  <PIL.Image.Image image mode=RGBA size=296x296 at 0x7F280868BCC0>,\n",
              "  <PIL.Image.Image image mode=RGBA size=250x250 at 0x7F280868BD30>,\n",
              "  <PIL.Image.Image image mode=RGBA size=298x298 at 0x7F280868BDA0>,\n",
              "  <PIL.Image.Image image mode=RGBA size=330x330 at 0x7F280868BE10>,\n",
              "  <PIL.Image.Image image mode=RGBA size=297x297 at 0x7F280868BE80>,\n",
              "  <PIL.Image.Image image mode=RGBA size=292x292 at 0x7F280868BEF0>,\n",
              "  <PIL.Image.Image image mode=RGBA size=259x259 at 0x7F280868BF60>,\n",
              "  <PIL.Image.Image image mode=RGBA size=202x202 at 0x7F280868BFD0>,\n",
              "  <PIL.Image.Image image mode=RGBA size=209x209 at 0x7F280868BF98>,\n",
              "  <PIL.Image.Image image mode=RGBA size=235x235 at 0x7F28085AE0F0>,\n",
              "  <PIL.Image.Image image mode=RGBA size=292x292 at 0x7F28085AE160>,\n",
              "  <PIL.Image.Image image mode=RGBA size=266x266 at 0x7F28085AE1D0>,\n",
              "  <PIL.Image.Image image mode=RGBA size=303x303 at 0x7F28085AE240>,\n",
              "  <PIL.Image.Image image mode=RGBA size=289x289 at 0x7F28085AE2B0>,\n",
              "  <PIL.Image.Image image mode=RGBA size=217x217 at 0x7F28085AE320>,\n",
              "  <PIL.Image.Image image mode=RGBA size=245x245 at 0x7F28085AE390>,\n",
              "  <PIL.Image.Image image mode=RGBA size=232x232 at 0x7F28085AE400>,\n",
              "  <PIL.Image.Image image mode=RGBA size=264x264 at 0x7F28085AE470>,\n",
              "  <PIL.Image.Image image mode=RGBA size=289x289 at 0x7F28085AE4E0>,\n",
              "  <PIL.Image.Image image mode=RGBA size=284x284 at 0x7F28085AE550>,\n",
              "  <PIL.Image.Image image mode=RGBA size=239x239 at 0x7F28085AE5C0>,\n",
              "  <PIL.Image.Image image mode=RGBA size=240x240 at 0x7F28085AE630>,\n",
              "  <PIL.Image.Image image mode=RGBA size=292x292 at 0x7F28085AE6A0>,\n",
              "  <PIL.Image.Image image mode=RGBA size=323x323 at 0x7F28085AE710>,\n",
              "  <PIL.Image.Image image mode=RGBA size=263x263 at 0x7F28085AE780>,\n",
              "  <PIL.Image.Image image mode=RGBA size=215x215 at 0x7F28085AE7F0>,\n",
              "  <PIL.Image.Image image mode=RGBA size=329x329 at 0x7F28085AE860>,\n",
              "  <PIL.Image.Image image mode=RGBA size=230x230 at 0x7F28085AE8D0>,\n",
              "  <PIL.Image.Image image mode=RGBA size=299x299 at 0x7F28085AE940>,\n",
              "  <PIL.Image.Image image mode=RGBA size=279x279 at 0x7F28085AE9B0>,\n",
              "  <PIL.Image.Image image mode=RGBA size=258x258 at 0x7F28085AEA20>,\n",
              "  <PIL.Image.Image image mode=RGBA size=235x235 at 0x7F28085AEA90>,\n",
              "  <PIL.Image.Image image mode=RGBA size=332x332 at 0x7F28085AEB00>,\n",
              "  <PIL.Image.Image image mode=RGBA size=210x210 at 0x7F28085AEB70>,\n",
              "  <PIL.Image.Image image mode=RGBA size=268x268 at 0x7F28085AEBE0>,\n",
              "  <PIL.Image.Image image mode=RGBA size=293x293 at 0x7F28085AEC50>,\n",
              "  <PIL.Image.Image image mode=RGBA size=311x311 at 0x7F28085AECC0>,\n",
              "  <PIL.Image.Image image mode=RGBA size=253x253 at 0x7F28085AED30>,\n",
              "  <PIL.Image.Image image mode=RGBA size=349x349 at 0x7F28085AEDA0>,\n",
              "  <PIL.Image.Image image mode=RGBA size=325x325 at 0x7F28085AEE10>,\n",
              "  <PIL.Image.Image image mode=RGBA size=203x203 at 0x7F28085AEE80>,\n",
              "  <PIL.Image.Image image mode=RGBA size=289x289 at 0x7F28085AEEF0>,\n",
              "  <PIL.Image.Image image mode=RGBA size=310x310 at 0x7F28085AEF60>,\n",
              "  <PIL.Image.Image image mode=RGBA size=234x234 at 0x7F28085AEFD0>,\n",
              "  <PIL.Image.Image image mode=RGBA size=334x334 at 0x7F28085AEF98>,\n",
              "  <PIL.Image.Image image mode=RGBA size=206x206 at 0x7F28085A50F0>,\n",
              "  <PIL.Image.Image image mode=RGBA size=200x200 at 0x7F28085A5160>,\n",
              "  <PIL.Image.Image image mode=RGBA size=286x286 at 0x7F28085A51D0>,\n",
              "  <PIL.Image.Image image mode=RGBA size=227x227 at 0x7F28085A5240>,\n",
              "  <PIL.Image.Image image mode=RGBA size=283x283 at 0x7F28085A52B0>,\n",
              "  <PIL.Image.Image image mode=RGBA size=236x236 at 0x7F28085A5320>,\n",
              "  <PIL.Image.Image image mode=RGBA size=206x206 at 0x7F28085A5390>,\n",
              "  <PIL.Image.Image image mode=RGBA size=235x235 at 0x7F28085A5400>,\n",
              "  <PIL.Image.Image image mode=RGBA size=300x300 at 0x7F28085A5470>,\n",
              "  <PIL.Image.Image image mode=RGBA size=320x320 at 0x7F28085A54E0>,\n",
              "  <PIL.Image.Image image mode=RGBA size=315x315 at 0x7F28085A5550>,\n",
              "  <PIL.Image.Image image mode=RGBA size=208x208 at 0x7F28085A55C0>,\n",
              "  <PIL.Image.Image image mode=RGBA size=312x312 at 0x7F28085A5630>,\n",
              "  <PIL.Image.Image image mode=RGBA size=338x338 at 0x7F28085A56A0>,\n",
              "  <PIL.Image.Image image mode=RGBA size=213x213 at 0x7F28085A5710>,\n",
              "  <PIL.Image.Image image mode=RGBA size=318x318 at 0x7F28085A5780>,\n",
              "  <PIL.Image.Image image mode=RGBA size=266x266 at 0x7F28085A57F0>,\n",
              "  <PIL.Image.Image image mode=RGBA size=321x321 at 0x7F28085A5860>,\n",
              "  <PIL.Image.Image image mode=RGBA size=293x293 at 0x7F28085A58D0>,\n",
              "  <PIL.Image.Image image mode=RGBA size=244x244 at 0x7F28085A5940>,\n",
              "  <PIL.Image.Image image mode=RGBA size=316x316 at 0x7F28085A59B0>,\n",
              "  <PIL.Image.Image image mode=RGBA size=338x338 at 0x7F28085A5A20>,\n",
              "  <PIL.Image.Image image mode=RGBA size=313x313 at 0x7F28085A5A90>,\n",
              "  <PIL.Image.Image image mode=RGBA size=219x219 at 0x7F28085A5B00>,\n",
              "  <PIL.Image.Image image mode=RGBA size=247x247 at 0x7F28085A5B70>,\n",
              "  <PIL.Image.Image image mode=RGBA size=343x343 at 0x7F28085A5BE0>,\n",
              "  <PIL.Image.Image image mode=RGBA size=297x297 at 0x7F28085A5C50>,\n",
              "  <PIL.Image.Image image mode=RGBA size=346x346 at 0x7F28085A5CC0>,\n",
              "  <PIL.Image.Image image mode=RGBA size=225x225 at 0x7F28085A5D30>,\n",
              "  <PIL.Image.Image image mode=RGBA size=254x254 at 0x7F28085A5DA0>,\n",
              "  <PIL.Image.Image image mode=RGBA size=322x322 at 0x7F28085A5E10>,\n",
              "  <PIL.Image.Image image mode=RGBA size=212x212 at 0x7F28085A5E80>,\n",
              "  <PIL.Image.Image image mode=RGBA size=269x269 at 0x7F28085A5EF0>,\n",
              "  <PIL.Image.Image image mode=RGBA size=207x207 at 0x7F28085A5F60>,\n",
              "  <PIL.Image.Image image mode=RGBA size=282x282 at 0x7F28085A5FD0>,\n",
              "  <PIL.Image.Image image mode=RGBA size=308x308 at 0x7F28085A5F98>,\n",
              "  <PIL.Image.Image image mode=RGBA size=308x308 at 0x7F280859B0F0>,\n",
              "  <PIL.Image.Image image mode=RGBA size=261x261 at 0x7F280859B160>,\n",
              "  <PIL.Image.Image image mode=RGBA size=240x240 at 0x7F280859B1D0>,\n",
              "  <PIL.Image.Image image mode=RGBA size=207x207 at 0x7F280859B240>,\n",
              "  <PIL.Image.Image image mode=RGBA size=207x207 at 0x7F280859B2B0>,\n",
              "  <PIL.Image.Image image mode=RGBA size=208x208 at 0x7F280859B320>,\n",
              "  <PIL.Image.Image image mode=RGBA size=201x201 at 0x7F280859B390>,\n",
              "  <PIL.Image.Image image mode=RGBA size=318x318 at 0x7F280859B400>,\n",
              "  <PIL.Image.Image image mode=RGBA size=212x212 at 0x7F280859B470>,\n",
              "  <PIL.Image.Image image mode=RGBA size=267x267 at 0x7F280859B4E0>,\n",
              "  <PIL.Image.Image image mode=RGBA size=320x320 at 0x7F280859B550>,\n",
              "  <PIL.Image.Image image mode=RGBA size=331x331 at 0x7F280859B5C0>,\n",
              "  <PIL.Image.Image image mode=RGBA size=335x335 at 0x7F280859B630>,\n",
              "  <PIL.Image.Image image mode=RGBA size=343x343 at 0x7F280859B6A0>,\n",
              "  <PIL.Image.Image image mode=RGBA size=201x201 at 0x7F280859B710>,\n",
              "  <PIL.Image.Image image mode=RGBA size=200x200 at 0x7F280859B780>,\n",
              "  <PIL.Image.Image image mode=RGBA size=217x217 at 0x7F280859B7F0>,\n",
              "  <PIL.Image.Image image mode=RGBA size=295x295 at 0x7F280859B860>,\n",
              "  <PIL.Image.Image image mode=RGBA size=308x308 at 0x7F280859B8D0>,\n",
              "  <PIL.Image.Image image mode=RGBA size=311x311 at 0x7F280859B940>,\n",
              "  <PIL.Image.Image image mode=RGBA size=254x254 at 0x7F280859B9B0>,\n",
              "  <PIL.Image.Image image mode=RGBA size=217x217 at 0x7F280859BA20>,\n",
              "  <PIL.Image.Image image mode=RGBA size=347x347 at 0x7F280859BA90>,\n",
              "  <PIL.Image.Image image mode=RGBA size=329x329 at 0x7F280859BB00>,\n",
              "  <PIL.Image.Image image mode=RGBA size=211x211 at 0x7F280859BB70>,\n",
              "  <PIL.Image.Image image mode=RGBA size=288x288 at 0x7F280859BBE0>,\n",
              "  <PIL.Image.Image image mode=RGBA size=220x220 at 0x7F280859BC50>,\n",
              "  <PIL.Image.Image image mode=RGBA size=201x201 at 0x7F280859BCC0>,\n",
              "  <PIL.Image.Image image mode=RGBA size=223x223 at 0x7F280859BD30>,\n",
              "  <PIL.Image.Image image mode=RGBA size=325x325 at 0x7F280859BDA0>,\n",
              "  <PIL.Image.Image image mode=RGBA size=318x318 at 0x7F280859BE10>,\n",
              "  <PIL.Image.Image image mode=RGBA size=230x230 at 0x7F280859BE80>,\n",
              "  <PIL.Image.Image image mode=RGBA size=301x301 at 0x7F280859BEF0>,\n",
              "  <PIL.Image.Image image mode=RGBA size=314x314 at 0x7F280859BF60>,\n",
              "  <PIL.Image.Image image mode=RGBA size=336x336 at 0x7F280859BFD0>,\n",
              "  <PIL.Image.Image image mode=RGBA size=339x339 at 0x7F280859BF98>,\n",
              "  <PIL.Image.Image image mode=RGBA size=315x315 at 0x7F28085920F0>,\n",
              "  <PIL.Image.Image image mode=RGBA size=330x330 at 0x7F2808592160>,\n",
              "  <PIL.Image.Image image mode=RGBA size=201x201 at 0x7F28085921D0>,\n",
              "  <PIL.Image.Image image mode=RGBA size=209x209 at 0x7F2808592240>,\n",
              "  <PIL.Image.Image image mode=RGBA size=233x233 at 0x7F28085922B0>,\n",
              "  <PIL.Image.Image image mode=RGBA size=345x345 at 0x7F2808592320>,\n",
              "  <PIL.Image.Image image mode=RGBA size=200x200 at 0x7F2808592390>,\n",
              "  <PIL.Image.Image image mode=RGBA size=328x328 at 0x7F2808592400>,\n",
              "  <PIL.Image.Image image mode=RGBA size=334x334 at 0x7F2808592470>,\n",
              "  <PIL.Image.Image image mode=RGBA size=291x291 at 0x7F28085924E0>,\n",
              "  <PIL.Image.Image image mode=RGBA size=341x341 at 0x7F2808592550>,\n",
              "  <PIL.Image.Image image mode=RGBA size=297x297 at 0x7F28085925C0>,\n",
              "  <PIL.Image.Image image mode=RGBA size=218x218 at 0x7F2808592630>,\n",
              "  <PIL.Image.Image image mode=RGBA size=243x243 at 0x7F28085926A0>,\n",
              "  <PIL.Image.Image image mode=RGBA size=222x222 at 0x7F2808592710>,\n",
              "  <PIL.Image.Image image mode=RGBA size=203x203 at 0x7F2808592780>,\n",
              "  <PIL.Image.Image image mode=RGBA size=245x245 at 0x7F28085927F0>,\n",
              "  <PIL.Image.Image image mode=RGBA size=347x347 at 0x7F2808592860>,\n",
              "  <PIL.Image.Image image mode=RGBA size=237x237 at 0x7F28085928D0>,\n",
              "  <PIL.Image.Image image mode=RGBA size=244x244 at 0x7F2808592940>,\n",
              "  <PIL.Image.Image image mode=RGBA size=248x248 at 0x7F28085929B0>,\n",
              "  <PIL.Image.Image image mode=RGBA size=219x219 at 0x7F2808592A20>,\n",
              "  <PIL.Image.Image image mode=RGBA size=305x305 at 0x7F2808592A90>,\n",
              "  <PIL.Image.Image image mode=RGBA size=231x231 at 0x7F2808592B00>,\n",
              "  <PIL.Image.Image image mode=RGBA size=257x257 at 0x7F2808592B70>,\n",
              "  <PIL.Image.Image image mode=RGBA size=226x226 at 0x7F2808592BE0>,\n",
              "  <PIL.Image.Image image mode=RGBA size=244x244 at 0x7F2808592C50>,\n",
              "  <PIL.Image.Image image mode=RGBA size=211x211 at 0x7F2808592CC0>,\n",
              "  <PIL.Image.Image image mode=RGBA size=236x236 at 0x7F2808592D30>,\n",
              "  <PIL.Image.Image image mode=RGBA size=253x253 at 0x7F2808592DA0>,\n",
              "  <PIL.Image.Image image mode=RGBA size=247x247 at 0x7F2808592E10>,\n",
              "  <PIL.Image.Image image mode=RGBA size=300x300 at 0x7F2808592E80>,\n",
              "  <PIL.Image.Image image mode=RGBA size=236x236 at 0x7F2808592EF0>,\n",
              "  <PIL.Image.Image image mode=RGBA size=337x337 at 0x7F2808592F60>,\n",
              "  <PIL.Image.Image image mode=RGBA size=234x234 at 0x7F2808592FD0>,\n",
              "  <PIL.Image.Image image mode=RGBA size=287x287 at 0x7F2808592F98>,\n",
              "  <PIL.Image.Image image mode=RGBA size=288x288 at 0x7F28081300F0>,\n",
              "  <PIL.Image.Image image mode=RGBA size=323x323 at 0x7F2808130160>,\n",
              "  <PIL.Image.Image image mode=RGBA size=202x202 at 0x7F28081301D0>,\n",
              "  <PIL.Image.Image image mode=RGBA size=217x217 at 0x7F2808130240>,\n",
              "  <PIL.Image.Image image mode=RGBA size=222x222 at 0x7F28081302B0>,\n",
              "  <PIL.Image.Image image mode=RGBA size=201x201 at 0x7F2808130320>,\n",
              "  <PIL.Image.Image image mode=RGBA size=288x288 at 0x7F2808130390>,\n",
              "  <PIL.Image.Image image mode=RGBA size=271x271 at 0x7F2808130400>,\n",
              "  <PIL.Image.Image image mode=RGBA size=290x290 at 0x7F2808130470>,\n",
              "  <PIL.Image.Image image mode=RGBA size=250x250 at 0x7F28081304E0>,\n",
              "  <PIL.Image.Image image mode=RGBA size=309x309 at 0x7F2808130550>,\n",
              "  <PIL.Image.Image image mode=RGBA size=348x348 at 0x7F28081305C0>,\n",
              "  <PIL.Image.Image image mode=RGBA size=247x247 at 0x7F2808130630>,\n",
              "  <PIL.Image.Image image mode=RGBA size=304x304 at 0x7F28081306A0>,\n",
              "  <PIL.Image.Image image mode=RGBA size=215x215 at 0x7F2808130710>,\n",
              "  <PIL.Image.Image image mode=RGBA size=218x218 at 0x7F2808130780>,\n",
              "  <PIL.Image.Image image mode=RGBA size=221x221 at 0x7F28081307F0>,\n",
              "  <PIL.Image.Image image mode=RGBA size=297x297 at 0x7F2808130860>,\n",
              "  <PIL.Image.Image image mode=RGBA size=322x322 at 0x7F28081308D0>,\n",
              "  <PIL.Image.Image image mode=RGBA size=346x346 at 0x7F2808130940>,\n",
              "  <PIL.Image.Image image mode=RGBA size=236x236 at 0x7F28081309B0>,\n",
              "  <PIL.Image.Image image mode=RGBA size=323x323 at 0x7F2808130A20>,\n",
              "  <PIL.Image.Image image mode=RGBA size=217x217 at 0x7F2808130A90>,\n",
              "  <PIL.Image.Image image mode=RGBA size=336x336 at 0x7F2808130B00>,\n",
              "  <PIL.Image.Image image mode=RGBA size=245x245 at 0x7F2808130B70>,\n",
              "  <PIL.Image.Image image mode=RGBA size=284x284 at 0x7F2808130BE0>,\n",
              "  <PIL.Image.Image image mode=RGBA size=237x237 at 0x7F2808130C50>,\n",
              "  <PIL.Image.Image image mode=RGBA size=219x219 at 0x7F2808130CC0>,\n",
              "  <PIL.Image.Image image mode=RGBA size=298x298 at 0x7F2808130D30>,\n",
              "  <PIL.Image.Image image mode=RGBA size=308x308 at 0x7F2808130DA0>,\n",
              "  <PIL.Image.Image image mode=RGBA size=262x262 at 0x7F2808130E10>,\n",
              "  <PIL.Image.Image image mode=RGBA size=342x342 at 0x7F2808130E80>,\n",
              "  <PIL.Image.Image image mode=RGBA size=212x212 at 0x7F2808130EF0>,\n",
              "  <PIL.Image.Image image mode=RGBA size=242x242 at 0x7F2808130F60>,\n",
              "  <PIL.Image.Image image mode=RGBA size=347x347 at 0x7F2808130FD0>,\n",
              "  <PIL.Image.Image image mode=RGBA size=339x339 at 0x7F2808130F98>,\n",
              "  <PIL.Image.Image image mode=RGBA size=222x222 at 0x7F28081370F0>,\n",
              "  <PIL.Image.Image image mode=RGBA size=244x244 at 0x7F2808137160>,\n",
              "  <PIL.Image.Image image mode=RGBA size=281x281 at 0x7F28081371D0>,\n",
              "  <PIL.Image.Image image mode=RGBA size=231x231 at 0x7F2808137240>,\n",
              "  <PIL.Image.Image image mode=RGBA size=228x228 at 0x7F28081372B0>,\n",
              "  <PIL.Image.Image image mode=RGBA size=281x281 at 0x7F2808137320>,\n",
              "  <PIL.Image.Image image mode=RGBA size=207x207 at 0x7F2808137390>,\n",
              "  <PIL.Image.Image image mode=RGBA size=289x289 at 0x7F2808137400>,\n",
              "  <PIL.Image.Image image mode=RGBA size=228x228 at 0x7F2808137470>,\n",
              "  <PIL.Image.Image image mode=RGBA size=258x258 at 0x7F28081374E0>,\n",
              "  <PIL.Image.Image image mode=RGBA size=269x269 at 0x7F2808137550>,\n",
              "  <PIL.Image.Image image mode=RGBA size=203x203 at 0x7F28081375C0>,\n",
              "  <PIL.Image.Image image mode=RGBA size=308x308 at 0x7F2808137630>,\n",
              "  <PIL.Image.Image image mode=RGBA size=251x251 at 0x7F28081376A0>,\n",
              "  <PIL.Image.Image image mode=RGBA size=258x258 at 0x7F2808137710>,\n",
              "  <PIL.Image.Image image mode=RGBA size=284x284 at 0x7F2808137780>,\n",
              "  <PIL.Image.Image image mode=RGBA size=201x201 at 0x7F28081377F0>,\n",
              "  <PIL.Image.Image image mode=RGBA size=256x256 at 0x7F2808137860>,\n",
              "  <PIL.Image.Image image mode=RGBA size=315x315 at 0x7F28081378D0>,\n",
              "  <PIL.Image.Image image mode=RGBA size=274x274 at 0x7F2808137940>,\n",
              "  <PIL.Image.Image image mode=RGBA size=253x253 at 0x7F28081379B0>,\n",
              "  <PIL.Image.Image image mode=RGBA size=203x203 at 0x7F2808137A20>,\n",
              "  <PIL.Image.Image image mode=RGBA size=206x206 at 0x7F2808137A90>,\n",
              "  <PIL.Image.Image image mode=RGBA size=331x331 at 0x7F2808137B00>,\n",
              "  <PIL.Image.Image image mode=RGBA size=291x291 at 0x7F2808137B70>,\n",
              "  <PIL.Image.Image image mode=RGBA size=270x270 at 0x7F2808137BE0>,\n",
              "  <PIL.Image.Image image mode=RGBA size=252x252 at 0x7F2808137C50>,\n",
              "  <PIL.Image.Image image mode=RGBA size=239x239 at 0x7F2808137CC0>,\n",
              "  <PIL.Image.Image image mode=RGBA size=259x259 at 0x7F2808137D30>,\n",
              "  <PIL.Image.Image image mode=RGBA size=244x244 at 0x7F2808137DA0>,\n",
              "  <PIL.Image.Image image mode=RGBA size=220x220 at 0x7F2808137E10>,\n",
              "  <PIL.Image.Image image mode=RGBA size=342x342 at 0x7F2808137E80>,\n",
              "  <PIL.Image.Image image mode=RGBA size=229x229 at 0x7F2808137EF0>,\n",
              "  <PIL.Image.Image image mode=RGBA size=282x282 at 0x7F2808137F60>,\n",
              "  <PIL.Image.Image image mode=RGBA size=329x329 at 0x7F2808137FD0>,\n",
              "  <PIL.Image.Image image mode=RGBA size=310x310 at 0x7F2808137F98>,\n",
              "  <PIL.Image.Image image mode=RGBA size=205x205 at 0x7F28081400F0>,\n",
              "  <PIL.Image.Image image mode=RGBA size=214x214 at 0x7F2808140160>,\n",
              "  <PIL.Image.Image image mode=RGBA size=246x246 at 0x7F28081401D0>,\n",
              "  <PIL.Image.Image image mode=RGBA size=221x221 at 0x7F2808140240>,\n",
              "  <PIL.Image.Image image mode=RGBA size=238x238 at 0x7F28081402B0>,\n",
              "  <PIL.Image.Image image mode=RGBA size=292x292 at 0x7F2808140320>,\n",
              "  <PIL.Image.Image image mode=RGBA size=257x257 at 0x7F2808140390>,\n",
              "  <PIL.Image.Image image mode=RGBA size=251x251 at 0x7F2808140400>,\n",
              "  <PIL.Image.Image image mode=RGBA size=213x213 at 0x7F2808140470>,\n",
              "  <PIL.Image.Image image mode=RGBA size=291x291 at 0x7F28081404E0>,\n",
              "  <PIL.Image.Image image mode=RGBA size=238x238 at 0x7F2808140550>,\n",
              "  <PIL.Image.Image image mode=RGBA size=315x315 at 0x7F28081405C0>,\n",
              "  <PIL.Image.Image image mode=RGBA size=271x271 at 0x7F2808140630>,\n",
              "  <PIL.Image.Image image mode=RGBA size=310x310 at 0x7F28081406A0>,\n",
              "  <PIL.Image.Image image mode=RGBA size=218x218 at 0x7F2808140710>,\n",
              "  <PIL.Image.Image image mode=RGBA size=217x217 at 0x7F2808140780>,\n",
              "  <PIL.Image.Image image mode=RGBA size=223x223 at 0x7F28081407F0>,\n",
              "  <PIL.Image.Image image mode=RGBA size=215x215 at 0x7F2808140860>,\n",
              "  <PIL.Image.Image image mode=RGBA size=257x257 at 0x7F28081408D0>,\n",
              "  <PIL.Image.Image image mode=RGBA size=250x250 at 0x7F2808140940>,\n",
              "  <PIL.Image.Image image mode=RGBA size=312x312 at 0x7F28081409B0>,\n",
              "  <PIL.Image.Image image mode=RGBA size=205x205 at 0x7F2808140A20>,\n",
              "  <PIL.Image.Image image mode=RGBA size=248x248 at 0x7F2808140A90>,\n",
              "  <PIL.Image.Image image mode=RGBA size=313x313 at 0x7F2808140B00>,\n",
              "  <PIL.Image.Image image mode=RGBA size=204x204 at 0x7F2808140B70>,\n",
              "  <PIL.Image.Image image mode=RGBA size=242x242 at 0x7F2808140BE0>,\n",
              "  <PIL.Image.Image image mode=RGBA size=280x280 at 0x7F2808140C50>,\n",
              "  <PIL.Image.Image image mode=RGBA size=221x221 at 0x7F2808140CC0>,\n",
              "  <PIL.Image.Image image mode=RGBA size=261x261 at 0x7F2808140D30>,\n",
              "  <PIL.Image.Image image mode=RGBA size=281x281 at 0x7F2808140DA0>,\n",
              "  <PIL.Image.Image image mode=RGBA size=269x269 at 0x7F2808140E10>,\n",
              "  <PIL.Image.Image image mode=RGBA size=297x297 at 0x7F2808140E80>,\n",
              "  <PIL.Image.Image image mode=RGBA size=337x337 at 0x7F2808140EF0>,\n",
              "  <PIL.Image.Image image mode=RGBA size=245x245 at 0x7F2808140F60>,\n",
              "  <PIL.Image.Image image mode=RGBA size=293x293 at 0x7F2808140FD0>,\n",
              "  <PIL.Image.Image image mode=RGBA size=222x222 at 0x7F2808140F98>,\n",
              "  <PIL.Image.Image image mode=RGBA size=229x229 at 0x7F28081460F0>,\n",
              "  <PIL.Image.Image image mode=RGBA size=268x268 at 0x7F2808146160>,\n",
              "  <PIL.Image.Image image mode=RGBA size=286x286 at 0x7F28081461D0>,\n",
              "  <PIL.Image.Image image mode=RGBA size=296x296 at 0x7F2808146240>,\n",
              "  <PIL.Image.Image image mode=RGBA size=225x225 at 0x7F28081462B0>,\n",
              "  <PIL.Image.Image image mode=RGBA size=328x328 at 0x7F2808146320>,\n",
              "  <PIL.Image.Image image mode=RGBA size=304x304 at 0x7F2808146390>,\n",
              "  <PIL.Image.Image image mode=RGBA size=330x330 at 0x7F2808146400>,\n",
              "  <PIL.Image.Image image mode=RGBA size=282x282 at 0x7F2808146470>,\n",
              "  <PIL.Image.Image image mode=RGBA size=215x215 at 0x7F28081464E0>,\n",
              "  <PIL.Image.Image image mode=RGBA size=296x296 at 0x7F2808146550>,\n",
              "  <PIL.Image.Image image mode=RGBA size=275x275 at 0x7F28081465C0>,\n",
              "  <PIL.Image.Image image mode=RGBA size=260x260 at 0x7F2808146630>,\n",
              "  <PIL.Image.Image image mode=RGBA size=231x231 at 0x7F28081466A0>,\n",
              "  <PIL.Image.Image image mode=RGBA size=211x211 at 0x7F2808146710>,\n",
              "  <PIL.Image.Image image mode=RGBA size=312x312 at 0x7F2808146780>,\n",
              "  <PIL.Image.Image image mode=RGBA size=278x278 at 0x7F28081467F0>,\n",
              "  <PIL.Image.Image image mode=RGBA size=252x252 at 0x7F2808146860>,\n",
              "  <PIL.Image.Image image mode=RGBA size=251x251 at 0x7F28081468D0>,\n",
              "  <PIL.Image.Image image mode=RGBA size=257x257 at 0x7F2808146940>,\n",
              "  <PIL.Image.Image image mode=RGBA size=311x311 at 0x7F28081469B0>,\n",
              "  <PIL.Image.Image image mode=RGBA size=242x242 at 0x7F2808146A20>,\n",
              "  <PIL.Image.Image image mode=RGBA size=231x231 at 0x7F2808146A90>,\n",
              "  <PIL.Image.Image image mode=RGBA size=305x305 at 0x7F2808146B00>,\n",
              "  <PIL.Image.Image image mode=RGBA size=338x338 at 0x7F2808146B70>,\n",
              "  <PIL.Image.Image image mode=RGBA size=238x238 at 0x7F2808146BE0>,\n",
              "  <PIL.Image.Image image mode=RGBA size=237x237 at 0x7F2808146C50>,\n",
              "  <PIL.Image.Image image mode=RGBA size=259x259 at 0x7F2808146CC0>,\n",
              "  <PIL.Image.Image image mode=RGBA size=345x345 at 0x7F2808146D30>,\n",
              "  <PIL.Image.Image image mode=RGBA size=273x273 at 0x7F2808146DA0>,\n",
              "  <PIL.Image.Image image mode=RGBA size=200x200 at 0x7F2808146E10>,\n",
              "  <PIL.Image.Image image mode=RGBA size=209x209 at 0x7F2808146E80>,\n",
              "  <PIL.Image.Image image mode=RGBA size=211x211 at 0x7F2808146EF0>,\n",
              "  <PIL.Image.Image image mode=RGBA size=246x246 at 0x7F2808146F60>,\n",
              "  <PIL.Image.Image image mode=RGBA size=257x257 at 0x7F2808146FD0>,\n",
              "  <PIL.Image.Image image mode=RGBA size=259x259 at 0x7F2808146F98>,\n",
              "  <PIL.Image.Image image mode=RGBA size=277x277 at 0x7F280860A0F0>,\n",
              "  <PIL.Image.Image image mode=RGBA size=290x290 at 0x7F280860A160>,\n",
              "  <PIL.Image.Image image mode=RGBA size=313x313 at 0x7F280860A1D0>,\n",
              "  <PIL.Image.Image image mode=RGBA size=340x340 at 0x7F280860A240>,\n",
              "  <PIL.Image.Image image mode=RGBA size=260x260 at 0x7F280860A2B0>,\n",
              "  <PIL.Image.Image image mode=RGBA size=284x284 at 0x7F280860A320>,\n",
              "  <PIL.Image.Image image mode=RGBA size=260x260 at 0x7F280860A390>,\n",
              "  <PIL.Image.Image image mode=RGBA size=265x265 at 0x7F280860A400>,\n",
              "  <PIL.Image.Image image mode=RGBA size=292x292 at 0x7F280860A470>,\n",
              "  <PIL.Image.Image image mode=RGBA size=223x223 at 0x7F280860A4E0>,\n",
              "  <PIL.Image.Image image mode=RGBA size=277x277 at 0x7F280860A550>,\n",
              "  <PIL.Image.Image image mode=RGBA size=279x279 at 0x7F280860A5C0>,\n",
              "  <PIL.Image.Image image mode=RGBA size=306x306 at 0x7F280860A630>,\n",
              "  <PIL.Image.Image image mode=RGBA size=310x310 at 0x7F280860A6A0>,\n",
              "  <PIL.Image.Image image mode=RGBA size=221x221 at 0x7F280860A710>,\n",
              "  <PIL.Image.Image image mode=RGBA size=325x325 at 0x7F280860A780>,\n",
              "  <PIL.Image.Image image mode=RGBA size=327x327 at 0x7F280860A7F0>,\n",
              "  <PIL.Image.Image image mode=RGBA size=218x218 at 0x7F280860A860>,\n",
              "  <PIL.Image.Image image mode=RGBA size=215x215 at 0x7F280860A8D0>,\n",
              "  <PIL.Image.Image image mode=RGBA size=268x268 at 0x7F280860A940>,\n",
              "  <PIL.Image.Image image mode=RGBA size=334x334 at 0x7F280860A9B0>,\n",
              "  <PIL.Image.Image image mode=RGBA size=294x294 at 0x7F280860AA20>,\n",
              "  <PIL.Image.Image image mode=RGBA size=297x297 at 0x7F280860AA90>,\n",
              "  <PIL.Image.Image image mode=RGBA size=233x233 at 0x7F280860AB00>,\n",
              "  <PIL.Image.Image image mode=RGBA size=229x229 at 0x7F280860AB70>,\n",
              "  <PIL.Image.Image image mode=RGBA size=348x348 at 0x7F280860ABE0>,\n",
              "  <PIL.Image.Image image mode=RGBA size=281x281 at 0x7F280860AC50>,\n",
              "  <PIL.Image.Image image mode=RGBA size=231x231 at 0x7F280860ACC0>,\n",
              "  <PIL.Image.Image image mode=RGBA size=272x272 at 0x7F280860AD30>,\n",
              "  <PIL.Image.Image image mode=RGBA size=306x306 at 0x7F280860ADA0>,\n",
              "  <PIL.Image.Image image mode=RGBA size=205x205 at 0x7F280860AE10>,\n",
              "  <PIL.Image.Image image mode=RGBA size=258x258 at 0x7F280860AE80>,\n",
              "  <PIL.Image.Image image mode=RGBA size=254x254 at 0x7F280860AEF0>,\n",
              "  <PIL.Image.Image image mode=RGBA size=233x233 at 0x7F280860AF60>,\n",
              "  <PIL.Image.Image image mode=RGBA size=294x294 at 0x7F280860AFD0>,\n",
              "  <PIL.Image.Image image mode=RGBA size=332x332 at 0x7F280860AF98>,\n",
              "  <PIL.Image.Image image mode=RGBA size=202x202 at 0x7F28086030F0>,\n",
              "  <PIL.Image.Image image mode=RGBA size=203x203 at 0x7F2808603160>,\n",
              "  <PIL.Image.Image image mode=RGBA size=235x235 at 0x7F28086031D0>,\n",
              "  <PIL.Image.Image image mode=RGBA size=201x201 at 0x7F2808603240>,\n",
              "  <PIL.Image.Image image mode=RGBA size=227x227 at 0x7F28086032B0>,\n",
              "  <PIL.Image.Image image mode=RGBA size=251x251 at 0x7F2808603320>,\n",
              "  <PIL.Image.Image image mode=RGBA size=287x287 at 0x7F2808603390>,\n",
              "  <PIL.Image.Image image mode=RGBA size=250x250 at 0x7F2808603400>,\n",
              "  <PIL.Image.Image image mode=RGBA size=334x334 at 0x7F2808603470>,\n",
              "  <PIL.Image.Image image mode=RGBA size=340x340 at 0x7F28086034E0>,\n",
              "  <PIL.Image.Image image mode=RGBA size=222x222 at 0x7F2808603550>,\n",
              "  <PIL.Image.Image image mode=RGBA size=248x248 at 0x7F28086035C0>,\n",
              "  <PIL.Image.Image image mode=RGBA size=230x230 at 0x7F2808603630>,\n",
              "  <PIL.Image.Image image mode=RGBA size=248x248 at 0x7F28086036A0>,\n",
              "  <PIL.Image.Image image mode=RGBA size=207x207 at 0x7F2808603710>,\n",
              "  <PIL.Image.Image image mode=RGBA size=252x252 at 0x7F2808603780>,\n",
              "  <PIL.Image.Image image mode=RGBA size=319x319 at 0x7F28086037F0>,\n",
              "  <PIL.Image.Image image mode=RGBA size=308x308 at 0x7F2808603860>,\n",
              "  <PIL.Image.Image image mode=RGBA size=247x247 at 0x7F28086038D0>,\n",
              "  <PIL.Image.Image image mode=RGBA size=259x259 at 0x7F2808603940>,\n",
              "  <PIL.Image.Image image mode=RGBA size=223x223 at 0x7F28086039B0>,\n",
              "  <PIL.Image.Image image mode=RGBA size=330x330 at 0x7F2808603A20>,\n",
              "  <PIL.Image.Image image mode=RGBA size=275x275 at 0x7F2808603A90>,\n",
              "  <PIL.Image.Image image mode=RGBA size=338x338 at 0x7F2808603B00>,\n",
              "  <PIL.Image.Image image mode=RGBA size=201x201 at 0x7F2808603B70>,\n",
              "  <PIL.Image.Image image mode=RGBA size=206x206 at 0x7F2808603BE0>,\n",
              "  <PIL.Image.Image image mode=RGBA size=312x312 at 0x7F2808603C50>,\n",
              "  <PIL.Image.Image image mode=RGBA size=328x328 at 0x7F2808603CC0>,\n",
              "  <PIL.Image.Image image mode=RGBA size=205x205 at 0x7F2808603D30>,\n",
              "  <PIL.Image.Image image mode=RGBA size=306x306 at 0x7F2808603DA0>,\n",
              "  <PIL.Image.Image image mode=RGBA size=336x336 at 0x7F2808603E10>,\n",
              "  <PIL.Image.Image image mode=RGBA size=312x312 at 0x7F2808603E80>,\n",
              "  <PIL.Image.Image image mode=RGBA size=234x234 at 0x7F2808603EF0>,\n",
              "  <PIL.Image.Image image mode=RGBA size=229x229 at 0x7F2808603F60>,\n",
              "  <PIL.Image.Image image mode=RGBA size=212x212 at 0x7F2808603FD0>,\n",
              "  <PIL.Image.Image image mode=RGBA size=319x319 at 0x7F2808603F98>,\n",
              "  <PIL.Image.Image image mode=RGBA size=276x276 at 0x7F28085F80F0>,\n",
              "  <PIL.Image.Image image mode=RGBA size=290x290 at 0x7F28085F8160>,\n",
              "  <PIL.Image.Image image mode=RGBA size=205x205 at 0x7F28085F81D0>,\n",
              "  <PIL.Image.Image image mode=RGBA size=205x205 at 0x7F28085F8240>,\n",
              "  <PIL.Image.Image image mode=RGBA size=336x336 at 0x7F28085F82B0>,\n",
              "  <PIL.Image.Image image mode=RGBA size=301x301 at 0x7F28085F8320>,\n",
              "  <PIL.Image.Image image mode=RGBA size=338x338 at 0x7F28085F8390>,\n",
              "  <PIL.Image.Image image mode=RGBA size=201x201 at 0x7F28085F8400>,\n",
              "  <PIL.Image.Image image mode=RGBA size=242x242 at 0x7F28085F8470>,\n",
              "  <PIL.Image.Image image mode=RGBA size=237x237 at 0x7F28085F84E0>,\n",
              "  <PIL.Image.Image image mode=RGBA size=255x255 at 0x7F28085F8550>,\n",
              "  <PIL.Image.Image image mode=RGBA size=259x259 at 0x7F28085F85C0>,\n",
              "  <PIL.Image.Image image mode=RGBA size=274x274 at 0x7F28085F8630>,\n",
              "  <PIL.Image.Image image mode=RGBA size=296x296 at 0x7F28085F86A0>,\n",
              "  <PIL.Image.Image image mode=RGBA size=285x285 at 0x7F28085F8710>,\n",
              "  <PIL.Image.Image image mode=RGBA size=317x317 at 0x7F28085F8780>,\n",
              "  <PIL.Image.Image image mode=RGBA size=339x339 at 0x7F28085F87F0>,\n",
              "  <PIL.Image.Image image mode=RGBA size=211x211 at 0x7F28085F8860>,\n",
              "  <PIL.Image.Image image mode=RGBA size=240x240 at 0x7F28085F88D0>,\n",
              "  <PIL.Image.Image image mode=RGBA size=288x288 at 0x7F28085F8940>,\n",
              "  <PIL.Image.Image image mode=RGBA size=213x213 at 0x7F28085F89B0>,\n",
              "  <PIL.Image.Image image mode=RGBA size=217x217 at 0x7F28085F8A20>,\n",
              "  <PIL.Image.Image image mode=RGBA size=241x241 at 0x7F28085F8A90>,\n",
              "  <PIL.Image.Image image mode=RGBA size=325x325 at 0x7F28085F8B00>,\n",
              "  <PIL.Image.Image image mode=RGBA size=295x295 at 0x7F28085F8B70>,\n",
              "  <PIL.Image.Image image mode=RGBA size=291x291 at 0x7F28085F8BE0>,\n",
              "  <PIL.Image.Image image mode=RGBA size=277x277 at 0x7F28085F8C50>,\n",
              "  <PIL.Image.Image image mode=RGBA size=312x312 at 0x7F28085F8CC0>,\n",
              "  <PIL.Image.Image image mode=RGBA size=332x332 at 0x7F28085F8D30>,\n",
              "  <PIL.Image.Image image mode=RGBA size=218x218 at 0x7F28085F8DA0>,\n",
              "  <PIL.Image.Image image mode=RGBA size=301x301 at 0x7F28085F8E10>,\n",
              "  <PIL.Image.Image image mode=RGBA size=260x260 at 0x7F28085F8E80>,\n",
              "  <PIL.Image.Image image mode=RGBA size=322x322 at 0x7F28085F8EF0>,\n",
              "  <PIL.Image.Image image mode=RGBA size=264x264 at 0x7F28085F8F60>,\n",
              "  <PIL.Image.Image image mode=RGBA size=260x260 at 0x7F28085F8FD0>,\n",
              "  <PIL.Image.Image image mode=RGBA size=324x324 at 0x7F28085F8F98>,\n",
              "  <PIL.Image.Image image mode=RGBA size=324x324 at 0x7F28085EE0F0>,\n",
              "  <PIL.Image.Image image mode=RGBA size=340x340 at 0x7F28085EE160>,\n",
              "  <PIL.Image.Image image mode=RGBA size=222x222 at 0x7F28085EE1D0>,\n",
              "  <PIL.Image.Image image mode=RGBA size=251x251 at 0x7F28085EE240>,\n",
              "  <PIL.Image.Image image mode=RGBA size=293x293 at 0x7F28085EE2B0>,\n",
              "  <PIL.Image.Image image mode=RGBA size=230x230 at 0x7F28085EE320>,\n",
              "  <PIL.Image.Image image mode=RGBA size=331x331 at 0x7F28085EE390>,\n",
              "  <PIL.Image.Image image mode=RGBA size=232x232 at 0x7F28085EE400>,\n",
              "  <PIL.Image.Image image mode=RGBA size=322x322 at 0x7F28085EE470>,\n",
              "  <PIL.Image.Image image mode=RGBA size=280x280 at 0x7F28085EE4E0>,\n",
              "  <PIL.Image.Image image mode=RGBA size=292x292 at 0x7F28085EE550>,\n",
              "  <PIL.Image.Image image mode=RGBA size=256x256 at 0x7F28085EE5C0>,\n",
              "  <PIL.Image.Image image mode=RGBA size=283x283 at 0x7F28085EE630>,\n",
              "  <PIL.Image.Image image mode=RGBA size=342x342 at 0x7F28085EE6A0>,\n",
              "  <PIL.Image.Image image mode=RGBA size=230x230 at 0x7F28085EE710>,\n",
              "  <PIL.Image.Image image mode=RGBA size=241x241 at 0x7F28085EE780>,\n",
              "  <PIL.Image.Image image mode=RGBA size=209x209 at 0x7F28085EE7F0>,\n",
              "  <PIL.Image.Image image mode=RGBA size=303x303 at 0x7F28085EE860>,\n",
              "  <PIL.Image.Image image mode=RGBA size=315x315 at 0x7F28085EE8D0>,\n",
              "  <PIL.Image.Image image mode=RGBA size=330x330 at 0x7F28085EE940>,\n",
              "  <PIL.Image.Image image mode=RGBA size=271x271 at 0x7F28085EE9B0>,\n",
              "  <PIL.Image.Image image mode=RGBA size=337x337 at 0x7F28085EEA20>,\n",
              "  <PIL.Image.Image image mode=RGBA size=332x332 at 0x7F28085EEA90>,\n",
              "  <PIL.Image.Image image mode=RGBA size=282x282 at 0x7F28085EEB00>,\n",
              "  <PIL.Image.Image image mode=RGBA size=294x294 at 0x7F28085EEB70>,\n",
              "  <PIL.Image.Image image mode=RGBA size=297x297 at 0x7F28085EEBE0>,\n",
              "  <PIL.Image.Image image mode=RGBA size=214x214 at 0x7F28085EEC50>,\n",
              "  <PIL.Image.Image image mode=RGBA size=226x226 at 0x7F28085EECC0>,\n",
              "  <PIL.Image.Image image mode=RGBA size=253x253 at 0x7F28085EED30>,\n",
              "  <PIL.Image.Image image mode=RGBA size=247x247 at 0x7F28085EEDA0>,\n",
              "  <PIL.Image.Image image mode=RGBA size=349x349 at 0x7F28085EEE10>,\n",
              "  <PIL.Image.Image image mode=RGBA size=343x343 at 0x7F28085EEE80>,\n",
              "  <PIL.Image.Image image mode=RGBA size=217x217 at 0x7F28085EEEF0>,\n",
              "  <PIL.Image.Image image mode=RGBA size=300x300 at 0x7F28085EEF60>,\n",
              "  <PIL.Image.Image image mode=RGBA size=295x295 at 0x7F28085EEFD0>,\n",
              "  <PIL.Image.Image image mode=RGBA size=238x238 at 0x7F28085EEF98>,\n",
              "  <PIL.Image.Image image mode=RGBA size=258x258 at 0x7F28085E30F0>,\n",
              "  <PIL.Image.Image image mode=RGBA size=214x214 at 0x7F28085E3160>,\n",
              "  <PIL.Image.Image image mode=RGBA size=293x293 at 0x7F28085E31D0>,\n",
              "  <PIL.Image.Image image mode=RGBA size=256x256 at 0x7F28085E3240>,\n",
              "  <PIL.Image.Image image mode=RGBA size=212x212 at 0x7F28085E32B0>,\n",
              "  <PIL.Image.Image image mode=RGBA size=339x339 at 0x7F28085E3320>,\n",
              "  <PIL.Image.Image image mode=RGBA size=235x235 at 0x7F28085E3390>,\n",
              "  <PIL.Image.Image image mode=RGBA size=280x280 at 0x7F28085E3400>,\n",
              "  <PIL.Image.Image image mode=RGBA size=304x304 at 0x7F28085E3470>,\n",
              "  <PIL.Image.Image image mode=RGBA size=236x236 at 0x7F28085E34E0>,\n",
              "  <PIL.Image.Image image mode=RGBA size=222x222 at 0x7F28085E3550>,\n",
              "  <PIL.Image.Image image mode=RGBA size=313x313 at 0x7F28085E35C0>,\n",
              "  <PIL.Image.Image image mode=RGBA size=330x330 at 0x7F28085E3630>,\n",
              "  <PIL.Image.Image image mode=RGBA size=327x327 at 0x7F28085E36A0>,\n",
              "  <PIL.Image.Image image mode=RGBA size=243x243 at 0x7F28085E3710>,\n",
              "  <PIL.Image.Image image mode=RGBA size=311x311 at 0x7F28085E3780>,\n",
              "  <PIL.Image.Image image mode=RGBA size=220x220 at 0x7F28085E37F0>,\n",
              "  <PIL.Image.Image image mode=RGBA size=315x315 at 0x7F28085E3860>,\n",
              "  <PIL.Image.Image image mode=RGBA size=244x244 at 0x7F28085E38D0>,\n",
              "  <PIL.Image.Image image mode=RGBA size=252x252 at 0x7F28085E3940>,\n",
              "  <PIL.Image.Image image mode=RGBA size=267x267 at 0x7F28085E39B0>,\n",
              "  <PIL.Image.Image image mode=RGBA size=277x277 at 0x7F28085E3A20>,\n",
              "  <PIL.Image.Image image mode=RGBA size=285x285 at 0x7F28085E3A90>,\n",
              "  <PIL.Image.Image image mode=RGBA size=286x286 at 0x7F28085E3B00>,\n",
              "  <PIL.Image.Image image mode=RGBA size=311x311 at 0x7F28085E3B70>,\n",
              "  <PIL.Image.Image image mode=RGBA size=315x315 at 0x7F28085E3BE0>,\n",
              "  <PIL.Image.Image image mode=RGBA size=312x312 at 0x7F28085E3C50>,\n",
              "  <PIL.Image.Image image mode=RGBA size=324x324 at 0x7F28085E3CC0>,\n",
              "  <PIL.Image.Image image mode=RGBA size=208x208 at 0x7F28085E3D30>,\n",
              "  <PIL.Image.Image image mode=RGBA size=200x200 at 0x7F28085E3DA0>,\n",
              "  <PIL.Image.Image image mode=RGBA size=335x335 at 0x7F28085E3E10>,\n",
              "  <PIL.Image.Image image mode=RGBA size=242x242 at 0x7F28085E3E80>,\n",
              "  <PIL.Image.Image image mode=RGBA size=339x339 at 0x7F28085E3EF0>,\n",
              "  <PIL.Image.Image image mode=RGBA size=265x265 at 0x7F28085E3F60>,\n",
              "  <PIL.Image.Image image mode=RGBA size=246x246 at 0x7F28085E3FD0>,\n",
              "  <PIL.Image.Image image mode=RGBA size=328x328 at 0x7F28085E3F98>,\n",
              "  <PIL.Image.Image image mode=RGBA size=283x283 at 0x7F28085DB0F0>,\n",
              "  <PIL.Image.Image image mode=RGBA size=283x283 at 0x7F28085DB160>,\n",
              "  <PIL.Image.Image image mode=RGBA size=347x347 at 0x7F28085DB1D0>,\n",
              "  <PIL.Image.Image image mode=RGBA size=208x208 at 0x7F28085DB240>,\n",
              "  <PIL.Image.Image image mode=RGBA size=219x219 at 0x7F28085DB2B0>,\n",
              "  <PIL.Image.Image image mode=RGBA size=220x220 at 0x7F28085DB320>,\n",
              "  <PIL.Image.Image image mode=RGBA size=206x206 at 0x7F28085DB390>,\n",
              "  <PIL.Image.Image image mode=RGBA size=214x214 at 0x7F28085DB400>,\n",
              "  <PIL.Image.Image image mode=RGBA size=257x257 at 0x7F28085DB470>,\n",
              "  <PIL.Image.Image image mode=RGBA size=277x277 at 0x7F28085DB4E0>,\n",
              "  <PIL.Image.Image image mode=RGBA size=304x304 at 0x7F28085DB550>,\n",
              "  <PIL.Image.Image image mode=RGBA size=234x234 at 0x7F28085DB5C0>,\n",
              "  <PIL.Image.Image image mode=RGBA size=229x229 at 0x7F28085DB630>,\n",
              "  <PIL.Image.Image image mode=RGBA size=274x274 at 0x7F28085DB6A0>,\n",
              "  <PIL.Image.Image image mode=RGBA size=314x314 at 0x7F28085DB710>,\n",
              "  <PIL.Image.Image image mode=RGBA size=232x232 at 0x7F28085DB780>,\n",
              "  <PIL.Image.Image image mode=RGBA size=267x267 at 0x7F28085DB7F0>,\n",
              "  <PIL.Image.Image image mode=RGBA size=308x308 at 0x7F28085DB860>,\n",
              "  <PIL.Image.Image image mode=RGBA size=277x277 at 0x7F28085DB8D0>,\n",
              "  <PIL.Image.Image image mode=RGBA size=238x238 at 0x7F28085DB940>,\n",
              "  <PIL.Image.Image image mode=RGBA size=262x262 at 0x7F28085DB9B0>,\n",
              "  <PIL.Image.Image image mode=RGBA size=242x242 at 0x7F28085DBA20>,\n",
              "  <PIL.Image.Image image mode=RGBA size=342x342 at 0x7F28085DBA90>,\n",
              "  <PIL.Image.Image image mode=RGBA size=267x267 at 0x7F28085DBB00>,\n",
              "  <PIL.Image.Image image mode=RGBA size=265x265 at 0x7F28085DBB70>,\n",
              "  <PIL.Image.Image image mode=RGBA size=210x210 at 0x7F28085DBBE0>,\n",
              "  <PIL.Image.Image image mode=RGBA size=239x239 at 0x7F28085DBC50>,\n",
              "  <PIL.Image.Image image mode=RGBA size=248x248 at 0x7F28085DBCC0>,\n",
              "  <PIL.Image.Image image mode=RGBA size=264x264 at 0x7F28085DBD30>,\n",
              "  <PIL.Image.Image image mode=RGBA size=254x254 at 0x7F28085DBDA0>,\n",
              "  <PIL.Image.Image image mode=RGBA size=257x257 at 0x7F28085DBE10>,\n",
              "  <PIL.Image.Image image mode=RGBA size=246x246 at 0x7F28085DBE80>,\n",
              "  <PIL.Image.Image image mode=RGBA size=271x271 at 0x7F28085DBEF0>,\n",
              "  <PIL.Image.Image image mode=RGBA size=321x321 at 0x7F28085DBF60>,\n",
              "  <PIL.Image.Image image mode=RGBA size=245x245 at 0x7F28085DBFD0>,\n",
              "  <PIL.Image.Image image mode=RGBA size=230x230 at 0x7F28085DBF98>,\n",
              "  <PIL.Image.Image image mode=RGBA size=335x335 at 0x7F28085CF0F0>,\n",
              "  <PIL.Image.Image image mode=RGBA size=201x201 at 0x7F28085CF160>,\n",
              "  <PIL.Image.Image image mode=RGBA size=251x251 at 0x7F28085CF1D0>,\n",
              "  <PIL.Image.Image image mode=RGBA size=228x228 at 0x7F28085CF240>,\n",
              "  <PIL.Image.Image image mode=RGBA size=223x223 at 0x7F28085CF2B0>,\n",
              "  <PIL.Image.Image image mode=RGBA size=264x264 at 0x7F28085CF320>,\n",
              "  <PIL.Image.Image image mode=RGBA size=293x293 at 0x7F28085CF390>,\n",
              "  <PIL.Image.Image image mode=RGBA size=349x349 at 0x7F28085CF400>,\n",
              "  <PIL.Image.Image image mode=RGBA size=248x248 at 0x7F28085CF470>,\n",
              "  <PIL.Image.Image image mode=RGBA size=312x312 at 0x7F28085CF4E0>,\n",
              "  <PIL.Image.Image image mode=RGBA size=210x210 at 0x7F28085CF550>,\n",
              "  <PIL.Image.Image image mode=RGBA size=303x303 at 0x7F28085CF5C0>,\n",
              "  <PIL.Image.Image image mode=RGBA size=337x337 at 0x7F28085CF630>,\n",
              "  <PIL.Image.Image image mode=RGBA size=206x206 at 0x7F28085CF6A0>,\n",
              "  <PIL.Image.Image image mode=RGBA size=280x280 at 0x7F28085CF710>,\n",
              "  <PIL.Image.Image image mode=RGBA size=256x256 at 0x7F28085CF780>,\n",
              "  <PIL.Image.Image image mode=RGBA size=328x328 at 0x7F28085CF7F0>,\n",
              "  <PIL.Image.Image image mode=RGBA size=288x288 at 0x7F28085CF860>,\n",
              "  <PIL.Image.Image image mode=RGBA size=258x258 at 0x7F28085CF8D0>,\n",
              "  <PIL.Image.Image image mode=RGBA size=234x234 at 0x7F28085CF940>,\n",
              "  <PIL.Image.Image image mode=RGBA size=279x279 at 0x7F28085CF9B0>,\n",
              "  <PIL.Image.Image image mode=RGBA size=311x311 at 0x7F28085CFA20>,\n",
              "  <PIL.Image.Image image mode=RGBA size=276x276 at 0x7F28085CFA90>,\n",
              "  <PIL.Image.Image image mode=RGBA size=248x248 at 0x7F28085CFB00>,\n",
              "  <PIL.Image.Image image mode=RGBA size=336x336 at 0x7F28085CFB70>,\n",
              "  <PIL.Image.Image image mode=RGBA size=341x341 at 0x7F28085CFBE0>]]"
            ]
          },
          "metadata": {
            "tags": []
          },
          "execution_count": 75
        }
      ]
    },
    {
      "cell_type": "code",
      "metadata": {
        "id": "J-OPvwtVowMF",
        "colab_type": "code",
        "colab": {}
      },
      "source": [
        "sample_sub['file']=filelist\n",
        "allimgs_test=[]"
      ],
      "execution_count": 76,
      "outputs": []
    },
    {
      "cell_type": "markdown",
      "metadata": {
        "id": "QdlPer3yR_SU",
        "colab_type": "text"
      },
      "source": [
        "#Preprocessing the images in the test data"
      ]
    },
    {
      "cell_type": "code",
      "metadata": {
        "id": "J72mG0EppHZS",
        "colab_type": "code",
        "colab": {}
      },
      "source": [
        "allimgs_test=([im for li in imgs_test for im in li])"
      ],
      "execution_count": 77,
      "outputs": []
    },
    {
      "cell_type": "code",
      "metadata": {
        "id": "GQgm2uOkkNu1",
        "colab_type": "code",
        "colab": {
          "base_uri": "https://localhost:8080/",
          "height": 34
        },
        "outputId": "063701dc-980f-47d9-a5c3-cb2d1c8d087f"
      },
      "source": [
        "len(allimgs_test)"
      ],
      "execution_count": 78,
      "outputs": [
        {
          "output_type": "execute_result",
          "data": {
            "text/plain": [
              "794"
            ]
          },
          "metadata": {
            "tags": []
          },
          "execution_count": 78
        }
      ]
    },
    {
      "cell_type": "code",
      "metadata": {
        "id": "_9vzyyuApdpZ",
        "colab_type": "code",
        "colab": {}
      },
      "source": [
        "for im1 in range(0,len(allimgs_test)):\n",
        "  allimgs_test[im1]=allimgs_test[im1].resize((Scale, Scale))"
      ],
      "execution_count": 79,
      "outputs": []
    },
    {
      "cell_type": "code",
      "metadata": {
        "id": "MbTXchc-pvGB",
        "colab_type": "code",
        "colab": {}
      },
      "source": [
        "for im1 in range(0,len(allimgs_test)):\n",
        "    allimgs_test[im1]=np.asarray(allimgs_test[im1])"
      ],
      "execution_count": 80,
      "outputs": []
    },
    {
      "cell_type": "code",
      "metadata": {
        "id": "yx2pFjDaqH9r",
        "colab_type": "code",
        "colab": {}
      },
      "source": [
        "allimgs_test=np.asarray(allimgs_test,dtype='float32')"
      ],
      "execution_count": 81,
      "outputs": []
    },
    {
      "cell_type": "code",
      "metadata": {
        "id": "MF21S7hLqtmG",
        "colab_type": "code",
        "colab": {}
      },
      "source": [
        "allimgs_test=allimgs_test/255"
      ],
      "execution_count": 82,
      "outputs": []
    },
    {
      "cell_type": "markdown",
      "metadata": {
        "id": "ipbwjzWNSGQX",
        "colab_type": "text"
      },
      "source": [
        "#Predicting the images classes using loaded model."
      ]
    },
    {
      "cell_type": "code",
      "metadata": {
        "id": "RRbpmd5Kq4wm",
        "colab_type": "code",
        "colab": {
          "base_uri": "https://localhost:8080/",
          "height": 806
        },
        "outputId": "2d86b306-9f11-4332-f736-17ad32a23def"
      },
      "source": [
        "model_loaded.predict_classes(allimgs_test)"
      ],
      "execution_count": 83,
      "outputs": [
        {
          "output_type": "execute_result",
          "data": {
            "text/plain": [
              "array([ 5,  4, 10,  7,  6,  7,  4,  6,  5,  4,  2, 10,  4,  7,  8,  7,  8,\n",
              "        8, 10, 11,  5,  7, 11,  5,  7,  3, 11,  8,  8,  6,  5,  6,  5, 11,\n",
              "        6,  6,  7,  6,  5, 10,  5,  1, 10,  3,  3,  8,  4,  7,  6,  3, 10,\n",
              "        3,  6,  4,  7,  0,  0,  9, 10,  1,  9,  6,  7,  0,  4,  6,  3, 10,\n",
              "        8,  0,  6,  5,  1,  8,  5,  6,  8,  5,  6,  8,  7,  5,  1,  0,  8,\n",
              "       11,  6,  7,  5,  9,  4,  6,  6,  4,  8, 10,  6,  5, 10,  3,  8,  4,\n",
              "        4,  4,  4,  7,  8,  5,  0,  0,  9,  6, 11,  5,  7, 11,  0,  9,  7,\n",
              "        5,  7,  6,  6,  0,  9, 10,  3,  1,  4,  5,  5,  7,  5,  4,  7,  4,\n",
              "        6,  9,  5,  1,  6, 11, 10,  4,  5,  9, 10,  7,  7,  1,  8,  6,  6,\n",
              "        3,  5,  5, 10,  0,  6,  4,  9, 11,  6,  5, 11,  6,  8, 11, 11,  5,\n",
              "        1,  5,  5, 11,  3,  2,  0,  2,  6,  6, 10,  6,  6,  6,  5,  5,  5,\n",
              "        4,  4, 10,  8,  9,  6,  2,  5,  6,  9,  5,  1,  6,  0,  9,  9,  6,\n",
              "        0,  4, 10,  4, 11,  5,  4,  6,  3, 10,  0,  9,  4,  5, 10,  8,  6,\n",
              "        6, 10,  1,  5,  5,  1,  3,  4, 10,  5,  0,  0, 11,  6,  9,  6, 10,\n",
              "        5,  7, 10,  0,  3,  3, 10, 10,  5, 10,  6,  4,  4,  3,  5,  6,  1,\n",
              "        5, 10,  9,  0,  5,  6,  3, 11,  4,  3, 10,  4,  5,  8,  9, 10,  6,\n",
              "        5,  6, 10, 10,  0,  5,  8,  6,  8,  4,  3,  6,  3,  5,  5,  6,  6,\n",
              "        8,  5,  9, 10,  3,  3, 10, 10,  7,  4,  6, 11,  0,  5,  7, 10,  7,\n",
              "        7,  0,  8,  9,  1, 11,  6,  6,  7,  1,  9,  6,  6, 10,  7, 10,  9,\n",
              "        7, 10,  9,  6, 10,  8,  7, 10,  6,  9,  0,  0,  6,  7, 11,  2, 11,\n",
              "       10,  5,  9,  8,  6,  4,  3,  0, 11,  7,  6,  6,  9,  4,  6,  4,  6,\n",
              "        8,  5, 10, 10,  4,  6,  6, 10,  9,  0,  5,  8,  2, 10, 10,  5,  9,\n",
              "        8,  6,  5,  7,  5,  6,  1,  6,  9,  8,  6,  6,  8,  5,  5,  7,  6,\n",
              "        7,  8,  4,  8, 10,  4,  9, 11,  7,  3,  5,  4,  9,  6, 11, 10,  4,\n",
              "        8,  1,  4,  6, 10,  7,  6,  6,  7,  4, 10,  5,  9,  5,  4,  8, 10,\n",
              "        6,  2,  0, 10,  7,  0,  6, 10,  4,  6,  2, 10,  5,  6,  4,  5,  8,\n",
              "        2,  9,  9,  5,  5,  5, 10,  7, 10,  5,  5,  5, 11,  8,  7,  9,  7,\n",
              "       11,  0, 10,  5,  6,  9,  9,  6,  4,  6,  8, 10,  1,  7,  5, 10, 11,\n",
              "        8, 11,  5,  6,  1,  6,  1,  6,  9,  8,  7,  6, 10,  6,  1,  1,  6,\n",
              "        5, 10,  3, 10,  9,  5, 10,  4,  0,  3, 11,  9,  5,  6,  6, 10, 10,\n",
              "        6,  6, 10,  8,  6,  5,  4,  5,  3, 11, 10,  7,  4,  7,  8,  7,  9,\n",
              "       11,  6,  6,  2,  9,  8, 11,  7,  6,  5,  5,  6,  1,  0,  6,  6,  5,\n",
              "        8,  6,  8,  6,  6,  1,  2, 10,  0, 11,  5, 10,  0,  8,  0,  1,  6,\n",
              "       11, 10,  5,  5,  3,  3,  4,  8,  6, 10,  4,  6,  6,  6,  1,  4,  8,\n",
              "       11,  6,  7,  3,  0,  8,  6,  8,  7,  8, 11,  6,  4,  8,  5,  2,  5,\n",
              "        8,  8,  8,  3,  8,  4,  7, 10,  8,  5,  8,  3, 10,  5,  8, 10,  6,\n",
              "        4,  6,  9,  8,  5,  7,  4,  6,  0,  5,  6,  7, 11,  8,  1,  4,  8,\n",
              "        5,  8,  7,  5,  3,  6,  4, 10, 11,  9,  1,  9,  6, 10, 10,  4,  5,\n",
              "        3,  9,  5,  6,  5,  6,  9,  6,  4,  7,  6, 10,  8,  0,  4,  1,  5,\n",
              "        4,  5,  6,  6,  1,  8,  4,  2, 10,  0,  8,  5,  6,  9,  4,  5,  4,\n",
              "        7,  8, 10, 11,  5,  6,  6,  7,  6,  8,  9, 10, 10,  5,  7,  4,  7,\n",
              "        6,  6,  7,  6,  5,  5,  8,  9,  0,  9,  6,  6,  9,  3,  7,  6,  7,\n",
              "        8,  5,  6,  4,  1,  4,  7,  8,  7,  6,  0,  5,  7,  4, 10, 10, 11,\n",
              "        6,  4, 11,  2, 10,  0, 10,  7,  2,  5,  7,  9,  8,  9,  8,  2,  7,\n",
              "        6,  9, 11, 10,  0,  8,  6,  6,  9,  3,  9,  8,  4,  4,  9, 10,  7,\n",
              "        7,  5, 11, 11,  0,  4,  0,  6,  9,  5, 11,  8,  2,  0,  7,  9,  6,\n",
              "        5,  1,  6,  4, 10,  6,  4,  6,  7,  9,  7,  1])"
            ]
          },
          "metadata": {
            "tags": []
          },
          "execution_count": 83
        }
      ]
    },
    {
      "cell_type": "code",
      "metadata": {
        "id": "qQKytgc6xDtx",
        "colab_type": "code",
        "colab": {}
      },
      "source": [
        "predict_classes=model_loaded.predict_classes(allimgs_test)"
      ],
      "execution_count": 84,
      "outputs": []
    },
    {
      "cell_type": "code",
      "metadata": {
        "id": "Q41eXry-rBm_",
        "colab_type": "code",
        "colab": {}
      },
      "source": [
        "sample_sub['species']=predict_classes"
      ],
      "execution_count": 85,
      "outputs": []
    },
    {
      "cell_type": "code",
      "metadata": {
        "id": "-JvSjuLOYlun",
        "colab_type": "code",
        "colab": {
          "base_uri": "https://localhost:8080/",
          "height": 195
        },
        "outputId": "2015cdf3-d839-4bba-aa0a-16bc06f91371"
      },
      "source": [
        "sample_sub.head()"
      ],
      "execution_count": 86,
      "outputs": [
        {
          "output_type": "execute_result",
          "data": {
            "text/html": [
              "<div>\n",
              "<style scoped>\n",
              "    .dataframe tbody tr th:only-of-type {\n",
              "        vertical-align: middle;\n",
              "    }\n",
              "\n",
              "    .dataframe tbody tr th {\n",
              "        vertical-align: top;\n",
              "    }\n",
              "\n",
              "    .dataframe thead th {\n",
              "        text-align: right;\n",
              "    }\n",
              "</style>\n",
              "<table border=\"1\" class=\"dataframe\">\n",
              "  <thead>\n",
              "    <tr style=\"text-align: right;\">\n",
              "      <th></th>\n",
              "      <th>file</th>\n",
              "      <th>species</th>\n",
              "    </tr>\n",
              "  </thead>\n",
              "  <tbody>\n",
              "    <tr>\n",
              "      <th>0</th>\n",
              "      <td>0086a6340.png</td>\n",
              "      <td>5</td>\n",
              "    </tr>\n",
              "    <tr>\n",
              "      <th>1</th>\n",
              "      <td>003d61042.png</td>\n",
              "      <td>4</td>\n",
              "    </tr>\n",
              "    <tr>\n",
              "      <th>2</th>\n",
              "      <td>0021e90e4.png</td>\n",
              "      <td>10</td>\n",
              "    </tr>\n",
              "    <tr>\n",
              "      <th>3</th>\n",
              "      <td>007b3da8b.png</td>\n",
              "      <td>7</td>\n",
              "    </tr>\n",
              "    <tr>\n",
              "      <th>4</th>\n",
              "      <td>00d090cde.png</td>\n",
              "      <td>6</td>\n",
              "    </tr>\n",
              "  </tbody>\n",
              "</table>\n",
              "</div>"
            ],
            "text/plain": [
              "            file  species\n",
              "0  0086a6340.png        5\n",
              "1  003d61042.png        4\n",
              "2  0021e90e4.png       10\n",
              "3  007b3da8b.png        7\n",
              "4  00d090cde.png        6"
            ]
          },
          "metadata": {
            "tags": []
          },
          "execution_count": 86
        }
      ]
    },
    {
      "cell_type": "code",
      "metadata": {
        "id": "Byr6sNNjYt23",
        "colab_type": "code",
        "colab": {}
      },
      "source": [
        "sample_sub.replace({'species' : category_flowernames.keys},inplace=True)"
      ],
      "execution_count": 87,
      "outputs": []
    },
    {
      "cell_type": "markdown",
      "metadata": {
        "id": "pEGE107lSQ1d",
        "colab_type": "text"
      },
      "source": [
        "#Saving predicted images and their corresponding labels to the output file."
      ]
    },
    {
      "cell_type": "code",
      "metadata": {
        "id": "iwvEO3g4ZGgc",
        "colab_type": "code",
        "colab": {}
      },
      "source": [
        "sample_sub.to_csv('output_file.csv')"
      ],
      "execution_count": 88,
      "outputs": []
    },
    {
      "cell_type": "code",
      "metadata": {
        "id": "Ue9kGvM-b3Cc",
        "colab_type": "code",
        "colab": {}
      },
      "source": [
        "inv_map = {v: k for k, v in category_flowernames.items()}"
      ],
      "execution_count": 89,
      "outputs": []
    },
    {
      "cell_type": "code",
      "metadata": {
        "id": "NwBiF24vteSF",
        "colab_type": "code",
        "colab": {
          "base_uri": "https://localhost:8080/",
          "height": 218
        },
        "outputId": "e39c41d6-1919-4e3b-ef80-a6d597c47e6e"
      },
      "source": [
        "inv_map"
      ],
      "execution_count": 90,
      "outputs": [
        {
          "output_type": "execute_result",
          "data": {
            "text/plain": [
              "{'0': 'Cleavers',\n",
              " '1': 'Common wheat',\n",
              " '10': 'Small-flowered Cranesbill',\n",
              " '11': 'Shepherds Purse',\n",
              " '2': 'Black-grass',\n",
              " '3': 'Maize',\n",
              " '4': 'Fat Hen',\n",
              " '5': 'Common Chickweed',\n",
              " '6': 'Loose Silky-bent',\n",
              " '7': 'Sugar beet',\n",
              " '8': 'Scentless Mayweed',\n",
              " '9': 'Charlock'}"
            ]
          },
          "metadata": {
            "tags": []
          },
          "execution_count": 90
        }
      ]
    },
    {
      "cell_type": "code",
      "metadata": {
        "id": "eRtMcO3bs0ex",
        "colab_type": "code",
        "colab": {}
      },
      "source": [
        "sample_sub['species']=sample_sub['species'].map(inv_map)"
      ],
      "execution_count": 91,
      "outputs": []
    },
    {
      "cell_type": "code",
      "metadata": {
        "id": "7lhKBbuHtWTE",
        "colab_type": "code",
        "colab": {}
      },
      "source": [
        ""
      ],
      "execution_count": null,
      "outputs": []
    }
  ]
}