{
  "nbformat": 4,
  "nbformat_minor": 0,
  "metadata": {
    "colab": {
      "name": "Neural Network H5.ipynb",
      "provenance": [],
      "collapsed_sections": []
    },
    "kernelspec": {
      "name": "python3",
      "display_name": "Python 3"
    }
  },
  "cells": [
    {
      "cell_type": "markdown",
      "metadata": {
        "id": "tvr64XSyGwD8",
        "colab_type": "text"
      },
      "source": [
        "The Real Problem\n",
        "\n",
        "Recognizing multi-digit numbers in photographs captured at street level is an important\n",
        "\n",
        "component of modern-day map making. A classic example of a corpus of such street\n",
        "\n",
        "level photographs are Google’s Street View imagery comprised of hundreds of millions of\n",
        "\n",
        "geo-located 360-degree panoramic images. The ability to automatically transcribe an\n",
        "\n",
        "address number from a geo-located patch of pixels and associate the transcribed\n",
        "\n",
        "number with a known street address helps pinpoint, with a high degree of accuracy, the\n",
        "\n",
        "location of the building it represents.\n",
        "\n",
        "More broadly, recognizing numbers in photographs is a problem of interest to the optical\n",
        "\n",
        "character recognition community. While OCR on constrained domains like document\n",
        "\n",
        "processing is well studied, arbitrary multi-character text recognition in photographs is\n",
        "\n",
        "still highly challenging. This difficulty arises due to the wide variability in the visual\n",
        "\n",
        "appearance of text in the wild on account of a large range of fonts, colors, styles,\n",
        "\n",
        "orientations, and character arrangements. The recognition problem is further\n",
        "\n",
        "complicated by environmental factors such as lighting, shadows, specularities, and\n",
        "\n",
        "occlusions as well as by image acquisition factors such as resolution, motion, and focus\n",
        "\n",
        "blurs.\n",
        "\n",
        "In this project, we will use the dataset with images centered around a single digit (many of the\n",
        "\n",
        "images do contain some distractors at the sides). Although we are taking a sample of\n",
        "\n",
        "the data which is simpler, it is more complex than MNIST because of the distractors.\n",
        "\n",
        "The Street View House Numbers (SVHN) Dataset\n",
        "\n",
        "SVHN is a real-world image dataset for developing machine learning and object\n",
        "\n",
        "recognition algorithms with the minimal requirement on data formatting but comes from a\n",
        "\n",
        "significantly harder, unsolved, real-world problem (recognizing digits and numbers in\n",
        "\n",
        "natural scene images). SVHN is obtained from house numbers in Google Street View\n",
        "\n",
        "images."
      ]
    },
    {
      "cell_type": "markdown",
      "metadata": {
        "id": "jr9p6nw9NsHP",
        "colab_type": "text"
      },
      "source": [
        "Importing Libraries , Using Tensorflow version 2\n"
      ]
    },
    {
      "cell_type": "code",
      "metadata": {
        "id": "eESF7qM9mk7r",
        "colab_type": "code",
        "colab": {}
      },
      "source": [
        "%tensorflow_version 2.x"
      ],
      "execution_count": 0,
      "outputs": []
    },
    {
      "cell_type": "code",
      "metadata": {
        "id": "H1F4isEOlKk-",
        "colab_type": "code",
        "colab": {}
      },
      "source": [
        "import h5py\n",
        "import matplotlib.pyplot as plt\n",
        "import tensorflow as tf\n",
        "import numpy as np\n",
        "from sklearn.metrics import classification_report"
      ],
      "execution_count": 0,
      "outputs": []
    },
    {
      "cell_type": "code",
      "metadata": {
        "id": "ZmxsFUEjsZRg",
        "colab_type": "code",
        "outputId": "d74d0187-585a-4f11-8237-3330053e3f5a",
        "colab": {
          "base_uri": "https://localhost:8080/",
          "height": 36
        }
      },
      "source": [
        "tf.__version__"
      ],
      "execution_count": 3,
      "outputs": [
        {
          "output_type": "execute_result",
          "data": {
            "text/plain": [
              "'2.2.0-rc1'"
            ]
          },
          "metadata": {
            "tags": []
          },
          "execution_count": 3
        }
      ]
    },
    {
      "cell_type": "markdown",
      "metadata": {
        "id": "wuG8nPArN-Tn",
        "colab_type": "text"
      },
      "source": [
        "Mounting Google Drive and Reading Data from the file"
      ]
    },
    {
      "cell_type": "code",
      "metadata": {
        "id": "sd3kllBjlVDx",
        "colab_type": "code",
        "outputId": "c8b38d40-dd60-4f39-b1d4-6e214e09f353",
        "colab": {
          "base_uri": "https://localhost:8080/",
          "height": 36
        }
      },
      "source": [
        "from google.colab import drive\n",
        "drive.mount('/content/drive')"
      ],
      "execution_count": 4,
      "outputs": [
        {
          "output_type": "stream",
          "text": [
            "Drive already mounted at /content/drive; to attempt to forcibly remount, call drive.mount(\"/content/drive\", force_remount=True).\n"
          ],
          "name": "stdout"
        }
      ]
    },
    {
      "cell_type": "code",
      "metadata": {
        "id": "i8zPdGwUl2fx",
        "colab_type": "code",
        "outputId": "6e11d54c-89ea-4dee-c8a0-793855857746",
        "colab": {
          "base_uri": "https://localhost:8080/",
          "height": 74
        }
      },
      "source": [
        "abc=h5py.File('/content/drive/My Drive/Colab Notebooks/SVHN_single_grey1.h5')"
      ],
      "execution_count": 5,
      "outputs": [
        {
          "output_type": "stream",
          "text": [
            "/usr/local/lib/python3.6/dist-packages/ipykernel_launcher.py:1: H5pyDeprecationWarning: The default file mode will change to 'r' (read-only) in h5py 3.0. To suppress this warning, pass the mode you need to h5py.File(), or set the global default h5.get_config().default_file_mode, or set the environment variable H5PY_DEFAULT_READONLY=1. Available modes are: 'r', 'r+', 'w', 'w-'/'x', 'a'. See the docs for details.\n",
            "  \"\"\"Entry point for launching an IPython kernel.\n"
          ],
          "name": "stderr"
        }
      ]
    },
    {
      "cell_type": "code",
      "metadata": {
        "id": "TIfo_tr7bKrV",
        "colab_type": "code",
        "outputId": "fc3972fc-4ce2-42ab-bb88-a34ab47e7d15",
        "colab": {
          "base_uri": "https://localhost:8080/",
          "height": 36
        }
      },
      "source": [
        "list(abc.keys())"
      ],
      "execution_count": 6,
      "outputs": [
        {
          "output_type": "execute_result",
          "data": {
            "text/plain": [
              "['X_test', 'X_train', 'X_val', 'y_test', 'y_train', 'y_val']"
            ]
          },
          "metadata": {
            "tags": []
          },
          "execution_count": 6
        }
      ]
    },
    {
      "cell_type": "code",
      "metadata": {
        "id": "eg5WnEY_dkIc",
        "colab_type": "code",
        "outputId": "1c1eb453-3dd5-440a-e1f3-62f1dc1d00fd",
        "colab": {
          "base_uri": "https://localhost:8080/",
          "height": 36
        }
      },
      "source": [
        "print(\"Data shape and type of X_train are  {} and {}\".format(abc['X_train'].shape,abc['X_train'].dtype))"
      ],
      "execution_count": 7,
      "outputs": [
        {
          "output_type": "stream",
          "text": [
            "Data shape and type of X_train are  (42000, 32, 32) and float32\n"
          ],
          "name": "stdout"
        }
      ]
    },
    {
      "cell_type": "code",
      "metadata": {
        "id": "BxZK7A4ker55",
        "colab_type": "code",
        "outputId": "76f87c2e-34a5-41a7-dc44-3ebf3de4cb5d",
        "colab": {
          "base_uri": "https://localhost:8080/",
          "height": 36
        }
      },
      "source": [
        "print(\"Data shape and type of X_test are  {} and {}\".format(abc['X_test'].shape,abc['X_test'].dtype))"
      ],
      "execution_count": 8,
      "outputs": [
        {
          "output_type": "stream",
          "text": [
            "Data shape and type of X_test are  (18000, 32, 32) and float32\n"
          ],
          "name": "stdout"
        }
      ]
    },
    {
      "cell_type": "code",
      "metadata": {
        "id": "MBBJSvxBeyWK",
        "colab_type": "code",
        "outputId": "b4aee307-8b36-44ea-f1ff-1c9a2178646e",
        "colab": {
          "base_uri": "https://localhost:8080/",
          "height": 36
        }
      },
      "source": [
        "print(\"Data shape and type of y_test are  {} and {}\".format(abc['y_test'].shape,abc['y_test'].dtype))"
      ],
      "execution_count": 9,
      "outputs": [
        {
          "output_type": "stream",
          "text": [
            "Data shape and type of y_test are  (18000,) and uint8\n"
          ],
          "name": "stdout"
        }
      ]
    },
    {
      "cell_type": "code",
      "metadata": {
        "id": "bu2LNPcLfw00",
        "colab_type": "code",
        "outputId": "e33f2019-057e-4a8c-8a51-a27d8faf6a47",
        "colab": {
          "base_uri": "https://localhost:8080/",
          "height": 36
        }
      },
      "source": [
        "print(\"Data shape and type of y_train are  {} and {}\".format(abc['y_train'].shape,abc['y_train'].dtype))"
      ],
      "execution_count": 10,
      "outputs": [
        {
          "output_type": "stream",
          "text": [
            "Data shape and type of y_train are  (42000,) and uint8\n"
          ],
          "name": "stdout"
        }
      ]
    },
    {
      "cell_type": "code",
      "metadata": {
        "id": "g3TiDoE1e3kT",
        "colab_type": "code",
        "outputId": "64b117f2-3339-4e08-ba7a-a70e352eb44e",
        "colab": {
          "base_uri": "https://localhost:8080/",
          "height": 36
        }
      },
      "source": [
        "print(\"Data shape and type of y_val are  {} and {}\".format(abc['y_val'].shape,abc['y_val'].dtype))"
      ],
      "execution_count": 11,
      "outputs": [
        {
          "output_type": "stream",
          "text": [
            "Data shape and type of y_val are  (60000,) and uint8\n"
          ],
          "name": "stdout"
        }
      ]
    },
    {
      "cell_type": "code",
      "metadata": {
        "id": "yntH0tS5e_OD",
        "colab_type": "code",
        "outputId": "ed6bddd4-e540-46ac-d124-676c44f08343",
        "colab": {
          "base_uri": "https://localhost:8080/",
          "height": 36
        }
      },
      "source": [
        "print(\"Data shape and type of X_val are  {} and {}\".format(abc['X_val'].shape,abc['X_val'].dtype))"
      ],
      "execution_count": 12,
      "outputs": [
        {
          "output_type": "stream",
          "text": [
            "Data shape and type of X_val are  (60000, 32, 32) and float32\n"
          ],
          "name": "stdout"
        }
      ]
    },
    {
      "cell_type": "code",
      "metadata": {
        "id": "uiTi3LgebGRn",
        "colab_type": "code",
        "colab": {}
      },
      "source": [
        "X_train=abc['X_train']\n",
        "X_test=abc['X_test']\n",
        "y_train=abc['y_train']\n",
        "y_test=abc['y_test']\n",
        "X_val=abc['X_val']\n",
        "y_val=abc['y_val']"
      ],
      "execution_count": 0,
      "outputs": []
    },
    {
      "cell_type": "markdown",
      "metadata": {
        "id": "PkAJjZ33OSN4",
        "colab_type": "text"
      },
      "source": [
        "\n",
        "Observations:\n",
        "The provided data is in the HDF5 dataset format.\n",
        "The feature image is in 2 dimenstional format.\n",
        "Three Data sets are provided - Train, Test and Validation\n",
        "The feature should be converted to 1 dimensional format to predict through algorithmns. and then is performed in model definition"
      ]
    },
    {
      "cell_type": "markdown",
      "metadata": {
        "id": "0AHAa15pIKI3",
        "colab_type": "text"
      },
      "source": [
        "Printing first 30 images"
      ]
    },
    {
      "cell_type": "code",
      "metadata": {
        "id": "yvPsyEnRmHGo",
        "colab_type": "code",
        "outputId": "79f645a9-a454-4a8f-a3d1-293a74170227",
        "colab": {
          "base_uri": "https://localhost:8080/",
          "height": 1000
        }
      },
      "source": [
        "fig=plt.figure(figsize=(20,20))\n",
        "columns = 5\n",
        "rows = 5\n",
        "for i in range(1, columns*rows +1):\n",
        "    img = X_test[i]\n",
        "    fig.add_subplot(rows, columns, i)\n",
        "    plt.imshow(img, cmap='gray')\n",
        "plt.show()"
      ],
      "execution_count": 14,
      "outputs": [
        {
          "output_type": "display_data",
          "data": {
            "image/png": "[encoded data removed]",
            "text/plain": [
              "<Figure size 1440x1440 with 25 Axes>"
            ]
          },
          "metadata": {
            "tags": []
          }
        }
      ]
    },
    {
      "cell_type": "markdown",
      "metadata": {
        "id": "SihGLOyAITkn",
        "colab_type": "text"
      },
      "source": [
        "Priniting one image to validate"
      ]
    },
    {
      "cell_type": "code",
      "metadata": {
        "id": "OCZy0zVcmSUz",
        "colab_type": "code",
        "outputId": "bb51a55f-ef83-498b-e30c-9f7338eceeab",
        "colab": {
          "base_uri": "https://localhost:8080/",
          "height": 285
        }
      },
      "source": [
        "img = X_test[25]\n",
        "plt.imshow(img,cmap='gray')"
      ],
      "execution_count": 15,
      "outputs": [
        {
          "output_type": "execute_result",
          "data": {
            "text/plain": [
              "<matplotlib.image.AxesImage at 0x7fe87f16a0b8>"
            ]
          },
          "metadata": {
            "tags": []
          },
          "execution_count": 15
        },
        {
          "output_type": "display_data",
          "data": {
            "image/png": "[encoded data removed]",
            "text/plain": [
              "<Figure size 432x288 with 1 Axes>"
            ]
          },
          "metadata": {
            "tags": []
          }
        }
      ]
    },
    {
      "cell_type": "code",
      "metadata": {
        "id": "aEKaRQ2cpbBj",
        "colab_type": "code",
        "outputId": "a2040c5e-9eab-47a6-f57a-17827f454d78",
        "colab": {
          "base_uri": "https://localhost:8080/",
          "height": 93
        }
      },
      "source": [
        "y_test.value"
      ],
      "execution_count": 16,
      "outputs": [
        {
          "output_type": "stream",
          "text": [
            "/usr/local/lib/python3.6/dist-packages/ipykernel_launcher.py:1: H5pyDeprecationWarning: dataset.value has been deprecated. Use dataset[()] instead.\n",
            "  \"\"\"Entry point for launching an IPython kernel.\n"
          ],
          "name": "stderr"
        },
        {
          "output_type": "execute_result",
          "data": {
            "text/plain": [
              "array([1, 7, 2, ..., 7, 9, 2], dtype=uint8)"
            ]
          },
          "metadata": {
            "tags": []
          },
          "execution_count": 16
        }
      ]
    },
    {
      "cell_type": "code",
      "metadata": {
        "id": "OB7I6g8_pnJj",
        "colab_type": "code",
        "outputId": "b9a9bf80-8ad3-4a5c-b5de-657cc3713cfa",
        "colab": {
          "base_uri": "https://localhost:8080/",
          "height": 93
        }
      },
      "source": [
        "y_train.value"
      ],
      "execution_count": 17,
      "outputs": [
        {
          "output_type": "stream",
          "text": [
            "/usr/local/lib/python3.6/dist-packages/ipykernel_launcher.py:1: H5pyDeprecationWarning: dataset.value has been deprecated. Use dataset[()] instead.\n",
            "  \"\"\"Entry point for launching an IPython kernel.\n"
          ],
          "name": "stderr"
        },
        {
          "output_type": "execute_result",
          "data": {
            "text/plain": [
              "array([2, 6, 7, ..., 7, 0, 4], dtype=uint8)"
            ]
          },
          "metadata": {
            "tags": []
          },
          "execution_count": 17
        }
      ]
    },
    {
      "cell_type": "markdown",
      "metadata": {
        "id": "QNJq3tcYImUR",
        "colab_type": "text"
      },
      "source": [
        "Applying one hot encoding on labels, since model output will use sigmoid activation function and give generate mutiple probability output"
      ]
    },
    {
      "cell_type": "code",
      "metadata": {
        "id": "qIVW2gRItzj_",
        "colab_type": "code",
        "colab": {}
      },
      "source": [
        "y_test=tf.keras.utils.to_categorical(y_test, num_classes=10)\n",
        "y_train=tf.keras.utils.to_categorical(y_train, num_classes=10)\n",
        "y_val=tf.keras.utils.to_categorical(y_val,num_classes=10)"
      ],
      "execution_count": 0,
      "outputs": []
    },
    {
      "cell_type": "markdown",
      "metadata": {
        "id": "2k-10ICjMo51",
        "colab_type": "text"
      },
      "source": [
        "\n",
        "Implement and apply a deep neural network classifier including (feedforward neural network, RELU activations) (without batch Normalization)"
      ]
    },
    {
      "cell_type": "code",
      "metadata": {
        "id": "l4x-pAh6wd5f",
        "colab_type": "code",
        "colab": {}
      },
      "source": [
        "# Initialize Sequential model\n",
        "model = tf.keras.models.Sequential()\n",
        "\n",
        "# Reshape data from 2D to 1D -> 32*32 to 1024\n",
        "model.add(tf.keras.layers.Reshape((1024,),input_shape=(32,32,)))\n"
      ],
      "execution_count": 0,
      "outputs": []
    },
    {
      "cell_type": "code",
      "metadata": {
        "id": "wJHmffY9wsxy",
        "colab_type": "code",
        "colab": {}
      },
      "source": [
        "# Hidden layers\n",
        "model.add(tf.keras.layers.Dense(200, activation='relu', name='Layer_1'))\n",
        "model.add(tf.keras.layers.Dense(150, activation='relu', name='Layer_2'))\n",
        "\n",
        "# Dropout layer\n",
        "model.add(tf.keras.layers.Dropout(0.5))\n",
        "\n",
        "# Hidden layers\n",
        "model.add(tf.keras.layers.Dense(60, activation='relu', name='Layer_3'))\n",
        "model.add(tf.keras.layers.Dense(30, activation='relu', name='Layer_4'))\n",
        "\n",
        "\n",
        "\n",
        "# Dropout layer\n",
        "model.add(tf.keras.layers.Dropout(0.3))"
      ],
      "execution_count": 0,
      "outputs": []
    },
    {
      "cell_type": "markdown",
      "metadata": {
        "id": "2NIwL7VXbR7u",
        "colab_type": "text"
      },
      "source": [
        "Adding Softmax at final layer"
      ]
    },
    {
      "cell_type": "code",
      "metadata": {
        "id": "1EJVcnfdx0VX",
        "colab_type": "code",
        "colab": {}
      },
      "source": [
        "model.add(tf.keras.layers.Dense(10, activation='softmax', name='Output'))"
      ],
      "execution_count": 0,
      "outputs": []
    },
    {
      "cell_type": "code",
      "metadata": {
        "id": "tmkVlKe5V9aQ",
        "colab_type": "code",
        "colab": {}
      },
      "source": [
        "adam_opt=tf.keras.optimizers.Adam(learning_rate=0.001,epsilon=1e-06,beta_1=0.9)\n"
      ],
      "execution_count": 0,
      "outputs": []
    },
    {
      "cell_type": "code",
      "metadata": {
        "id": "LYEBOboJx1yy",
        "colab_type": "code",
        "colab": {}
      },
      "source": [
        "model.compile(optimizer=adam_opt, loss='categorical_crossentropy', metrics=['accuracy'])"
      ],
      "execution_count": 0,
      "outputs": []
    },
    {
      "cell_type": "code",
      "metadata": {
        "id": "SgEPSIFcx5K8",
        "colab_type": "code",
        "outputId": "4d35a8de-6423-445f-d80b-4f50eeae6884",
        "colab": {
          "base_uri": "https://localhost:8080/",
          "height": 466
        }
      },
      "source": [
        "model.summary()"
      ],
      "execution_count": 24,
      "outputs": [
        {
          "output_type": "stream",
          "text": [
            "Model: \"sequential\"\n",
            "_________________________________________________________________\n",
            "Layer (type)                 Output Shape              Param #   \n",
            "=================================================================\n",
            "reshape (Reshape)            (None, 1024)              0         \n",
            "_________________________________________________________________\n",
            "Layer_1 (Dense)              (None, 200)               205000    \n",
            "_________________________________________________________________\n",
            "Layer_2 (Dense)              (None, 150)               30150     \n",
            "_________________________________________________________________\n",
            "dropout (Dropout)            (None, 150)               0         \n",
            "_________________________________________________________________\n",
            "Layer_3 (Dense)              (None, 60)                9060      \n",
            "_________________________________________________________________\n",
            "Layer_4 (Dense)              (None, 30)                1830      \n",
            "_________________________________________________________________\n",
            "dropout_1 (Dropout)          (None, 30)                0         \n",
            "_________________________________________________________________\n",
            "Output (Dense)               (None, 10)                310       \n",
            "=================================================================\n",
            "Total params: 246,350\n",
            "Trainable params: 246,350\n",
            "Non-trainable params: 0\n",
            "_________________________________________________________________\n"
          ],
          "name": "stdout"
        }
      ]
    },
    {
      "cell_type": "markdown",
      "metadata": {
        "id": "vma_zKu1IAgL",
        "colab_type": "text"
      },
      "source": [
        "Model Evaluation using Adam optimizer"
      ]
    },
    {
      "cell_type": "code",
      "metadata": {
        "id": "_zLiKqXQx9t4",
        "colab_type": "code",
        "outputId": "5d0f0a73-7a23-4d1e-d1cf-b2625118f2c6",
        "colab": {
          "base_uri": "https://localhost:8080/",
          "height": 1000
        }
      },
      "source": [
        "model.fit(X_train, y_train, epochs=50, batch_size=200,validation_data=(np.array(X_test), y_test),shuffle=False)"
      ],
      "execution_count": 25,
      "outputs": [
        {
          "output_type": "stream",
          "text": [
            "WARNING:tensorflow:Keras is training/fitting/evaluating on array-like data. Keras may not be optimized for this format, so if your input data format is supported by TensorFlow I/O (https://github.com/tensorflow/io) we recommend using that to load a Dataset instead.\n",
            "Epoch 1/50\n",
            "210/210 [==============================] - 3s 17ms/step - loss: 5.2831 - accuracy: 0.0998 - val_loss: 2.3025 - val_accuracy: 0.1010\n",
            "Epoch 2/50\n",
            "210/210 [==============================] - 3s 15ms/step - loss: 2.3028 - accuracy: 0.0993 - val_loss: 2.3026 - val_accuracy: 0.0982\n",
            "Epoch 3/50\n",
            "210/210 [==============================] - 2s 11ms/step - loss: 2.3028 - accuracy: 0.0995 - val_loss: 2.3025 - val_accuracy: 0.0984\n",
            "Epoch 4/50\n",
            "210/210 [==============================] - 2s 12ms/step - loss: 2.3027 - accuracy: 0.1003 - val_loss: 2.3027 - val_accuracy: 0.0954\n",
            "Epoch 5/50\n",
            "210/210 [==============================] - 2s 12ms/step - loss: 2.3028 - accuracy: 0.1011 - val_loss: 2.3027 - val_accuracy: 0.0955\n",
            "Epoch 6/50\n",
            "210/210 [==============================] - 2s 12ms/step - loss: 2.3033 - accuracy: 0.1011 - val_loss: 2.3027 - val_accuracy: 0.0958\n",
            "Epoch 7/50\n",
            "210/210 [==============================] - 2s 12ms/step - loss: 2.3028 - accuracy: 0.1016 - val_loss: 2.3027 - val_accuracy: 0.0956\n",
            "Epoch 8/50\n",
            "210/210 [==============================] - 2s 12ms/step - loss: 2.3051 - accuracy: 0.1016 - val_loss: 2.3028 - val_accuracy: 0.0954\n",
            "Epoch 9/50\n",
            "210/210 [==============================] - 2s 11ms/step - loss: 2.3027 - accuracy: 0.1019 - val_loss: 2.3030 - val_accuracy: 0.0953\n",
            "Epoch 10/50\n",
            "210/210 [==============================] - 2s 12ms/step - loss: 2.3027 - accuracy: 0.1019 - val_loss: 2.3027 - val_accuracy: 0.0955\n",
            "Epoch 11/50\n",
            "210/210 [==============================] - 2s 12ms/step - loss: 2.3026 - accuracy: 0.1019 - val_loss: 2.3027 - val_accuracy: 0.0954\n",
            "Epoch 12/50\n",
            "210/210 [==============================] - 2s 11ms/step - loss: 2.3026 - accuracy: 0.1019 - val_loss: 2.3027 - val_accuracy: 0.0954\n",
            "Epoch 13/50\n",
            "210/210 [==============================] - 2s 12ms/step - loss: 2.3027 - accuracy: 0.1019 - val_loss: 2.3027 - val_accuracy: 0.0954\n",
            "Epoch 14/50\n",
            "210/210 [==============================] - 2s 11ms/step - loss: 2.3027 - accuracy: 0.1019 - val_loss: 2.3027 - val_accuracy: 0.0954\n",
            "Epoch 15/50\n",
            "210/210 [==============================] - 2s 12ms/step - loss: 2.3037 - accuracy: 0.1021 - val_loss: 2.3121 - val_accuracy: 0.0954\n",
            "Epoch 16/50\n",
            "210/210 [==============================] - 2s 11ms/step - loss: 2.3053 - accuracy: 0.1015 - val_loss: 2.3027 - val_accuracy: 0.0955\n",
            "Epoch 17/50\n",
            "210/210 [==============================] - 2s 12ms/step - loss: 2.3030 - accuracy: 0.1015 - val_loss: 2.3028 - val_accuracy: 0.0955\n",
            "Epoch 18/50\n",
            "210/210 [==============================] - 2s 12ms/step - loss: 2.3026 - accuracy: 0.1019 - val_loss: 2.3027 - val_accuracy: 0.0955\n",
            "Epoch 19/50\n",
            "210/210 [==============================] - 2s 12ms/step - loss: 2.3027 - accuracy: 0.1019 - val_loss: 2.3027 - val_accuracy: 0.0955\n",
            "Epoch 20/50\n",
            "210/210 [==============================] - 3s 12ms/step - loss: 2.3026 - accuracy: 0.1019 - val_loss: 2.3028 - val_accuracy: 0.0955\n",
            "Epoch 21/50\n",
            "210/210 [==============================] - 2s 12ms/step - loss: 2.3027 - accuracy: 0.1019 - val_loss: 2.3028 - val_accuracy: 0.0955\n",
            "Epoch 22/50\n",
            "210/210 [==============================] - 2s 12ms/step - loss: 2.3027 - accuracy: 0.1019 - val_loss: 2.3028 - val_accuracy: 0.0955\n",
            "Epoch 23/50\n",
            "210/210 [==============================] - 2s 12ms/step - loss: 2.3027 - accuracy: 0.1019 - val_loss: 2.3028 - val_accuracy: 0.0955\n",
            "Epoch 24/50\n",
            "210/210 [==============================] - 2s 12ms/step - loss: 2.3027 - accuracy: 0.1019 - val_loss: 2.3028 - val_accuracy: 0.0955\n",
            "Epoch 25/50\n",
            "210/210 [==============================] - 2s 12ms/step - loss: 2.3027 - accuracy: 0.1019 - val_loss: 2.3028 - val_accuracy: 0.0955\n",
            "Epoch 26/50\n",
            "210/210 [==============================] - 2s 12ms/step - loss: 2.3027 - accuracy: 0.1019 - val_loss: 2.3028 - val_accuracy: 0.0955\n",
            "Epoch 27/50\n",
            "210/210 [==============================] - 2s 12ms/step - loss: 2.3027 - accuracy: 0.1019 - val_loss: 2.3028 - val_accuracy: 0.0955\n",
            "Epoch 28/50\n",
            "210/210 [==============================] - 2s 12ms/step - loss: 2.3027 - accuracy: 0.1019 - val_loss: 2.3028 - val_accuracy: 0.0955\n",
            "Epoch 29/50\n",
            "210/210 [==============================] - 3s 12ms/step - loss: 2.3027 - accuracy: 0.1019 - val_loss: 2.3028 - val_accuracy: 0.0955\n",
            "Epoch 30/50\n",
            "210/210 [==============================] - 2s 12ms/step - loss: 2.3027 - accuracy: 0.1019 - val_loss: 2.3028 - val_accuracy: 0.0955\n",
            "Epoch 31/50\n",
            "210/210 [==============================] - 2s 12ms/step - loss: 2.3027 - accuracy: 0.1019 - val_loss: 2.3028 - val_accuracy: 0.0955\n",
            "Epoch 32/50\n",
            "210/210 [==============================] - 3s 12ms/step - loss: 2.3027 - accuracy: 0.1019 - val_loss: 2.3028 - val_accuracy: 0.0955\n",
            "Epoch 33/50\n",
            "210/210 [==============================] - 2s 12ms/step - loss: 2.3027 - accuracy: 0.1019 - val_loss: 2.3028 - val_accuracy: 0.0955\n",
            "Epoch 34/50\n",
            "210/210 [==============================] - 2s 12ms/step - loss: 2.3027 - accuracy: 0.1019 - val_loss: 2.3028 - val_accuracy: 0.0955\n",
            "Epoch 35/50\n",
            "210/210 [==============================] - 2s 11ms/step - loss: 2.3027 - accuracy: 0.1019 - val_loss: 2.3028 - val_accuracy: 0.0955\n",
            "Epoch 36/50\n",
            "210/210 [==============================] - 2s 12ms/step - loss: 2.3027 - accuracy: 0.1019 - val_loss: 2.3028 - val_accuracy: 0.0955\n",
            "Epoch 37/50\n",
            "210/210 [==============================] - 2s 11ms/step - loss: 2.3027 - accuracy: 0.1019 - val_loss: 2.3028 - val_accuracy: 0.0955\n",
            "Epoch 38/50\n",
            "210/210 [==============================] - 3s 12ms/step - loss: 2.3027 - accuracy: 0.1019 - val_loss: 2.3028 - val_accuracy: 0.0955\n",
            "Epoch 39/50\n",
            "210/210 [==============================] - 3s 12ms/step - loss: 2.3027 - accuracy: 0.1019 - val_loss: 2.3028 - val_accuracy: 0.0955\n",
            "Epoch 40/50\n",
            "210/210 [==============================] - 3s 13ms/step - loss: 2.3027 - accuracy: 0.1019 - val_loss: 2.3028 - val_accuracy: 0.0955\n",
            "Epoch 41/50\n",
            "210/210 [==============================] - 2s 12ms/step - loss: 2.3027 - accuracy: 0.1019 - val_loss: 2.3028 - val_accuracy: 0.0955\n",
            "Epoch 42/50\n",
            "210/210 [==============================] - 2s 12ms/step - loss: 2.3027 - accuracy: 0.1019 - val_loss: 2.3028 - val_accuracy: 0.0955\n",
            "Epoch 43/50\n",
            "210/210 [==============================] - 2s 11ms/step - loss: 2.3027 - accuracy: 0.1019 - val_loss: 2.3028 - val_accuracy: 0.0955\n",
            "Epoch 44/50\n",
            "210/210 [==============================] - 2s 12ms/step - loss: 2.3027 - accuracy: 0.1019 - val_loss: 2.3028 - val_accuracy: 0.0955\n",
            "Epoch 45/50\n",
            "210/210 [==============================] - 3s 12ms/step - loss: 2.3027 - accuracy: 0.1019 - val_loss: 2.3028 - val_accuracy: 0.0955\n",
            "Epoch 46/50\n",
            "210/210 [==============================] - 2s 12ms/step - loss: 2.3027 - accuracy: 0.1019 - val_loss: 2.3028 - val_accuracy: 0.0955\n",
            "Epoch 47/50\n",
            "210/210 [==============================] - 2s 12ms/step - loss: 2.3027 - accuracy: 0.1019 - val_loss: 2.3028 - val_accuracy: 0.0955\n",
            "Epoch 48/50\n",
            "210/210 [==============================] - 2s 12ms/step - loss: 2.3027 - accuracy: 0.1019 - val_loss: 2.3028 - val_accuracy: 0.0955\n",
            "Epoch 49/50\n",
            "210/210 [==============================] - 2s 12ms/step - loss: 2.3027 - accuracy: 0.1019 - val_loss: 2.3028 - val_accuracy: 0.0955\n",
            "Epoch 50/50\n",
            "210/210 [==============================] - 2s 12ms/step - loss: 2.3027 - accuracy: 0.1019 - val_loss: 2.3028 - val_accuracy: 0.0955\n"
          ],
          "name": "stdout"
        },
        {
          "output_type": "execute_result",
          "data": {
            "text/plain": [
              "<tensorflow.python.keras.callbacks.History at 0x7fe877610908>"
            ]
          },
          "metadata": {
            "tags": []
          },
          "execution_count": 25
        }
      ]
    },
    {
      "cell_type": "code",
      "metadata": {
        "id": "unQh9loFrUcJ",
        "colab_type": "code",
        "colab": {
          "base_uri": "https://localhost:8080/",
          "height": 74
        },
        "outputId": "c02345db-c6d7-4c90-efa9-e032657fd753"
      },
      "source": [
        "loss,accuracyscore=model.evaluate(X_test,y_test)"
      ],
      "execution_count": 26,
      "outputs": [
        {
          "output_type": "stream",
          "text": [
            "WARNING:tensorflow:Keras is training/fitting/evaluating on array-like data. Keras may not be optimized for this format, so if your input data format is supported by TensorFlow I/O (https://github.com/tensorflow/io) we recommend using that to load a Dataset instead.\n",
            "563/563 [==============================] - 1s 3ms/step - loss: 2.3028 - accuracy: 0.0955\n"
          ],
          "name": "stdout"
        }
      ]
    },
    {
      "cell_type": "code",
      "metadata": {
        "id": "FAqNRxk6rf9Q",
        "colab_type": "code",
        "colab": {
          "base_uri": "https://localhost:8080/",
          "height": 36
        },
        "outputId": "0cc0aa63-5c40-476a-a526-31ef48cd5876"
      },
      "source": [
        "print(\"On validation data loss and accuracy is {} and {}\".format(loss,accuracyscore))"
      ],
      "execution_count": 27,
      "outputs": [
        {
          "output_type": "stream",
          "text": [
            "On validation data loss and accuracy is 2.302759885787964 and 0.09549999982118607\n"
          ],
          "name": "stdout"
        }
      ]
    },
    {
      "cell_type": "code",
      "metadata": {
        "id": "HlxuAsMsrjIL",
        "colab_type": "code",
        "colab": {
          "base_uri": "https://localhost:8080/",
          "height": 112
        },
        "outputId": "9cc4a71a-179e-4777-ecd7-33d28abdf62d"
      },
      "source": [
        "predict_y_test=model.predict_classes(X_test)"
      ],
      "execution_count": 28,
      "outputs": [
        {
          "output_type": "stream",
          "text": [
            "WARNING:tensorflow:From <ipython-input-28-9ad6c0cfd848>:1: Sequential.predict_classes (from tensorflow.python.keras.engine.sequential) is deprecated and will be removed after 2021-01-01.\n",
            "Instructions for updating:\n",
            "Please use instead:* `np.argmax(model.predict(x), axis=-1)`,   if your model does multi-class classification   (e.g. if it uses a `softmax` last-layer activation).* `(model.predict(x) > 0.5).astype(\"int32\")`,   if your model does binary classification   (e.g. if it uses a `sigmoid` last-layer activation).\n",
            "WARNING:tensorflow:Keras is training/fitting/evaluating on array-like data. Keras may not be optimized for this format, so if your input data format is supported by TensorFlow I/O (https://github.com/tensorflow/io) we recommend using that to load a Dataset instead.\n"
          ],
          "name": "stdout"
        }
      ]
    },
    {
      "cell_type": "code",
      "metadata": {
        "id": "n7jTJHKQrnSs",
        "colab_type": "code",
        "colab": {
          "base_uri": "https://localhost:8080/",
          "height": 36
        },
        "outputId": "df22fcaf-e1c6-43ac-e75a-00eebe055489"
      },
      "source": [
        "predict_y_test.shape"
      ],
      "execution_count": 29,
      "outputs": [
        {
          "output_type": "execute_result",
          "data": {
            "text/plain": [
              "(18000,)"
            ]
          },
          "metadata": {
            "tags": []
          },
          "execution_count": 29
        }
      ]
    },
    {
      "cell_type": "code",
      "metadata": {
        "id": "cmtM0oDgrr7V",
        "colab_type": "code",
        "colab": {
          "base_uri": "https://localhost:8080/",
          "height": 36
        },
        "outputId": "1beb7356-5933-4ba0-c20e-cdf276a9ae0d"
      },
      "source": [
        "predict_y_test"
      ],
      "execution_count": 30,
      "outputs": [
        {
          "output_type": "execute_result",
          "data": {
            "text/plain": [
              "array([3, 3, 3, ..., 3, 3, 3])"
            ]
          },
          "metadata": {
            "tags": []
          },
          "execution_count": 30
        }
      ]
    },
    {
      "cell_type": "code",
      "metadata": {
        "id": "ISxnpwdjsp8i",
        "colab_type": "code",
        "colab": {}
      },
      "source": [
        "y_test_index=np.argmax(y_test,axis=1)"
      ],
      "execution_count": 0,
      "outputs": []
    },
    {
      "cell_type": "code",
      "metadata": {
        "id": "nV0kr4uwrwW9",
        "colab_type": "code",
        "colab": {
          "base_uri": "https://localhost:8080/",
          "height": 392
        },
        "outputId": "96e6527c-7bae-4b99-b893-fbc2347dc2a9"
      },
      "source": [
        "# On Test data\n",
        "print(classification_report(y_test_index,predict_y_test))"
      ],
      "execution_count": 32,
      "outputs": [
        {
          "output_type": "stream",
          "text": [
            "              precision    recall  f1-score   support\n",
            "\n",
            "           0       0.00      0.00      0.00      1814\n",
            "           1       0.00      0.00      0.00      1828\n",
            "           2       0.00      0.00      0.00      1803\n",
            "           3       0.10      1.00      0.17      1719\n",
            "           4       0.00      0.00      0.00      1812\n",
            "           5       0.00      0.00      0.00      1768\n",
            "           6       0.00      0.00      0.00      1832\n",
            "           7       0.00      0.00      0.00      1808\n",
            "           8       0.00      0.00      0.00      1812\n",
            "           9       0.00      0.00      0.00      1804\n",
            "\n",
            "    accuracy                           0.10     18000\n",
            "   macro avg       0.01      0.10      0.02     18000\n",
            "weighted avg       0.01      0.10      0.02     18000\n",
            "\n"
          ],
          "name": "stdout"
        },
        {
          "output_type": "stream",
          "text": [
            "/usr/local/lib/python3.6/dist-packages/sklearn/metrics/_classification.py:1272: UndefinedMetricWarning: Precision and F-score are ill-defined and being set to 0.0 in labels with no predicted samples. Use `zero_division` parameter to control this behavior.\n",
            "  _warn_prf(average, modifier, msg_start, len(result))\n"
          ],
          "name": "stderr"
        }
      ]
    },
    {
      "cell_type": "code",
      "metadata": {
        "id": "SY_jrap0LDL8",
        "colab_type": "code",
        "colab": {
          "base_uri": "https://localhost:8080/",
          "height": 56
        },
        "outputId": "c41bd6b3-12d2-4558-ee3d-60da32ead221"
      },
      "source": [
        "predict_y_train_adam=model.predict_classes(X_train)"
      ],
      "execution_count": 34,
      "outputs": [
        {
          "output_type": "stream",
          "text": [
            "WARNING:tensorflow:Keras is training/fitting/evaluating on array-like data. Keras may not be optimized for this format, so if your input data format is supported by TensorFlow I/O (https://github.com/tensorflow/io) we recommend using that to load a Dataset instead.\n"
          ],
          "name": "stdout"
        }
      ]
    },
    {
      "cell_type": "code",
      "metadata": {
        "id": "UKpqeL2SLDYK",
        "colab_type": "code",
        "colab": {}
      },
      "source": [
        "y_train_index_adam=np.argmax(y_train,axis=1)"
      ],
      "execution_count": 0,
      "outputs": []
    },
    {
      "cell_type": "code",
      "metadata": {
        "id": "2Qz3N5cdLdNm",
        "colab_type": "code",
        "colab": {
          "base_uri": "https://localhost:8080/",
          "height": 392
        },
        "outputId": "8a4df962-a703-4ba1-dec4-ce5fd9f4c606"
      },
      "source": [
        "#On Train Data\n",
        "print(classification_report(y_train_index_adam,predict_y_train_adam))"
      ],
      "execution_count": 36,
      "outputs": [
        {
          "output_type": "stream",
          "text": [
            "              precision    recall  f1-score   support\n",
            "\n",
            "           0       0.00      0.00      0.00      4186\n",
            "           1       0.00      0.00      0.00      4172\n",
            "           2       0.00      0.00      0.00      4197\n",
            "           3       0.10      1.00      0.19      4281\n",
            "           4       0.00      0.00      0.00      4188\n",
            "           5       0.00      0.00      0.00      4232\n",
            "           6       0.00      0.00      0.00      4168\n",
            "           7       0.00      0.00      0.00      4192\n",
            "           8       0.00      0.00      0.00      4188\n",
            "           9       0.00      0.00      0.00      4196\n",
            "\n",
            "    accuracy                           0.10     42000\n",
            "   macro avg       0.01      0.10      0.02     42000\n",
            "weighted avg       0.01      0.10      0.02     42000\n",
            "\n"
          ],
          "name": "stdout"
        },
        {
          "output_type": "stream",
          "text": [
            "/usr/local/lib/python3.6/dist-packages/sklearn/metrics/_classification.py:1272: UndefinedMetricWarning: Precision and F-score are ill-defined and being set to 0.0 in labels with no predicted samples. Use `zero_division` parameter to control this behavior.\n",
            "  _warn_prf(average, modifier, msg_start, len(result))\n"
          ],
          "name": "stderr"
        }
      ]
    },
    {
      "cell_type": "markdown",
      "metadata": {
        "id": "xz5bZ5ReH0Sg",
        "colab_type": "text"
      },
      "source": [
        "Model Evaluation using SGD optimizer\n"
      ]
    },
    {
      "cell_type": "markdown",
      "metadata": {
        "id": "2Q5jSR6vcxhc",
        "colab_type": "text"
      },
      "source": [
        "Implement and apply a deep neural network classifier including (feedforward neural network, RELU activations) (with batch Normalization)"
      ]
    },
    {
      "cell_type": "code",
      "metadata": {
        "id": "3ralu2rxgGMg",
        "colab_type": "code",
        "colab": {}
      },
      "source": [
        "# Initialize Sequential model\n",
        "model1 = tf.keras.models.Sequential()\n",
        "\n",
        "# Reshape data from 2D to 1D -> 32*32 to 1024\n",
        "model1.add(tf.keras.layers.Reshape((1024,),input_shape=(32,32,)))\n",
        "\n",
        "model1.add(tf.keras.layers.BatchNormalization(axis=1))\n"
      ],
      "execution_count": 0,
      "outputs": []
    },
    {
      "cell_type": "code",
      "metadata": {
        "id": "zckwiSvCd-E3",
        "colab_type": "code",
        "colab": {}
      },
      "source": [
        "\n",
        "\n",
        "# Hidden layers\n",
        "model1.add(tf.keras.layers.Dense(200, activation='relu', name='Layer_1'))\n",
        "model1.add(tf.keras.layers.Dense(150, activation='relu', name='Layer_2'))\n",
        "\n",
        "# Dropout layer\n",
        "model1.add(tf.keras.layers.BatchNormalization())\n",
        "model1.add(tf.keras.layers.Dropout(0.5))\n",
        "\n",
        "# Hidden layers\n",
        "model1.add(tf.keras.layers.Dense(60, activation='relu', name='Layer_3'))\n",
        "model1.add(tf.keras.layers.Dense(30, activation='relu', name='Layer_4'))\n",
        "\n",
        "\n",
        "\n",
        "# Dropout layer\n",
        "model1.add(tf.keras.layers.BatchNormalization())\n",
        "model1.add(tf.keras.layers.Dropout(0.3))\n",
        "\n",
        "\n",
        "model1.add(tf.keras.layers.Dense(10, activation='softmax', name='Output'))"
      ],
      "execution_count": 0,
      "outputs": []
    },
    {
      "cell_type": "code",
      "metadata": {
        "id": "2oEBM-qweNfC",
        "colab_type": "code",
        "colab": {}
      },
      "source": [
        "sgd_opt=tf.keras.optimizers.SGD()"
      ],
      "execution_count": 0,
      "outputs": []
    },
    {
      "cell_type": "code",
      "metadata": {
        "id": "K6LNWc-PyLT6",
        "colab_type": "code",
        "colab": {}
      },
      "source": [
        "model1.compile(optimizer=sgd_opt,loss='categorical_crossentropy',metrics=['accuracy'])"
      ],
      "execution_count": 0,
      "outputs": []
    },
    {
      "cell_type": "code",
      "metadata": {
        "id": "FxViZmbBe0MC",
        "colab_type": "code",
        "colab": {
          "base_uri": "https://localhost:8080/",
          "height": 578
        },
        "outputId": "d5fb582e-da57-484a-fad1-47b572bc9760"
      },
      "source": [
        "model1.summary()"
      ],
      "execution_count": 41,
      "outputs": [
        {
          "output_type": "stream",
          "text": [
            "Model: \"sequential_1\"\n",
            "_________________________________________________________________\n",
            "Layer (type)                 Output Shape              Param #   \n",
            "=================================================================\n",
            "reshape_1 (Reshape)          (None, 1024)              0         \n",
            "_________________________________________________________________\n",
            "batch_normalization (BatchNo (None, 1024)              4096      \n",
            "_________________________________________________________________\n",
            "Layer_1 (Dense)              (None, 200)               205000    \n",
            "_________________________________________________________________\n",
            "Layer_2 (Dense)              (None, 150)               30150     \n",
            "_________________________________________________________________\n",
            "batch_normalization_1 (Batch (None, 150)               600       \n",
            "_________________________________________________________________\n",
            "dropout_2 (Dropout)          (None, 150)               0         \n",
            "_________________________________________________________________\n",
            "Layer_3 (Dense)              (None, 60)                9060      \n",
            "_________________________________________________________________\n",
            "Layer_4 (Dense)              (None, 30)                1830      \n",
            "_________________________________________________________________\n",
            "batch_normalization_2 (Batch (None, 30)                120       \n",
            "_________________________________________________________________\n",
            "dropout_3 (Dropout)          (None, 30)                0         \n",
            "_________________________________________________________________\n",
            "Output (Dense)               (None, 10)                310       \n",
            "=================================================================\n",
            "Total params: 251,166\n",
            "Trainable params: 248,758\n",
            "Non-trainable params: 2,408\n",
            "_________________________________________________________________\n"
          ],
          "name": "stdout"
        }
      ]
    },
    {
      "cell_type": "code",
      "metadata": {
        "id": "hLe1X9KhuwZI",
        "colab_type": "code",
        "colab": {
          "base_uri": "https://localhost:8080/",
          "height": 1000
        },
        "outputId": "06b4a1b8-63c1-4303-d9ae-a565b906d540"
      },
      "source": [
        "model1.fit(X_train, y_train, epochs=50, batch_size=200,validation_data=(np.array(X_val), y_val),shuffle=False)"
      ],
      "execution_count": 42,
      "outputs": [
        {
          "output_type": "stream",
          "text": [
            "WARNING:tensorflow:Keras is training/fitting/evaluating on array-like data. Keras may not be optimized for this format, so if your input data format is supported by TensorFlow I/O (https://github.com/tensorflow/io) we recommend using that to load a Dataset instead.\n",
            "Epoch 1/50\n",
            "210/210 [==============================] - 4s 20ms/step - loss: 2.6709 - accuracy: 0.1255 - val_loss: 2.1709 - val_accuracy: 0.1975\n",
            "Epoch 2/50\n",
            "210/210 [==============================] - 4s 19ms/step - loss: 2.2814 - accuracy: 0.1841 - val_loss: 1.9609 - val_accuracy: 0.3036\n",
            "Epoch 3/50\n",
            "210/210 [==============================] - 4s 19ms/step - loss: 2.0941 - accuracy: 0.2412 - val_loss: 1.8002 - val_accuracy: 0.3978\n",
            "Epoch 4/50\n",
            "210/210 [==============================] - 4s 19ms/step - loss: 1.9408 - accuracy: 0.2970 - val_loss: 1.6679 - val_accuracy: 0.4674\n",
            "Epoch 5/50\n",
            "210/210 [==============================] - 4s 19ms/step - loss: 1.8291 - accuracy: 0.3473 - val_loss: 1.5534 - val_accuracy: 0.5278\n",
            "Epoch 6/50\n",
            "210/210 [==============================] - 4s 20ms/step - loss: 1.7130 - accuracy: 0.3985 - val_loss: 1.4446 - val_accuracy: 0.5773\n",
            "Epoch 7/50\n",
            "210/210 [==============================] - 4s 19ms/step - loss: 1.6175 - accuracy: 0.4406 - val_loss: 1.3440 - val_accuracy: 0.6081\n",
            "Epoch 8/50\n",
            "210/210 [==============================] - 4s 19ms/step - loss: 1.5343 - accuracy: 0.4763 - val_loss: 1.2538 - val_accuracy: 0.6402\n",
            "Epoch 9/50\n",
            "210/210 [==============================] - 4s 19ms/step - loss: 1.4544 - accuracy: 0.5115 - val_loss: 1.1906 - val_accuracy: 0.6536\n",
            "Epoch 10/50\n",
            "210/210 [==============================] - 4s 19ms/step - loss: 1.3974 - accuracy: 0.5361 - val_loss: 1.1167 - val_accuracy: 0.6799\n",
            "Epoch 11/50\n",
            "210/210 [==============================] - 4s 19ms/step - loss: 1.3323 - accuracy: 0.5635 - val_loss: 1.0653 - val_accuracy: 0.6938\n",
            "Epoch 12/50\n",
            "210/210 [==============================] - 4s 19ms/step - loss: 1.2897 - accuracy: 0.5786 - val_loss: 1.0140 - val_accuracy: 0.7071\n",
            "Epoch 13/50\n",
            "210/210 [==============================] - 4s 19ms/step - loss: 1.2403 - accuracy: 0.5999 - val_loss: 0.9665 - val_accuracy: 0.7202\n",
            "Epoch 14/50\n",
            "210/210 [==============================] - 4s 19ms/step - loss: 1.2035 - accuracy: 0.6137 - val_loss: 0.9293 - val_accuracy: 0.7307\n",
            "Epoch 15/50\n",
            "210/210 [==============================] - 4s 19ms/step - loss: 1.1666 - accuracy: 0.6260 - val_loss: 0.8950 - val_accuracy: 0.7401\n",
            "Epoch 16/50\n",
            "210/210 [==============================] - 4s 19ms/step - loss: 1.1275 - accuracy: 0.6388 - val_loss: 0.8703 - val_accuracy: 0.7436\n",
            "Epoch 17/50\n",
            "210/210 [==============================] - 4s 19ms/step - loss: 1.0993 - accuracy: 0.6500 - val_loss: 0.8382 - val_accuracy: 0.7546\n",
            "Epoch 18/50\n",
            "210/210 [==============================] - 4s 19ms/step - loss: 1.0697 - accuracy: 0.6674 - val_loss: 0.8145 - val_accuracy: 0.7610\n",
            "Epoch 19/50\n",
            "210/210 [==============================] - 4s 19ms/step - loss: 1.0434 - accuracy: 0.6756 - val_loss: 0.7820 - val_accuracy: 0.7715\n",
            "Epoch 20/50\n",
            "210/210 [==============================] - 4s 19ms/step - loss: 1.0174 - accuracy: 0.6808 - val_loss: 0.7717 - val_accuracy: 0.7719\n",
            "Epoch 21/50\n",
            "210/210 [==============================] - 4s 19ms/step - loss: 0.9915 - accuracy: 0.6905 - val_loss: 0.7422 - val_accuracy: 0.7830\n",
            "Epoch 22/50\n",
            "210/210 [==============================] - 4s 19ms/step - loss: 0.9635 - accuracy: 0.6976 - val_loss: 0.7242 - val_accuracy: 0.7858\n",
            "Epoch 23/50\n",
            "210/210 [==============================] - 4s 19ms/step - loss: 0.9463 - accuracy: 0.7057 - val_loss: 0.7139 - val_accuracy: 0.7877\n",
            "Epoch 24/50\n",
            "210/210 [==============================] - 4s 19ms/step - loss: 0.9241 - accuracy: 0.7118 - val_loss: 0.6865 - val_accuracy: 0.7975\n",
            "Epoch 25/50\n",
            "210/210 [==============================] - 4s 19ms/step - loss: 0.9095 - accuracy: 0.7196 - val_loss: 0.6752 - val_accuracy: 0.7982\n",
            "Epoch 26/50\n",
            "210/210 [==============================] - 4s 19ms/step - loss: 0.8892 - accuracy: 0.7259 - val_loss: 0.6678 - val_accuracy: 0.8006\n",
            "Epoch 27/50\n",
            "210/210 [==============================] - 4s 19ms/step - loss: 0.8737 - accuracy: 0.7306 - val_loss: 0.6519 - val_accuracy: 0.8064\n",
            "Epoch 28/50\n",
            "210/210 [==============================] - 4s 19ms/step - loss: 0.8616 - accuracy: 0.7342 - val_loss: 0.6519 - val_accuracy: 0.8054\n",
            "Epoch 29/50\n",
            "210/210 [==============================] - 4s 19ms/step - loss: 0.8419 - accuracy: 0.7395 - val_loss: 0.6479 - val_accuracy: 0.8069\n",
            "Epoch 30/50\n",
            "210/210 [==============================] - 4s 19ms/step - loss: 0.8267 - accuracy: 0.7456 - val_loss: 0.6180 - val_accuracy: 0.8145\n",
            "Epoch 31/50\n",
            "210/210 [==============================] - 4s 19ms/step - loss: 0.8103 - accuracy: 0.7485 - val_loss: 0.6056 - val_accuracy: 0.8200\n",
            "Epoch 32/50\n",
            "210/210 [==============================] - 4s 20ms/step - loss: 0.8019 - accuracy: 0.7520 - val_loss: 0.5939 - val_accuracy: 0.8219\n",
            "Epoch 33/50\n",
            "210/210 [==============================] - 4s 20ms/step - loss: 0.7906 - accuracy: 0.7576 - val_loss: 0.5812 - val_accuracy: 0.8275\n",
            "Epoch 34/50\n",
            "210/210 [==============================] - 4s 20ms/step - loss: 0.7763 - accuracy: 0.7637 - val_loss: 0.5759 - val_accuracy: 0.8275\n",
            "Epoch 35/50\n",
            "210/210 [==============================] - 4s 20ms/step - loss: 0.7673 - accuracy: 0.7652 - val_loss: 0.5703 - val_accuracy: 0.8303\n",
            "Epoch 36/50\n",
            "210/210 [==============================] - 4s 20ms/step - loss: 0.7552 - accuracy: 0.7694 - val_loss: 0.5610 - val_accuracy: 0.8325\n",
            "Epoch 37/50\n",
            "210/210 [==============================] - 4s 21ms/step - loss: 0.7447 - accuracy: 0.7738 - val_loss: 0.5618 - val_accuracy: 0.8310\n",
            "Epoch 38/50\n",
            "210/210 [==============================] - 4s 20ms/step - loss: 0.7293 - accuracy: 0.7777 - val_loss: 0.5793 - val_accuracy: 0.8266\n",
            "Epoch 39/50\n",
            "210/210 [==============================] - 4s 20ms/step - loss: 0.7228 - accuracy: 0.7771 - val_loss: 0.5334 - val_accuracy: 0.8396\n",
            "Epoch 40/50\n",
            "210/210 [==============================] - 4s 21ms/step - loss: 0.7196 - accuracy: 0.7815 - val_loss: 0.6302 - val_accuracy: 0.8102\n",
            "Epoch 41/50\n",
            "210/210 [==============================] - 4s 20ms/step - loss: 0.7070 - accuracy: 0.7857 - val_loss: 0.5218 - val_accuracy: 0.8441\n",
            "Epoch 42/50\n",
            "210/210 [==============================] - 4s 21ms/step - loss: 0.6983 - accuracy: 0.7861 - val_loss: 0.5179 - val_accuracy: 0.8445\n",
            "Epoch 43/50\n",
            "210/210 [==============================] - 4s 20ms/step - loss: 0.6823 - accuracy: 0.7921 - val_loss: 0.5166 - val_accuracy: 0.8446\n",
            "Epoch 44/50\n",
            "210/210 [==============================] - 4s 20ms/step - loss: 0.6812 - accuracy: 0.7910 - val_loss: 0.5102 - val_accuracy: 0.8461\n",
            "Epoch 45/50\n",
            "210/210 [==============================] - 4s 20ms/step - loss: 0.6685 - accuracy: 0.7962 - val_loss: 0.5110 - val_accuracy: 0.8464\n",
            "Epoch 46/50\n",
            "210/210 [==============================] - 4s 20ms/step - loss: 0.6688 - accuracy: 0.7973 - val_loss: 0.5144 - val_accuracy: 0.8452\n",
            "Epoch 47/50\n",
            "210/210 [==============================] - 4s 20ms/step - loss: 0.6601 - accuracy: 0.7989 - val_loss: 0.4982 - val_accuracy: 0.8493\n",
            "Epoch 48/50\n",
            "210/210 [==============================] - 4s 20ms/step - loss: 0.6485 - accuracy: 0.8036 - val_loss: 0.4947 - val_accuracy: 0.8502\n",
            "Epoch 49/50\n",
            "210/210 [==============================] - 4s 20ms/step - loss: 0.6436 - accuracy: 0.8061 - val_loss: 0.4847 - val_accuracy: 0.8539\n",
            "Epoch 50/50\n",
            "210/210 [==============================] - 4s 21ms/step - loss: 0.6363 - accuracy: 0.8065 - val_loss: 0.4882 - val_accuracy: 0.8522\n"
          ],
          "name": "stdout"
        },
        {
          "output_type": "execute_result",
          "data": {
            "text/plain": [
              "<tensorflow.python.keras.callbacks.History at 0x7fe872dc4ef0>"
            ]
          },
          "metadata": {
            "tags": []
          },
          "execution_count": 42
        }
      ]
    },
    {
      "cell_type": "code",
      "metadata": {
        "id": "9-AZKnT3u2aI",
        "colab_type": "code",
        "colab": {
          "base_uri": "https://localhost:8080/",
          "height": 74
        },
        "outputId": "0cf6b613-3c34-4f80-881e-a55d833106db"
      },
      "source": [
        "loss,accuracyscore=model1.evaluate(X_test,y_test)"
      ],
      "execution_count": 43,
      "outputs": [
        {
          "output_type": "stream",
          "text": [
            "WARNING:tensorflow:Keras is training/fitting/evaluating on array-like data. Keras may not be optimized for this format, so if your input data format is supported by TensorFlow I/O (https://github.com/tensorflow/io) we recommend using that to load a Dataset instead.\n",
            "563/563 [==============================] - 2s 3ms/step - loss: 0.5809 - accuracy: 0.8238\n"
          ],
          "name": "stdout"
        }
      ]
    },
    {
      "cell_type": "code",
      "metadata": {
        "id": "lu3mGj_YN0bw",
        "colab_type": "code",
        "colab": {
          "base_uri": "https://localhost:8080/",
          "height": 74
        },
        "outputId": "2238d6c2-63c9-4e93-d880-78ef65b4b916"
      },
      "source": [
        "loss,accuracyscore=model1.evaluate(X_train,y_train)"
      ],
      "execution_count": 53,
      "outputs": [
        {
          "output_type": "stream",
          "text": [
            "WARNING:tensorflow:Keras is training/fitting/evaluating on array-like data. Keras may not be optimized for this format, so if your input data format is supported by TensorFlow I/O (https://github.com/tensorflow/io) we recommend using that to load a Dataset instead.\n",
            "1313/1313 [==============================] - 4s 3ms/step - loss: 0.4483 - accuracy: 0.8643\n"
          ],
          "name": "stdout"
        }
      ]
    },
    {
      "cell_type": "code",
      "metadata": {
        "id": "lomwlUdYJu1L",
        "colab_type": "code",
        "colab": {
          "base_uri": "https://localhost:8080/",
          "height": 36
        },
        "outputId": "b17b7888-da7c-42be-82de-c8d4dbdabaac"
      },
      "source": [
        "print(\"On validation data loss and accuracy is {} and {}\".format(loss,accuracyscore))"
      ],
      "execution_count": 44,
      "outputs": [
        {
          "output_type": "stream",
          "text": [
            "On validation data loss and accuracy is 0.5808805823326111 and 0.8238333463668823\n"
          ],
          "name": "stdout"
        }
      ]
    },
    {
      "cell_type": "code",
      "metadata": {
        "id": "b6DvBZT-LCu0",
        "colab_type": "code",
        "colab": {
          "base_uri": "https://localhost:8080/",
          "height": 56
        },
        "outputId": "b3aad163-4e81-4e6d-9b26-8e7039d4ca86"
      },
      "source": [
        "predict_y_test=model1.predict_classes(X_test)"
      ],
      "execution_count": 45,
      "outputs": [
        {
          "output_type": "stream",
          "text": [
            "WARNING:tensorflow:Keras is training/fitting/evaluating on array-like data. Keras may not be optimized for this format, so if your input data format is supported by TensorFlow I/O (https://github.com/tensorflow/io) we recommend using that to load a Dataset instead.\n"
          ],
          "name": "stdout"
        }
      ]
    },
    {
      "cell_type": "code",
      "metadata": {
        "id": "hRd3iaQfL6Au",
        "colab_type": "code",
        "colab": {
          "base_uri": "https://localhost:8080/",
          "height": 36
        },
        "outputId": "3f40ae1f-c4cc-43f8-890e-75bbb71f9aa4"
      },
      "source": [
        "predict_y_test.shape"
      ],
      "execution_count": 46,
      "outputs": [
        {
          "output_type": "execute_result",
          "data": {
            "text/plain": [
              "(18000,)"
            ]
          },
          "metadata": {
            "tags": []
          },
          "execution_count": 46
        }
      ]
    },
    {
      "cell_type": "code",
      "metadata": {
        "id": "Ma0evAAFM7dq",
        "colab_type": "code",
        "colab": {
          "base_uri": "https://localhost:8080/",
          "height": 36
        },
        "outputId": "467bdf54-a565-4e2c-96a9-824a95685ae0"
      },
      "source": [
        "predict_y_test"
      ],
      "execution_count": 47,
      "outputs": [
        {
          "output_type": "execute_result",
          "data": {
            "text/plain": [
              "array([4, 7, 2, ..., 7, 9, 2])"
            ]
          },
          "metadata": {
            "tags": []
          },
          "execution_count": 47
        }
      ]
    },
    {
      "cell_type": "code",
      "metadata": {
        "id": "1mIa9zkOQ9NC",
        "colab_type": "code",
        "colab": {}
      },
      "source": [
        "y_test_index=np.argmax(y_test,axis=1)"
      ],
      "execution_count": 0,
      "outputs": []
    },
    {
      "cell_type": "markdown",
      "metadata": {
        "id": "Nq8D1droHSTm",
        "colab_type": "text"
      },
      "source": [
        "Classification Accuracy Matrix"
      ]
    },
    {
      "cell_type": "code",
      "metadata": {
        "id": "nOSbKgrWLPNe",
        "colab_type": "code",
        "colab": {
          "base_uri": "https://localhost:8080/",
          "height": 335
        },
        "outputId": "7e61dc17-1127-4398-e976-c77bee80dbdf"
      },
      "source": [
        "#On Test data\n",
        "print(classification_report(y_test_index,predict_y_test))"
      ],
      "execution_count": 49,
      "outputs": [
        {
          "output_type": "stream",
          "text": [
            "              precision    recall  f1-score   support\n",
            "\n",
            "           0       0.84      0.87      0.86      1814\n",
            "           1       0.84      0.84      0.84      1828\n",
            "           2       0.86      0.83      0.84      1803\n",
            "           3       0.78      0.77      0.77      1719\n",
            "           4       0.87      0.86      0.86      1812\n",
            "           5       0.81      0.82      0.81      1768\n",
            "           6       0.84      0.81      0.82      1832\n",
            "           7       0.85      0.85      0.85      1808\n",
            "           8       0.75      0.80      0.78      1812\n",
            "           9       0.80      0.79      0.80      1804\n",
            "\n",
            "    accuracy                           0.82     18000\n",
            "   macro avg       0.82      0.82      0.82     18000\n",
            "weighted avg       0.82      0.82      0.82     18000\n",
            "\n"
          ],
          "name": "stdout"
        }
      ]
    },
    {
      "cell_type": "code",
      "metadata": {
        "id": "23uuyS66GidH",
        "colab_type": "code",
        "colab": {
          "base_uri": "https://localhost:8080/",
          "height": 56
        },
        "outputId": "bcaabd84-0f22-4891-90f3-82e2c9d90af9"
      },
      "source": [
        "predict_y_train=model1.predict_classes(X_train)"
      ],
      "execution_count": 50,
      "outputs": [
        {
          "output_type": "stream",
          "text": [
            "WARNING:tensorflow:Keras is training/fitting/evaluating on array-like data. Keras may not be optimized for this format, so if your input data format is supported by TensorFlow I/O (https://github.com/tensorflow/io) we recommend using that to load a Dataset instead.\n"
          ],
          "name": "stdout"
        }
      ]
    },
    {
      "cell_type": "code",
      "metadata": {
        "id": "-2maoSFXGwb5",
        "colab_type": "code",
        "colab": {}
      },
      "source": [
        "y_train_index=np.argmax(y_train,axis=1)"
      ],
      "execution_count": 0,
      "outputs": []
    },
    {
      "cell_type": "code",
      "metadata": {
        "id": "x4sOmJfWGPew",
        "colab_type": "code",
        "colab": {
          "base_uri": "https://localhost:8080/",
          "height": 335
        },
        "outputId": "7ce06943-6f11-4437-b4ba-145ea5b3fc20"
      },
      "source": [
        "#On Training data\n",
        "print(classification_report(y_train_index,predict_y_train,))"
      ],
      "execution_count": 52,
      "outputs": [
        {
          "output_type": "stream",
          "text": [
            "              precision    recall  f1-score   support\n",
            "\n",
            "           0       0.88      0.88      0.88      4186\n",
            "           1       0.85      0.88      0.87      4172\n",
            "           2       0.90      0.88      0.89      4197\n",
            "           3       0.86      0.80      0.83      4281\n",
            "           4       0.90      0.89      0.90      4188\n",
            "           5       0.85      0.85      0.85      4232\n",
            "           6       0.87      0.84      0.86      4168\n",
            "           7       0.89      0.90      0.89      4192\n",
            "           8       0.79      0.85      0.82      4188\n",
            "           9       0.86      0.86      0.86      4196\n",
            "\n",
            "    accuracy                           0.86     42000\n",
            "   macro avg       0.86      0.86      0.86     42000\n",
            "weighted avg       0.86      0.86      0.86     42000\n",
            "\n"
          ],
          "name": "stdout"
        }
      ]
    },
    {
      "cell_type": "markdown",
      "metadata": {
        "id": "qyTe0ehguIpI",
        "colab_type": "text"
      },
      "source": [
        "\n",
        "Observations:\n",
        "After batch normalization, the model is performing better.\n",
        "Still the model can be improved optimizing dropouts and learning rates.\n"
      ]
    },
    {
      "cell_type": "markdown",
      "metadata": {
        "id": "PBphPqk4uVrZ",
        "colab_type": "text"
      },
      "source": [
        "Deep Neural Network is data hungry. DNN yields better results with more data. As we see here in classification report, we have utmost equally distributed data in all the classes. So DNN learns the each class better and yields better results.¶"
      ]
    }
  ]
}