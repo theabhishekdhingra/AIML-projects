{
 "cells": [
  {
   "cell_type": "code",
   "execution_count": 1,
   "metadata": {},
   "outputs": [],
   "source": [
    "import numpy as np\n",
    "import pandas as pd\n",
    "import seaborn as sns\n",
    "import matplotlib.pyplot as plt"
   ]
  },
  {
   "cell_type": "code",
   "execution_count": 2,
   "metadata": {},
   "outputs": [],
   "source": [
    "df_3year=pd.read_csv('return_3year.csv')\n",
    "df_5year=pd.read_csv('return_5year.csv')\n",
    "df_10year=pd.read_csv('return_10year.csv')\n",
    "df_fund_spec=pd.read_csv('fund_specs.csv')\n",
    "df_fund_ratio=pd.read_csv('fund_ratios.csv')\n",
    "df_other_spec=pd.read_csv('other_specs.csv')\n",
    "df_fund_allocation=pd.read_csv('fund_allocations.csv')\n",
    "df_bond_rating=pd.read_csv('bond_ratings.csv')"
   ]
  },
  {
   "cell_type": "code",
   "execution_count": 3,
   "metadata": {},
   "outputs": [],
   "source": [
    "df_fund_allocation['greatstone_rating']=df_other_spec['greatstone_rating']\n",
    "df_bond_rating['greatstone_rating']=df_other_spec['greatstone_rating']"
   ]
  },
  {
   "cell_type": "code",
   "execution_count": 4,
   "metadata": {},
   "outputs": [
    {
     "name": "stdout",
     "output_type": "stream",
     "text": [
      "<class 'pandas.core.frame.DataFrame'>\n",
      "RangeIndex: 25000 entries, 0 to 24999\n",
      "Data columns (total 13 columns):\n",
      "bb_rating              24886 non-null float64\n",
      "us_govt_bond_rating    24886 non-null float64\n",
      "below_b_rating         24886 non-null float64\n",
      "others_rating          24886 non-null float64\n",
      "maturity_bond          8093 non-null float64\n",
      "b_rating               24886 non-null float64\n",
      "tag                    25000 non-null int64\n",
      "a_rating               24886 non-null float64\n",
      "aaa_rating             24886 non-null float64\n",
      "aa_rating              24886 non-null float64\n",
      "bbb_rating             24886 non-null float64\n",
      "duration_bond          9874 non-null float64\n",
      "greatstone_rating      20000 non-null float64\n",
      "dtypes: float64(12), int64(1)\n",
      "memory usage: 2.5 MB\n"
     ]
    }
   ],
   "source": [
    "df_bond_rating.info()"
   ]
  },
  {
   "cell_type": "code",
   "execution_count": 5,
   "metadata": {},
   "outputs": [],
   "source": [
    "bond_rating_col=['b_rating','a_rating','others_rating','tag']\n",
    "df_bond_rating=df_bond_rating[bond_rating_col]"
   ]
  },
  {
   "cell_type": "code",
   "execution_count": 6,
   "metadata": {},
   "outputs": [],
   "source": [
    "df_bond_rating.fillna(df_bond_rating.mean(),inplace=True)\n",
    "#df_bond_rating.fillna(method='ffill',inplace=True)"
   ]
  },
  {
   "cell_type": "code",
   "execution_count": 7,
   "metadata": {},
   "outputs": [
    {
     "name": "stdout",
     "output_type": "stream",
     "text": [
      "<class 'pandas.core.frame.DataFrame'>\n",
      "RangeIndex: 25000 entries, 0 to 24999\n",
      "Data columns (total 4 columns):\n",
      "b_rating         25000 non-null float64\n",
      "a_rating         25000 non-null float64\n",
      "others_rating    25000 non-null float64\n",
      "tag              25000 non-null int64\n",
      "dtypes: float64(3), int64(1)\n",
      "memory usage: 781.3 KB\n"
     ]
    }
   ],
   "source": [
    "df_bond_rating.info()"
   ]
  },
  {
   "cell_type": "code",
   "execution_count": 8,
   "metadata": {},
   "outputs": [
    {
     "data": {
      "text/plain": [
       "<Figure size 2160x2160 with 0 Axes>"
      ]
     },
     "execution_count": 8,
     "metadata": {},
     "output_type": "execute_result"
    },
    {
     "data": {
      "text/plain": [
       "<Figure size 2160x2160 with 0 Axes>"
      ]
     },
     "metadata": {},
     "output_type": "display_data"
    }
   ],
   "source": [
    "plt.figure(figsize=(30,30))\n",
    "#sns.heatmap(df_bond_rating.corr(),annot=True)"
   ]
  },
  {
   "cell_type": "code",
   "execution_count": 9,
   "metadata": {},
   "outputs": [
    {
     "name": "stdout",
     "output_type": "stream",
     "text": [
      "<class 'pandas.core.frame.DataFrame'>\n",
      "RangeIndex: 25000 entries, 0 to 24999\n",
      "Data columns (total 13 columns):\n",
      "portfolio_communication_allocation        24886 non-null float64\n",
      "portfolio_financial_services              24886 non-null float64\n",
      "portfolio_industrials_allocation          24886 non-null float64\n",
      "portfolio_tech_allocation                 24886 non-null float64\n",
      "portfolio_materials_basic_allocation      24886 non-null float64\n",
      "portfolio_energy_allocation               24886 non-null float64\n",
      "portfolio_consumer_defence_allocation     24886 non-null float64\n",
      "portfolio_healthcare_allocation           24886 non-null float64\n",
      "portfolio_property_allocation             24886 non-null float64\n",
      "id                                        25000 non-null int64\n",
      "portfolio_utils_allocation                24886 non-null float64\n",
      "portfolio_cyclical_consumer_allocation    24886 non-null float64\n",
      "greatstone_rating                         20000 non-null float64\n",
      "dtypes: float64(12), int64(1)\n",
      "memory usage: 2.5 MB\n"
     ]
    }
   ],
   "source": [
    "df_fund_allocation.info()"
   ]
  },
  {
   "cell_type": "code",
   "execution_count": 10,
   "metadata": {},
   "outputs": [],
   "source": [
    "df_fund_allocation.rename(columns = {\"id\" : \"tag\"},inplace=True)"
   ]
  },
  {
   "cell_type": "code",
   "execution_count": 11,
   "metadata": {},
   "outputs": [],
   "source": [
    "df_fund_allocation.fillna(df_fund_allocation.mean(),inplace=True)"
   ]
  },
  {
   "cell_type": "code",
   "execution_count": 12,
   "metadata": {},
   "outputs": [],
   "source": [
    "df_fund_allocation.drop(['greatstone_rating','portfolio_consumer_defence_allocation','portfolio_materials_basic_allocation'],axis=1,inplace=True)"
   ]
  },
  {
   "cell_type": "code",
   "execution_count": 13,
   "metadata": {},
   "outputs": [
    {
     "data": {
      "text/plain": [
       "Index(['portfolio_communication_allocation', 'portfolio_financial_services',\n",
       "       'portfolio_industrials_allocation', 'portfolio_tech_allocation',\n",
       "       'portfolio_energy_allocation', 'portfolio_healthcare_allocation',\n",
       "       'portfolio_property_allocation', 'tag', 'portfolio_utils_allocation',\n",
       "       'portfolio_cyclical_consumer_allocation'],\n",
       "      dtype='object')"
      ]
     },
     "execution_count": 13,
     "metadata": {},
     "output_type": "execute_result"
    }
   ],
   "source": [
    "df_fund_allocation.columns"
   ]
  },
  {
   "cell_type": "code",
   "execution_count": 14,
   "metadata": {},
   "outputs": [],
   "source": [
    "#col_list=['pe_ratio','ytd_return_category','fund_return_3years','tag','2018_return_fund','2016_return_category','stock_percent_of_portfolio','years_up','category_ratio_net_annual_expense']\n",
    "#col_list=['portfolio_tech_allocation','tag','portfolio_cyclical_consumer_allocation']\n",
    "#df_fund_allocation=df_fund_allocation[col_list]"
   ]
  },
  {
   "cell_type": "code",
   "execution_count": 15,
   "metadata": {},
   "outputs": [
    {
     "data": {
      "text/plain": [
       "<Figure size 2160x2160 with 0 Axes>"
      ]
     },
     "execution_count": 15,
     "metadata": {},
     "output_type": "execute_result"
    },
    {
     "data": {
      "text/plain": [
       "<Figure size 2160x2160 with 0 Axes>"
      ]
     },
     "metadata": {},
     "output_type": "display_data"
    }
   ],
   "source": [
    "plt.figure(figsize=(30,30))\n",
    "#sns.heatmap(df_fund_allocation.corr(),annot=True)"
   ]
  },
  {
   "cell_type": "code",
   "execution_count": 16,
   "metadata": {},
   "outputs": [
    {
     "name": "stdout",
     "output_type": "stream",
     "text": [
      "<class 'pandas.core.frame.DataFrame'>\n",
      "RangeIndex: 25000 entries, 0 to 24999\n",
      "Data columns (total 43 columns):\n",
      "2014_category_return                 18817 non-null float64\n",
      "2012_return_category                 15876 non-null float64\n",
      "years_up                             23188 non-null float64\n",
      "2018_return_category                 24191 non-null float64\n",
      "tag                                  25000 non-null int64\n",
      "category_return_1year                24885 non-null float64\n",
      "cash_percent_of_portfolio            24886 non-null float64\n",
      "pc_ratio                             24886 non-null object\n",
      "2011_return_category                 14467 non-null float64\n",
      "ytd_return_fund                      24885 non-null float64\n",
      "years_down                           23359 non-null float64\n",
      "2014_return_fund                     17794 non-null float64\n",
      "category_return_1month               24885 non-null float64\n",
      "2013_return_fund                     16462 non-null float64\n",
      "fund_return_3months                  24885 non-null float64\n",
      "ytd_return_category                  24885 non-null float64\n",
      "pb_ratio                             24886 non-null float64\n",
      "2017_category_return                 23572 non-null float64\n",
      "1_year_return_fund                   24885 non-null float64\n",
      "pe_ratio                             24886 non-null object\n",
      "2015_return_fund                     19312 non-null float64\n",
      "portfolio_convertable                24886 non-null float64\n",
      "3_months_return_category             24885 non-null float64\n",
      "portfolio_others                     24886 non-null float64\n",
      "2016_return_fund                     21069 non-null float64\n",
      "mmc                                  24886 non-null object\n",
      "stock_percent_of_portfolio           24886 non-null float64\n",
      "2016_return_category                 21903 non-null float64\n",
      "ps_ratio                             24886 non-null object\n",
      "2011_return_fund                     13837 non-null float64\n",
      "2010_return_fund                     12738 non-null float64\n",
      "fund_return_3years                   24885 non-null float64\n",
      "2012_fund_return                     15015 non-null float64\n",
      "2018_return_fund                     24060 non-null float64\n",
      "2017_return_fund                     22449 non-null float64\n",
      "greatstone_rating                    20000 non-null float64\n",
      "category_ratio_net_annual_expense    25000 non-null float64\n",
      "category_return_2015                 20399 non-null float64\n",
      "1_month_fund_return                  24885 non-null float64\n",
      "bond_percentage_of_porfolio          24886 non-null float64\n",
      "portfolio_preferred                  24886 non-null float64\n",
      "2010_return_category                 13462 non-null float64\n",
      "2013_category_return                 17363 non-null float64\n",
      "dtypes: float64(38), int64(1), object(4)\n",
      "memory usage: 8.2+ MB\n"
     ]
    }
   ],
   "source": [
    "df_other_spec.info()"
   ]
  },
  {
   "cell_type": "code",
   "execution_count": 17,
   "metadata": {},
   "outputs": [],
   "source": [
    "#df_other_spec.drop(['ps_ratio','pc_ratio'],axis=1,inplace=True)"
   ]
  },
  {
   "cell_type": "code",
   "execution_count": 18,
   "metadata": {},
   "outputs": [],
   "source": [
    "df_other_spec['pe_ratio']=df_other_spec['pe_ratio'].str.replace(',','').astype(np.float64)\n",
    "df_other_spec['mmc']=df_other_spec['mmc'].str.replace(',','').astype(np.float64)\n",
    "df_other_spec['ps_ratio']=df_other_spec['ps_ratio'].str.replace(',','').astype(np.float64)\n",
    "df_other_spec['pc_ratio']=df_other_spec['pc_ratio'].str.replace(',','').astype(np.float64)"
   ]
  },
  {
   "cell_type": "code",
   "execution_count": 19,
   "metadata": {},
   "outputs": [],
   "source": [
    "df_other_spec['pe_ratio'].fillna(df_other_spec['pe_ratio'].mean(),inplace=True)\n",
    "df_other_spec['mmc'].fillna(df_other_spec['mmc'].mean(),inplace=True)\n",
    "df_other_spec['pc_ratio'].fillna(df_other_spec['pc_ratio'].mean(),inplace=True)\n",
    "df_other_spec['ps_ratio'].fillna(df_other_spec['ps_ratio'].mean(),inplace=True)"
   ]
  },
  {
   "cell_type": "code",
   "execution_count": 20,
   "metadata": {},
   "outputs": [
    {
     "name": "stdout",
     "output_type": "stream",
     "text": [
      "<class 'pandas.core.frame.DataFrame'>\n",
      "RangeIndex: 25000 entries, 0 to 24999\n",
      "Data columns (total 43 columns):\n",
      "2014_category_return                 18817 non-null float64\n",
      "2012_return_category                 15876 non-null float64\n",
      "years_up                             23188 non-null float64\n",
      "2018_return_category                 24191 non-null float64\n",
      "tag                                  25000 non-null int64\n",
      "category_return_1year                24885 non-null float64\n",
      "cash_percent_of_portfolio            24886 non-null float64\n",
      "pc_ratio                             25000 non-null float64\n",
      "2011_return_category                 14467 non-null float64\n",
      "ytd_return_fund                      24885 non-null float64\n",
      "years_down                           23359 non-null float64\n",
      "2014_return_fund                     17794 non-null float64\n",
      "category_return_1month               24885 non-null float64\n",
      "2013_return_fund                     16462 non-null float64\n",
      "fund_return_3months                  24885 non-null float64\n",
      "ytd_return_category                  24885 non-null float64\n",
      "pb_ratio                             24886 non-null float64\n",
      "2017_category_return                 23572 non-null float64\n",
      "1_year_return_fund                   24885 non-null float64\n",
      "pe_ratio                             25000 non-null float64\n",
      "2015_return_fund                     19312 non-null float64\n",
      "portfolio_convertable                24886 non-null float64\n",
      "3_months_return_category             24885 non-null float64\n",
      "portfolio_others                     24886 non-null float64\n",
      "2016_return_fund                     21069 non-null float64\n",
      "mmc                                  25000 non-null float64\n",
      "stock_percent_of_portfolio           24886 non-null float64\n",
      "2016_return_category                 21903 non-null float64\n",
      "ps_ratio                             25000 non-null float64\n",
      "2011_return_fund                     13837 non-null float64\n",
      "2010_return_fund                     12738 non-null float64\n",
      "fund_return_3years                   24885 non-null float64\n",
      "2012_fund_return                     15015 non-null float64\n",
      "2018_return_fund                     24060 non-null float64\n",
      "2017_return_fund                     22449 non-null float64\n",
      "greatstone_rating                    20000 non-null float64\n",
      "category_ratio_net_annual_expense    25000 non-null float64\n",
      "category_return_2015                 20399 non-null float64\n",
      "1_month_fund_return                  24885 non-null float64\n",
      "bond_percentage_of_porfolio          24886 non-null float64\n",
      "portfolio_preferred                  24886 non-null float64\n",
      "2010_return_category                 13462 non-null float64\n",
      "2013_category_return                 17363 non-null float64\n",
      "dtypes: float64(42), int64(1)\n",
      "memory usage: 8.2 MB\n"
     ]
    }
   ],
   "source": [
    "df_other_spec.info()"
   ]
  },
  {
   "cell_type": "code",
   "execution_count": null,
   "metadata": {},
   "outputs": [],
   "source": []
  },
  {
   "cell_type": "code",
   "execution_count": 21,
   "metadata": {},
   "outputs": [
    {
     "data": {
      "text/plain": [
       "<Figure size 2160x2160 with 0 Axes>"
      ]
     },
     "execution_count": 21,
     "metadata": {},
     "output_type": "execute_result"
    },
    {
     "data": {
      "text/plain": [
       "<Figure size 2160x2160 with 0 Axes>"
      ]
     },
     "metadata": {},
     "output_type": "display_data"
    }
   ],
   "source": [
    "plt.figure(figsize=(30,30))\n",
    "#sns.heatmap(df_other_spec.corr(),annot=True)"
   ]
  },
  {
   "cell_type": "code",
   "execution_count": 22,
   "metadata": {},
   "outputs": [],
   "source": [
    "#col_list=['pe_ratio','ytd_return_category','fund_return_3years','tag','2018_return_fund','2016_return_category','stock_percent_of_portfolio','years_up','category_ratio_net_annual_expense']\n",
    "#col_list=['2012_return_category','years_down','2014_category_return','category_return_2015','3_months_return_category','2017_category_return','2016_return_category','2018_return_category','category_ratio_net_annual_expense','2010_return_category','ytd_return_fund','fund_return_3months','2011_return_fund','2010_return_fund','2016_return_fund','2012_fund_return','2015_return_fund','1_year_return_fund','1_month_fund_return','tag','2018_return_fund','2017_return_fund','years_up','2014_return_fund','2013_category_return']\n",
    "col_list=['ps_ratio','pc_ratio','years_down','2014_category_return','category_return_2015','2017_category_return','2016_return_category','2018_return_category','category_ratio_net_annual_expense','ytd_return_fund','2016_return_fund','2012_fund_return','2015_return_fund','1_year_return_fund','tag','2018_return_fund','2017_return_fund','years_up','2014_return_fund']"
   ]
  },
  {
   "cell_type": "code",
   "execution_count": 23,
   "metadata": {},
   "outputs": [],
   "source": [
    "df_other_spec=df_other_spec[col_list]"
   ]
  },
  {
   "cell_type": "code",
   "execution_count": 24,
   "metadata": {},
   "outputs": [],
   "source": [
    "df_other_spec.fillna(df_other_spec.mean(),inplace=True)\n",
    "#df_other_spec.fillna(method='ffill',inplace=True)"
   ]
  },
  {
   "cell_type": "code",
   "execution_count": 25,
   "metadata": {},
   "outputs": [
    {
     "name": "stdout",
     "output_type": "stream",
     "text": [
      "<class 'pandas.core.frame.DataFrame'>\n",
      "RangeIndex: 25000 entries, 0 to 24999\n",
      "Data columns (total 19 columns):\n",
      "ps_ratio                             25000 non-null float64\n",
      "pc_ratio                             25000 non-null float64\n",
      "years_down                           25000 non-null float64\n",
      "2014_category_return                 25000 non-null float64\n",
      "category_return_2015                 25000 non-null float64\n",
      "2017_category_return                 25000 non-null float64\n",
      "2016_return_category                 25000 non-null float64\n",
      "2018_return_category                 25000 non-null float64\n",
      "category_ratio_net_annual_expense    25000 non-null float64\n",
      "ytd_return_fund                      25000 non-null float64\n",
      "2016_return_fund                     25000 non-null float64\n",
      "2012_fund_return                     25000 non-null float64\n",
      "2015_return_fund                     25000 non-null float64\n",
      "1_year_return_fund                   25000 non-null float64\n",
      "tag                                  25000 non-null int64\n",
      "2018_return_fund                     25000 non-null float64\n",
      "2017_return_fund                     25000 non-null float64\n",
      "years_up                             25000 non-null float64\n",
      "2014_return_fund                     25000 non-null float64\n",
      "dtypes: float64(18), int64(1)\n",
      "memory usage: 3.6 MB\n"
     ]
    }
   ],
   "source": [
    "df_other_spec.info()"
   ]
  },
  {
   "cell_type": "code",
   "execution_count": 26,
   "metadata": {},
   "outputs": [],
   "source": [
    "#df_other_spec['cash_percent_of_portfolio']=df_other_spec['cash_percent_of_portfolio'].fillna(df_other_spec['cash_percent_of_portfolio'].mean())"
   ]
  },
  {
   "cell_type": "code",
   "execution_count": 27,
   "metadata": {},
   "outputs": [
    {
     "data": {
      "text/plain": [
       "Index(['tag', '3yrs_treynor_ratio_fund', '3_years_alpha_fund',\n",
       "       '3years_category_std', '3yrs_sharpe_ratio_fund',\n",
       "       '3yrs_treynor_ratio_category', '3_years_return_mean_annual_fund',\n",
       "       'fund_beta_3years', '3years_fund_r_squared', '3years_fund_std',\n",
       "       'category_beta_3years', 'fund_return_3years', '3_years_alpha_category',\n",
       "       '3_years_return_mean_annual_category', '3yrs_sharpe_ratio_category',\n",
       "       '3years_category_r_squared', '3_years_return_category'],\n",
       "      dtype='object')"
      ]
     },
     "execution_count": 27,
     "metadata": {},
     "output_type": "execute_result"
    }
   ],
   "source": [
    "df_3year.columns"
   ]
  },
  {
   "cell_type": "code",
   "execution_count": 28,
   "metadata": {},
   "outputs": [],
   "source": [
    "#df_3year.drop('tag',inplace=True,axis=1)"
   ]
  },
  {
   "cell_type": "code",
   "execution_count": 29,
   "metadata": {},
   "outputs": [],
   "source": [
    "df_3year['3yrs_treynor_ratio_fund']=df_3year['3yrs_treynor_ratio_fund'].str.replace(',','').astype(np.float64)"
   ]
  },
  {
   "cell_type": "code",
   "execution_count": 30,
   "metadata": {},
   "outputs": [],
   "source": [
    "#df_3year=df_3year[['3_years_return_category','3yrs_treynor_ratio_fund','3_years_alpha_fund','3_years_alpha_category','fund_beta_3years','3yrs_sharpe_ratio_fund','3_years_return_mean_annual_fund','fund_return_3years','tag','3yrs_sharpe_ratio_category']]\n",
    "df_3year=df_3year[['tag', '3yrs_treynor_ratio_fund', '3_years_alpha_fund',\n",
    "        '3yrs_sharpe_ratio_fund',\n",
    "       '3yrs_treynor_ratio_category', '3_years_return_mean_annual_fund',\n",
    "       'fund_beta_3years', '3years_fund_r_squared',\n",
    "       'category_beta_3years', 'fund_return_3years', '3_years_alpha_category',\n",
    "       '3_years_return_mean_annual_category', '3yrs_sharpe_ratio_category',\n",
    "       '3years_category_r_squared', '3_years_return_category']]"
   ]
  },
  {
   "cell_type": "code",
   "execution_count": 31,
   "metadata": {},
   "outputs": [],
   "source": [
    "df_3year.fillna(df_3year.mean(),inplace=True)\n",
    "#df_3year.fillna(method='ffill',inplace=True)"
   ]
  },
  {
   "cell_type": "code",
   "execution_count": 32,
   "metadata": {},
   "outputs": [
    {
     "data": {
      "text/plain": [
       "Index(['category_r_squared_5years', '5yrs_sharpe_ratio_fund',\n",
       "       '5_years_alpha_fund', '5years_fund_r_squared', '5years_fund_std',\n",
       "       '5yrs_sharpe_ratio_category', '5_years_beta_fund',\n",
       "       '5yrs_treynor_ratio_fund', '5_years_return_mean_annual_fund',\n",
       "       '5_years_return_mean_annual_category', '5yrs_treynor_ratio_category',\n",
       "       '5_years_return_fund', '5_years_alpha_category',\n",
       "       '5_years_beta_category', '5years_category_std', 'tag',\n",
       "       '5_years_return_category'],\n",
       "      dtype='object')"
      ]
     },
     "execution_count": 32,
     "metadata": {},
     "output_type": "execute_result"
    }
   ],
   "source": [
    "df_5year.columns"
   ]
  },
  {
   "cell_type": "code",
   "execution_count": 33,
   "metadata": {},
   "outputs": [],
   "source": [
    "df_5year['5yrs_treynor_ratio_fund']=df_5year['5yrs_treynor_ratio_fund'].str.replace(',','').astype(np.float64)"
   ]
  },
  {
   "cell_type": "code",
   "execution_count": 34,
   "metadata": {},
   "outputs": [],
   "source": [
    "df_5year=df_5year[['category_r_squared_5years','5_years_return_mean_annual_fund','5yrs_treynor_ratio_category','5years_category_std','5_years_alpha_category','5_years_beta_category','5_years_beta_fund','5yrs_treynor_ratio_fund','5yrs_sharpe_ratio_fund','5_years_alpha_fund','5_years_return_category','5_years_return_fund','tag']]"
   ]
  },
  {
   "cell_type": "code",
   "execution_count": 35,
   "metadata": {},
   "outputs": [],
   "source": [
    "df_5year.fillna(df_5year.mean(),inplace=True)\n",
    "#df_5year.fillna(method='ffill',inplace=True)"
   ]
  },
  {
   "cell_type": "code",
   "execution_count": 36,
   "metadata": {},
   "outputs": [
    {
     "data": {
      "text/plain": [
       "Index(['10years_category_r_squared', '10yrs_sharpe_ratio_fund',\n",
       "       '10_years_alpha_fund', '10years_fund_r_squared', '10years_fund_std',\n",
       "       '10yrs_sharpe_ratio_category', '10_years_beta_fund',\n",
       "       '10yrs_treynor_ratio_fund', 'fund_id',\n",
       "       '10_years_return_mean_annual_category', '10yrs_treynor_ratio_category',\n",
       "       '10_years_return_fund', '10_years_alpha_category',\n",
       "       '10_years_beta_category', '10years_category_std',\n",
       "       '10_years_return_mean_annual_fund', '10_years_return_category'],\n",
       "      dtype='object')"
      ]
     },
     "execution_count": 36,
     "metadata": {},
     "output_type": "execute_result"
    }
   ],
   "source": [
    "df_10year.columns"
   ]
  },
  {
   "cell_type": "code",
   "execution_count": 37,
   "metadata": {},
   "outputs": [],
   "source": [
    "df_10year['10yrs_treynor_ratio_fund']=df_10year['10yrs_treynor_ratio_fund'].str.replace(',','').astype(np.float64)"
   ]
  },
  {
   "cell_type": "code",
   "execution_count": 38,
   "metadata": {},
   "outputs": [],
   "source": [
    "#df_10year=df_10year[['10years_category_r_squared','10years_fund_r_squared','10yrs_sharpe_ratio_category','10yrs_treynor_ratio_fund','10yrs_sharpe_ratio_fund','10_years_alpha_category','10_years_alpha_fund','10_years_return_fund','10_years_return_category','10_years_return_mean_annual_fund','fund_id','10_years_beta_fund','10_years_return_mean_annual_category']]\n",
    "df_10year=df_10year[['10years_category_r_squared', '10yrs_sharpe_ratio_fund',\n",
    "       '10_years_alpha_fund', '10years_fund_r_squared', \n",
    "       '10yrs_sharpe_ratio_category', '10_years_beta_fund',\n",
    "       '10yrs_treynor_ratio_fund', 'fund_id',\n",
    "       '10_years_return_mean_annual_category', '10yrs_treynor_ratio_category',\n",
    "       '10_years_return_fund', '10_years_alpha_category',\n",
    "       '10_years_beta_category',\n",
    "       '10_years_return_mean_annual_fund', '10_years_return_category']]"
   ]
  },
  {
   "cell_type": "code",
   "execution_count": 39,
   "metadata": {},
   "outputs": [],
   "source": [
    "df_10year.fillna(df_10year.mean(),inplace=True,)\n",
    "#df_10year.fillna(method='ffill',inplace=True)"
   ]
  },
  {
   "cell_type": "code",
   "execution_count": 40,
   "metadata": {},
   "outputs": [],
   "source": [
    "df_fund_ratio.drop(['pe_ratio','pc_ratio','ps_ratio'],axis=1,inplace=True)"
   ]
  },
  {
   "cell_type": "code",
   "execution_count": 41,
   "metadata": {},
   "outputs": [],
   "source": [
    "df_fundratio_10year=pd.merge(df_fund_ratio,df_10year,on='fund_id')"
   ]
  },
  {
   "cell_type": "code",
   "execution_count": 42,
   "metadata": {},
   "outputs": [],
   "source": [
    "df_fund_spec['total_assets'].fillna(df_fund_spec['total_assets'].mean(),inplace=True)\n",
    "df_fund_spec['yield'].fillna(df_fund_spec['yield'].mean(),inplace=True)\n",
    "df_fund_spec['return_ytd'].fillna(df_fund_spec['return_ytd'].mean(),inplace=True)"
   ]
  },
  {
   "cell_type": "code",
   "execution_count": 43,
   "metadata": {},
   "outputs": [],
   "source": [
    "df_merged=pd.merge(df_3year,df_fund_spec,on='tag')\n",
    "df_merged=pd.merge(df_merged,df_5year,on='tag')\n",
    "df_merged=pd.merge(df_merged,df_fundratio_10year,on='tag')\n",
    "df_merged=pd.merge(df_merged,df_other_spec,on='tag')\n",
    "df_merged=pd.merge(df_merged,df_fund_allocation,on='tag')\n",
    "df_merged=pd.merge(df_merged,df_bond_rating,on='tag')"
   ]
  },
  {
   "cell_type": "code",
   "execution_count": 44,
   "metadata": {},
   "outputs": [
    {
     "name": "stdout",
     "output_type": "stream",
     "text": [
      "<class 'pandas.core.frame.DataFrame'>\n",
      "Int64Index: 25000 entries, 0 to 24999\n",
      "Data columns (total 65 columns):\n",
      "tag                                       25000 non-null int64\n",
      "3yrs_treynor_ratio_fund                   25000 non-null float64\n",
      "3_years_alpha_fund                        25000 non-null float64\n",
      "3yrs_sharpe_ratio_fund                    25000 non-null float64\n",
      "3yrs_treynor_ratio_category               25000 non-null float64\n",
      "3_years_return_mean_annual_fund           25000 non-null float64\n",
      "fund_beta_3years                          25000 non-null float64\n",
      "3years_fund_r_squared                     25000 non-null float64\n",
      "category_beta_3years                      25000 non-null float64\n",
      "fund_return_3years                        25000 non-null float64\n",
      "3_years_alpha_category                    25000 non-null float64\n",
      "3_years_return_mean_annual_category       25000 non-null float64\n",
      "3yrs_sharpe_ratio_category                25000 non-null float64\n",
      "3years_category_r_squared                 25000 non-null float64\n",
      "3_years_return_category                   25000 non-null float64\n",
      "investment_class                          23520 non-null object\n",
      "currency                                  25000 non-null object\n",
      "total_assets                              25000 non-null float64\n",
      "yield                                     25000 non-null float64\n",
      "greatstone_rating                         20000 non-null float64\n",
      "inception_date                            25000 non-null object\n",
      "fund_size                                 23520 non-null object\n",
      "return_ytd                                25000 non-null float64\n",
      "category_r_squared_5years                 25000 non-null float64\n",
      "5_years_return_mean_annual_fund           25000 non-null float64\n",
      "5yrs_treynor_ratio_category               25000 non-null float64\n",
      "5years_category_std                       25000 non-null float64\n",
      "5_years_alpha_category                    25000 non-null float64\n",
      "5_years_beta_category                     25000 non-null float64\n",
      "5_years_beta_fund                         25000 non-null float64\n",
      "5yrs_treynor_ratio_fund                   25000 non-null float64\n",
      "5yrs_sharpe_ratio_fund                    25000 non-null float64\n",
      "5_years_alpha_fund                        25000 non-null float64\n",
      "5_years_return_category                   25000 non-null float64\n",
      "5_years_return_fund                       25000 non-null float64\n",
      "ps_ratio                                  25000 non-null float64\n",
      "pc_ratio                                  25000 non-null float64\n",
      "years_down                                25000 non-null float64\n",
      "2014_category_return                      25000 non-null float64\n",
      "category_return_2015                      25000 non-null float64\n",
      "2017_category_return                      25000 non-null float64\n",
      "2016_return_category                      25000 non-null float64\n",
      "2018_return_category                      25000 non-null float64\n",
      "category_ratio_net_annual_expense         25000 non-null float64\n",
      "ytd_return_fund                           25000 non-null float64\n",
      "2016_return_fund                          25000 non-null float64\n",
      "2012_fund_return                          25000 non-null float64\n",
      "2015_return_fund                          25000 non-null float64\n",
      "1_year_return_fund                        25000 non-null float64\n",
      "2018_return_fund                          25000 non-null float64\n",
      "2017_return_fund                          25000 non-null float64\n",
      "years_up                                  25000 non-null float64\n",
      "2014_return_fund                          25000 non-null float64\n",
      "portfolio_communication_allocation        25000 non-null float64\n",
      "portfolio_financial_services              25000 non-null float64\n",
      "portfolio_industrials_allocation          25000 non-null float64\n",
      "portfolio_tech_allocation                 25000 non-null float64\n",
      "portfolio_energy_allocation               25000 non-null float64\n",
      "portfolio_healthcare_allocation           25000 non-null float64\n",
      "portfolio_property_allocation             25000 non-null float64\n",
      "portfolio_utils_allocation                25000 non-null float64\n",
      "portfolio_cyclical_consumer_allocation    25000 non-null float64\n",
      "b_rating                                  25000 non-null float64\n",
      "a_rating                                  25000 non-null float64\n",
      "others_rating                             25000 non-null float64\n",
      "dtypes: float64(60), int64(1), object(4)\n",
      "memory usage: 12.6+ MB\n"
     ]
    }
   ],
   "source": [
    "df_merged.info()"
   ]
  },
  {
   "cell_type": "code",
   "execution_count": 45,
   "metadata": {},
   "outputs": [],
   "source": [
    "df_merged.drop(['inception_date','currency','investment_class','fund_size'],axis=1,inplace=True)"
   ]
  },
  {
   "cell_type": "code",
   "execution_count": 46,
   "metadata": {},
   "outputs": [
    {
     "ename": "KeyError",
     "evalue": "'pb_ratio'",
     "output_type": "error",
     "traceback": [
      "\u001b[1;31m---------------------------------------------------------------------------\u001b[0m",
      "\u001b[1;31mKeyError\u001b[0m                                  Traceback (most recent call last)",
      "\u001b[1;32mC:\\ProgramData\\Anaconda3\\lib\\site-packages\\pandas\\core\\indexes\\base.py\u001b[0m in \u001b[0;36mget_loc\u001b[1;34m(self, key, method, tolerance)\u001b[0m\n\u001b[0;32m   2656\u001b[0m             \u001b[1;32mtry\u001b[0m\u001b[1;33m:\u001b[0m\u001b[1;33m\u001b[0m\u001b[1;33m\u001b[0m\u001b[0m\n\u001b[1;32m-> 2657\u001b[1;33m                 \u001b[1;32mreturn\u001b[0m \u001b[0mself\u001b[0m\u001b[1;33m.\u001b[0m\u001b[0m_engine\u001b[0m\u001b[1;33m.\u001b[0m\u001b[0mget_loc\u001b[0m\u001b[1;33m(\u001b[0m\u001b[0mkey\u001b[0m\u001b[1;33m)\u001b[0m\u001b[1;33m\u001b[0m\u001b[1;33m\u001b[0m\u001b[0m\n\u001b[0m\u001b[0;32m   2658\u001b[0m             \u001b[1;32mexcept\u001b[0m \u001b[0mKeyError\u001b[0m\u001b[1;33m:\u001b[0m\u001b[1;33m\u001b[0m\u001b[1;33m\u001b[0m\u001b[0m\n",
      "\u001b[1;32mpandas/_libs/index.pyx\u001b[0m in \u001b[0;36mpandas._libs.index.IndexEngine.get_loc\u001b[1;34m()\u001b[0m\n",
      "\u001b[1;32mpandas/_libs/index.pyx\u001b[0m in \u001b[0;36mpandas._libs.index.IndexEngine.get_loc\u001b[1;34m()\u001b[0m\n",
      "\u001b[1;32mpandas/_libs/hashtable_class_helper.pxi\u001b[0m in \u001b[0;36mpandas._libs.hashtable.PyObjectHashTable.get_item\u001b[1;34m()\u001b[0m\n",
      "\u001b[1;32mpandas/_libs/hashtable_class_helper.pxi\u001b[0m in \u001b[0;36mpandas._libs.hashtable.PyObjectHashTable.get_item\u001b[1;34m()\u001b[0m\n",
      "\u001b[1;31mKeyError\u001b[0m: 'pb_ratio'",
      "\nDuring handling of the above exception, another exception occurred:\n",
      "\u001b[1;31mKeyError\u001b[0m                                  Traceback (most recent call last)",
      "\u001b[1;32m<ipython-input-46-12c6c76a8088>\u001b[0m in \u001b[0;36m<module>\u001b[1;34m\u001b[0m\n\u001b[0;32m      1\u001b[0m \u001b[1;31m##newly added after attempt3_more-changes\u001b[0m\u001b[1;33m\u001b[0m\u001b[1;33m\u001b[0m\u001b[1;33m\u001b[0m\u001b[0m\n\u001b[1;32m----> 2\u001b[1;33m \u001b[0mdf_merged\u001b[0m\u001b[1;33m[\u001b[0m\u001b[1;34m'pb_ratio'\u001b[0m\u001b[1;33m]\u001b[0m\u001b[1;33m.\u001b[0m\u001b[0mfillna\u001b[0m\u001b[1;33m(\u001b[0m\u001b[0mdf_merged\u001b[0m\u001b[1;33m[\u001b[0m\u001b[1;34m'pb_ratio'\u001b[0m\u001b[1;33m]\u001b[0m\u001b[1;33m.\u001b[0m\u001b[0mmean\u001b[0m\u001b[1;33m(\u001b[0m\u001b[1;33m)\u001b[0m\u001b[1;33m,\u001b[0m\u001b[0minplace\u001b[0m\u001b[1;33m=\u001b[0m\u001b[1;32mTrue\u001b[0m\u001b[1;33m)\u001b[0m\u001b[1;33m\u001b[0m\u001b[1;33m\u001b[0m\u001b[0m\n\u001b[0m\u001b[0;32m      3\u001b[0m \u001b[0mdf_merged\u001b[0m\u001b[1;33m[\u001b[0m\u001b[1;34m'yield'\u001b[0m\u001b[1;33m]\u001b[0m\u001b[1;33m.\u001b[0m\u001b[0mfillna\u001b[0m\u001b[1;33m(\u001b[0m\u001b[0mdf_merged\u001b[0m\u001b[1;33m[\u001b[0m\u001b[1;34m'yield'\u001b[0m\u001b[1;33m]\u001b[0m\u001b[1;33m.\u001b[0m\u001b[0mmean\u001b[0m\u001b[1;33m(\u001b[0m\u001b[1;33m)\u001b[0m\u001b[1;33m,\u001b[0m\u001b[0minplace\u001b[0m\u001b[1;33m=\u001b[0m\u001b[1;32mTrue\u001b[0m\u001b[1;33m)\u001b[0m\u001b[1;33m\u001b[0m\u001b[1;33m\u001b[0m\u001b[0m\n",
      "\u001b[1;32mC:\\ProgramData\\Anaconda3\\lib\\site-packages\\pandas\\core\\frame.py\u001b[0m in \u001b[0;36m__getitem__\u001b[1;34m(self, key)\u001b[0m\n\u001b[0;32m   2925\u001b[0m             \u001b[1;32mif\u001b[0m \u001b[0mself\u001b[0m\u001b[1;33m.\u001b[0m\u001b[0mcolumns\u001b[0m\u001b[1;33m.\u001b[0m\u001b[0mnlevels\u001b[0m \u001b[1;33m>\u001b[0m \u001b[1;36m1\u001b[0m\u001b[1;33m:\u001b[0m\u001b[1;33m\u001b[0m\u001b[1;33m\u001b[0m\u001b[0m\n\u001b[0;32m   2926\u001b[0m                 \u001b[1;32mreturn\u001b[0m \u001b[0mself\u001b[0m\u001b[1;33m.\u001b[0m\u001b[0m_getitem_multilevel\u001b[0m\u001b[1;33m(\u001b[0m\u001b[0mkey\u001b[0m\u001b[1;33m)\u001b[0m\u001b[1;33m\u001b[0m\u001b[1;33m\u001b[0m\u001b[0m\n\u001b[1;32m-> 2927\u001b[1;33m             \u001b[0mindexer\u001b[0m \u001b[1;33m=\u001b[0m \u001b[0mself\u001b[0m\u001b[1;33m.\u001b[0m\u001b[0mcolumns\u001b[0m\u001b[1;33m.\u001b[0m\u001b[0mget_loc\u001b[0m\u001b[1;33m(\u001b[0m\u001b[0mkey\u001b[0m\u001b[1;33m)\u001b[0m\u001b[1;33m\u001b[0m\u001b[1;33m\u001b[0m\u001b[0m\n\u001b[0m\u001b[0;32m   2928\u001b[0m             \u001b[1;32mif\u001b[0m \u001b[0mis_integer\u001b[0m\u001b[1;33m(\u001b[0m\u001b[0mindexer\u001b[0m\u001b[1;33m)\u001b[0m\u001b[1;33m:\u001b[0m\u001b[1;33m\u001b[0m\u001b[1;33m\u001b[0m\u001b[0m\n\u001b[0;32m   2929\u001b[0m                 \u001b[0mindexer\u001b[0m \u001b[1;33m=\u001b[0m \u001b[1;33m[\u001b[0m\u001b[0mindexer\u001b[0m\u001b[1;33m]\u001b[0m\u001b[1;33m\u001b[0m\u001b[1;33m\u001b[0m\u001b[0m\n",
      "\u001b[1;32mC:\\ProgramData\\Anaconda3\\lib\\site-packages\\pandas\\core\\indexes\\base.py\u001b[0m in \u001b[0;36mget_loc\u001b[1;34m(self, key, method, tolerance)\u001b[0m\n\u001b[0;32m   2657\u001b[0m                 \u001b[1;32mreturn\u001b[0m \u001b[0mself\u001b[0m\u001b[1;33m.\u001b[0m\u001b[0m_engine\u001b[0m\u001b[1;33m.\u001b[0m\u001b[0mget_loc\u001b[0m\u001b[1;33m(\u001b[0m\u001b[0mkey\u001b[0m\u001b[1;33m)\u001b[0m\u001b[1;33m\u001b[0m\u001b[1;33m\u001b[0m\u001b[0m\n\u001b[0;32m   2658\u001b[0m             \u001b[1;32mexcept\u001b[0m \u001b[0mKeyError\u001b[0m\u001b[1;33m:\u001b[0m\u001b[1;33m\u001b[0m\u001b[1;33m\u001b[0m\u001b[0m\n\u001b[1;32m-> 2659\u001b[1;33m                 \u001b[1;32mreturn\u001b[0m \u001b[0mself\u001b[0m\u001b[1;33m.\u001b[0m\u001b[0m_engine\u001b[0m\u001b[1;33m.\u001b[0m\u001b[0mget_loc\u001b[0m\u001b[1;33m(\u001b[0m\u001b[0mself\u001b[0m\u001b[1;33m.\u001b[0m\u001b[0m_maybe_cast_indexer\u001b[0m\u001b[1;33m(\u001b[0m\u001b[0mkey\u001b[0m\u001b[1;33m)\u001b[0m\u001b[1;33m)\u001b[0m\u001b[1;33m\u001b[0m\u001b[1;33m\u001b[0m\u001b[0m\n\u001b[0m\u001b[0;32m   2660\u001b[0m         \u001b[0mindexer\u001b[0m \u001b[1;33m=\u001b[0m \u001b[0mself\u001b[0m\u001b[1;33m.\u001b[0m\u001b[0mget_indexer\u001b[0m\u001b[1;33m(\u001b[0m\u001b[1;33m[\u001b[0m\u001b[0mkey\u001b[0m\u001b[1;33m]\u001b[0m\u001b[1;33m,\u001b[0m \u001b[0mmethod\u001b[0m\u001b[1;33m=\u001b[0m\u001b[0mmethod\u001b[0m\u001b[1;33m,\u001b[0m \u001b[0mtolerance\u001b[0m\u001b[1;33m=\u001b[0m\u001b[0mtolerance\u001b[0m\u001b[1;33m)\u001b[0m\u001b[1;33m\u001b[0m\u001b[1;33m\u001b[0m\u001b[0m\n\u001b[0;32m   2661\u001b[0m         \u001b[1;32mif\u001b[0m \u001b[0mindexer\u001b[0m\u001b[1;33m.\u001b[0m\u001b[0mndim\u001b[0m \u001b[1;33m>\u001b[0m \u001b[1;36m1\u001b[0m \u001b[1;32mor\u001b[0m \u001b[0mindexer\u001b[0m\u001b[1;33m.\u001b[0m\u001b[0msize\u001b[0m \u001b[1;33m>\u001b[0m \u001b[1;36m1\u001b[0m\u001b[1;33m:\u001b[0m\u001b[1;33m\u001b[0m\u001b[1;33m\u001b[0m\u001b[0m\n",
      "\u001b[1;32mpandas/_libs/index.pyx\u001b[0m in \u001b[0;36mpandas._libs.index.IndexEngine.get_loc\u001b[1;34m()\u001b[0m\n",
      "\u001b[1;32mpandas/_libs/index.pyx\u001b[0m in \u001b[0;36mpandas._libs.index.IndexEngine.get_loc\u001b[1;34m()\u001b[0m\n",
      "\u001b[1;32mpandas/_libs/hashtable_class_helper.pxi\u001b[0m in \u001b[0;36mpandas._libs.hashtable.PyObjectHashTable.get_item\u001b[1;34m()\u001b[0m\n",
      "\u001b[1;32mpandas/_libs/hashtable_class_helper.pxi\u001b[0m in \u001b[0;36mpandas._libs.hashtable.PyObjectHashTable.get_item\u001b[1;34m()\u001b[0m\n",
      "\u001b[1;31mKeyError\u001b[0m: 'pb_ratio'"
     ]
    }
   ],
   "source": [
    "##newly added after attempt3_more-changes\n",
    "df_merged['pb_ratio'].fillna(df_merged['pb_ratio'].mean(),inplace=True)\n",
    "df_merged['yield'].fillna(df_merged['yield'].mean(),inplace=True)"
   ]
  },
  {
   "cell_type": "code",
   "execution_count": null,
   "metadata": {},
   "outputs": [],
   "source": [
    "#df_merged['10yrs_treynor_ratio_fund']=df_merged['10yrs_treynor_ratio_fund'].str.replace(',','').astype(np.float64)\n",
    "#df_merged['3yrs_treynor_ratio_fund']=df_merged['3yrs_treynor_ratio_fund'].str.replace(',','').astype(np.float64)\n",
    "#df_merged['5yrs_treynor_ratio_fund']=df_merged['5yrs_treynor_ratio_fund'].str.replace(',','').astype(np.float64)"
   ]
  },
  {
   "cell_type": "code",
   "execution_count": null,
   "metadata": {},
   "outputs": [],
   "source": [
    "df_merged.drop(['fund_id','mmc'],axis=1,inplace=True)"
   ]
  },
  {
   "cell_type": "code",
   "execution_count": null,
   "metadata": {},
   "outputs": [],
   "source": [
    "drop_id=pd.DataFrame()\n",
    "drop_id['tag']=df_merged[df_merged['greatstone_rating'].isna()==True].tag"
   ]
  },
  {
   "cell_type": "code",
   "execution_count": null,
   "metadata": {},
   "outputs": [],
   "source": [
    "y=pd.DataFrame()"
   ]
  },
  {
   "cell_type": "code",
   "execution_count": null,
   "metadata": {},
   "outputs": [],
   "source": [
    "df_merged=df_merged.set_index(df_merged.tag)\n",
    "drop_id=drop_id.set_index(drop_id.tag)"
   ]
  },
  {
   "cell_type": "code",
   "execution_count": null,
   "metadata": {},
   "outputs": [],
   "source": [
    "X_test=df_merged[df_merged.index.isin(drop_id.index)]"
   ]
  },
  {
   "cell_type": "code",
   "execution_count": null,
   "metadata": {},
   "outputs": [],
   "source": [
    "X_train=df_merged[~df_merged.index.isin(drop_id.index)]"
   ]
  },
  {
   "cell_type": "code",
   "execution_count": null,
   "metadata": {},
   "outputs": [],
   "source": [
    "y_train=X_train['greatstone_rating']\n",
    "X_train.drop(['greatstone_rating','tag'],axis=1,inplace=True)"
   ]
  },
  {
   "cell_type": "code",
   "execution_count": null,
   "metadata": {},
   "outputs": [],
   "source": [
    "y_test=X_test['greatstone_rating']\n",
    "X_test.drop(['greatstone_rating','tag'],axis=1,inplace=True)"
   ]
  },
  {
   "cell_type": "code",
   "execution_count": null,
   "metadata": {},
   "outputs": [],
   "source": [
    "X_train.info()      "
   ]
  },
  {
   "cell_type": "code",
   "execution_count": null,
   "metadata": {},
   "outputs": [],
   "source": [
    "#X_train=X_train.fillna(X_train.mean())"
   ]
  },
  {
   "cell_type": "code",
   "execution_count": null,
   "metadata": {},
   "outputs": [],
   "source": [
    "from sklearn.ensemble import RandomForestClassifier  \n",
    "from sklearn.model_selection import cross_val_score,RandomizedSearchCV\n",
    "from sklearn.linear_model import LogisticRegression"
   ]
  },
  {
   "cell_type": "code",
   "execution_count": null,
   "metadata": {},
   "outputs": [],
   "source": [
    "rf=RandomForestClassifier(criterion='entropy',n_estimators=150,warm_start=True,bootstrap=True)"
   ]
  },
  {
   "cell_type": "code",
   "execution_count": null,
   "metadata": {},
   "outputs": [],
   "source": [
    "X_train.info()"
   ]
  },
  {
   "cell_type": "code",
   "execution_count": null,
   "metadata": {},
   "outputs": [],
   "source": [
    "rf.fit(X_train,y_train)"
   ]
  },
  {
   "cell_type": "code",
   "execution_count": null,
   "metadata": {},
   "outputs": [],
   "source": [
    "rf.score(X_train,y_train)"
   ]
  },
  {
   "cell_type": "code",
   "execution_count": null,
   "metadata": {},
   "outputs": [],
   "source": [
    "X_test.info()"
   ]
  },
  {
   "cell_type": "code",
   "execution_count": null,
   "metadata": {},
   "outputs": [],
   "source": [
    "#X_test.fillna(X_test.mean(),inplace=True)"
   ]
  },
  {
   "cell_type": "code",
   "execution_count": null,
   "metadata": {},
   "outputs": [],
   "source": [
    "y_predict=rf.predict(X_test)"
   ]
  },
  {
   "cell_type": "code",
   "execution_count": null,
   "metadata": {},
   "outputs": [],
   "source": [
    "y_predict"
   ]
  },
  {
   "cell_type": "code",
   "execution_count": null,
   "metadata": {},
   "outputs": [],
   "source": [
    "drop_id.reset_index(inplace=True,drop=True)"
   ]
  },
  {
   "cell_type": "code",
   "execution_count": null,
   "metadata": {},
   "outputs": [],
   "source": [
    "df_fund_ratio.reset_index(drop=True,inplace=True)"
   ]
  },
  {
   "cell_type": "code",
   "execution_count": null,
   "metadata": {},
   "outputs": [],
   "source": [
    "answer=pd.merge(drop_id,df_fund_ratio,on='tag')"
   ]
  },
  {
   "cell_type": "code",
   "execution_count": null,
   "metadata": {},
   "outputs": [],
   "source": [
    "answer.columns"
   ]
  },
  {
   "cell_type": "code",
   "execution_count": null,
   "metadata": {},
   "outputs": [],
   "source": [
    "answer=answer.drop(['fund_ratio_net_annual_expense','mmc'],axis=1)"
   ]
  },
  {
   "cell_type": "code",
   "execution_count": null,
   "metadata": {},
   "outputs": [],
   "source": [
    "answer['greatstone_rating']=y_predict"
   ]
  },
  {
   "cell_type": "code",
   "execution_count": null,
   "metadata": {},
   "outputs": [],
   "source": [
    "answer.shape"
   ]
  },
  {
   "cell_type": "code",
   "execution_count": null,
   "metadata": {},
   "outputs": [],
   "source": [
    "answer=answer.drop('tag',axis=1)"
   ]
  },
  {
   "cell_type": "code",
   "execution_count": null,
   "metadata": {},
   "outputs": [],
   "source": [
    "answer.to_csv('submission_attempt4_morechanges.csv')"
   ]
  },
  {
   "cell_type": "code",
   "execution_count": null,
   "metadata": {},
   "outputs": [],
   "source": []
  }
 ],
 "metadata": {
  "kernelspec": {
   "display_name": "Python 3",
   "language": "python",
   "name": "python3"
  },
  "language_info": {
   "codemirror_mode": {
    "name": "ipython",
    "version": 3
   },
   "file_extension": ".py",
   "mimetype": "text/x-python",
   "name": "python",
   "nbconvert_exporter": "python",
   "pygments_lexer": "ipython3",
   "version": "3.7.3"
  }
 },
 "nbformat": 4,
 "nbformat_minor": 2
}
