{
 "cells": [
  {
   "cell_type": "markdown",
   "metadata": {},
   "source": [
    "# About DataSet\n",
    "Blog Authorship Corpus\n",
    "Over 600,000 posts from more than 19 thousand bloggers\n",
    "The Blog Authorship Corpus consists of the collected posts of 19,320 bloggers gathered from\n",
    "blogger.com in August 2004. The corpus incorporates a total of 681,288 posts and over 140 million\n",
    "words - or approximately 35 posts and 7250 words per person.\n",
    "Each blog is presented as a separate file, the name of which indicates a blogger id# and the\n",
    "blogger’s self-provided gender, age, industry, and astrological sign. (All are labeled for gender and\n",
    "age but for many, industry and/or sign is marked as unknown.)\n",
    "\n",
    "\n",
    "All bloggers included in the corpus fall into one of three age groups:\n",
    "8240 \"10s\" blogs (ages 13-17),\n",
    "8086 \"20s\" blogs(ages 23-27),\n",
    "2994 \"30s\" blogs (ages 33-47)\n",
    "\n",
    "For each age group, there is an equal number of male and female bloggers.\n",
    "Each blog in the corpus includes at least 200 occurrences of common English words. All formatting\n",
    "has been stripped with two exceptions. Individual posts within a single blogger are separated by the\n",
    "date of the following post and links within a post are denoted by the label urllink.\n",
    "Link to dataset: https://www.kaggle.com/rtatman/blog-authorship-corpus"
   ]
  },
  {
   "cell_type": "code",
   "execution_count": 78,
   "metadata": {},
   "outputs": [],
   "source": [
    "#Importing all libraries that are being used in the solution\n",
    "import numpy as np\n",
    "import pandas as pd\n",
    "import matplotlib.pyplot as plt\n",
    "import re\n",
    "from sklearn.feature_extraction.text import CountVectorizer,TfidfVectorizer\n",
    "import io\n",
    "from nltk.corpus import stopwords\n",
    "from nltk.tokenize import word_tokenize\n",
    "from sklearn.model_selection import train_test_split\n",
    "import warnings\n",
    "warnings.filterwarnings('ignore')\n",
    "from collections import Counter\n",
    "from sklearn.preprocessing import MultiLabelBinarizer\n",
    "from sklearn.linear_model import LogisticRegression\n",
    "from sklearn.pipeline import Pipeline\n",
    "from sklearn.metrics import accuracy_score,recall_score,precision_score,f1_score,classification_report\n",
    "from sklearn.multiclass import OneVsRestClassifier"
   ]
  },
  {
   "cell_type": "markdown",
   "metadata": {},
   "source": [
    "# Reading DataSet"
   ]
  },
  {
   "cell_type": "code",
   "execution_count": 2,
   "metadata": {},
   "outputs": [],
   "source": [
    "df_temp=pd.read_csv('C:/Users/AbhishekDhingra/Downloads/blog-authorship-corpus/blogtext.csv',error_bad_lines=False)"
   ]
  },
  {
   "cell_type": "markdown",
   "metadata": {},
   "source": [
    "# Dataset is humongous, with the current processing power , it is almost impossible to train on the whole dataset, hence I am picking up first 10000 data items for train and testing "
   ]
  },
  {
   "cell_type": "code",
   "execution_count": 3,
   "metadata": {},
   "outputs": [],
   "source": [
    "df=df_temp.iloc[0:10000,]"
   ]
  },
  {
   "cell_type": "markdown",
   "metadata": {},
   "source": [
    "# Displaying first 7 items from the data items"
   ]
  },
  {
   "cell_type": "code",
   "execution_count": 4,
   "metadata": {},
   "outputs": [
    {
     "data": {
      "text/html": [
       "<div>\n",
       "<style scoped>\n",
       "    .dataframe tbody tr th:only-of-type {\n",
       "        vertical-align: middle;\n",
       "    }\n",
       "\n",
       "    .dataframe tbody tr th {\n",
       "        vertical-align: top;\n",
       "    }\n",
       "\n",
       "    .dataframe thead th {\n",
       "        text-align: right;\n",
       "    }\n",
       "</style>\n",
       "<table border=\"1\" class=\"dataframe\">\n",
       "  <thead>\n",
       "    <tr style=\"text-align: right;\">\n",
       "      <th></th>\n",
       "      <th>id</th>\n",
       "      <th>gender</th>\n",
       "      <th>age</th>\n",
       "      <th>topic</th>\n",
       "      <th>sign</th>\n",
       "      <th>date</th>\n",
       "      <th>text</th>\n",
       "    </tr>\n",
       "  </thead>\n",
       "  <tbody>\n",
       "    <tr>\n",
       "      <th>0</th>\n",
       "      <td>2059027</td>\n",
       "      <td>male</td>\n",
       "      <td>15</td>\n",
       "      <td>Student</td>\n",
       "      <td>Leo</td>\n",
       "      <td>14,May,2004</td>\n",
       "      <td>Info has been found (+/- 100 pages,...</td>\n",
       "    </tr>\n",
       "    <tr>\n",
       "      <th>1</th>\n",
       "      <td>2059027</td>\n",
       "      <td>male</td>\n",
       "      <td>15</td>\n",
       "      <td>Student</td>\n",
       "      <td>Leo</td>\n",
       "      <td>13,May,2004</td>\n",
       "      <td>These are the team members:   Drewe...</td>\n",
       "    </tr>\n",
       "    <tr>\n",
       "      <th>2</th>\n",
       "      <td>2059027</td>\n",
       "      <td>male</td>\n",
       "      <td>15</td>\n",
       "      <td>Student</td>\n",
       "      <td>Leo</td>\n",
       "      <td>12,May,2004</td>\n",
       "      <td>In het kader van kernfusie op aarde...</td>\n",
       "    </tr>\n",
       "    <tr>\n",
       "      <th>3</th>\n",
       "      <td>2059027</td>\n",
       "      <td>male</td>\n",
       "      <td>15</td>\n",
       "      <td>Student</td>\n",
       "      <td>Leo</td>\n",
       "      <td>12,May,2004</td>\n",
       "      <td>testing!!!  testing!!!</td>\n",
       "    </tr>\n",
       "    <tr>\n",
       "      <th>4</th>\n",
       "      <td>3581210</td>\n",
       "      <td>male</td>\n",
       "      <td>33</td>\n",
       "      <td>InvestmentBanking</td>\n",
       "      <td>Aquarius</td>\n",
       "      <td>11,June,2004</td>\n",
       "      <td>Thanks to Yahoo!'s Toolbar I can ...</td>\n",
       "    </tr>\n",
       "    <tr>\n",
       "      <th>5</th>\n",
       "      <td>3581210</td>\n",
       "      <td>male</td>\n",
       "      <td>33</td>\n",
       "      <td>InvestmentBanking</td>\n",
       "      <td>Aquarius</td>\n",
       "      <td>10,June,2004</td>\n",
       "      <td>I had an interesting conversation...</td>\n",
       "    </tr>\n",
       "    <tr>\n",
       "      <th>6</th>\n",
       "      <td>3581210</td>\n",
       "      <td>male</td>\n",
       "      <td>33</td>\n",
       "      <td>InvestmentBanking</td>\n",
       "      <td>Aquarius</td>\n",
       "      <td>10,June,2004</td>\n",
       "      <td>Somehow Coca-Cola has a way of su...</td>\n",
       "    </tr>\n",
       "  </tbody>\n",
       "</table>\n",
       "</div>"
      ],
      "text/plain": [
       "        id gender  age              topic      sign          date  \\\n",
       "0  2059027   male   15            Student       Leo   14,May,2004   \n",
       "1  2059027   male   15            Student       Leo   13,May,2004   \n",
       "2  2059027   male   15            Student       Leo   12,May,2004   \n",
       "3  2059027   male   15            Student       Leo   12,May,2004   \n",
       "4  3581210   male   33  InvestmentBanking  Aquarius  11,June,2004   \n",
       "5  3581210   male   33  InvestmentBanking  Aquarius  10,June,2004   \n",
       "6  3581210   male   33  InvestmentBanking  Aquarius  10,June,2004   \n",
       "\n",
       "                                                text  \n",
       "0             Info has been found (+/- 100 pages,...  \n",
       "1             These are the team members:   Drewe...  \n",
       "2             In het kader van kernfusie op aarde...  \n",
       "3                   testing!!!  testing!!!            \n",
       "4               Thanks to Yahoo!'s Toolbar I can ...  \n",
       "5               I had an interesting conversation...  \n",
       "6               Somehow Coca-Cola has a way of su...  "
      ]
     },
     "execution_count": 4,
     "metadata": {},
     "output_type": "execute_result"
    }
   ],
   "source": [
    "df.head(7)"
   ]
  },
  {
   "cell_type": "markdown",
   "metadata": {},
   "source": [
    "# Perfroming EDA, Where i tried to do the following \n",
    "1) Get Shape\n",
    "2) Check if there is NULL or NA items in the dataset"
   ]
  },
  {
   "cell_type": "code",
   "execution_count": 5,
   "metadata": {},
   "outputs": [
    {
     "data": {
      "text/plain": [
       "(10000, 7)"
      ]
     },
     "execution_count": 5,
     "metadata": {},
     "output_type": "execute_result"
    }
   ],
   "source": [
    "df.shape"
   ]
  },
  {
   "cell_type": "code",
   "execution_count": 6,
   "metadata": {},
   "outputs": [
    {
     "data": {
      "text/plain": [
       "214"
      ]
     },
     "execution_count": 6,
     "metadata": {},
     "output_type": "execute_result"
    }
   ],
   "source": [
    "df['id'].nunique()"
   ]
  },
  {
   "cell_type": "code",
   "execution_count": 7,
   "metadata": {},
   "outputs": [
    {
     "data": {
      "text/plain": [
       "id        0\n",
       "gender    0\n",
       "age       0\n",
       "topic     0\n",
       "sign      0\n",
       "date      0\n",
       "text      0\n",
       "dtype: int64"
      ]
     },
     "execution_count": 7,
     "metadata": {},
     "output_type": "execute_result"
    }
   ],
   "source": [
    "df.isnull().sum()"
   ]
  },
  {
   "cell_type": "code",
   "execution_count": 8,
   "metadata": {},
   "outputs": [
    {
     "data": {
      "text/plain": [
       "id        0\n",
       "gender    0\n",
       "age       0\n",
       "topic     0\n",
       "sign      0\n",
       "date      0\n",
       "text      0\n",
       "dtype: int64"
      ]
     },
     "execution_count": 8,
     "metadata": {},
     "output_type": "execute_result"
    }
   ],
   "source": [
    "df.isna().sum()"
   ]
  },
  {
   "cell_type": "code",
   "execution_count": 9,
   "metadata": {},
   "outputs": [
    {
     "name": "stdout",
     "output_type": "stream",
     "text": [
      "<class 'pandas.core.frame.DataFrame'>\n",
      "RangeIndex: 10000 entries, 0 to 9999\n",
      "Data columns (total 7 columns):\n",
      "id        10000 non-null int64\n",
      "gender    10000 non-null object\n",
      "age       10000 non-null int64\n",
      "topic     10000 non-null object\n",
      "sign      10000 non-null object\n",
      "date      10000 non-null object\n",
      "text      10000 non-null object\n",
      "dtypes: int64(2), object(5)\n",
      "memory usage: 547.0+ KB\n"
     ]
    }
   ],
   "source": [
    "df.info()"
   ]
  },
  {
   "cell_type": "markdown",
   "metadata": {},
   "source": [
    "# Removing special characters from the dataset 'text' using the 're\" library"
   ]
  },
  {
   "cell_type": "code",
   "execution_count": 10,
   "metadata": {},
   "outputs": [],
   "source": [
    "df['text']=df['text'].apply(lambda x : re.sub('[@,.,^,$,*,?,\\,/,\\n,\\t,<,>,&,:,\\(,\\),+,\\-,!,+,-,\\']','',x))"
   ]
  },
  {
   "cell_type": "code",
   "execution_count": 11,
   "metadata": {},
   "outputs": [
    {
     "data": {
      "text/html": [
       "<div>\n",
       "<style scoped>\n",
       "    .dataframe tbody tr th:only-of-type {\n",
       "        vertical-align: middle;\n",
       "    }\n",
       "\n",
       "    .dataframe tbody tr th {\n",
       "        vertical-align: top;\n",
       "    }\n",
       "\n",
       "    .dataframe thead th {\n",
       "        text-align: right;\n",
       "    }\n",
       "</style>\n",
       "<table border=\"1\" class=\"dataframe\">\n",
       "  <thead>\n",
       "    <tr style=\"text-align: right;\">\n",
       "      <th></th>\n",
       "      <th>id</th>\n",
       "      <th>gender</th>\n",
       "      <th>age</th>\n",
       "      <th>topic</th>\n",
       "      <th>sign</th>\n",
       "      <th>date</th>\n",
       "      <th>text</th>\n",
       "    </tr>\n",
       "  </thead>\n",
       "  <tbody>\n",
       "    <tr>\n",
       "      <th>0</th>\n",
       "      <td>2059027</td>\n",
       "      <td>male</td>\n",
       "      <td>15</td>\n",
       "      <td>Student</td>\n",
       "      <td>Leo</td>\n",
       "      <td>14,May,2004</td>\n",
       "      <td>Info has been found  100 pages and ...</td>\n",
       "    </tr>\n",
       "    <tr>\n",
       "      <th>1</th>\n",
       "      <td>2059027</td>\n",
       "      <td>male</td>\n",
       "      <td>15</td>\n",
       "      <td>Student</td>\n",
       "      <td>Leo</td>\n",
       "      <td>13,May,2004</td>\n",
       "      <td>These are the team members   Drewes...</td>\n",
       "    </tr>\n",
       "    <tr>\n",
       "      <th>2</th>\n",
       "      <td>2059027</td>\n",
       "      <td>male</td>\n",
       "      <td>15</td>\n",
       "      <td>Student</td>\n",
       "      <td>Leo</td>\n",
       "      <td>12,May,2004</td>\n",
       "      <td>In het kader van kernfusie op aarde...</td>\n",
       "    </tr>\n",
       "    <tr>\n",
       "      <th>3</th>\n",
       "      <td>2059027</td>\n",
       "      <td>male</td>\n",
       "      <td>15</td>\n",
       "      <td>Student</td>\n",
       "      <td>Leo</td>\n",
       "      <td>12,May,2004</td>\n",
       "      <td>testing  testing</td>\n",
       "    </tr>\n",
       "    <tr>\n",
       "      <th>4</th>\n",
       "      <td>3581210</td>\n",
       "      <td>male</td>\n",
       "      <td>33</td>\n",
       "      <td>InvestmentBanking</td>\n",
       "      <td>Aquarius</td>\n",
       "      <td>11,June,2004</td>\n",
       "      <td>Thanks to Yahoos Toolbar I can no...</td>\n",
       "    </tr>\n",
       "  </tbody>\n",
       "</table>\n",
       "</div>"
      ],
      "text/plain": [
       "        id gender  age              topic      sign          date  \\\n",
       "0  2059027   male   15            Student       Leo   14,May,2004   \n",
       "1  2059027   male   15            Student       Leo   13,May,2004   \n",
       "2  2059027   male   15            Student       Leo   12,May,2004   \n",
       "3  2059027   male   15            Student       Leo   12,May,2004   \n",
       "4  3581210   male   33  InvestmentBanking  Aquarius  11,June,2004   \n",
       "\n",
       "                                                text  \n",
       "0             Info has been found  100 pages and ...  \n",
       "1             These are the team members   Drewes...  \n",
       "2             In het kader van kernfusie op aarde...  \n",
       "3                         testing  testing            \n",
       "4               Thanks to Yahoos Toolbar I can no...  "
      ]
     },
     "execution_count": 11,
     "metadata": {},
     "output_type": "execute_result"
    }
   ],
   "source": [
    "df.head()"
   ]
  },
  {
   "cell_type": "raw",
   "metadata": {},
   "source": [
    "Converting every character to lower case characters and striping spaces from each feature"
   ]
  },
  {
   "cell_type": "code",
   "execution_count": 12,
   "metadata": {},
   "outputs": [],
   "source": [
    "for col in df.columns:\n",
    "    temp=df[col]\n",
    "    if temp.dtype == object:\n",
    "        df[col]=df[col].apply(lambda x : x.lower())\n",
    "        df[col]=df[col].apply(lambda x : x.strip())\n",
    "        "
   ]
  },
  {
   "cell_type": "code",
   "execution_count": 13,
   "metadata": {},
   "outputs": [
    {
     "data": {
      "text/html": [
       "<div>\n",
       "<style scoped>\n",
       "    .dataframe tbody tr th:only-of-type {\n",
       "        vertical-align: middle;\n",
       "    }\n",
       "\n",
       "    .dataframe tbody tr th {\n",
       "        vertical-align: top;\n",
       "    }\n",
       "\n",
       "    .dataframe thead th {\n",
       "        text-align: right;\n",
       "    }\n",
       "</style>\n",
       "<table border=\"1\" class=\"dataframe\">\n",
       "  <thead>\n",
       "    <tr style=\"text-align: right;\">\n",
       "      <th></th>\n",
       "      <th>id</th>\n",
       "      <th>gender</th>\n",
       "      <th>age</th>\n",
       "      <th>topic</th>\n",
       "      <th>sign</th>\n",
       "      <th>date</th>\n",
       "      <th>text</th>\n",
       "    </tr>\n",
       "  </thead>\n",
       "  <tbody>\n",
       "    <tr>\n",
       "      <th>0</th>\n",
       "      <td>2059027</td>\n",
       "      <td>male</td>\n",
       "      <td>15</td>\n",
       "      <td>student</td>\n",
       "      <td>leo</td>\n",
       "      <td>14,may,2004</td>\n",
       "      <td>info has been found  100 pages and 45 mb of pd...</td>\n",
       "    </tr>\n",
       "    <tr>\n",
       "      <th>1</th>\n",
       "      <td>2059027</td>\n",
       "      <td>male</td>\n",
       "      <td>15</td>\n",
       "      <td>student</td>\n",
       "      <td>leo</td>\n",
       "      <td>13,may,2004</td>\n",
       "      <td>these are the team members   drewes van der la...</td>\n",
       "    </tr>\n",
       "    <tr>\n",
       "      <th>2</th>\n",
       "      <td>2059027</td>\n",
       "      <td>male</td>\n",
       "      <td>15</td>\n",
       "      <td>student</td>\n",
       "      <td>leo</td>\n",
       "      <td>12,may,2004</td>\n",
       "      <td>in het kader van kernfusie op aarde  maak je e...</td>\n",
       "    </tr>\n",
       "    <tr>\n",
       "      <th>3</th>\n",
       "      <td>2059027</td>\n",
       "      <td>male</td>\n",
       "      <td>15</td>\n",
       "      <td>student</td>\n",
       "      <td>leo</td>\n",
       "      <td>12,may,2004</td>\n",
       "      <td>testing  testing</td>\n",
       "    </tr>\n",
       "    <tr>\n",
       "      <th>4</th>\n",
       "      <td>3581210</td>\n",
       "      <td>male</td>\n",
       "      <td>33</td>\n",
       "      <td>investmentbanking</td>\n",
       "      <td>aquarius</td>\n",
       "      <td>11,june,2004</td>\n",
       "      <td>thanks to yahoos toolbar i can now capture the...</td>\n",
       "    </tr>\n",
       "  </tbody>\n",
       "</table>\n",
       "</div>"
      ],
      "text/plain": [
       "        id gender  age              topic      sign          date  \\\n",
       "0  2059027   male   15            student       leo   14,may,2004   \n",
       "1  2059027   male   15            student       leo   13,may,2004   \n",
       "2  2059027   male   15            student       leo   12,may,2004   \n",
       "3  2059027   male   15            student       leo   12,may,2004   \n",
       "4  3581210   male   33  investmentbanking  aquarius  11,june,2004   \n",
       "\n",
       "                                                text  \n",
       "0  info has been found  100 pages and 45 mb of pd...  \n",
       "1  these are the team members   drewes van der la...  \n",
       "2  in het kader van kernfusie op aarde  maak je e...  \n",
       "3                                   testing  testing  \n",
       "4  thanks to yahoos toolbar i can now capture the...  "
      ]
     },
     "execution_count": 13,
     "metadata": {},
     "output_type": "execute_result"
    }
   ],
   "source": [
    "df.head()"
   ]
  },
  {
   "cell_type": "markdown",
   "metadata": {},
   "source": [
    "# Creating a new dataframe with a name \"df_text\" with only 'text' feature from the df dataset, later i will assiging this back to the orginal feature in the original dataset.\n",
    "Intention for the below procedure is to remove stopwords from the 'text' feature"
   ]
  },
  {
   "cell_type": "code",
   "execution_count": 14,
   "metadata": {},
   "outputs": [],
   "source": [
    "frame={'text' : df['text']}\n",
    "df_text=pd.DataFrame(frame)"
   ]
  },
  {
   "cell_type": "code",
   "execution_count": 15,
   "metadata": {},
   "outputs": [
    {
     "data": {
      "text/html": [
       "<div>\n",
       "<style scoped>\n",
       "    .dataframe tbody tr th:only-of-type {\n",
       "        vertical-align: middle;\n",
       "    }\n",
       "\n",
       "    .dataframe tbody tr th {\n",
       "        vertical-align: top;\n",
       "    }\n",
       "\n",
       "    .dataframe thead th {\n",
       "        text-align: right;\n",
       "    }\n",
       "</style>\n",
       "<table border=\"1\" class=\"dataframe\">\n",
       "  <thead>\n",
       "    <tr style=\"text-align: right;\">\n",
       "      <th></th>\n",
       "      <th>text</th>\n",
       "    </tr>\n",
       "  </thead>\n",
       "  <tbody>\n",
       "    <tr>\n",
       "      <th>0</th>\n",
       "      <td>info has been found  100 pages and 45 mb of pd...</td>\n",
       "    </tr>\n",
       "    <tr>\n",
       "      <th>1</th>\n",
       "      <td>these are the team members   drewes van der la...</td>\n",
       "    </tr>\n",
       "    <tr>\n",
       "      <th>2</th>\n",
       "      <td>in het kader van kernfusie op aarde  maak je e...</td>\n",
       "    </tr>\n",
       "    <tr>\n",
       "      <th>3</th>\n",
       "      <td>testing  testing</td>\n",
       "    </tr>\n",
       "    <tr>\n",
       "      <th>4</th>\n",
       "      <td>thanks to yahoos toolbar i can now capture the...</td>\n",
       "    </tr>\n",
       "  </tbody>\n",
       "</table>\n",
       "</div>"
      ],
      "text/plain": [
       "                                                text\n",
       "0  info has been found  100 pages and 45 mb of pd...\n",
       "1  these are the team members   drewes van der la...\n",
       "2  in het kader van kernfusie op aarde  maak je e...\n",
       "3                                   testing  testing\n",
       "4  thanks to yahoos toolbar i can now capture the..."
      ]
     },
     "execution_count": 15,
     "metadata": {},
     "output_type": "execute_result"
    }
   ],
   "source": [
    "df_text.head()"
   ]
  },
  {
   "cell_type": "code",
   "execution_count": 16,
   "metadata": {},
   "outputs": [
    {
     "data": {
      "text/plain": [
       "'info has been found  100 pages and 45 mb of pdf files now i have to wait untill our team leader has processed it and learns html'"
      ]
     },
     "execution_count": 16,
     "metadata": {},
     "output_type": "execute_result"
    }
   ],
   "source": [
    "df_text['text'][0]"
   ]
  },
  {
   "cell_type": "markdown",
   "metadata": {},
   "source": [
    "# Below Logic will remove the stopwords from the feature 'text' in the new dataframe, however this will create a list of words instead of full sentence. Later i have another logic which will reconvert the list of words to the sentence"
   ]
  },
  {
   "cell_type": "code",
   "execution_count": 17,
   "metadata": {},
   "outputs": [],
   "source": [
    "word_tokens=[]\n",
    "stop_words=set(stopwords.words('english'))\n",
    "for i in range(0,df_text.shape[0]):\n",
    "    fil=[]\n",
    "    word_tokens=word_tokenize(df_text['text'][i])\n",
    "    for w in word_tokens:\n",
    "        if w not in stop_words:\n",
    "            fil.append(w)\n",
    "            \n",
    "    df_text['text'][i]=fil"
   ]
  },
  {
   "cell_type": "markdown",
   "metadata": {},
   "source": [
    "# Assiging list of words to the original dataset"
   ]
  },
  {
   "cell_type": "code",
   "execution_count": 18,
   "metadata": {},
   "outputs": [],
   "source": [
    "df['text']=df_text['text']"
   ]
  },
  {
   "cell_type": "code",
   "execution_count": 19,
   "metadata": {},
   "outputs": [
    {
     "data": {
      "text/html": [
       "<div>\n",
       "<style scoped>\n",
       "    .dataframe tbody tr th:only-of-type {\n",
       "        vertical-align: middle;\n",
       "    }\n",
       "\n",
       "    .dataframe tbody tr th {\n",
       "        vertical-align: top;\n",
       "    }\n",
       "\n",
       "    .dataframe thead th {\n",
       "        text-align: right;\n",
       "    }\n",
       "</style>\n",
       "<table border=\"1\" class=\"dataframe\">\n",
       "  <thead>\n",
       "    <tr style=\"text-align: right;\">\n",
       "      <th></th>\n",
       "      <th>id</th>\n",
       "      <th>gender</th>\n",
       "      <th>age</th>\n",
       "      <th>topic</th>\n",
       "      <th>sign</th>\n",
       "      <th>date</th>\n",
       "      <th>text</th>\n",
       "    </tr>\n",
       "  </thead>\n",
       "  <tbody>\n",
       "    <tr>\n",
       "      <th>0</th>\n",
       "      <td>2059027</td>\n",
       "      <td>male</td>\n",
       "      <td>15</td>\n",
       "      <td>student</td>\n",
       "      <td>leo</td>\n",
       "      <td>14,may,2004</td>\n",
       "      <td>[info, found, 100, pages, 45, mb, pdf, files, ...</td>\n",
       "    </tr>\n",
       "    <tr>\n",
       "      <th>1</th>\n",
       "      <td>2059027</td>\n",
       "      <td>male</td>\n",
       "      <td>15</td>\n",
       "      <td>student</td>\n",
       "      <td>leo</td>\n",
       "      <td>13,may,2004</td>\n",
       "      <td>[team, members, drewes, van, der, laag, urllin...</td>\n",
       "    </tr>\n",
       "    <tr>\n",
       "      <th>2</th>\n",
       "      <td>2059027</td>\n",
       "      <td>male</td>\n",
       "      <td>15</td>\n",
       "      <td>student</td>\n",
       "      <td>leo</td>\n",
       "      <td>12,may,2004</td>\n",
       "      <td>[het, kader, van, kernfusie, op, aarde, maak, ...</td>\n",
       "    </tr>\n",
       "    <tr>\n",
       "      <th>3</th>\n",
       "      <td>2059027</td>\n",
       "      <td>male</td>\n",
       "      <td>15</td>\n",
       "      <td>student</td>\n",
       "      <td>leo</td>\n",
       "      <td>12,may,2004</td>\n",
       "      <td>[testing, testing]</td>\n",
       "    </tr>\n",
       "    <tr>\n",
       "      <th>4</th>\n",
       "      <td>3581210</td>\n",
       "      <td>male</td>\n",
       "      <td>33</td>\n",
       "      <td>investmentbanking</td>\n",
       "      <td>aquarius</td>\n",
       "      <td>11,june,2004</td>\n",
       "      <td>[thanks, yahoos, toolbar, capture, urls, popup...</td>\n",
       "    </tr>\n",
       "  </tbody>\n",
       "</table>\n",
       "</div>"
      ],
      "text/plain": [
       "        id gender  age              topic      sign          date  \\\n",
       "0  2059027   male   15            student       leo   14,may,2004   \n",
       "1  2059027   male   15            student       leo   13,may,2004   \n",
       "2  2059027   male   15            student       leo   12,may,2004   \n",
       "3  2059027   male   15            student       leo   12,may,2004   \n",
       "4  3581210   male   33  investmentbanking  aquarius  11,june,2004   \n",
       "\n",
       "                                                text  \n",
       "0  [info, found, 100, pages, 45, mb, pdf, files, ...  \n",
       "1  [team, members, drewes, van, der, laag, urllin...  \n",
       "2  [het, kader, van, kernfusie, op, aarde, maak, ...  \n",
       "3                                 [testing, testing]  \n",
       "4  [thanks, yahoos, toolbar, capture, urls, popup...  "
      ]
     },
     "execution_count": 19,
     "metadata": {},
     "output_type": "execute_result"
    }
   ],
   "source": [
    "df.head()"
   ]
  },
  {
   "cell_type": "markdown",
   "metadata": {},
   "source": [
    "# Converting list of words to sentence in the original dataset, brining back data to its original form"
   ]
  },
  {
   "cell_type": "code",
   "execution_count": 21,
   "metadata": {
    "scrolled": true
   },
   "outputs": [],
   "source": [
    "for i in range(0,df.shape[0]):\n",
    "    s=' '\n",
    "    df['text'][i]=s.join(df['text'][i])\n",
    "         "
   ]
  },
  {
   "cell_type": "code",
   "execution_count": 22,
   "metadata": {},
   "outputs": [
    {
     "data": {
      "text/html": [
       "<div>\n",
       "<style scoped>\n",
       "    .dataframe tbody tr th:only-of-type {\n",
       "        vertical-align: middle;\n",
       "    }\n",
       "\n",
       "    .dataframe tbody tr th {\n",
       "        vertical-align: top;\n",
       "    }\n",
       "\n",
       "    .dataframe thead th {\n",
       "        text-align: right;\n",
       "    }\n",
       "</style>\n",
       "<table border=\"1\" class=\"dataframe\">\n",
       "  <thead>\n",
       "    <tr style=\"text-align: right;\">\n",
       "      <th></th>\n",
       "      <th>id</th>\n",
       "      <th>gender</th>\n",
       "      <th>age</th>\n",
       "      <th>topic</th>\n",
       "      <th>sign</th>\n",
       "      <th>date</th>\n",
       "      <th>text</th>\n",
       "    </tr>\n",
       "  </thead>\n",
       "  <tbody>\n",
       "    <tr>\n",
       "      <th>0</th>\n",
       "      <td>2059027</td>\n",
       "      <td>male</td>\n",
       "      <td>15</td>\n",
       "      <td>student</td>\n",
       "      <td>leo</td>\n",
       "      <td>14,may,2004</td>\n",
       "      <td>info found 100 pages 45 mb pdf files wait unti...</td>\n",
       "    </tr>\n",
       "    <tr>\n",
       "      <th>1</th>\n",
       "      <td>2059027</td>\n",
       "      <td>male</td>\n",
       "      <td>15</td>\n",
       "      <td>student</td>\n",
       "      <td>leo</td>\n",
       "      <td>13,may,2004</td>\n",
       "      <td>team members drewes van der laag urllink mail ...</td>\n",
       "    </tr>\n",
       "    <tr>\n",
       "      <th>2</th>\n",
       "      <td>2059027</td>\n",
       "      <td>male</td>\n",
       "      <td>15</td>\n",
       "      <td>student</td>\n",
       "      <td>leo</td>\n",
       "      <td>12,may,2004</td>\n",
       "      <td>het kader van kernfusie op aarde maak je eigen...</td>\n",
       "    </tr>\n",
       "    <tr>\n",
       "      <th>3</th>\n",
       "      <td>2059027</td>\n",
       "      <td>male</td>\n",
       "      <td>15</td>\n",
       "      <td>student</td>\n",
       "      <td>leo</td>\n",
       "      <td>12,may,2004</td>\n",
       "      <td>testing testing</td>\n",
       "    </tr>\n",
       "    <tr>\n",
       "      <th>4</th>\n",
       "      <td>3581210</td>\n",
       "      <td>male</td>\n",
       "      <td>33</td>\n",
       "      <td>investmentbanking</td>\n",
       "      <td>aquarius</td>\n",
       "      <td>11,june,2004</td>\n",
       "      <td>thanks yahoos toolbar capture urls popupswhich...</td>\n",
       "    </tr>\n",
       "  </tbody>\n",
       "</table>\n",
       "</div>"
      ],
      "text/plain": [
       "        id gender  age              topic      sign          date  \\\n",
       "0  2059027   male   15            student       leo   14,may,2004   \n",
       "1  2059027   male   15            student       leo   13,may,2004   \n",
       "2  2059027   male   15            student       leo   12,may,2004   \n",
       "3  2059027   male   15            student       leo   12,may,2004   \n",
       "4  3581210   male   33  investmentbanking  aquarius  11,june,2004   \n",
       "\n",
       "                                                text  \n",
       "0  info found 100 pages 45 mb pdf files wait unti...  \n",
       "1  team members drewes van der laag urllink mail ...  \n",
       "2  het kader van kernfusie op aarde maak je eigen...  \n",
       "3                                    testing testing  \n",
       "4  thanks yahoos toolbar capture urls popupswhich...  "
      ]
     },
     "execution_count": 22,
     "metadata": {},
     "output_type": "execute_result"
    }
   ],
   "source": [
    "df.head()"
   ]
  },
  {
   "cell_type": "markdown",
   "metadata": {},
   "source": [
    "# Dropping Data from the original dataset"
   ]
  },
  {
   "cell_type": "code",
   "execution_count": 23,
   "metadata": {},
   "outputs": [],
   "source": [
    "df.drop('date',inplace=True,axis=1)"
   ]
  },
  {
   "cell_type": "markdown",
   "metadata": {},
   "source": [
    "# Creating new feature in the original dataset with the name labels, This will contain the list generated by concatenating the follwoing four featurs\n",
    "1) Gender\n",
    "2) Age\n",
    "3) Topic\n",
    "4) Sign"
   ]
  },
  {
   "cell_type": "code",
   "execution_count": 24,
   "metadata": {},
   "outputs": [],
   "source": [
    "df['labels']=' '"
   ]
  },
  {
   "cell_type": "code",
   "execution_count": 25,
   "metadata": {},
   "outputs": [
    {
     "data": {
      "text/html": [
       "<div>\n",
       "<style scoped>\n",
       "    .dataframe tbody tr th:only-of-type {\n",
       "        vertical-align: middle;\n",
       "    }\n",
       "\n",
       "    .dataframe tbody tr th {\n",
       "        vertical-align: top;\n",
       "    }\n",
       "\n",
       "    .dataframe thead th {\n",
       "        text-align: right;\n",
       "    }\n",
       "</style>\n",
       "<table border=\"1\" class=\"dataframe\">\n",
       "  <thead>\n",
       "    <tr style=\"text-align: right;\">\n",
       "      <th></th>\n",
       "      <th>id</th>\n",
       "      <th>gender</th>\n",
       "      <th>age</th>\n",
       "      <th>topic</th>\n",
       "      <th>sign</th>\n",
       "      <th>text</th>\n",
       "      <th>labels</th>\n",
       "    </tr>\n",
       "  </thead>\n",
       "  <tbody>\n",
       "    <tr>\n",
       "      <th>0</th>\n",
       "      <td>2059027</td>\n",
       "      <td>male</td>\n",
       "      <td>15</td>\n",
       "      <td>student</td>\n",
       "      <td>leo</td>\n",
       "      <td>info found 100 pages 45 mb pdf files wait unti...</td>\n",
       "      <td></td>\n",
       "    </tr>\n",
       "    <tr>\n",
       "      <th>1</th>\n",
       "      <td>2059027</td>\n",
       "      <td>male</td>\n",
       "      <td>15</td>\n",
       "      <td>student</td>\n",
       "      <td>leo</td>\n",
       "      <td>team members drewes van der laag urllink mail ...</td>\n",
       "      <td></td>\n",
       "    </tr>\n",
       "    <tr>\n",
       "      <th>2</th>\n",
       "      <td>2059027</td>\n",
       "      <td>male</td>\n",
       "      <td>15</td>\n",
       "      <td>student</td>\n",
       "      <td>leo</td>\n",
       "      <td>het kader van kernfusie op aarde maak je eigen...</td>\n",
       "      <td></td>\n",
       "    </tr>\n",
       "    <tr>\n",
       "      <th>3</th>\n",
       "      <td>2059027</td>\n",
       "      <td>male</td>\n",
       "      <td>15</td>\n",
       "      <td>student</td>\n",
       "      <td>leo</td>\n",
       "      <td>testing testing</td>\n",
       "      <td></td>\n",
       "    </tr>\n",
       "    <tr>\n",
       "      <th>4</th>\n",
       "      <td>3581210</td>\n",
       "      <td>male</td>\n",
       "      <td>33</td>\n",
       "      <td>investmentbanking</td>\n",
       "      <td>aquarius</td>\n",
       "      <td>thanks yahoos toolbar capture urls popupswhich...</td>\n",
       "      <td></td>\n",
       "    </tr>\n",
       "  </tbody>\n",
       "</table>\n",
       "</div>"
      ],
      "text/plain": [
       "        id gender  age              topic      sign  \\\n",
       "0  2059027   male   15            student       leo   \n",
       "1  2059027   male   15            student       leo   \n",
       "2  2059027   male   15            student       leo   \n",
       "3  2059027   male   15            student       leo   \n",
       "4  3581210   male   33  investmentbanking  aquarius   \n",
       "\n",
       "                                                text labels  \n",
       "0  info found 100 pages 45 mb pdf files wait unti...         \n",
       "1  team members drewes van der laag urllink mail ...         \n",
       "2  het kader van kernfusie op aarde maak je eigen...         \n",
       "3                                    testing testing         \n",
       "4  thanks yahoos toolbar capture urls popupswhich...         "
      ]
     },
     "execution_count": 25,
     "metadata": {},
     "output_type": "execute_result"
    }
   ],
   "source": [
    "df.head()"
   ]
  },
  {
   "cell_type": "markdown",
   "metadata": {},
   "source": [
    "# Age is Numeric , Converting it to str. This is required when leveraging  Multibinarizer"
   ]
  },
  {
   "cell_type": "code",
   "execution_count": 26,
   "metadata": {},
   "outputs": [],
   "source": [
    "df['age']=df['age'].astype('str')"
   ]
  },
  {
   "cell_type": "markdown",
   "metadata": {},
   "source": [
    "# Below logic will create a list of items by concatenating \"Gender\", \"Age\", \"Topic\", \"Sign\" and assign it to the new label feature"
   ]
  },
  {
   "cell_type": "code",
   "execution_count": 28,
   "metadata": {},
   "outputs": [],
   "source": [
    "for i in range(0,df.shape[0]):\n",
    "    new_label=[]\n",
    "    new_label.append(df['gender'][i])\n",
    "    new_label.append(df['age'][i])x`\n",
    "    new_label.append(df['topic'][i])\n",
    "    new_label.append(df['sign'][i])\n",
    "    df['labels'][i]=new_label"
   ]
  },
  {
   "cell_type": "code",
   "execution_count": 29,
   "metadata": {},
   "outputs": [
    {
     "data": {
      "text/html": [
       "<div>\n",
       "<style scoped>\n",
       "    .dataframe tbody tr th:only-of-type {\n",
       "        vertical-align: middle;\n",
       "    }\n",
       "\n",
       "    .dataframe tbody tr th {\n",
       "        vertical-align: top;\n",
       "    }\n",
       "\n",
       "    .dataframe thead th {\n",
       "        text-align: right;\n",
       "    }\n",
       "</style>\n",
       "<table border=\"1\" class=\"dataframe\">\n",
       "  <thead>\n",
       "    <tr style=\"text-align: right;\">\n",
       "      <th></th>\n",
       "      <th>id</th>\n",
       "      <th>gender</th>\n",
       "      <th>age</th>\n",
       "      <th>topic</th>\n",
       "      <th>sign</th>\n",
       "      <th>text</th>\n",
       "      <th>labels</th>\n",
       "    </tr>\n",
       "  </thead>\n",
       "  <tbody>\n",
       "    <tr>\n",
       "      <th>0</th>\n",
       "      <td>2059027</td>\n",
       "      <td>male</td>\n",
       "      <td>15</td>\n",
       "      <td>student</td>\n",
       "      <td>leo</td>\n",
       "      <td>info found 100 pages 45 mb pdf files wait unti...</td>\n",
       "      <td>[male, 15, student, leo]</td>\n",
       "    </tr>\n",
       "    <tr>\n",
       "      <th>1</th>\n",
       "      <td>2059027</td>\n",
       "      <td>male</td>\n",
       "      <td>15</td>\n",
       "      <td>student</td>\n",
       "      <td>leo</td>\n",
       "      <td>team members drewes van der laag urllink mail ...</td>\n",
       "      <td>[male, 15, student, leo]</td>\n",
       "    </tr>\n",
       "    <tr>\n",
       "      <th>2</th>\n",
       "      <td>2059027</td>\n",
       "      <td>male</td>\n",
       "      <td>15</td>\n",
       "      <td>student</td>\n",
       "      <td>leo</td>\n",
       "      <td>het kader van kernfusie op aarde maak je eigen...</td>\n",
       "      <td>[male, 15, student, leo]</td>\n",
       "    </tr>\n",
       "    <tr>\n",
       "      <th>3</th>\n",
       "      <td>2059027</td>\n",
       "      <td>male</td>\n",
       "      <td>15</td>\n",
       "      <td>student</td>\n",
       "      <td>leo</td>\n",
       "      <td>testing testing</td>\n",
       "      <td>[male, 15, student, leo]</td>\n",
       "    </tr>\n",
       "    <tr>\n",
       "      <th>4</th>\n",
       "      <td>3581210</td>\n",
       "      <td>male</td>\n",
       "      <td>33</td>\n",
       "      <td>investmentbanking</td>\n",
       "      <td>aquarius</td>\n",
       "      <td>thanks yahoos toolbar capture urls popupswhich...</td>\n",
       "      <td>[male, 33, investmentbanking, aquarius]</td>\n",
       "    </tr>\n",
       "  </tbody>\n",
       "</table>\n",
       "</div>"
      ],
      "text/plain": [
       "        id gender age              topic      sign  \\\n",
       "0  2059027   male  15            student       leo   \n",
       "1  2059027   male  15            student       leo   \n",
       "2  2059027   male  15            student       leo   \n",
       "3  2059027   male  15            student       leo   \n",
       "4  3581210   male  33  investmentbanking  aquarius   \n",
       "\n",
       "                                                text  \\\n",
       "0  info found 100 pages 45 mb pdf files wait unti...   \n",
       "1  team members drewes van der laag urllink mail ...   \n",
       "2  het kader van kernfusie op aarde maak je eigen...   \n",
       "3                                    testing testing   \n",
       "4  thanks yahoos toolbar capture urls popupswhich...   \n",
       "\n",
       "                                    labels  \n",
       "0                 [male, 15, student, leo]  \n",
       "1                 [male, 15, student, leo]  \n",
       "2                 [male, 15, student, leo]  \n",
       "3                 [male, 15, student, leo]  \n",
       "4  [male, 33, investmentbanking, aquarius]  "
      ]
     },
     "execution_count": 29,
     "metadata": {},
     "output_type": "execute_result"
    }
   ],
   "source": [
    "df.head()"
   ]
  },
  {
   "cell_type": "code",
   "execution_count": 30,
   "metadata": {},
   "outputs": [
    {
     "name": "stdout",
     "output_type": "stream",
     "text": [
      "<class 'pandas.core.frame.DataFrame'>\n",
      "RangeIndex: 10000 entries, 0 to 9999\n",
      "Data columns (total 7 columns):\n",
      "id        10000 non-null int64\n",
      "gender    10000 non-null object\n",
      "age       10000 non-null object\n",
      "topic     10000 non-null object\n",
      "sign      10000 non-null object\n",
      "text      10000 non-null object\n",
      "labels    10000 non-null object\n",
      "dtypes: int64(1), object(6)\n",
      "memory usage: 547.0+ KB\n"
     ]
    }
   ],
   "source": [
    "df.info()"
   ]
  },
  {
   "cell_type": "markdown",
   "metadata": {},
   "source": [
    "# Droping the following features from the dataset\n",
    "1) ID\n",
    "\n",
    "2) Gender\n",
    "\n",
    "3) Age\n",
    "\n",
    "4) Topic\n",
    "\n",
    "5) Sign"
   ]
  },
  {
   "cell_type": "code",
   "execution_count": 31,
   "metadata": {},
   "outputs": [],
   "source": [
    "df.drop(['id','gender','age','topic','sign'],inplace=True,axis=1)"
   ]
  },
  {
   "cell_type": "code",
   "execution_count": 32,
   "metadata": {},
   "outputs": [],
   "source": [
    "#for i in range(0,df.shape[0]):\n",
    "#    new_label=[]\n",
    "#    new_label.append([df['gender'][i],df['age'][i],df['topic'][i],df['sign'][i]])\n",
    "#    df['labels'][i]=list(new_label)"
   ]
  },
  {
   "cell_type": "markdown",
   "metadata": {},
   "source": [
    "# Now Orginal dataset is left with only 2 features.\n",
    "\n",
    "1) text\n",
    "\n",
    "2) labels"
   ]
  },
  {
   "cell_type": "code",
   "execution_count": 33,
   "metadata": {},
   "outputs": [
    {
     "data": {
      "text/html": [
       "<div>\n",
       "<style scoped>\n",
       "    .dataframe tbody tr th:only-of-type {\n",
       "        vertical-align: middle;\n",
       "    }\n",
       "\n",
       "    .dataframe tbody tr th {\n",
       "        vertical-align: top;\n",
       "    }\n",
       "\n",
       "    .dataframe thead th {\n",
       "        text-align: right;\n",
       "    }\n",
       "</style>\n",
       "<table border=\"1\" class=\"dataframe\">\n",
       "  <thead>\n",
       "    <tr style=\"text-align: right;\">\n",
       "      <th></th>\n",
       "      <th>text</th>\n",
       "      <th>labels</th>\n",
       "    </tr>\n",
       "  </thead>\n",
       "  <tbody>\n",
       "    <tr>\n",
       "      <th>0</th>\n",
       "      <td>info found 100 pages 45 mb pdf files wait unti...</td>\n",
       "      <td>[male, 15, student, leo]</td>\n",
       "    </tr>\n",
       "    <tr>\n",
       "      <th>1</th>\n",
       "      <td>team members drewes van der laag urllink mail ...</td>\n",
       "      <td>[male, 15, student, leo]</td>\n",
       "    </tr>\n",
       "    <tr>\n",
       "      <th>2</th>\n",
       "      <td>het kader van kernfusie op aarde maak je eigen...</td>\n",
       "      <td>[male, 15, student, leo]</td>\n",
       "    </tr>\n",
       "    <tr>\n",
       "      <th>3</th>\n",
       "      <td>testing testing</td>\n",
       "      <td>[male, 15, student, leo]</td>\n",
       "    </tr>\n",
       "    <tr>\n",
       "      <th>4</th>\n",
       "      <td>thanks yahoos toolbar capture urls popupswhich...</td>\n",
       "      <td>[male, 33, investmentbanking, aquarius]</td>\n",
       "    </tr>\n",
       "  </tbody>\n",
       "</table>\n",
       "</div>"
      ],
      "text/plain": [
       "                                                text  \\\n",
       "0  info found 100 pages 45 mb pdf files wait unti...   \n",
       "1  team members drewes van der laag urllink mail ...   \n",
       "2  het kader van kernfusie op aarde maak je eigen...   \n",
       "3                                    testing testing   \n",
       "4  thanks yahoos toolbar capture urls popupswhich...   \n",
       "\n",
       "                                    labels  \n",
       "0                 [male, 15, student, leo]  \n",
       "1                 [male, 15, student, leo]  \n",
       "2                 [male, 15, student, leo]  \n",
       "3                 [male, 15, student, leo]  \n",
       "4  [male, 33, investmentbanking, aquarius]  "
      ]
     },
     "execution_count": 33,
     "metadata": {},
     "output_type": "execute_result"
    }
   ],
   "source": [
    "df.head()"
   ]
  },
  {
   "cell_type": "markdown",
   "metadata": {},
   "source": [
    "#  Segregating dataset into Independent and dependent features"
   ]
  },
  {
   "cell_type": "code",
   "execution_count": 34,
   "metadata": {},
   "outputs": [],
   "source": [
    "X=df['text']\n",
    "y=df['labels']"
   ]
  },
  {
   "cell_type": "markdown",
   "metadata": {},
   "source": [
    "\n",
    "# Splitting dataset with default values"
   ]
  },
  {
   "cell_type": "code",
   "execution_count": 35,
   "metadata": {},
   "outputs": [],
   "source": [
    "X_train,X_test,y_train,y_test=train_test_split(X,y)"
   ]
  },
  {
   "cell_type": "markdown",
   "metadata": {},
   "source": [
    "# Using Count vectorizer to create tokens from the data. requirement is tos use ngram range (1,2) "
   ]
  },
  {
   "cell_type": "code",
   "execution_count": 36,
   "metadata": {},
   "outputs": [],
   "source": [
    "vect=CountVectorizer(ngram_range=(1,2))"
   ]
  },
  {
   "cell_type": "markdown",
   "metadata": {},
   "source": [
    "# Creating  Document term matrix of Train and Test data"
   ]
  },
  {
   "cell_type": "code",
   "execution_count": 37,
   "metadata": {},
   "outputs": [],
   "source": [
    "X_train_dtm=vect.fit_transform(X_train)"
   ]
  },
  {
   "cell_type": "code",
   "execution_count": 38,
   "metadata": {},
   "outputs": [],
   "source": [
    "X_test_dtm=vect.transform(X_test)"
   ]
  },
  {
   "cell_type": "code",
   "execution_count": 39,
   "metadata": {},
   "outputs": [
    {
     "data": {
      "text/plain": [
       "list"
      ]
     },
     "execution_count": 39,
     "metadata": {},
     "output_type": "execute_result"
    }
   ],
   "source": [
    "type(df[\"labels\"][0])"
   ]
  },
  {
   "cell_type": "markdown",
   "metadata": {},
   "source": [
    "# Below Logic will create frequency count of the unique label data. This logic will make use of collections library"
   ]
  },
  {
   "cell_type": "code",
   "execution_count": 40,
   "metadata": {},
   "outputs": [],
   "source": [
    "new_dict=dict()\n",
    "gender=[]\n",
    "age=[]\n",
    "occ=[]\n",
    "sign=[]"
   ]
  },
  {
   "cell_type": "code",
   "execution_count": 41,
   "metadata": {},
   "outputs": [],
   "source": [
    "for item in df['labels']:\n",
    "    i=0\n",
    "    for value in item:\n",
    "        if i==0:\n",
    "            gender.append(value)\n",
    "        if i==1:\n",
    "            age.append(value)\n",
    "        if i==2:\n",
    "            occ.append(value)\n",
    "        if i==3:\n",
    "            sign.append(value)\n",
    "        i+=1\n",
    "            \n",
    "        "
   ]
  },
  {
   "cell_type": "code",
   "execution_count": 42,
   "metadata": {},
   "outputs": [],
   "source": [
    "dict_age=Counter(age)\n",
    "dict_gender=Counter(gender)\n",
    "dict_occ=Counter(occ)\n",
    "dict_sign=Counter(sign)"
   ]
  },
  {
   "cell_type": "code",
   "execution_count": 43,
   "metadata": {},
   "outputs": [],
   "source": [
    "def merge_two_dicts(a, b, c, d):\n",
    "    z = a.copy()   # start with x's keys and values\n",
    "    z.update(b)    # modifies z with y's keys and values & returns None\n",
    "    z.update(c)\n",
    "    z.update(d)\n",
    "    return z"
   ]
  },
  {
   "cell_type": "markdown",
   "metadata": {},
   "source": [
    "# Below printed is the frequency of unique labels in the data, thisshows data is highly imbalance, that is why when calculating recall , precision ad f1 score, micro average is more suitable"
   ]
  },
  {
   "cell_type": "code",
   "execution_count": 64,
   "metadata": {},
   "outputs": [
    {
     "data": {
      "text/plain": [
       "Counter({'15': 602,\n",
       "         '33': 136,\n",
       "         '14': 212,\n",
       "         '25': 386,\n",
       "         '17': 1185,\n",
       "         '23': 253,\n",
       "         '37': 33,\n",
       "         '26': 234,\n",
       "         '24': 655,\n",
       "         '27': 1054,\n",
       "         '45': 16,\n",
       "         '34': 553,\n",
       "         '41': 20,\n",
       "         '44': 3,\n",
       "         '16': 440,\n",
       "         '39': 79,\n",
       "         '35': 2315,\n",
       "         '36': 1708,\n",
       "         '46': 7,\n",
       "         '42': 14,\n",
       "         '13': 42,\n",
       "         '38': 46,\n",
       "         '43': 6,\n",
       "         '40': 1,\n",
       "         'male': 5916,\n",
       "         'female': 4084,\n",
       "         'student': 1137,\n",
       "         'investmentbanking': 70,\n",
       "         'indunk': 3287,\n",
       "         'non-profit': 71,\n",
       "         'banking': 16,\n",
       "         'education': 270,\n",
       "         'engineering': 127,\n",
       "         'science': 63,\n",
       "         'communications-media': 99,\n",
       "         'businessservices': 91,\n",
       "         'sports-recreation': 80,\n",
       "         'arts': 45,\n",
       "         'internet': 118,\n",
       "         'museums-libraries': 17,\n",
       "         'accounting': 4,\n",
       "         'technology': 2654,\n",
       "         'law': 11,\n",
       "         'consulting': 21,\n",
       "         'automotive': 14,\n",
       "         'religion': 9,\n",
       "         'fashion': 1622,\n",
       "         'publishing': 4,\n",
       "         'marketing': 156,\n",
       "         'lawenforcement-security': 10,\n",
       "         'humanresources': 2,\n",
       "         'telecommunications': 2,\n",
       "         'leo': 301,\n",
       "         'aquarius': 571,\n",
       "         'aries': 4198,\n",
       "         'capricorn': 215,\n",
       "         'gemini': 150,\n",
       "         'cancer': 504,\n",
       "         'sagittarius': 1097,\n",
       "         'scorpio': 971,\n",
       "         'libra': 491,\n",
       "         'virgo': 236,\n",
       "         'taurus': 812,\n",
       "         'pisces': 454})"
      ]
     },
     "execution_count": 64,
     "metadata": {},
     "output_type": "execute_result"
    }
   ],
   "source": [
    "merge_two_dicts(dict_age, dict_gender, dict_occ, dict_sign)"
   ]
  },
  {
   "cell_type": "code",
   "execution_count": 45,
   "metadata": {},
   "outputs": [
    {
     "data": {
      "text/plain": [
       "8282    today sucked completely1st theo broke ya sucke...\n",
       "3048    check guy draws pictures represent sentences p...\n",
       "575     move live must endure know will… believe major...\n",
       "5682    ill admit im statistical genius someone wan na...\n",
       "128     went jurong east lunch today limroytheowilsonj...\n",
       "Name: text, dtype: object"
      ]
     },
     "execution_count": 45,
     "metadata": {},
     "output_type": "execute_result"
    }
   ],
   "source": [
    "X_train.sample(5)"
   ]
  },
  {
   "cell_type": "code",
   "execution_count": 46,
   "metadata": {},
   "outputs": [
    {
     "data": {
      "text/plain": [
       "5395    oh yesnbsp ; forgot human beings human doings ...\n",
       "3258                                              yay eva\n",
       "7325    never going work duf fer liz phair nope exile ...\n",
       "2414    dune raiders references sandstorm divine inter...\n",
       "1450    hmm refresh site new messages come okay time s...\n",
       "Name: text, dtype: object"
      ]
     },
     "execution_count": 46,
     "metadata": {},
     "output_type": "execute_result"
    }
   ],
   "source": [
    "X_test.sample(5)"
   ]
  },
  {
   "cell_type": "markdown",
   "metadata": {},
   "source": [
    "# Document term matrix is the sparse matrix created on X_train and X_test data. Total tokens are 528134 "
   ]
  },
  {
   "cell_type": "code",
   "execution_count": 47,
   "metadata": {},
   "outputs": [
    {
     "data": {
      "text/plain": [
       "<7500x528134 sparse matrix of type '<class 'numpy.int64'>'\n",
       "\twith 1106572 stored elements in Compressed Sparse Row format>"
      ]
     },
     "execution_count": 47,
     "metadata": {},
     "output_type": "execute_result"
    }
   ],
   "source": [
    "X_train_dtm"
   ]
  },
  {
   "cell_type": "code",
   "execution_count": 48,
   "metadata": {},
   "outputs": [
    {
     "data": {
      "text/plain": [
       "<2500x528134 sparse matrix of type '<class 'numpy.int64'>'\n",
       "\twith 222814 stored elements in Compressed Sparse Row format>"
      ]
     },
     "execution_count": 48,
     "metadata": {},
     "output_type": "execute_result"
    }
   ],
   "source": [
    "X_test_dtm"
   ]
  },
  {
   "cell_type": "code",
   "execution_count": 49,
   "metadata": {},
   "outputs": [
    {
     "data": {
      "text/plain": [
       "9205            [female, 24, indunk, sagittarius]\n",
       "1527                [male, 35, technology, aries]\n",
       "996                  [female, 25, indunk, taurus]\n",
       "3292                [male, 35, technology, aries]\n",
       "9609            [female, 27, marketing, aquarius]\n",
       "3546                [male, 35, technology, aries]\n",
       "9401                   [male, 16, indunk, cancer]\n",
       "4954                [female, 17, indunk, scorpio]\n",
       "7094                   [male, 36, fashion, aries]\n",
       "4766                 [female, 16, student, libra]\n",
       "2728                [male, 35, technology, aries]\n",
       "3073                [male, 35, technology, aries]\n",
       "9392                   [male, 16, indunk, cancer]\n",
       "9737                  [male, 17, student, gemini]\n",
       "1441                [male, 35, technology, aries]\n",
       "9623            [female, 27, marketing, aquarius]\n",
       "4076                  [female, 25, indunk, libra]\n",
       "653                [male, 24, engineering, libra]\n",
       "5004                [female, 17, indunk, scorpio]\n",
       "1296                 [male, 39, education, virgo]\n",
       "7165                   [male, 36, fashion, aries]\n",
       "5277                [female, 17, indunk, scorpio]\n",
       "2094                [male, 35, technology, aries]\n",
       "7474                   [male, 36, fashion, aries]\n",
       "7349                   [male, 36, fashion, aries]\n",
       "4469            [female, 34, indunk, sagittarius]\n",
       "8722               [male, 27, technology, pisces]\n",
       "7934          [female, 38, internet, sagittarius]\n",
       "769               [male, 23, indunk, sagittarius]\n",
       "1519                [male, 35, technology, aries]\n",
       "                          ...                    \n",
       "6819                   [male, 36, fashion, aries]\n",
       "6479                   [male, 36, fashion, aries]\n",
       "2284                [male, 35, technology, aries]\n",
       "6531                   [male, 36, fashion, aries]\n",
       "4461            [female, 34, indunk, sagittarius]\n",
       "7177                   [male, 36, fashion, aries]\n",
       "1689                [male, 35, technology, aries]\n",
       "4900                [female, 17, indunk, scorpio]\n",
       "5991                 [female, 27, indunk, taurus]\n",
       "9367                   [male, 16, indunk, cancer]\n",
       "1029                 [female, 15, student, libra]\n",
       "4875    [male, 25, businessservices, sagittarius]\n",
       "2880                [male, 35, technology, aries]\n",
       "3707      [male, 39, communications-media, libra]\n",
       "6146                 [female, 17, indunk, cancer]\n",
       "7080                   [male, 36, fashion, aries]\n",
       "8299                   [male, 16, indunk, taurus]\n",
       "4439            [female, 34, indunk, sagittarius]\n",
       "5905                 [female, 27, indunk, taurus]\n",
       "2210                [male, 35, technology, aries]\n",
       "3163                [male, 35, technology, aries]\n",
       "8035                [female, 15, student, pisces]\n",
       "4670             [male, 15, student, sagittarius]\n",
       "9332                [female, 14, student, cancer]\n",
       "1037                 [female, 15, student, libra]\n",
       "3665                [male, 35, technology, aries]\n",
       "1424                [male, 35, technology, aries]\n",
       "2015                [male, 35, technology, aries]\n",
       "7713                   [male, 36, fashion, aries]\n",
       "3083                [male, 35, technology, aries]\n",
       "Name: labels, Length: 7500, dtype: object"
      ]
     },
     "execution_count": 49,
     "metadata": {},
     "output_type": "execute_result"
    }
   ],
   "source": [
    "y_train"
   ]
  },
  {
   "cell_type": "markdown",
   "metadata": {},
   "source": [
    "# Implementing MultiLabelBinarizer to create binary labels from the list in the labels dataset"
   ]
  },
  {
   "cell_type": "code",
   "execution_count": 50,
   "metadata": {},
   "outputs": [],
   "source": [
    "mlb=MultiLabelBinarizer()"
   ]
  },
  {
   "cell_type": "code",
   "execution_count": 51,
   "metadata": {},
   "outputs": [],
   "source": [
    "y_train_mlb=mlb.fit_transform(y_train)"
   ]
  },
  {
   "cell_type": "code",
   "execution_count": 52,
   "metadata": {},
   "outputs": [],
   "source": [
    "y_test_mlb=mlb.transform(y_test)"
   ]
  },
  {
   "cell_type": "markdown",
   "metadata": {},
   "source": [
    "# Below are the unique labels in the labels features. Count of unique labels are 64 (in 10000 dataset). It may change when you have less or more number of dataset "
   ]
  },
  {
   "cell_type": "code",
   "execution_count": 53,
   "metadata": {},
   "outputs": [
    {
     "data": {
      "text/plain": [
       "array(['13', '14', '15', '16', '17', '23', '24', '25', '26', '27', '33',\n",
       "       '34', '35', '36', '37', '38', '39', '40', '41', '42', '43', '44',\n",
       "       '45', '46', 'accounting', 'aquarius', 'aries', 'arts',\n",
       "       'automotive', 'banking', 'businessservices', 'cancer', 'capricorn',\n",
       "       'communications-media', 'consulting', 'education', 'engineering',\n",
       "       'fashion', 'female', 'gemini', 'humanresources', 'indunk',\n",
       "       'internet', 'investmentbanking', 'law', 'lawenforcement-security',\n",
       "       'leo', 'libra', 'male', 'marketing', 'museums-libraries',\n",
       "       'non-profit', 'pisces', 'publishing', 'religion', 'sagittarius',\n",
       "       'science', 'scorpio', 'sports-recreation', 'student', 'taurus',\n",
       "       'technology', 'telecommunications', 'virgo'], dtype=object)"
      ]
     },
     "execution_count": 53,
     "metadata": {},
     "output_type": "execute_result"
    }
   ],
   "source": [
    "mlb.classes_"
   ]
  },
  {
   "cell_type": "code",
   "execution_count": 54,
   "metadata": {},
   "outputs": [
    {
     "data": {
      "text/plain": [
       "1153      [female, 27, education, gemini]\n",
       "4390    [female, 34, indunk, sagittarius]\n",
       "4657           [female, 25, student, leo]\n",
       "8616    [male, 17, technology, capricorn]\n",
       "8439         [female, 23, marketing, leo]\n",
       "Name: labels, dtype: object"
      ]
     },
     "execution_count": 54,
     "metadata": {},
     "output_type": "execute_result"
    }
   ],
   "source": [
    "y_test.head()"
   ]
  },
  {
   "cell_type": "code",
   "execution_count": 55,
   "metadata": {},
   "outputs": [
    {
     "data": {
      "text/plain": [
       "(2500, 64)"
      ]
     },
     "execution_count": 55,
     "metadata": {},
     "output_type": "execute_result"
    }
   ],
   "source": [
    "y_test_mlb.shape"
   ]
  },
  {
   "cell_type": "code",
   "execution_count": 56,
   "metadata": {},
   "outputs": [
    {
     "data": {
      "text/plain": [
       "array(['13', '14', '15', '16', '17', '23', '24', '25', '26', '27', '33',\n",
       "       '34', '35', '36', '37', '38', '39', '40', '41', '42', '43', '44',\n",
       "       '45', '46', 'accounting', 'aquarius', 'aries', 'arts',\n",
       "       'automotive', 'banking', 'businessservices', 'cancer', 'capricorn',\n",
       "       'communications-media', 'consulting', 'education', 'engineering',\n",
       "       'fashion', 'female', 'gemini', 'humanresources', 'indunk',\n",
       "       'internet', 'investmentbanking', 'law', 'lawenforcement-security',\n",
       "       'leo', 'libra', 'male', 'marketing', 'museums-libraries',\n",
       "       'non-profit', 'pisces', 'publishing', 'religion', 'sagittarius',\n",
       "       'science', 'scorpio', 'sports-recreation', 'student', 'taurus',\n",
       "       'technology', 'telecommunications', 'virgo'], dtype=object)"
      ]
     },
     "execution_count": 56,
     "metadata": {},
     "output_type": "execute_result"
    }
   ],
   "source": [
    "mlb.classes_"
   ]
  },
  {
   "cell_type": "markdown",
   "metadata": {},
   "source": [
    "# Creating Model using Logistic regression and onevsrestclassifier on top of the logistic regression"
   ]
  },
  {
   "cell_type": "code",
   "execution_count": 57,
   "metadata": {},
   "outputs": [],
   "source": [
    "LogReg_pipeline=Pipeline([('clf',OneVsRestClassifier(LogisticRegression(solver='lbfgs')))])"
   ]
  },
  {
   "cell_type": "code",
   "execution_count": 58,
   "metadata": {},
   "outputs": [
    {
     "data": {
      "text/plain": [
       "Pipeline(memory=None,\n",
       "         steps=[('clf',\n",
       "                 OneVsRestClassifier(estimator=LogisticRegression(C=1.0,\n",
       "                                                                  class_weight=None,\n",
       "                                                                  dual=False,\n",
       "                                                                  fit_intercept=True,\n",
       "                                                                  intercept_scaling=1,\n",
       "                                                                  l1_ratio=None,\n",
       "                                                                  max_iter=100,\n",
       "                                                                  multi_class='auto',\n",
       "                                                                  n_jobs=None,\n",
       "                                                                  penalty='l2',\n",
       "                                                                  random_state=None,\n",
       "                                                                  solver='lbfgs',\n",
       "                                                                  tol=0.0001,\n",
       "                                                                  verbose=0,\n",
       "                                                                  warm_start=False),\n",
       "                                     n_jobs=None))],\n",
       "         verbose=False)"
      ]
     },
     "execution_count": 58,
     "metadata": {},
     "output_type": "execute_result"
    }
   ],
   "source": [
    "LogReg_pipeline.fit(X_train_dtm,y_train_mlb)"
   ]
  },
  {
   "cell_type": "code",
   "execution_count": 59,
   "metadata": {},
   "outputs": [],
   "source": [
    "prediction = LogReg_pipeline.predict(X_test_dtm)"
   ]
  },
  {
   "cell_type": "markdown",
   "metadata": {},
   "source": [
    "# Accuracy on the test data"
   ]
  },
  {
   "cell_type": "code",
   "execution_count": 60,
   "metadata": {},
   "outputs": [
    {
     "data": {
      "text/plain": [
       "0.3056"
      ]
     },
     "execution_count": 60,
     "metadata": {},
     "output_type": "execute_result"
    }
   ],
   "source": [
    "accuracy_score(y_test_mlb,prediction)"
   ]
  },
  {
   "cell_type": "markdown",
   "metadata": {},
   "source": [
    "# Printing inverse data from the predicted labels"
   ]
  },
  {
   "cell_type": "code",
   "execution_count": 62,
   "metadata": {},
   "outputs": [
    {
     "data": {
      "text/plain": [
       "[('17', 'female', 'indunk', 'scorpio'),\n",
       " ('34', 'female', 'indunk', 'sagittarius'),\n",
       " ('male',),\n",
       " ('male',),\n",
       " ('female', 'student')]"
      ]
     },
     "execution_count": 62,
     "metadata": {},
     "output_type": "execute_result"
    }
   ],
   "source": [
    "mlb.inverse_transform(prediction[0:5,])"
   ]
  },
  {
   "cell_type": "code",
   "execution_count": 63,
   "metadata": {},
   "outputs": [
    {
     "data": {
      "text/plain": [
       "1153      [female, 27, education, gemini]\n",
       "4390    [female, 34, indunk, sagittarius]\n",
       "4657           [female, 25, student, leo]\n",
       "8616    [male, 17, technology, capricorn]\n",
       "8439         [female, 23, marketing, leo]\n",
       "Name: labels, dtype: object"
      ]
     },
     "execution_count": 63,
     "metadata": {},
     "output_type": "execute_result"
    }
   ],
   "source": [
    "y_test.head(5)"
   ]
  },
  {
   "cell_type": "markdown",
   "metadata": {},
   "source": [
    "# Printing Recall, Precision and F1 Score from the data"
   ]
  },
  {
   "cell_type": "raw",
   "metadata": {},
   "source": [
    "Default Precision, recall and fi_score works with Binary classification, Here requirement is to work with multiple labels, hence default values wont work. Hence 'micro' and 'macro' will be used. \n",
    "Refernce https://scikit-learn.org/stable/modules/generated/sklearn.metrics.recall_score.html\n",
    "macro does not takes the imbalance classes into consideration and hence micro that is weighted matrics is considered more suitable"
   ]
  },
  {
   "cell_type": "code",
   "execution_count": 67,
   "metadata": {},
   "outputs": [
    {
     "data": {
      "text/plain": [
       "0.5256"
      ]
     },
     "execution_count": 67,
     "metadata": {},
     "output_type": "execute_result"
    }
   ],
   "source": [
    "recall_score(y_test_mlb,prediction,average='micro')"
   ]
  },
  {
   "cell_type": "code",
   "execution_count": 68,
   "metadata": {},
   "outputs": [
    {
     "data": {
      "text/plain": [
       "0.17962550018084084"
      ]
     },
     "execution_count": 68,
     "metadata": {},
     "output_type": "execute_result"
    }
   ],
   "source": [
    "recall_score(y_test_mlb,prediction,average='macro')"
   ]
  },
  {
   "cell_type": "code",
   "execution_count": 69,
   "metadata": {},
   "outputs": [
    {
     "data": {
      "text/plain": [
       "0.7849462365591398"
      ]
     },
     "execution_count": 69,
     "metadata": {},
     "output_type": "execute_result"
    }
   ],
   "source": [
    "precision_score(y_test_mlb,prediction,average='micro')"
   ]
  },
  {
   "cell_type": "code",
   "execution_count": 70,
   "metadata": {},
   "outputs": [
    {
     "data": {
      "text/plain": [
       "0.5048610292791127"
      ]
     },
     "execution_count": 70,
     "metadata": {},
     "output_type": "execute_result"
    }
   ],
   "source": [
    "precision_score(y_test_mlb,prediction,average='macro')"
   ]
  },
  {
   "cell_type": "code",
   "execution_count": 71,
   "metadata": {},
   "outputs": [
    {
     "data": {
      "text/plain": [
       "0.629611883085769"
      ]
     },
     "execution_count": 71,
     "metadata": {},
     "output_type": "execute_result"
    }
   ],
   "source": [
    "f1_score(y_test_mlb,prediction,average='micro')"
   ]
  },
  {
   "cell_type": "code",
   "execution_count": 72,
   "metadata": {},
   "outputs": [
    {
     "data": {
      "text/plain": [
       "0.23867343582537381"
      ]
     },
     "execution_count": 72,
     "metadata": {},
     "output_type": "execute_result"
    }
   ],
   "source": [
    "f1_score(y_test_mlb,prediction,average='macro')"
   ]
  },
  {
   "cell_type": "code",
   "execution_count": 81,
   "metadata": {},
   "outputs": [
    {
     "name": "stdout",
     "output_type": "stream",
     "text": [
      "              precision    recall  f1-score   support\n",
      "\n",
      "           0       1.00      0.10      0.18        10\n",
      "           1       0.50      0.04      0.07        57\n",
      "           2       0.80      0.22      0.35       161\n",
      "           3       0.84      0.15      0.25       108\n",
      "           4       0.73      0.29      0.42       286\n",
      "           5       0.25      0.01      0.03        71\n",
      "           6       0.77      0.13      0.22       155\n",
      "           7       0.62      0.09      0.15       115\n",
      "           8       0.36      0.07      0.12        55\n",
      "           9       0.74      0.34      0.46       256\n",
      "          10       1.00      0.28      0.44        32\n",
      "          11       0.99      0.66      0.79       131\n",
      "          12       0.74      0.63      0.68       565\n",
      "          13       0.96      0.55      0.70       436\n",
      "          14       0.00      0.00      0.00         7\n",
      "          15       1.00      0.12      0.22        16\n",
      "          16       0.00      0.00      0.00        24\n",
      "          17       0.00      0.00      0.00         0\n",
      "          18       0.00      0.00      0.00         6\n",
      "          19       0.00      0.00      0.00         3\n",
      "          20       0.00      0.00      0.00         0\n",
      "          21       0.00      0.00      0.00         0\n",
      "          22       0.00      0.00      0.00         4\n",
      "          23       0.00      0.00      0.00         2\n",
      "          24       0.00      0.00      0.00         3\n",
      "          25       0.85      0.24      0.37       144\n",
      "          26       0.76      0.77      0.77      1063\n",
      "          27       0.00      0.00      0.00        14\n",
      "          28       0.00      0.00      0.00         3\n",
      "          29       0.00      0.00      0.00         4\n",
      "          30       1.00      0.14      0.24        29\n",
      "          31       0.85      0.23      0.36       128\n",
      "          32       1.00      0.12      0.22        56\n",
      "          33       0.00      0.00      0.00        16\n",
      "          34       0.00      0.00      0.00         5\n",
      "          35       0.88      0.11      0.19        66\n",
      "          36       0.50      0.04      0.08        23\n",
      "          37       0.95      0.55      0.69       419\n",
      "          38       0.80      0.65      0.72      1017\n",
      "          39       0.00      0.00      0.00        32\n",
      "          40       0.00      0.00      0.00         0\n",
      "          41       0.72      0.50      0.59       793\n",
      "          42       1.00      0.03      0.06        35\n",
      "          43       1.00      0.33      0.50        18\n",
      "          44       0.00      0.00      0.00         4\n",
      "          45       0.00      0.00      0.00         1\n",
      "          46       0.50      0.02      0.04        87\n",
      "          47       0.77      0.15      0.24       117\n",
      "          48       0.79      0.89      0.83      1483\n",
      "          49       1.00      0.37      0.54        43\n",
      "          50       0.00      0.00      0.00         5\n",
      "          51       0.00      0.00      0.00        17\n",
      "          52       0.89      0.30      0.45       102\n",
      "          53       0.00      0.00      0.00         2\n",
      "          54       0.00      0.00      0.00         3\n",
      "          55       0.89      0.39      0.54       269\n",
      "          56       1.00      0.06      0.12        16\n",
      "          57       0.67      0.18      0.29       245\n",
      "          58       1.00      0.33      0.50        21\n",
      "          59       0.73      0.27      0.40       298\n",
      "          60       0.71      0.29      0.41       191\n",
      "          61       0.74      0.62      0.67       662\n",
      "          62       0.00      0.00      0.00         0\n",
      "          63       1.00      0.21      0.35        66\n",
      "\n",
      "   micro avg       0.78      0.53      0.63     10000\n",
      "   macro avg       0.50      0.18      0.24     10000\n",
      "weighted avg       0.77      0.53      0.59     10000\n",
      " samples avg       0.75      0.53      0.58     10000\n",
      "\n"
     ]
    }
   ],
   "source": [
    "print(classification_report(y_test_mlb,prediction))"
   ]
  },
  {
   "cell_type": "markdown",
   "metadata": {},
   "source": [
    "# Printing True label and predicted Label for first 5 examples"
   ]
  },
  {
   "cell_type": "code",
   "execution_count": 76,
   "metadata": {},
   "outputs": [
    {
     "data": {
      "text/plain": [
       "[('male',),\n",
       " ('35', 'aries', 'male', 'technology'),\n",
       " ('35', 'aries', 'male', 'technology'),\n",
       " ('36', 'aries', 'fashion', 'male'),\n",
       " ('17', 'female', 'indunk', 'scorpio')]"
      ]
     },
     "execution_count": 76,
     "metadata": {},
     "output_type": "execute_result"
    }
   ],
   "source": [
    "mlb.inverse_transform(prediction[10:15])"
   ]
  },
  {
   "cell_type": "code",
   "execution_count": 77,
   "metadata": {},
   "outputs": [
    {
     "data": {
      "text/plain": [
       "9018       [male, 15, student, virgo]\n",
       "6790       [male, 36, fashion, aries]\n",
       "5253    [female, 17, indunk, scorpio]\n",
       "6801       [male, 36, fashion, aries]\n",
       "5326    [female, 17, indunk, scorpio]\n",
       "Name: labels, dtype: object"
      ]
     },
     "execution_count": 77,
     "metadata": {},
     "output_type": "execute_result"
    }
   ],
   "source": [
    "y_test[10:15]"
   ]
  }
 ],
 "metadata": {
  "kernelspec": {
   "display_name": "Python 3",
   "language": "python",
   "name": "python3"
  },
  "language_info": {
   "codemirror_mode": {
    "name": "ipython",
    "version": 3
   },
   "file_extension": ".py",
   "mimetype": "text/x-python",
   "name": "python",
   "nbconvert_exporter": "python",
   "pygments_lexer": "ipython3",
   "version": "3.7.3"
  }
 },
 "nbformat": 4,
 "nbformat_minor": 2
}
